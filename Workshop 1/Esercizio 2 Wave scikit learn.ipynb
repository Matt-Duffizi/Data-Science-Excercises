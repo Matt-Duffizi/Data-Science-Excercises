{
 "cells": [
  {
   "cell_type": "code",
   "metadata": {
    "cell_id": "edbae211-7248-4ce1-8395-1bcbb1a4e571",
    "deepnote_to_be_reexecuted": false,
    "source_hash": "dc35528a",
    "execution_start": 1649784587171,
    "execution_millis": 11,
    "deepnote_cell_type": "code",
    "deepnote_cell_height": 435.20001220703125
   },
   "source": "import pandas as pd\nimport numpy as np\ncol_names=[]\nx=[]\ny=[]\np=[]\nfor i in range(16):\n    x.append(f\"X{i}\")\n    y.append(f\"Y{i}\")\n    p.append(f\"P{i}\")\n\ncol_names.append(x)\ncol_names.append(y)\ncol_names.append(p)\n\nflat_list = [item for sublist in col_names for item in sublist]\nflat_list.append(\"PALL\")\nprint(flat_list)",
   "execution_count": null,
   "outputs": [
    {
     "name": "stdout",
     "text": "['X0', 'X1', 'X2', 'X3', 'X4', 'X5', 'X6', 'X7', 'X8', 'X9', 'X10', 'X11', 'X12', 'X13', 'X14', 'X15', 'Y0', 'Y1', 'Y2', 'Y3', 'Y4', 'Y5', 'Y6', 'Y7', 'Y8', 'Y9', 'Y10', 'Y11', 'Y12', 'Y13', 'Y14', 'Y15', 'P0', 'P1', 'P2', 'P3', 'P4', 'P5', 'P6', 'P7', 'P8', 'P9', 'P10', 'P11', 'P12', 'P13', 'P14', 'P15', 'PALL']\n",
     "output_type": "stream"
    }
   ]
  },
  {
   "cell_type": "code",
   "metadata": {
    "cell_id": "00001-1ad9a0da-fa28-482b-bb9b-95b770cfd538",
    "deepnote_to_be_reexecuted": false,
    "source_hash": "54b9f2e2",
    "execution_start": 1649784590829,
    "execution_millis": 1330,
    "deepnote_cell_type": "code",
    "deepnote_cell_height": 430
   },
   "source": "adelaide = pd.read_csv('/work/WOC/Adelaide_Data.csv', names = flat_list, header=None)\nadelaide.head()",
   "execution_count": null,
   "outputs": [
    {
     "output_type": "execute_result",
     "execution_count": 2,
     "data": {
      "application/vnd.deepnote.dataframe.v3+json": {
       "column_count": 49,
       "row_count": 5,
       "columns": [
        {
         "name": "X0",
         "dtype": "float64",
         "stats": {
          "unique_count": 5,
          "nan_count": 0,
          "min": "27.3967",
          "max": "530.3136",
          "histogram": [
           {
            "bin_start": 27.3967,
            "bin_end": 77.68839,
            "count": 1
           },
           {
            "bin_start": 77.68839,
            "bin_end": 127.98007999999999,
            "count": 0
           },
           {
            "bin_start": 127.98007999999999,
            "bin_end": 178.27177,
            "count": 0
           },
           {
            "bin_start": 178.27177,
            "bin_end": 228.56346,
            "count": 0
           },
           {
            "bin_start": 228.56346,
            "bin_end": 278.85515,
            "count": 0
           },
           {
            "bin_start": 278.85515,
            "bin_end": 329.14684,
            "count": 2
           },
           {
            "bin_start": 329.14684,
            "bin_end": 379.43852999999996,
            "count": 1
           },
           {
            "bin_start": 379.43852999999996,
            "bin_end": 429.73022,
            "count": 0
           },
           {
            "bin_start": 429.73022,
            "bin_end": 480.02191,
            "count": 0
           },
           {
            "bin_start": 480.02191,
            "bin_end": 530.3136,
            "count": 1
           }
          ]
         }
        },
        {
         "name": "X1",
         "dtype": "float64",
         "stats": {
          "unique_count": 5,
          "nan_count": 0,
          "min": "59.6375",
          "max": "551.8542",
          "histogram": [
           {
            "bin_start": 59.6375,
            "bin_end": 108.85917,
            "count": 2
           },
           {
            "bin_start": 108.85917,
            "bin_end": 158.08084000000002,
            "count": 0
           },
           {
            "bin_start": 158.08084000000002,
            "bin_end": 207.30250999999998,
            "count": 0
           },
           {
            "bin_start": 207.30250999999998,
            "bin_end": 256.52418,
            "count": 1
           },
           {
            "bin_start": 256.52418,
            "bin_end": 305.74585,
            "count": 0
           },
           {
            "bin_start": 305.74585,
            "bin_end": 354.96752,
            "count": 0
           },
           {
            "bin_start": 354.96752,
            "bin_end": 404.18919,
            "count": 1
           },
           {
            "bin_start": 404.18919,
            "bin_end": 453.41086,
            "count": 0
           },
           {
            "bin_start": 453.41086,
            "bin_end": 502.63253000000003,
            "count": 0
           },
           {
            "bin_start": 502.63253000000003,
            "bin_end": 551.8542,
            "count": 1
           }
          ]
         }
        },
        {
         "name": "X2",
         "dtype": "float64",
         "stats": {
          "unique_count": 5,
          "nan_count": 0,
          "min": "31.5983",
          "max": "565.6854",
          "histogram": [
           {
            "bin_start": 31.5983,
            "bin_end": 85.00701,
            "count": 1
           },
           {
            "bin_start": 85.00701,
            "bin_end": 138.41572,
            "count": 0
           },
           {
            "bin_start": 138.41572,
            "bin_end": 191.82443,
            "count": 1
           },
           {
            "bin_start": 191.82443,
            "bin_end": 245.23314,
            "count": 1
           },
           {
            "bin_start": 245.23314,
            "bin_end": 298.64185,
            "count": 0
           },
           {
            "bin_start": 298.64185,
            "bin_end": 352.05056,
            "count": 1
           },
           {
            "bin_start": 352.05056,
            "bin_end": 405.45927,
            "count": 0
           },
           {
            "bin_start": 405.45927,
            "bin_end": 458.86798,
            "count": 0
           },
           {
            "bin_start": 458.86798,
            "bin_end": 512.27669,
            "count": 0
           },
           {
            "bin_start": 512.27669,
            "bin_end": 565.6854,
            "count": 1
           }
          ]
         }
        },
        {
         "name": "X3",
         "dtype": "float64",
         "stats": {
          "unique_count": 5,
          "nan_count": 0,
          "min": "40.024",
          "max": "551.5497",
          "histogram": [
           {
            "bin_start": 40.024,
            "bin_end": 91.17657,
            "count": 1
           },
           {
            "bin_start": 91.17657,
            "bin_end": 142.32914,
            "count": 0
           },
           {
            "bin_start": 142.32914,
            "bin_end": 193.48171000000002,
            "count": 1
           },
           {
            "bin_start": 193.48171000000002,
            "bin_end": 244.63428000000002,
            "count": 0
           },
           {
            "bin_start": 244.63428000000002,
            "bin_end": 295.78685,
            "count": 1
           },
           {
            "bin_start": 295.78685,
            "bin_end": 346.93942000000004,
            "count": 0
           },
           {
            "bin_start": 346.93942000000004,
            "bin_end": 398.09199,
            "count": 1
           },
           {
            "bin_start": 398.09199,
            "bin_end": 449.24456000000004,
            "count": 0
           },
           {
            "bin_start": 449.24456000000004,
            "bin_end": 500.39713000000006,
            "count": 0
           },
           {
            "bin_start": 500.39713000000006,
            "bin_end": 551.5497,
            "count": 1
           }
          ]
         }
        },
        {
         "name": "X4",
         "dtype": "float64",
         "stats": {
          "unique_count": 5,
          "nan_count": 0,
          "min": "7.8641",
          "max": "516.1441",
          "histogram": [
           {
            "bin_start": 7.8641,
            "bin_end": 58.692099999999996,
            "count": 1
           },
           {
            "bin_start": 58.692099999999996,
            "bin_end": 109.52009999999999,
            "count": 0
           },
           {
            "bin_start": 109.52009999999999,
            "bin_end": 160.3481,
            "count": 1
           },
           {
            "bin_start": 160.3481,
            "bin_end": 211.1761,
            "count": 0
           },
           {
            "bin_start": 211.1761,
            "bin_end": 262.0041,
            "count": 0
           },
           {
            "bin_start": 262.0041,
            "bin_end": 312.83209999999997,
            "count": 0
           },
           {
            "bin_start": 312.83209999999997,
            "bin_end": 363.6601,
            "count": 1
           },
           {
            "bin_start": 363.6601,
            "bin_end": 414.4881,
            "count": 1
           },
           {
            "bin_start": 414.4881,
            "bin_end": 465.31609999999995,
            "count": 0
           },
           {
            "bin_start": 465.31609999999995,
            "bin_end": 516.1441,
            "count": 1
           }
          ]
         }
        },
        {
         "name": "X5",
         "dtype": "float64",
         "stats": {
          "unique_count": 5,
          "nan_count": 0,
          "min": "63.4652",
          "max": "558.1293",
          "histogram": [
           {
            "bin_start": 63.4652,
            "bin_end": 112.93161,
            "count": 1
           },
           {
            "bin_start": 112.93161,
            "bin_end": 162.39802,
            "count": 0
           },
           {
            "bin_start": 162.39802,
            "bin_end": 211.86443,
            "count": 0
           },
           {
            "bin_start": 211.86443,
            "bin_end": 261.33083999999997,
            "count": 2
           },
           {
            "bin_start": 261.33083999999997,
            "bin_end": 310.79724999999996,
            "count": 0
           },
           {
            "bin_start": 310.79724999999996,
            "bin_end": 360.26365999999996,
            "count": 0
           },
           {
            "bin_start": 360.26365999999996,
            "bin_end": 409.73006999999996,
            "count": 1
           },
           {
            "bin_start": 409.73006999999996,
            "bin_end": 459.19647999999995,
            "count": 0
           },
           {
            "bin_start": 459.19647999999995,
            "bin_end": 508.66288999999995,
            "count": 0
           },
           {
            "bin_start": 508.66288999999995,
            "bin_end": 558.1293,
            "count": 1
           }
          ]
         }
        },
        {
         "name": "X6",
         "dtype": "float64",
         "stats": {
          "unique_count": 5,
          "nan_count": 0,
          "min": "67.0954",
          "max": "546.452",
          "histogram": [
           {
            "bin_start": 67.0954,
            "bin_end": 115.03106,
            "count": 1
           },
           {
            "bin_start": 115.03106,
            "bin_end": 162.96672,
            "count": 0
           },
           {
            "bin_start": 162.96672,
            "bin_end": 210.90238,
            "count": 1
           },
           {
            "bin_start": 210.90238,
            "bin_end": 258.83804,
            "count": 0
           },
           {
            "bin_start": 258.83804,
            "bin_end": 306.77369999999996,
            "count": 0
           },
           {
            "bin_start": 306.77369999999996,
            "bin_end": 354.70936,
            "count": 0
           },
           {
            "bin_start": 354.70936,
            "bin_end": 402.64502,
            "count": 1
           },
           {
            "bin_start": 402.64502,
            "bin_end": 450.58068,
            "count": 1
           },
           {
            "bin_start": 450.58068,
            "bin_end": 498.51633999999996,
            "count": 0
           },
           {
            "bin_start": 498.51633999999996,
            "bin_end": 546.452,
            "count": 1
           }
          ]
         }
        },
        {
         "name": "X7",
         "dtype": "float64",
         "stats": {
          "unique_count": 5,
          "nan_count": 0,
          "min": "27.3256",
          "max": "562.1028",
          "histogram": [
           {
            "bin_start": 27.3256,
            "bin_end": 80.80332,
            "count": 1
           },
           {
            "bin_start": 80.80332,
            "bin_end": 134.28104,
            "count": 1
           },
           {
            "bin_start": 134.28104,
            "bin_end": 187.75876,
            "count": 0
           },
           {
            "bin_start": 187.75876,
            "bin_end": 241.23648,
            "count": 0
           },
           {
            "bin_start": 241.23648,
            "bin_end": 294.7142,
            "count": 0
           },
           {
            "bin_start": 294.7142,
            "bin_end": 348.19192,
            "count": 1
           },
           {
            "bin_start": 348.19192,
            "bin_end": 401.66964,
            "count": 1
           },
           {
            "bin_start": 401.66964,
            "bin_end": 455.14736,
            "count": 0
           },
           {
            "bin_start": 455.14736,
            "bin_end": 508.62507999999997,
            "count": 0
           },
           {
            "bin_start": 508.62507999999997,
            "bin_end": 562.1028,
            "count": 1
           }
          ]
         }
        },
        {
         "name": "X8",
         "dtype": "float64",
         "stats": {
          "unique_count": 5,
          "nan_count": 0,
          "min": "0.0",
          "max": "314.1051",
          "histogram": [
           {
            "bin_start": 0,
            "bin_end": 31.41051,
            "count": 2
           },
           {
            "bin_start": 31.41051,
            "bin_end": 62.82102,
            "count": 0
           },
           {
            "bin_start": 62.82102,
            "bin_end": 94.23152999999999,
            "count": 1
           },
           {
            "bin_start": 94.23152999999999,
            "bin_end": 125.64204,
            "count": 0
           },
           {
            "bin_start": 125.64204,
            "bin_end": 157.05255,
            "count": 0
           },
           {
            "bin_start": 157.05255,
            "bin_end": 188.46305999999998,
            "count": 0
           },
           {
            "bin_start": 188.46305999999998,
            "bin_end": 219.87357,
            "count": 1
           },
           {
            "bin_start": 219.87357,
            "bin_end": 251.28408,
            "count": 0
           },
           {
            "bin_start": 251.28408,
            "bin_end": 282.69459,
            "count": 0
           },
           {
            "bin_start": 282.69459,
            "bin_end": 314.1051,
            "count": 1
           }
          ]
         }
        },
        {
         "name": "X9",
         "dtype": "float64",
         "stats": {
          "unique_count": 5,
          "nan_count": 0,
          "min": "0.0",
          "max": "468.3799",
          "histogram": [
           {
            "bin_start": 0,
            "bin_end": 46.837990000000005,
            "count": 1
           },
           {
            "bin_start": 46.837990000000005,
            "bin_end": 93.67598000000001,
            "count": 0
           },
           {
            "bin_start": 93.67598000000001,
            "bin_end": 140.51397000000003,
            "count": 0
           },
           {
            "bin_start": 140.51397000000003,
            "bin_end": 187.35196000000002,
            "count": 1
           },
           {
            "bin_start": 187.35196000000002,
            "bin_end": 234.18995,
            "count": 0
           },
           {
            "bin_start": 234.18995,
            "bin_end": 281.02794000000006,
            "count": 1
           },
           {
            "bin_start": 281.02794000000006,
            "bin_end": 327.86593000000005,
            "count": 0
           },
           {
            "bin_start": 327.86593000000005,
            "bin_end": 374.70392000000004,
            "count": 0
           },
           {
            "bin_start": 374.70392000000004,
            "bin_end": 421.54191000000003,
            "count": 1
           },
           {
            "bin_start": 421.54191000000003,
            "bin_end": 468.3799,
            "count": 1
           }
          ]
         }
        },
        {
         "name": "X10",
         "dtype": "float64",
         "stats": {
          "unique_count": 5,
          "nan_count": 0,
          "min": "45.4747",
          "max": "516.7467",
          "histogram": [
           {
            "bin_start": 45.4747,
            "bin_end": 92.6019,
            "count": 1
           },
           {
            "bin_start": 92.6019,
            "bin_end": 139.72910000000002,
            "count": 0
           },
           {
            "bin_start": 139.72910000000002,
            "bin_end": 186.85629999999998,
            "count": 1
           },
           {
            "bin_start": 186.85629999999998,
            "bin_end": 233.9835,
            "count": 0
           },
           {
            "bin_start": 233.9835,
            "bin_end": 281.1107,
            "count": 0
           },
           {
            "bin_start": 281.1107,
            "bin_end": 328.23789999999997,
            "count": 0
           },
           {
            "bin_start": 328.23789999999997,
            "bin_end": 375.3651,
            "count": 1
           },
           {
            "bin_start": 375.3651,
            "bin_end": 422.4923,
            "count": 0
           },
           {
            "bin_start": 422.4923,
            "bin_end": 469.6195,
            "count": 0
           },
           {
            "bin_start": 469.6195,
            "bin_end": 516.7467,
            "count": 2
           }
          ]
         }
        },
        {
         "name": "X11",
         "dtype": "float64",
         "stats": {
          "unique_count": 5,
          "nan_count": 0,
          "min": "1.6865",
          "max": "365.7745",
          "histogram": [
           {
            "bin_start": 1.6865,
            "bin_end": 38.0953,
            "count": 2
           },
           {
            "bin_start": 38.0953,
            "bin_end": 74.5041,
            "count": 0
           },
           {
            "bin_start": 74.5041,
            "bin_end": 110.9129,
            "count": 0
           },
           {
            "bin_start": 110.9129,
            "bin_end": 147.3217,
            "count": 0
           },
           {
            "bin_start": 147.3217,
            "bin_end": 183.73049999999998,
            "count": 0
           },
           {
            "bin_start": 183.73049999999998,
            "bin_end": 220.1393,
            "count": 0
           },
           {
            "bin_start": 220.1393,
            "bin_end": 256.54810000000003,
            "count": 0
           },
           {
            "bin_start": 256.54810000000003,
            "bin_end": 292.9569,
            "count": 1
           },
           {
            "bin_start": 292.9569,
            "bin_end": 329.3657,
            "count": 0
           },
           {
            "bin_start": 329.3657,
            "bin_end": 365.7745,
            "count": 2
           }
          ]
         }
        },
        {
         "name": "X12",
         "dtype": "float64",
         "stats": {
          "unique_count": 5,
          "nan_count": 0,
          "min": "54.9749",
          "max": "565.6854",
          "histogram": [
           {
            "bin_start": 54.9749,
            "bin_end": 106.04595,
            "count": 1
           },
           {
            "bin_start": 106.04595,
            "bin_end": 157.117,
            "count": 0
           },
           {
            "bin_start": 157.117,
            "bin_end": 208.18804999999998,
            "count": 0
           },
           {
            "bin_start": 208.18804999999998,
            "bin_end": 259.2591,
            "count": 0
           },
           {
            "bin_start": 259.2591,
            "bin_end": 310.33015,
            "count": 1
           },
           {
            "bin_start": 310.33015,
            "bin_end": 361.40119999999996,
            "count": 1
           },
           {
            "bin_start": 361.40119999999996,
            "bin_end": 412.47225,
            "count": 0
           },
           {
            "bin_start": 412.47225,
            "bin_end": 463.5433,
            "count": 0
           },
           {
            "bin_start": 463.5433,
            "bin_end": 514.6143500000001,
            "count": 1
           },
           {
            "bin_start": 514.6143500000001,
            "bin_end": 565.6854,
            "count": 1
           }
          ]
         }
        },
        {
         "name": "X13",
         "dtype": "float64",
         "stats": {
          "unique_count": 5,
          "nan_count": 0,
          "min": "38.8434",
          "max": "518.826",
          "histogram": [
           {
            "bin_start": 38.8434,
            "bin_end": 86.84166,
            "count": 1
           },
           {
            "bin_start": 86.84166,
            "bin_end": 134.83992,
            "count": 0
           },
           {
            "bin_start": 134.83992,
            "bin_end": 182.83818,
            "count": 1
           },
           {
            "bin_start": 182.83818,
            "bin_end": 230.83644,
            "count": 0
           },
           {
            "bin_start": 230.83644,
            "bin_end": 278.8347,
            "count": 0
           },
           {
            "bin_start": 278.8347,
            "bin_end": 326.83295999999996,
            "count": 1
           },
           {
            "bin_start": 326.83295999999996,
            "bin_end": 374.83122000000003,
            "count": 0
           },
           {
            "bin_start": 374.83122000000003,
            "bin_end": 422.82948,
            "count": 0
           },
           {
            "bin_start": 422.82948,
            "bin_end": 470.82774000000006,
            "count": 1
           },
           {
            "bin_start": 470.82774000000006,
            "bin_end": 518.826,
            "count": 1
           }
          ]
         }
        },
        {
         "name": "X14",
         "dtype": "float64",
         "stats": {
          "unique_count": 5,
          "nan_count": 0,
          "min": "90.5536",
          "max": "494.6027",
          "histogram": [
           {
            "bin_start": 90.5536,
            "bin_end": 130.95851,
            "count": 1
           },
           {
            "bin_start": 130.95851,
            "bin_end": 171.36342000000002,
            "count": 1
           },
           {
            "bin_start": 171.36342000000002,
            "bin_end": 211.76833,
            "count": 1
           },
           {
            "bin_start": 211.76833,
            "bin_end": 252.17324000000002,
            "count": 0
           },
           {
            "bin_start": 252.17324000000002,
            "bin_end": 292.57815,
            "count": 0
           },
           {
            "bin_start": 292.57815,
            "bin_end": 332.98306,
            "count": 0
           },
           {
            "bin_start": 332.98306,
            "bin_end": 373.38797000000005,
            "count": 0
           },
           {
            "bin_start": 373.38797000000005,
            "bin_end": 413.79288,
            "count": 1
           },
           {
            "bin_start": 413.79288,
            "bin_end": 454.19779,
            "count": 0
           },
           {
            "bin_start": 454.19779,
            "bin_end": 494.6027,
            "count": 1
           }
          ]
         }
        },
        {
         "name": "X15",
         "dtype": "float64",
         "stats": {
          "unique_count": 5,
          "nan_count": 0,
          "min": "3.4209",
          "max": "565.6854",
          "histogram": [
           {
            "bin_start": 3.4209,
            "bin_end": 59.64735,
            "count": 1
           },
           {
            "bin_start": 59.64735,
            "bin_end": 115.8738,
            "count": 0
           },
           {
            "bin_start": 115.8738,
            "bin_end": 172.10025,
            "count": 1
           },
           {
            "bin_start": 172.10025,
            "bin_end": 228.3267,
            "count": 0
           },
           {
            "bin_start": 228.3267,
            "bin_end": 284.55315,
            "count": 0
           },
           {
            "bin_start": 284.55315,
            "bin_end": 340.7796,
            "count": 0
           },
           {
            "bin_start": 340.7796,
            "bin_end": 397.00605,
            "count": 0
           },
           {
            "bin_start": 397.00605,
            "bin_end": 453.2325,
            "count": 0
           },
           {
            "bin_start": 453.2325,
            "bin_end": 509.45895,
            "count": 0
           },
           {
            "bin_start": 509.45895,
            "bin_end": 565.6854,
            "count": 3
           }
          ]
         }
        },
        {
         "name": "Y0",
         "dtype": "float64",
         "stats": {
          "unique_count": 5,
          "nan_count": 0,
          "min": "94.6465",
          "max": "510.7784",
          "histogram": [
           {
            "bin_start": 94.6465,
            "bin_end": 136.25969,
            "count": 2
           },
           {
            "bin_start": 136.25969,
            "bin_end": 177.87288,
            "count": 0
           },
           {
            "bin_start": 177.87288,
            "bin_end": 219.48606999999998,
            "count": 1
           },
           {
            "bin_start": 219.48606999999998,
            "bin_end": 261.09925999999996,
            "count": 0
           },
           {
            "bin_start": 261.09925999999996,
            "bin_end": 302.71245,
            "count": 0
           },
           {
            "bin_start": 302.71245,
            "bin_end": 344.32563999999996,
            "count": 0
           },
           {
            "bin_start": 344.32563999999996,
            "bin_end": 385.93883,
            "count": 0
           },
           {
            "bin_start": 385.93883,
            "bin_end": 427.55201999999997,
            "count": 0
           },
           {
            "bin_start": 427.55201999999997,
            "bin_end": 469.16520999999995,
            "count": 1
           },
           {
            "bin_start": 469.16520999999995,
            "bin_end": 510.7784,
            "count": 1
           }
          ]
         }
        },
        {
         "name": "Y1",
         "dtype": "float64",
         "stats": {
          "unique_count": 5,
          "nan_count": 0,
          "min": "221.2811",
          "max": "564.9436",
          "histogram": [
           {
            "bin_start": 221.2811,
            "bin_end": 255.64735000000002,
            "count": 1
           },
           {
            "bin_start": 255.64735000000002,
            "bin_end": 290.0136,
            "count": 1
           },
           {
            "bin_start": 290.0136,
            "bin_end": 324.37985,
            "count": 0
           },
           {
            "bin_start": 324.37985,
            "bin_end": 358.74609999999996,
            "count": 0
           },
           {
            "bin_start": 358.74609999999996,
            "bin_end": 393.11235,
            "count": 1
           },
           {
            "bin_start": 393.11235,
            "bin_end": 427.4786,
            "count": 0
           },
           {
            "bin_start": 427.4786,
            "bin_end": 461.84484999999995,
            "count": 0
           },
           {
            "bin_start": 461.84484999999995,
            "bin_end": 496.2111,
            "count": 0
           },
           {
            "bin_start": 496.2111,
            "bin_end": 530.5773499999999,
            "count": 0
           },
           {
            "bin_start": 530.5773499999999,
            "bin_end": 564.9436,
            "count": 2
           }
          ]
         }
        },
        {
         "name": "Y2",
         "dtype": "float64",
         "stats": {
          "unique_count": 5,
          "nan_count": 0,
          "min": "0.0",
          "max": "434.6103",
          "histogram": [
           {
            "bin_start": 0,
            "bin_end": 43.46103,
            "count": 1
           },
           {
            "bin_start": 43.46103,
            "bin_end": 86.92206,
            "count": 0
           },
           {
            "bin_start": 86.92206,
            "bin_end": 130.38309,
            "count": 0
           },
           {
            "bin_start": 130.38309,
            "bin_end": 173.84412,
            "count": 0
           },
           {
            "bin_start": 173.84412,
            "bin_end": 217.30515,
            "count": 1
           },
           {
            "bin_start": 217.30515,
            "bin_end": 260.76618,
            "count": 0
           },
           {
            "bin_start": 260.76618,
            "bin_end": 304.22721,
            "count": 1
           },
           {
            "bin_start": 304.22721,
            "bin_end": 347.68824,
            "count": 1
           },
           {
            "bin_start": 347.68824,
            "bin_end": 391.14927,
            "count": 0
           },
           {
            "bin_start": 391.14927,
            "bin_end": 434.6103,
            "count": 1
           }
          ]
         }
        },
        {
         "name": "Y3",
         "dtype": "float64",
         "stats": {
          "unique_count": 5,
          "nan_count": 0,
          "min": "94.5002",
          "max": "565.6854",
          "histogram": [
           {
            "bin_start": 94.5002,
            "bin_end": 141.61872,
            "count": 2
           },
           {
            "bin_start": 141.61872,
            "bin_end": 188.73723999999999,
            "count": 0
           },
           {
            "bin_start": 188.73723999999999,
            "bin_end": 235.85576,
            "count": 0
           },
           {
            "bin_start": 235.85576,
            "bin_end": 282.97428,
            "count": 0
           },
           {
            "bin_start": 282.97428,
            "bin_end": 330.0928,
            "count": 0
           },
           {
            "bin_start": 330.0928,
            "bin_end": 377.21132,
            "count": 0
           },
           {
            "bin_start": 377.21132,
            "bin_end": 424.32984,
            "count": 1
           },
           {
            "bin_start": 424.32984,
            "bin_end": 471.44836,
            "count": 1
           },
           {
            "bin_start": 471.44836,
            "bin_end": 518.56688,
            "count": 0
           },
           {
            "bin_start": 518.56688,
            "bin_end": 565.6854,
            "count": 1
           }
          ]
         }
        },
        {
         "name": "Y4",
         "dtype": "float64",
         "stats": {
          "unique_count": 5,
          "nan_count": 0,
          "min": "0.0",
          "max": "424.9487",
          "histogram": [
           {
            "bin_start": 0,
            "bin_end": 42.49487,
            "count": 1
           },
           {
            "bin_start": 42.49487,
            "bin_end": 84.98974,
            "count": 0
           },
           {
            "bin_start": 84.98974,
            "bin_end": 127.48461,
            "count": 1
           },
           {
            "bin_start": 127.48461,
            "bin_end": 169.97948,
            "count": 0
           },
           {
            "bin_start": 169.97948,
            "bin_end": 212.47435,
            "count": 1
           },
           {
            "bin_start": 212.47435,
            "bin_end": 254.96922,
            "count": 0
           },
           {
            "bin_start": 254.96922,
            "bin_end": 297.46409,
            "count": 0
           },
           {
            "bin_start": 297.46409,
            "bin_end": 339.95896,
            "count": 0
           },
           {
            "bin_start": 339.95896,
            "bin_end": 382.45383,
            "count": 0
           },
           {
            "bin_start": 382.45383,
            "bin_end": 424.9487,
            "count": 2
           }
          ]
         }
        },
        {
         "name": "Y5",
         "dtype": "float64",
         "stats": {
          "unique_count": 5,
          "nan_count": 0,
          "min": "90.2488",
          "max": "429.66",
          "histogram": [
           {
            "bin_start": 90.2488,
            "bin_end": 124.18992,
            "count": 1
           },
           {
            "bin_start": 124.18992,
            "bin_end": 158.13103999999998,
            "count": 1
           },
           {
            "bin_start": 158.13103999999998,
            "bin_end": 192.07216,
            "count": 0
           },
           {
            "bin_start": 192.07216,
            "bin_end": 226.01328,
            "count": 1
           },
           {
            "bin_start": 226.01328,
            "bin_end": 259.9544,
            "count": 0
           },
           {
            "bin_start": 259.9544,
            "bin_end": 293.89552,
            "count": 0
           },
           {
            "bin_start": 293.89552,
            "bin_end": 327.83664,
            "count": 0
           },
           {
            "bin_start": 327.83664,
            "bin_end": 361.77776,
            "count": 0
           },
           {
            "bin_start": 361.77776,
            "bin_end": 395.71888,
            "count": 0
           },
           {
            "bin_start": 395.71888,
            "bin_end": 429.66,
            "count": 2
           }
          ]
         }
        },
        {
         "name": "Y6",
         "dtype": "float64",
         "stats": {
          "unique_count": 5,
          "nan_count": 0,
          "min": "107.3907",
          "max": "516.1118",
          "histogram": [
           {
            "bin_start": 107.3907,
            "bin_end": 148.26281,
            "count": 1
           },
           {
            "bin_start": 148.26281,
            "bin_end": 189.13492000000002,
            "count": 1
           },
           {
            "bin_start": 189.13492000000002,
            "bin_end": 230.00703000000001,
            "count": 0
           },
           {
            "bin_start": 230.00703000000001,
            "bin_end": 270.87914,
            "count": 1
           },
           {
            "bin_start": 270.87914,
            "bin_end": 311.75125,
            "count": 0
           },
           {
            "bin_start": 311.75125,
            "bin_end": 352.62336000000005,
            "count": 1
           },
           {
            "bin_start": 352.62336000000005,
            "bin_end": 393.49547,
            "count": 0
           },
           {
            "bin_start": 393.49547,
            "bin_end": 434.36758000000003,
            "count": 0
           },
           {
            "bin_start": 434.36758000000003,
            "bin_end": 475.23969000000005,
            "count": 0
           },
           {
            "bin_start": 475.23969000000005,
            "bin_end": 516.1118,
            "count": 1
           }
          ]
         }
        },
        {
         "name": "Y7",
         "dtype": "float64",
         "stats": {
          "unique_count": 5,
          "nan_count": 0,
          "min": "217.2239",
          "max": "536.6741",
          "histogram": [
           {
            "bin_start": 217.2239,
            "bin_end": 249.16891999999999,
            "count": 2
           },
           {
            "bin_start": 249.16891999999999,
            "bin_end": 281.11393999999996,
            "count": 1
           },
           {
            "bin_start": 281.11393999999996,
            "bin_end": 313.05895999999996,
            "count": 0
           },
           {
            "bin_start": 313.05895999999996,
            "bin_end": 345.00397999999996,
            "count": 0
           },
           {
            "bin_start": 345.00397999999996,
            "bin_end": 376.94899999999996,
            "count": 0
           },
           {
            "bin_start": 376.94899999999996,
            "bin_end": 408.89401999999995,
            "count": 0
           },
           {
            "bin_start": 408.89401999999995,
            "bin_end": 440.83903999999995,
            "count": 0
           },
           {
            "bin_start": 440.83903999999995,
            "bin_end": 472.78405999999995,
            "count": 0
           },
           {
            "bin_start": 472.78405999999995,
            "bin_end": 504.72907999999995,
            "count": 1
           },
           {
            "bin_start": 504.72907999999995,
            "bin_end": 536.6741,
            "count": 1
           }
          ]
         }
        },
        {
         "name": "Y8",
         "dtype": "float64",
         "stats": {
          "unique_count": 5,
          "nan_count": 0,
          "min": "143.3888",
          "max": "562.7245",
          "histogram": [
           {
            "bin_start": 143.3888,
            "bin_end": 185.32237,
            "count": 1
           },
           {
            "bin_start": 185.32237,
            "bin_end": 227.25594,
            "count": 0
           },
           {
            "bin_start": 227.25594,
            "bin_end": 269.18951000000004,
            "count": 0
           },
           {
            "bin_start": 269.18951000000004,
            "bin_end": 311.12308,
            "count": 0
           },
           {
            "bin_start": 311.12308,
            "bin_end": 353.05665,
            "count": 0
           },
           {
            "bin_start": 353.05665,
            "bin_end": 394.99022,
            "count": 0
           },
           {
            "bin_start": 394.99022,
            "bin_end": 436.92379,
            "count": 2
           },
           {
            "bin_start": 436.92379,
            "bin_end": 478.85736,
            "count": 0
           },
           {
            "bin_start": 478.85736,
            "bin_end": 520.7909300000001,
            "count": 1
           },
           {
            "bin_start": 520.7909300000001,
            "bin_end": 562.7245,
            "count": 1
           }
          ]
         }
        },
        {
         "name": "Y9",
         "dtype": "float64",
         "stats": {
          "unique_count": 5,
          "nan_count": 0,
          "min": "35.5588",
          "max": "410.1439",
          "histogram": [
           {
            "bin_start": 35.5588,
            "bin_end": 73.01731,
            "count": 2
           },
           {
            "bin_start": 73.01731,
            "bin_end": 110.47582,
            "count": 1
           },
           {
            "bin_start": 110.47582,
            "bin_end": 147.93433,
            "count": 0
           },
           {
            "bin_start": 147.93433,
            "bin_end": 185.39283999999998,
            "count": 0
           },
           {
            "bin_start": 185.39283999999998,
            "bin_end": 222.85134999999997,
            "count": 0
           },
           {
            "bin_start": 222.85134999999997,
            "bin_end": 260.30986,
            "count": 0
           },
           {
            "bin_start": 260.30986,
            "bin_end": 297.76837,
            "count": 0
           },
           {
            "bin_start": 297.76837,
            "bin_end": 335.22688,
            "count": 0
           },
           {
            "bin_start": 335.22688,
            "bin_end": 372.68539,
            "count": 1
           },
           {
            "bin_start": 372.68539,
            "bin_end": 410.1439,
            "count": 1
           }
          ]
         }
        },
        {
         "name": "Y10",
         "dtype": "float64",
         "stats": {
          "unique_count": 5,
          "nan_count": 0,
          "min": "0.0",
          "max": "156.3712",
          "histogram": [
           {
            "bin_start": 0,
            "bin_end": 15.63712,
            "count": 1
           },
           {
            "bin_start": 15.63712,
            "bin_end": 31.27424,
            "count": 0
           },
           {
            "bin_start": 31.27424,
            "bin_end": 46.91136,
            "count": 0
           },
           {
            "bin_start": 46.91136,
            "bin_end": 62.54848,
            "count": 0
           },
           {
            "bin_start": 62.54848,
            "bin_end": 78.1856,
            "count": 0
           },
           {
            "bin_start": 78.1856,
            "bin_end": 93.82272,
            "count": 0
           },
           {
            "bin_start": 93.82272,
            "bin_end": 109.45984,
            "count": 0
           },
           {
            "bin_start": 109.45984,
            "bin_end": 125.09696,
            "count": 1
           },
           {
            "bin_start": 125.09696,
            "bin_end": 140.73408,
            "count": 0
           },
           {
            "bin_start": 140.73408,
            "bin_end": 156.3712,
            "count": 3
           }
          ]
         }
        },
        {
         "name": "Y11",
         "dtype": "float64",
         "stats": {
          "unique_count": 5,
          "nan_count": 0,
          "min": "18.7857",
          "max": "532.99",
          "histogram": [
           {
            "bin_start": 18.7857,
            "bin_end": 70.20613,
            "count": 2
           },
           {
            "bin_start": 70.20613,
            "bin_end": 121.62655999999998,
            "count": 0
           },
           {
            "bin_start": 121.62655999999998,
            "bin_end": 173.04698999999997,
            "count": 0
           },
           {
            "bin_start": 173.04698999999997,
            "bin_end": 224.46741999999998,
            "count": 0
           },
           {
            "bin_start": 224.46741999999998,
            "bin_end": 275.88785,
            "count": 1
           },
           {
            "bin_start": 275.88785,
            "bin_end": 327.30827999999997,
            "count": 0
           },
           {
            "bin_start": 327.30827999999997,
            "bin_end": 378.72871,
            "count": 1
           },
           {
            "bin_start": 378.72871,
            "bin_end": 430.14914,
            "count": 0
           },
           {
            "bin_start": 430.14914,
            "bin_end": 481.56957,
            "count": 0
           },
           {
            "bin_start": 481.56957,
            "bin_end": 532.99,
            "count": 1
           }
          ]
         }
        },
        {
         "name": "Y12",
         "dtype": "float64",
         "stats": {
          "unique_count": 5,
          "nan_count": 0,
          "min": "178.493",
          "max": "530.8384",
          "histogram": [
           {
            "bin_start": 178.493,
            "bin_end": 213.72753999999998,
            "count": 1
           },
           {
            "bin_start": 213.72753999999998,
            "bin_end": 248.96208,
            "count": 0
           },
           {
            "bin_start": 248.96208,
            "bin_end": 284.19662,
            "count": 1
           },
           {
            "bin_start": 284.19662,
            "bin_end": 319.43116,
            "count": 1
           },
           {
            "bin_start": 319.43116,
            "bin_end": 354.66569999999996,
            "count": 0
           },
           {
            "bin_start": 354.66569999999996,
            "bin_end": 389.90023999999994,
            "count": 0
           },
           {
            "bin_start": 389.90023999999994,
            "bin_end": 425.13478,
            "count": 0
           },
           {
            "bin_start": 425.13478,
            "bin_end": 460.36931999999996,
            "count": 0
           },
           {
            "bin_start": 460.36931999999996,
            "bin_end": 495.60385999999994,
            "count": 0
           },
           {
            "bin_start": 495.60385999999994,
            "bin_end": 530.8384,
            "count": 2
           }
          ]
         }
        },
        {
         "name": "Y13",
         "dtype": "float64",
         "stats": {
          "unique_count": 5,
          "nan_count": 0,
          "min": "3.2835",
          "max": "559.2803",
          "histogram": [
           {
            "bin_start": 3.2835,
            "bin_end": 58.883179999999996,
            "count": 2
           },
           {
            "bin_start": 58.883179999999996,
            "bin_end": 114.48286,
            "count": 0
           },
           {
            "bin_start": 114.48286,
            "bin_end": 170.08254,
            "count": 0
           },
           {
            "bin_start": 170.08254,
            "bin_end": 225.68222,
            "count": 0
           },
           {
            "bin_start": 225.68222,
            "bin_end": 281.2819,
            "count": 0
           },
           {
            "bin_start": 281.2819,
            "bin_end": 336.88158,
            "count": 1
           },
           {
            "bin_start": 336.88158,
            "bin_end": 392.48126,
            "count": 0
           },
           {
            "bin_start": 392.48126,
            "bin_end": 448.08094,
            "count": 0
           },
           {
            "bin_start": 448.08094,
            "bin_end": 503.68062,
            "count": 1
           },
           {
            "bin_start": 503.68062,
            "bin_end": 559.2803,
            "count": 1
           }
          ]
         }
        },
        {
         "name": "Y14",
         "dtype": "float64",
         "stats": {
          "unique_count": 5,
          "nan_count": 0,
          "min": "42.6895",
          "max": "513.9628",
          "histogram": [
           {
            "bin_start": 42.6895,
            "bin_end": 89.81683000000001,
            "count": 1
           },
           {
            "bin_start": 89.81683000000001,
            "bin_end": 136.94416,
            "count": 0
           },
           {
            "bin_start": 136.94416,
            "bin_end": 184.07149,
            "count": 0
           },
           {
            "bin_start": 184.07149,
            "bin_end": 231.19882,
            "count": 1
           },
           {
            "bin_start": 231.19882,
            "bin_end": 278.32615,
            "count": 1
           },
           {
            "bin_start": 278.32615,
            "bin_end": 325.45348,
            "count": 0
           },
           {
            "bin_start": 325.45348,
            "bin_end": 372.58081,
            "count": 0
           },
           {
            "bin_start": 372.58081,
            "bin_end": 419.70814,
            "count": 0
           },
           {
            "bin_start": 419.70814,
            "bin_end": 466.83547000000004,
            "count": 0
           },
           {
            "bin_start": 466.83547000000004,
            "bin_end": 513.9628,
            "count": 2
           }
          ]
         }
        },
        {
         "name": "Y15",
         "dtype": "float64",
         "stats": {
          "unique_count": 5,
          "nan_count": 0,
          "min": "19.6762",
          "max": "531.3943",
          "histogram": [
           {
            "bin_start": 19.6762,
            "bin_end": 70.84801000000002,
            "count": 1
           },
           {
            "bin_start": 70.84801000000002,
            "bin_end": 122.01982000000001,
            "count": 1
           },
           {
            "bin_start": 122.01982000000001,
            "bin_end": 173.19163000000003,
            "count": 0
           },
           {
            "bin_start": 173.19163000000003,
            "bin_end": 224.36344000000003,
            "count": 0
           },
           {
            "bin_start": 224.36344000000003,
            "bin_end": 275.53525,
            "count": 0
           },
           {
            "bin_start": 275.53525,
            "bin_end": 326.70706000000007,
            "count": 0
           },
           {
            "bin_start": 326.70706000000007,
            "bin_end": 377.87887000000006,
            "count": 2
           },
           {
            "bin_start": 377.87887000000006,
            "bin_end": 429.05068000000006,
            "count": 0
           },
           {
            "bin_start": 429.05068000000006,
            "bin_end": 480.22249000000005,
            "count": 0
           },
           {
            "bin_start": 480.22249000000005,
            "bin_end": 531.3943,
            "count": 1
           }
          ]
         }
        },
        {
         "name": "P0",
         "dtype": "float64",
         "stats": {
          "unique_count": 5,
          "nan_count": 0,
          "min": "74526.6183",
          "max": "97185.2149",
          "histogram": [
           {
            "bin_start": 74526.6183,
            "bin_end": 76792.47796,
            "count": 1
           },
           {
            "bin_start": 76792.47796,
            "bin_end": 79058.33762,
            "count": 2
           },
           {
            "bin_start": 79058.33762,
            "bin_end": 81324.19728000001,
            "count": 0
           },
           {
            "bin_start": 81324.19728000001,
            "bin_end": 83590.05694000001,
            "count": 0
           },
           {
            "bin_start": 83590.05694000001,
            "bin_end": 85855.9166,
            "count": 0
           },
           {
            "bin_start": 85855.9166,
            "bin_end": 88121.77626000001,
            "count": 0
           },
           {
            "bin_start": 88121.77626000001,
            "bin_end": 90387.63592,
            "count": 0
           },
           {
            "bin_start": 90387.63592,
            "bin_end": 92653.49558,
            "count": 0
           },
           {
            "bin_start": 92653.49558,
            "bin_end": 94919.35524,
            "count": 0
           },
           {
            "bin_start": 94919.35524,
            "bin_end": 97185.2149,
            "count": 2
           }
          ]
         }
        },
        {
         "name": "P1",
         "dtype": "float64",
         "stats": {
          "unique_count": 5,
          "nan_count": 0,
          "min": "77642.1361",
          "max": "99177.8407",
          "histogram": [
           {
            "bin_start": 77642.1361,
            "bin_end": 79795.70656,
            "count": 1
           },
           {
            "bin_start": 79795.70656,
            "bin_end": 81949.27702000001,
            "count": 0
           },
           {
            "bin_start": 81949.27702000001,
            "bin_end": 84102.84748,
            "count": 0
           },
           {
            "bin_start": 84102.84748,
            "bin_end": 86256.41794,
            "count": 1
           },
           {
            "bin_start": 86256.41794,
            "bin_end": 88409.9884,
            "count": 0
           },
           {
            "bin_start": 88409.9884,
            "bin_end": 90563.55886,
            "count": 0
           },
           {
            "bin_start": 90563.55886,
            "bin_end": 92717.12932000001,
            "count": 0
           },
           {
            "bin_start": 92717.12932000001,
            "bin_end": 94870.69978,
            "count": 0
           },
           {
            "bin_start": 94870.69978,
            "bin_end": 97024.27024,
            "count": 0
           },
           {
            "bin_start": 97024.27024,
            "bin_end": 99177.8407,
            "count": 3
           }
          ]
         }
        },
        {
         "name": "P2",
         "dtype": "float64",
         "stats": {
          "unique_count": 5,
          "nan_count": 0,
          "min": "69559.8105",
          "max": "100648.5358",
          "histogram": [
           {
            "bin_start": 69559.8105,
            "bin_end": 72668.68303,
            "count": 2
           },
           {
            "bin_start": 72668.68303,
            "bin_end": 75777.55556000001,
            "count": 0
           },
           {
            "bin_start": 75777.55556000001,
            "bin_end": 78886.42809,
            "count": 0
           },
           {
            "bin_start": 78886.42809,
            "bin_end": 81995.30062000001,
            "count": 0
           },
           {
            "bin_start": 81995.30062000001,
            "bin_end": 85104.17315,
            "count": 1
           },
           {
            "bin_start": 85104.17315,
            "bin_end": 88213.04568000001,
            "count": 0
           },
           {
            "bin_start": 88213.04568000001,
            "bin_end": 91321.91821,
            "count": 0
           },
           {
            "bin_start": 91321.91821,
            "bin_end": 94430.79074,
            "count": 1
           },
           {
            "bin_start": 94430.79074,
            "bin_end": 97539.66327,
            "count": 0
           },
           {
            "bin_start": 97539.66327,
            "bin_end": 100648.5358,
            "count": 1
           }
          ]
         }
        },
        {
         "name": "P3",
         "dtype": "float64",
         "stats": {
          "unique_count": 5,
          "nan_count": 0,
          "min": "72338.9003",
          "max": "99665.7889",
          "histogram": [
           {
            "bin_start": 72338.9003,
            "bin_end": 75071.58915999999,
            "count": 1
           },
           {
            "bin_start": 75071.58915999999,
            "bin_end": 77804.27802,
            "count": 1
           },
           {
            "bin_start": 77804.27802,
            "bin_end": 80536.96687999999,
            "count": 0
           },
           {
            "bin_start": 80536.96687999999,
            "bin_end": 83269.65574,
            "count": 1
           },
           {
            "bin_start": 83269.65574,
            "bin_end": 86002.3446,
            "count": 0
           },
           {
            "bin_start": 86002.3446,
            "bin_end": 88735.03346,
            "count": 0
           },
           {
            "bin_start": 88735.03346,
            "bin_end": 91467.72232,
            "count": 0
           },
           {
            "bin_start": 91467.72232,
            "bin_end": 94200.41118,
            "count": 0
           },
           {
            "bin_start": 94200.41118,
            "bin_end": 96933.10004,
            "count": 0
           },
           {
            "bin_start": 96933.10004,
            "bin_end": 99665.7889,
            "count": 2
           }
          ]
         }
        },
        {
         "name": "P4",
         "dtype": "float64",
         "stats": {
          "unique_count": 5,
          "nan_count": 0,
          "min": "71301.6809",
          "max": "98407.212",
          "histogram": [
           {
            "bin_start": 71301.6809,
            "bin_end": 74012.23401,
            "count": 1
           },
           {
            "bin_start": 74012.23401,
            "bin_end": 76722.78712000001,
            "count": 2
           },
           {
            "bin_start": 76722.78712000001,
            "bin_end": 79433.34023,
            "count": 0
           },
           {
            "bin_start": 79433.34023,
            "bin_end": 82143.89334000001,
            "count": 0
           },
           {
            "bin_start": 82143.89334000001,
            "bin_end": 84854.44645,
            "count": 0
           },
           {
            "bin_start": 84854.44645,
            "bin_end": 87564.99956,
            "count": 0
           },
           {
            "bin_start": 87564.99956,
            "bin_end": 90275.55267,
            "count": 1
           },
           {
            "bin_start": 90275.55267,
            "bin_end": 92986.10578,
            "count": 0
           },
           {
            "bin_start": 92986.10578,
            "bin_end": 95696.65889,
            "count": 0
           },
           {
            "bin_start": 95696.65889,
            "bin_end": 98407.212,
            "count": 1
           }
          ]
         }
        },
        {
         "name": "P5",
         "dtype": "float64",
         "stats": {
          "unique_count": 5,
          "nan_count": 0,
          "min": "79484.3263",
          "max": "100207.0946",
          "histogram": [
           {
            "bin_start": 79484.3263,
            "bin_end": 81556.60313,
            "count": 1
           },
           {
            "bin_start": 81556.60313,
            "bin_end": 83628.87996,
            "count": 0
           },
           {
            "bin_start": 83628.87996,
            "bin_end": 85701.15679,
            "count": 0
           },
           {
            "bin_start": 85701.15679,
            "bin_end": 87773.43362,
            "count": 2
           },
           {
            "bin_start": 87773.43362,
            "bin_end": 89845.71045,
            "count": 0
           },
           {
            "bin_start": 89845.71045,
            "bin_end": 91917.98728,
            "count": 1
           },
           {
            "bin_start": 91917.98728,
            "bin_end": 93990.26411,
            "count": 0
           },
           {
            "bin_start": 93990.26411,
            "bin_end": 96062.54094,
            "count": 0
           },
           {
            "bin_start": 96062.54094,
            "bin_end": 98134.81777,
            "count": 0
           },
           {
            "bin_start": 98134.81777,
            "bin_end": 100207.0946,
            "count": 1
           }
          ]
         }
        },
        {
         "name": "P6",
         "dtype": "float64",
         "stats": {
          "unique_count": 5,
          "nan_count": 0,
          "min": "64664.9272",
          "max": "97155.1672",
          "histogram": [
           {
            "bin_start": 64664.9272,
            "bin_end": 67913.9512,
            "count": 1
           },
           {
            "bin_start": 67913.9512,
            "bin_end": 71162.9752,
            "count": 0
           },
           {
            "bin_start": 71162.9752,
            "bin_end": 74411.99919999999,
            "count": 0
           },
           {
            "bin_start": 74411.99919999999,
            "bin_end": 77661.0232,
            "count": 0
           },
           {
            "bin_start": 77661.0232,
            "bin_end": 80910.0472,
            "count": 1
           },
           {
            "bin_start": 80910.0472,
            "bin_end": 84159.0712,
            "count": 0
           },
           {
            "bin_start": 84159.0712,
            "bin_end": 87408.0952,
            "count": 1
           },
           {
            "bin_start": 87408.0952,
            "bin_end": 90657.1192,
            "count": 0
           },
           {
            "bin_start": 90657.1192,
            "bin_end": 93906.14319999999,
            "count": 1
           },
           {
            "bin_start": 93906.14319999999,
            "bin_end": 97155.1672,
            "count": 1
           }
          ]
         }
        },
        {
         "name": "P7",
         "dtype": "float64",
         "stats": {
          "unique_count": 5,
          "nan_count": 0,
          "min": "80399.3841",
          "max": "97358.7395",
          "histogram": [
           {
            "bin_start": 80399.3841,
            "bin_end": 82095.31964,
            "count": 1
           },
           {
            "bin_start": 82095.31964,
            "bin_end": 83791.25518,
            "count": 1
           },
           {
            "bin_start": 83791.25518,
            "bin_end": 85487.19072,
            "count": 1
           },
           {
            "bin_start": 85487.19072,
            "bin_end": 87183.12625999999,
            "count": 0
           },
           {
            "bin_start": 87183.12625999999,
            "bin_end": 88879.0618,
            "count": 0
           },
           {
            "bin_start": 88879.0618,
            "bin_end": 90574.99734,
            "count": 0
           },
           {
            "bin_start": 90574.99734,
            "bin_end": 92270.93288,
            "count": 0
           },
           {
            "bin_start": 92270.93288,
            "bin_end": 93966.86842,
            "count": 0
           },
           {
            "bin_start": 93966.86842,
            "bin_end": 95662.80395999999,
            "count": 0
           },
           {
            "bin_start": 95662.80395999999,
            "bin_end": 97358.7395,
            "count": 2
           }
          ]
         }
        },
        {
         "name": "P8",
         "dtype": "float64",
         "stats": {
          "unique_count": 5,
          "nan_count": 0,
          "min": "80968.0044",
          "max": "98069.1011",
          "histogram": [
           {
            "bin_start": 80968.0044,
            "bin_end": 82678.11407000001,
            "count": 2
           },
           {
            "bin_start": 82678.11407000001,
            "bin_end": 84388.22374,
            "count": 0
           },
           {
            "bin_start": 84388.22374,
            "bin_end": 86098.33341,
            "count": 0
           },
           {
            "bin_start": 86098.33341,
            "bin_end": 87808.44308,
            "count": 0
           },
           {
            "bin_start": 87808.44308,
            "bin_end": 89518.55275,
            "count": 1
           },
           {
            "bin_start": 89518.55275,
            "bin_end": 91228.66242000001,
            "count": 0
           },
           {
            "bin_start": 91228.66242000001,
            "bin_end": 92938.77209,
            "count": 0
           },
           {
            "bin_start": 92938.77209,
            "bin_end": 94648.88176,
            "count": 1
           },
           {
            "bin_start": 94648.88176,
            "bin_end": 96358.99143,
            "count": 0
           },
           {
            "bin_start": 96358.99143,
            "bin_end": 98069.1011,
            "count": 1
           }
          ]
         }
        },
        {
         "name": "P9",
         "dtype": "float64",
         "stats": {
          "unique_count": 5,
          "nan_count": 0,
          "min": "63591.6729",
          "max": "87108.1328",
          "histogram": [
           {
            "bin_start": 63591.6729,
            "bin_end": 65943.31889,
            "count": 1
           },
           {
            "bin_start": 65943.31889,
            "bin_end": 68294.96488,
            "count": 0
           },
           {
            "bin_start": 68294.96488,
            "bin_end": 70646.61087,
            "count": 1
           },
           {
            "bin_start": 70646.61087,
            "bin_end": 72998.25686,
            "count": 0
           },
           {
            "bin_start": 72998.25686,
            "bin_end": 75349.90285,
            "count": 0
           },
           {
            "bin_start": 75349.90285,
            "bin_end": 77701.54884,
            "count": 0
           },
           {
            "bin_start": 77701.54884,
            "bin_end": 80053.19483000001,
            "count": 0
           },
           {
            "bin_start": 80053.19483000001,
            "bin_end": 82404.84082000001,
            "count": 0
           },
           {
            "bin_start": 82404.84082000001,
            "bin_end": 84756.48681,
            "count": 0
           },
           {
            "bin_start": 84756.48681,
            "bin_end": 87108.1328,
            "count": 3
           }
          ]
         }
        },
        {
         "name": "P10",
         "dtype": "float64",
         "stats": {
          "unique_count": 5,
          "nan_count": 0,
          "min": "68065.1856",
          "max": "93016.4133",
          "histogram": [
           {
            "bin_start": 68065.1856,
            "bin_end": 70560.30837,
            "count": 2
           },
           {
            "bin_start": 70560.30837,
            "bin_end": 73055.43114,
            "count": 0
           },
           {
            "bin_start": 73055.43114,
            "bin_end": 75550.55391,
            "count": 0
           },
           {
            "bin_start": 75550.55391,
            "bin_end": 78045.67668,
            "count": 0
           },
           {
            "bin_start": 78045.67668,
            "bin_end": 80540.79944999999,
            "count": 0
           },
           {
            "bin_start": 80540.79944999999,
            "bin_end": 83035.92222000001,
            "count": 0
           },
           {
            "bin_start": 83035.92222000001,
            "bin_end": 85531.04499,
            "count": 0
           },
           {
            "bin_start": 85531.04499,
            "bin_end": 88026.16776,
            "count": 0
           },
           {
            "bin_start": 88026.16776,
            "bin_end": 90521.29053,
            "count": 0
           },
           {
            "bin_start": 90521.29053,
            "bin_end": 93016.4133,
            "count": 3
           }
          ]
         }
        },
        {
         "name": "P11",
         "dtype": "float64",
         "stats": {
          "unique_count": 5,
          "nan_count": 0,
          "min": "60887.8095",
          "max": "99061.3812",
          "histogram": [
           {
            "bin_start": 60887.8095,
            "bin_end": 64705.166670000006,
            "count": 2
           },
           {
            "bin_start": 64705.166670000006,
            "bin_end": 68522.52384000001,
            "count": 0
           },
           {
            "bin_start": 68522.52384000001,
            "bin_end": 72339.88101000001,
            "count": 0
           },
           {
            "bin_start": 72339.88101000001,
            "bin_end": 76157.23818,
            "count": 0
           },
           {
            "bin_start": 76157.23818,
            "bin_end": 79974.59535,
            "count": 0
           },
           {
            "bin_start": 79974.59535,
            "bin_end": 83791.95252,
            "count": 1
           },
           {
            "bin_start": 83791.95252,
            "bin_end": 87609.30969000001,
            "count": 0
           },
           {
            "bin_start": 87609.30969000001,
            "bin_end": 91426.66686,
            "count": 0
           },
           {
            "bin_start": 91426.66686,
            "bin_end": 95244.02403,
            "count": 1
           },
           {
            "bin_start": 95244.02403,
            "bin_end": 99061.3812,
            "count": 1
           }
          ]
         }
        },
        {
         "name": "P12",
         "dtype": "float64",
         "stats": {
          "unique_count": 5,
          "nan_count": 0,
          "min": "72306.6556",
          "max": "98353.1952",
          "histogram": [
           {
            "bin_start": 72306.6556,
            "bin_end": 74911.30956,
            "count": 1
           },
           {
            "bin_start": 74911.30956,
            "bin_end": 77515.96352,
            "count": 0
           },
           {
            "bin_start": 77515.96352,
            "bin_end": 80120.61748,
            "count": 1
           },
           {
            "bin_start": 80120.61748,
            "bin_end": 82725.27144,
            "count": 0
           },
           {
            "bin_start": 82725.27144,
            "bin_end": 85329.92540000001,
            "count": 0
           },
           {
            "bin_start": 85329.92540000001,
            "bin_end": 87934.57936,
            "count": 0
           },
           {
            "bin_start": 87934.57936,
            "bin_end": 90539.23332,
            "count": 0
           },
           {
            "bin_start": 90539.23332,
            "bin_end": 93143.88728,
            "count": 0
           },
           {
            "bin_start": 93143.88728,
            "bin_end": 95748.54124,
            "count": 0
           },
           {
            "bin_start": 95748.54124,
            "bin_end": 98353.1952,
            "count": 3
           }
          ]
         }
        },
        {
         "name": "P13",
         "dtype": "float64",
         "stats": {
          "unique_count": 5,
          "nan_count": 0,
          "min": "74903.374",
          "max": "99013.1628",
          "histogram": [
           {
            "bin_start": 74903.374,
            "bin_end": 77314.35287999999,
            "count": 1
           },
           {
            "bin_start": 77314.35287999999,
            "bin_end": 79725.33176,
            "count": 0
           },
           {
            "bin_start": 79725.33176,
            "bin_end": 82136.31064,
            "count": 2
           },
           {
            "bin_start": 82136.31064,
            "bin_end": 84547.28952,
            "count": 0
           },
           {
            "bin_start": 84547.28952,
            "bin_end": 86958.2684,
            "count": 1
           },
           {
            "bin_start": 86958.2684,
            "bin_end": 89369.24728000001,
            "count": 0
           },
           {
            "bin_start": 89369.24728000001,
            "bin_end": 91780.22616,
            "count": 0
           },
           {
            "bin_start": 91780.22616,
            "bin_end": 94191.20504,
            "count": 0
           },
           {
            "bin_start": 94191.20504,
            "bin_end": 96602.18392000001,
            "count": 0
           },
           {
            "bin_start": 96602.18392000001,
            "bin_end": 99013.1628,
            "count": 1
           }
          ]
         }
        },
        {
         "name": "P14",
         "dtype": "float64",
         "stats": {
          "unique_count": 5,
          "nan_count": 0,
          "min": "66823.1572",
          "max": "98447.2846",
          "histogram": [
           {
            "bin_start": 66823.1572,
            "bin_end": 69985.56994,
            "count": 1
           },
           {
            "bin_start": 69985.56994,
            "bin_end": 73147.98268,
            "count": 1
           },
           {
            "bin_start": 73147.98268,
            "bin_end": 76310.39542,
            "count": 0
           },
           {
            "bin_start": 76310.39542,
            "bin_end": 79472.80816,
            "count": 1
           },
           {
            "bin_start": 79472.80816,
            "bin_end": 82635.2209,
            "count": 0
           },
           {
            "bin_start": 82635.2209,
            "bin_end": 85797.63364,
            "count": 1
           },
           {
            "bin_start": 85797.63364,
            "bin_end": 88960.04638,
            "count": 0
           },
           {
            "bin_start": 88960.04638,
            "bin_end": 92122.45912,
            "count": 0
           },
           {
            "bin_start": 92122.45912,
            "bin_end": 95284.87186,
            "count": 0
           },
           {
            "bin_start": 95284.87186,
            "bin_end": 98447.2846,
            "count": 1
           }
          ]
         }
        },
        {
         "name": "P15",
         "dtype": "float64",
         "stats": {
          "unique_count": 5,
          "nan_count": 0,
          "min": "84633.6493",
          "max": "97570.2225",
          "histogram": [
           {
            "bin_start": 84633.6493,
            "bin_end": 85927.30662,
            "count": 1
           },
           {
            "bin_start": 85927.30662,
            "bin_end": 87220.96394,
            "count": 0
           },
           {
            "bin_start": 87220.96394,
            "bin_end": 88514.62126,
            "count": 0
           },
           {
            "bin_start": 88514.62126,
            "bin_end": 89808.27858,
            "count": 0
           },
           {
            "bin_start": 89808.27858,
            "bin_end": 91101.93590000001,
            "count": 0
           },
           {
            "bin_start": 91101.93590000001,
            "bin_end": 92395.59322000001,
            "count": 0
           },
           {
            "bin_start": 92395.59322000001,
            "bin_end": 93689.25054000001,
            "count": 1
           },
           {
            "bin_start": 93689.25054000001,
            "bin_end": 94982.90786,
            "count": 1
           },
           {
            "bin_start": 94982.90786,
            "bin_end": 96276.56518,
            "count": 1
           },
           {
            "bin_start": 96276.56518,
            "bin_end": 97570.2225,
            "count": 1
           }
          ]
         }
        },
        {
         "name": "PALL",
         "dtype": "float64",
         "stats": {
          "unique_count": 5,
          "nan_count": 0,
          "min": "1340929.765",
          "max": "1396754.375",
          "histogram": [
           {
            "bin_start": 1340929.765,
            "bin_end": 1346512.2259999998,
            "count": 1
           },
           {
            "bin_start": 1346512.2259999998,
            "bin_end": 1352094.687,
            "count": 1
           },
           {
            "bin_start": 1352094.687,
            "bin_end": 1357677.148,
            "count": 1
           },
           {
            "bin_start": 1357677.148,
            "bin_end": 1363259.609,
            "count": 0
           },
           {
            "bin_start": 1363259.609,
            "bin_end": 1368842.0699999998,
            "count": 0
           },
           {
            "bin_start": 1368842.0699999998,
            "bin_end": 1374424.531,
            "count": 1
           },
           {
            "bin_start": 1374424.531,
            "bin_end": 1380006.992,
            "count": 0
           },
           {
            "bin_start": 1380006.992,
            "bin_end": 1385589.453,
            "count": 0
           },
           {
            "bin_start": 1385589.453,
            "bin_end": 1391171.9139999999,
            "count": 0
           },
           {
            "bin_start": 1391171.9139999999,
            "bin_end": 1396754.375,
            "count": 1
           }
          ]
         }
        },
        {
         "name": "_deepnote_index_column",
         "dtype": "int64"
        }
       ],
       "rows": [
        {
         "X0": 316.5855,
         "X1": 223.9277,
         "X2": 182.3434,
         "X3": 551.5497,
         "X4": 7.8641,
         "X5": 243.1339,
         "X6": 361.0877,
         "X7": 115.9284,
         "X8": 78.6087,
         "X9": 468.3799,
         "X10": 362.6036,
         "X11": 1.6865,
         "X12": 508.6837,
         "X13": 446.644,
         "X14": 385.7292,
         "X15": 522.1661,
         "Y0": 180.9224,
         "Y1": 366.9186,
         "Y2": 200.9217,
         "Y3": 436.4863,
         "Y4": 189.6325,
         "Y5": 218.9722,
         "Y6": 247.9875,
         "Y7": 269.9356,
         "Y8": 495.7867,
         "Y9": 105.5203,
         "Y10": 141.8014,
         "Y11": 18.7857,
         "Y12": 496.6488,
         "Y13": 3.2835,
         "Y14": 513.9628,
         "Y15": 105.5529,
         "P0": 78738.9831,
         "P1": 86026.8604,
         "P2": 69559.8105,
         "P3": 99665.7889,
         "P4": 74052.5623,
         "P5": 79484.3263,
         "P6": 85118.6141,
         "P7": 82322.0277,
         "P8": 98069.1011,
         "P9": 86578.633,
         "P10": 93016.4133,
         "P11": 63145.1829,
         "P12": 98353.1952,
         "P13": 80225.139,
         "P14": 98447.2846,
         "P15": 97570.2225,
         "PALL": 1370374.145,
         "_deepnote_index_column": 0
        },
        {
         "X0": 530.3136,
         "X1": 68.7031,
         "X2": 31.5983,
         "X3": 175.2582,
         "X4": 516.1441,
         "X5": 63.4652,
         "X6": 67.0954,
         "X7": 369.4486,
         "X8": 14.093,
         "X9": 375.4462,
         "X10": 45.4747,
         "X11": 361.9118,
         "X12": 297.8632,
         "X13": 293.7442,
         "X14": 90.5536,
         "X15": 3.4209,
         "Y0": 510.7784,
         "Y1": 564.9436,
         "Y2": 324.5823,
         "Y3": 94.5002,
         "Y4": 424.137,
         "Y5": 400.1397,
         "Y6": 107.3907,
         "Y7": 248.7212,
         "Y8": 415.6457,
         "Y9": 410.1439,
         "Y10": 156.3712,
         "Y11": 532.99,
         "Y12": 280.7516,
         "Y13": 559.2803,
         "Y14": 208.7441,
         "Y15": 531.3943,
         "P0": 97185.2149,
         "P1": 98165.3309,
         "P2": 72204.3398,
         "P3": 72338.9003,
         "P4": 87955.8108,
         "P5": 89862.0451,
         "P6": 64664.9272,
         "P7": 83920.1033,
         "P8": 80968.0044,
         "P9": 87108.1328,
         "P10": 68065.1856,
         "P11": 99061.3812,
         "P12": 77549.1426,
         "P13": 99013.1628,
         "P14": 78234.4337,
         "P15": 84633.6493,
         "PALL": 1340929.765,
         "_deepnote_index_column": 1
        },
        {
         "X0": 27.3967,
         "X1": 399.0488,
         "X2": 565.6854,
         "X3": 394.0466,
         "X4": 120.2245,
         "X5": 558.1293,
         "X6": 546.452,
         "X7": 27.3256,
         "X8": 314.1051,
         "X9": 235.9476,
         "X10": 514.9275,
         "X11": 26.3633,
         "X12": 332.2882,
         "X13": 518.826,
         "X14": 494.6027,
         "X15": 514.5393,
         "Y0": 102.5081,
         "Y1": 221.2811,
         "Y2": 303.2901,
         "Y3": 378.8741,
         "Y4": 85.5374,
         "Y5": 90.2488,
         "Y6": 516.1118,
         "Y7": 498.6277,
         "Y8": 435.2397,
         "Y9": 35.5588,
         "Y10": 148.9206,
         "Y11": 48.0585,
         "Y12": 317.9832,
         "Y13": 26.8732,
         "Y14": 483.0186,
         "Y15": 359.0875,
         "P0": 76929.3586,
         "P1": 77642.1361,
         "P2": 100648.5358,
         "P3": 82390.5044,
         "P4": 71301.6809,
         "P5": 100207.0946,
         "P6": 97155.1672,
         "P7": 97358.7395,
         "P8": 93437.717,
         "P9": 69940.2554,
         "P10": 92864.1192,
         "P11": 60887.8095,
         "P12": 72306.6556,
         "P13": 81151.1515,
         "P14": 83030.9726,
         "P15": 94779.6131,
         "PALL": 1352031.511,
         "_deepnote_index_column": 2
        },
        {
         "X0": 346.1526,
         "X1": 59.6375,
         "X2": 226.2742,
         "X3": 280.9095,
         "X4": 402.2161,
         "X5": 218.7181,
         "X6": 207.0407,
         "X7": 339.5676,
         "X8": 0,
         "X9": 0,
         "X10": 175.5163,
         "X11": 365.7745,
         "X12": 565.6854,
         "X13": 179.4148,
         "X14": 155.1914,
         "X15": 565.6854,
         "Y0": 441.9194,
         "Y1": 560.6924,
         "Y2": 0,
         "Y3": 565.6854,
         "Y4": 424.9487,
         "Y5": 429.66,
         "Y6": 176.7005,
         "Y7": 217.2239,
         "Y8": 562.7245,
         "Y9": 347.2173,
         "Y10": 0,
         "Y11": 272.3906,
         "Y12": 178.493,
         "Y13": 317.5044,
         "Y14": 235.5983,
         "Y15": 19.6762,
         "P0": 95372.9014,
         "P1": 99177.8407,
         "P2": 83274.9166,
         "P3": 97592.633,
         "P4": 98407.212,
         "P5": 86929.3962,
         "P6": 77898.1893,
         "P7": 80399.3841,
         "P8": 89349.6141,
         "P9": 85048.386,
         "P10": 70038.2271,
         "P11": 92797.3569,
         "P12": 97653.8121,
         "P13": 74903.374,
         "P14": 71690.6549,
         "P15": 96220.4768,
         "PALL": 1396754.375,
         "_deepnote_index_column": 3
        },
        {
         "X0": 317.9144,
         "X1": 551.8542,
         "X2": 335.4745,
         "X3": 40.024,
         "X4": 316.6285,
         "X5": 365.6434,
         "X6": 416.306,
         "X7": 562.1028,
         "X8": 211.3577,
         "X9": 143.1255,
         "X10": 516.7467,
         "X11": 288.3794,
         "X12": 54.9749,
         "X13": 38.8434,
         "X14": 193.8276,
         "X15": 138.5265,
         "Y0": 94.6465,
         "Y1": 256.6874,
         "Y2": 434.6103,
         "Y3": 114.7701,
         "Y4": 0,
         "Y5": 143.9788,
         "Y6": 337.7052,
         "Y7": 536.6741,
         "Y8": 143.3888,
         "Y9": 48.6452,
         "Y10": 109.5254,
         "Y11": 377.3113,
         "Y12": 530.8384,
         "Y13": 463.1129,
         "Y14": 42.6895,
         "Y15": 367.9045,
         "P0": 74526.6183,
         "P1": 97462.1766,
         "P2": 93071.6213,
         "P3": 77142.7114,
         "P4": 74223.9997,
         "P5": 87694.8256,
         "P6": 91310.7781,
         "P7": 97088.1761,
         "P8": 81187.3982,
         "P9": 63591.6729,
         "P10": 92418.1977,
         "P11": 82454.8256,
         "P12": 97091.7749,
         "P13": 85937.5437,
         "P14": 66823.1572,
         "P15": 93683.0996,
         "PALL": 1355708.577,
         "_deepnote_index_column": 4
        }
       ]
      },
      "text/plain": "         X0        X1        X2        X3        X4        X5        X6  \\\n0  316.5855  223.9277  182.3434  551.5497    7.8641  243.1339  361.0877   \n1  530.3136   68.7031   31.5983  175.2582  516.1441   63.4652   67.0954   \n2   27.3967  399.0488  565.6854  394.0466  120.2245  558.1293  546.4520   \n3  346.1526   59.6375  226.2742  280.9095  402.2161  218.7181  207.0407   \n4  317.9144  551.8542  335.4745   40.0240  316.6285  365.6434  416.3060   \n\n         X7        X8        X9  ...          P7          P8          P9  \\\n0  115.9284   78.6087  468.3799  ...  82322.0277  98069.1011  86578.6330   \n1  369.4486   14.0930  375.4462  ...  83920.1033  80968.0044  87108.1328   \n2   27.3256  314.1051  235.9476  ...  97358.7395  93437.7170  69940.2554   \n3  339.5676    0.0000    0.0000  ...  80399.3841  89349.6141  85048.3860   \n4  562.1028  211.3577  143.1255  ...  97088.1761  81187.3982  63591.6729   \n\n          P10         P11         P12         P13         P14         P15  \\\n0  93016.4133  63145.1829  98353.1952  80225.1390  98447.2846  97570.2225   \n1  68065.1856  99061.3812  77549.1426  99013.1628  78234.4337  84633.6493   \n2  92864.1192  60887.8095  72306.6556  81151.1515  83030.9726  94779.6131   \n3  70038.2271  92797.3569  97653.8121  74903.3740  71690.6549  96220.4768   \n4  92418.1977  82454.8256  97091.7749  85937.5437  66823.1572  93683.0996   \n\n          PALL  \n0  1370374.145  \n1  1340929.765  \n2  1352031.511  \n3  1396754.375  \n4  1355708.577  \n\n[5 rows x 49 columns]",
      "text/html": "<div>\n<style scoped>\n    .dataframe tbody tr th:only-of-type {\n        vertical-align: middle;\n    }\n\n    .dataframe tbody tr th {\n        vertical-align: top;\n    }\n\n    .dataframe thead th {\n        text-align: right;\n    }\n</style>\n<table border=\"1\" class=\"dataframe\">\n  <thead>\n    <tr style=\"text-align: right;\">\n      <th></th>\n      <th>X0</th>\n      <th>X1</th>\n      <th>X2</th>\n      <th>X3</th>\n      <th>X4</th>\n      <th>X5</th>\n      <th>X6</th>\n      <th>X7</th>\n      <th>X8</th>\n      <th>X9</th>\n      <th>...</th>\n      <th>P7</th>\n      <th>P8</th>\n      <th>P9</th>\n      <th>P10</th>\n      <th>P11</th>\n      <th>P12</th>\n      <th>P13</th>\n      <th>P14</th>\n      <th>P15</th>\n      <th>PALL</th>\n    </tr>\n  </thead>\n  <tbody>\n    <tr>\n      <th>0</th>\n      <td>316.5855</td>\n      <td>223.9277</td>\n      <td>182.3434</td>\n      <td>551.5497</td>\n      <td>7.8641</td>\n      <td>243.1339</td>\n      <td>361.0877</td>\n      <td>115.9284</td>\n      <td>78.6087</td>\n      <td>468.3799</td>\n      <td>...</td>\n      <td>82322.0277</td>\n      <td>98069.1011</td>\n      <td>86578.6330</td>\n      <td>93016.4133</td>\n      <td>63145.1829</td>\n      <td>98353.1952</td>\n      <td>80225.1390</td>\n      <td>98447.2846</td>\n      <td>97570.2225</td>\n      <td>1370374.145</td>\n    </tr>\n    <tr>\n      <th>1</th>\n      <td>530.3136</td>\n      <td>68.7031</td>\n      <td>31.5983</td>\n      <td>175.2582</td>\n      <td>516.1441</td>\n      <td>63.4652</td>\n      <td>67.0954</td>\n      <td>369.4486</td>\n      <td>14.0930</td>\n      <td>375.4462</td>\n      <td>...</td>\n      <td>83920.1033</td>\n      <td>80968.0044</td>\n      <td>87108.1328</td>\n      <td>68065.1856</td>\n      <td>99061.3812</td>\n      <td>77549.1426</td>\n      <td>99013.1628</td>\n      <td>78234.4337</td>\n      <td>84633.6493</td>\n      <td>1340929.765</td>\n    </tr>\n    <tr>\n      <th>2</th>\n      <td>27.3967</td>\n      <td>399.0488</td>\n      <td>565.6854</td>\n      <td>394.0466</td>\n      <td>120.2245</td>\n      <td>558.1293</td>\n      <td>546.4520</td>\n      <td>27.3256</td>\n      <td>314.1051</td>\n      <td>235.9476</td>\n      <td>...</td>\n      <td>97358.7395</td>\n      <td>93437.7170</td>\n      <td>69940.2554</td>\n      <td>92864.1192</td>\n      <td>60887.8095</td>\n      <td>72306.6556</td>\n      <td>81151.1515</td>\n      <td>83030.9726</td>\n      <td>94779.6131</td>\n      <td>1352031.511</td>\n    </tr>\n    <tr>\n      <th>3</th>\n      <td>346.1526</td>\n      <td>59.6375</td>\n      <td>226.2742</td>\n      <td>280.9095</td>\n      <td>402.2161</td>\n      <td>218.7181</td>\n      <td>207.0407</td>\n      <td>339.5676</td>\n      <td>0.0000</td>\n      <td>0.0000</td>\n      <td>...</td>\n      <td>80399.3841</td>\n      <td>89349.6141</td>\n      <td>85048.3860</td>\n      <td>70038.2271</td>\n      <td>92797.3569</td>\n      <td>97653.8121</td>\n      <td>74903.3740</td>\n      <td>71690.6549</td>\n      <td>96220.4768</td>\n      <td>1396754.375</td>\n    </tr>\n    <tr>\n      <th>4</th>\n      <td>317.9144</td>\n      <td>551.8542</td>\n      <td>335.4745</td>\n      <td>40.0240</td>\n      <td>316.6285</td>\n      <td>365.6434</td>\n      <td>416.3060</td>\n      <td>562.1028</td>\n      <td>211.3577</td>\n      <td>143.1255</td>\n      <td>...</td>\n      <td>97088.1761</td>\n      <td>81187.3982</td>\n      <td>63591.6729</td>\n      <td>92418.1977</td>\n      <td>82454.8256</td>\n      <td>97091.7749</td>\n      <td>85937.5437</td>\n      <td>66823.1572</td>\n      <td>93683.0996</td>\n      <td>1355708.577</td>\n    </tr>\n  </tbody>\n</table>\n<p>5 rows × 49 columns</p>\n</div>"
     },
     "metadata": {}
    }
   ]
  },
  {
   "cell_type": "code",
   "metadata": {
    "cell_id": "00002-725d754d-a9fd-43fe-9cae-2fc56458db3c",
    "deepnote_to_be_reexecuted": false,
    "source_hash": "dad5d8ea",
    "execution_start": 1649784592161,
    "execution_millis": 199,
    "deepnote_cell_type": "code",
    "deepnote_cell_height": 430
   },
   "source": "adelaide2 = adelaide.iloc[:, 0:32]\nadelaide2.head()",
   "execution_count": null,
   "outputs": [
    {
     "output_type": "execute_result",
     "execution_count": 3,
     "data": {
      "application/vnd.deepnote.dataframe.v3+json": {
       "column_count": 32,
       "row_count": 5,
       "columns": [
        {
         "name": "X0",
         "dtype": "float64",
         "stats": {
          "unique_count": 5,
          "nan_count": 0,
          "min": "27.3967",
          "max": "530.3136",
          "histogram": [
           {
            "bin_start": 27.3967,
            "bin_end": 77.68839,
            "count": 1
           },
           {
            "bin_start": 77.68839,
            "bin_end": 127.98007999999999,
            "count": 0
           },
           {
            "bin_start": 127.98007999999999,
            "bin_end": 178.27177,
            "count": 0
           },
           {
            "bin_start": 178.27177,
            "bin_end": 228.56346,
            "count": 0
           },
           {
            "bin_start": 228.56346,
            "bin_end": 278.85515,
            "count": 0
           },
           {
            "bin_start": 278.85515,
            "bin_end": 329.14684,
            "count": 2
           },
           {
            "bin_start": 329.14684,
            "bin_end": 379.43852999999996,
            "count": 1
           },
           {
            "bin_start": 379.43852999999996,
            "bin_end": 429.73022,
            "count": 0
           },
           {
            "bin_start": 429.73022,
            "bin_end": 480.02191,
            "count": 0
           },
           {
            "bin_start": 480.02191,
            "bin_end": 530.3136,
            "count": 1
           }
          ]
         }
        },
        {
         "name": "X1",
         "dtype": "float64",
         "stats": {
          "unique_count": 5,
          "nan_count": 0,
          "min": "59.6375",
          "max": "551.8542",
          "histogram": [
           {
            "bin_start": 59.6375,
            "bin_end": 108.85917,
            "count": 2
           },
           {
            "bin_start": 108.85917,
            "bin_end": 158.08084000000002,
            "count": 0
           },
           {
            "bin_start": 158.08084000000002,
            "bin_end": 207.30250999999998,
            "count": 0
           },
           {
            "bin_start": 207.30250999999998,
            "bin_end": 256.52418,
            "count": 1
           },
           {
            "bin_start": 256.52418,
            "bin_end": 305.74585,
            "count": 0
           },
           {
            "bin_start": 305.74585,
            "bin_end": 354.96752,
            "count": 0
           },
           {
            "bin_start": 354.96752,
            "bin_end": 404.18919,
            "count": 1
           },
           {
            "bin_start": 404.18919,
            "bin_end": 453.41086,
            "count": 0
           },
           {
            "bin_start": 453.41086,
            "bin_end": 502.63253000000003,
            "count": 0
           },
           {
            "bin_start": 502.63253000000003,
            "bin_end": 551.8542,
            "count": 1
           }
          ]
         }
        },
        {
         "name": "X2",
         "dtype": "float64",
         "stats": {
          "unique_count": 5,
          "nan_count": 0,
          "min": "31.5983",
          "max": "565.6854",
          "histogram": [
           {
            "bin_start": 31.5983,
            "bin_end": 85.00701,
            "count": 1
           },
           {
            "bin_start": 85.00701,
            "bin_end": 138.41572,
            "count": 0
           },
           {
            "bin_start": 138.41572,
            "bin_end": 191.82443,
            "count": 1
           },
           {
            "bin_start": 191.82443,
            "bin_end": 245.23314,
            "count": 1
           },
           {
            "bin_start": 245.23314,
            "bin_end": 298.64185,
            "count": 0
           },
           {
            "bin_start": 298.64185,
            "bin_end": 352.05056,
            "count": 1
           },
           {
            "bin_start": 352.05056,
            "bin_end": 405.45927,
            "count": 0
           },
           {
            "bin_start": 405.45927,
            "bin_end": 458.86798,
            "count": 0
           },
           {
            "bin_start": 458.86798,
            "bin_end": 512.27669,
            "count": 0
           },
           {
            "bin_start": 512.27669,
            "bin_end": 565.6854,
            "count": 1
           }
          ]
         }
        },
        {
         "name": "X3",
         "dtype": "float64",
         "stats": {
          "unique_count": 5,
          "nan_count": 0,
          "min": "40.024",
          "max": "551.5497",
          "histogram": [
           {
            "bin_start": 40.024,
            "bin_end": 91.17657,
            "count": 1
           },
           {
            "bin_start": 91.17657,
            "bin_end": 142.32914,
            "count": 0
           },
           {
            "bin_start": 142.32914,
            "bin_end": 193.48171000000002,
            "count": 1
           },
           {
            "bin_start": 193.48171000000002,
            "bin_end": 244.63428000000002,
            "count": 0
           },
           {
            "bin_start": 244.63428000000002,
            "bin_end": 295.78685,
            "count": 1
           },
           {
            "bin_start": 295.78685,
            "bin_end": 346.93942000000004,
            "count": 0
           },
           {
            "bin_start": 346.93942000000004,
            "bin_end": 398.09199,
            "count": 1
           },
           {
            "bin_start": 398.09199,
            "bin_end": 449.24456000000004,
            "count": 0
           },
           {
            "bin_start": 449.24456000000004,
            "bin_end": 500.39713000000006,
            "count": 0
           },
           {
            "bin_start": 500.39713000000006,
            "bin_end": 551.5497,
            "count": 1
           }
          ]
         }
        },
        {
         "name": "X4",
         "dtype": "float64",
         "stats": {
          "unique_count": 5,
          "nan_count": 0,
          "min": "7.8641",
          "max": "516.1441",
          "histogram": [
           {
            "bin_start": 7.8641,
            "bin_end": 58.692099999999996,
            "count": 1
           },
           {
            "bin_start": 58.692099999999996,
            "bin_end": 109.52009999999999,
            "count": 0
           },
           {
            "bin_start": 109.52009999999999,
            "bin_end": 160.3481,
            "count": 1
           },
           {
            "bin_start": 160.3481,
            "bin_end": 211.1761,
            "count": 0
           },
           {
            "bin_start": 211.1761,
            "bin_end": 262.0041,
            "count": 0
           },
           {
            "bin_start": 262.0041,
            "bin_end": 312.83209999999997,
            "count": 0
           },
           {
            "bin_start": 312.83209999999997,
            "bin_end": 363.6601,
            "count": 1
           },
           {
            "bin_start": 363.6601,
            "bin_end": 414.4881,
            "count": 1
           },
           {
            "bin_start": 414.4881,
            "bin_end": 465.31609999999995,
            "count": 0
           },
           {
            "bin_start": 465.31609999999995,
            "bin_end": 516.1441,
            "count": 1
           }
          ]
         }
        },
        {
         "name": "X5",
         "dtype": "float64",
         "stats": {
          "unique_count": 5,
          "nan_count": 0,
          "min": "63.4652",
          "max": "558.1293",
          "histogram": [
           {
            "bin_start": 63.4652,
            "bin_end": 112.93161,
            "count": 1
           },
           {
            "bin_start": 112.93161,
            "bin_end": 162.39802,
            "count": 0
           },
           {
            "bin_start": 162.39802,
            "bin_end": 211.86443,
            "count": 0
           },
           {
            "bin_start": 211.86443,
            "bin_end": 261.33083999999997,
            "count": 2
           },
           {
            "bin_start": 261.33083999999997,
            "bin_end": 310.79724999999996,
            "count": 0
           },
           {
            "bin_start": 310.79724999999996,
            "bin_end": 360.26365999999996,
            "count": 0
           },
           {
            "bin_start": 360.26365999999996,
            "bin_end": 409.73006999999996,
            "count": 1
           },
           {
            "bin_start": 409.73006999999996,
            "bin_end": 459.19647999999995,
            "count": 0
           },
           {
            "bin_start": 459.19647999999995,
            "bin_end": 508.66288999999995,
            "count": 0
           },
           {
            "bin_start": 508.66288999999995,
            "bin_end": 558.1293,
            "count": 1
           }
          ]
         }
        },
        {
         "name": "X6",
         "dtype": "float64",
         "stats": {
          "unique_count": 5,
          "nan_count": 0,
          "min": "67.0954",
          "max": "546.452",
          "histogram": [
           {
            "bin_start": 67.0954,
            "bin_end": 115.03106,
            "count": 1
           },
           {
            "bin_start": 115.03106,
            "bin_end": 162.96672,
            "count": 0
           },
           {
            "bin_start": 162.96672,
            "bin_end": 210.90238,
            "count": 1
           },
           {
            "bin_start": 210.90238,
            "bin_end": 258.83804,
            "count": 0
           },
           {
            "bin_start": 258.83804,
            "bin_end": 306.77369999999996,
            "count": 0
           },
           {
            "bin_start": 306.77369999999996,
            "bin_end": 354.70936,
            "count": 0
           },
           {
            "bin_start": 354.70936,
            "bin_end": 402.64502,
            "count": 1
           },
           {
            "bin_start": 402.64502,
            "bin_end": 450.58068,
            "count": 1
           },
           {
            "bin_start": 450.58068,
            "bin_end": 498.51633999999996,
            "count": 0
           },
           {
            "bin_start": 498.51633999999996,
            "bin_end": 546.452,
            "count": 1
           }
          ]
         }
        },
        {
         "name": "X7",
         "dtype": "float64",
         "stats": {
          "unique_count": 5,
          "nan_count": 0,
          "min": "27.3256",
          "max": "562.1028",
          "histogram": [
           {
            "bin_start": 27.3256,
            "bin_end": 80.80332,
            "count": 1
           },
           {
            "bin_start": 80.80332,
            "bin_end": 134.28104,
            "count": 1
           },
           {
            "bin_start": 134.28104,
            "bin_end": 187.75876,
            "count": 0
           },
           {
            "bin_start": 187.75876,
            "bin_end": 241.23648,
            "count": 0
           },
           {
            "bin_start": 241.23648,
            "bin_end": 294.7142,
            "count": 0
           },
           {
            "bin_start": 294.7142,
            "bin_end": 348.19192,
            "count": 1
           },
           {
            "bin_start": 348.19192,
            "bin_end": 401.66964,
            "count": 1
           },
           {
            "bin_start": 401.66964,
            "bin_end": 455.14736,
            "count": 0
           },
           {
            "bin_start": 455.14736,
            "bin_end": 508.62507999999997,
            "count": 0
           },
           {
            "bin_start": 508.62507999999997,
            "bin_end": 562.1028,
            "count": 1
           }
          ]
         }
        },
        {
         "name": "X8",
         "dtype": "float64",
         "stats": {
          "unique_count": 5,
          "nan_count": 0,
          "min": "0.0",
          "max": "314.1051",
          "histogram": [
           {
            "bin_start": 0,
            "bin_end": 31.41051,
            "count": 2
           },
           {
            "bin_start": 31.41051,
            "bin_end": 62.82102,
            "count": 0
           },
           {
            "bin_start": 62.82102,
            "bin_end": 94.23152999999999,
            "count": 1
           },
           {
            "bin_start": 94.23152999999999,
            "bin_end": 125.64204,
            "count": 0
           },
           {
            "bin_start": 125.64204,
            "bin_end": 157.05255,
            "count": 0
           },
           {
            "bin_start": 157.05255,
            "bin_end": 188.46305999999998,
            "count": 0
           },
           {
            "bin_start": 188.46305999999998,
            "bin_end": 219.87357,
            "count": 1
           },
           {
            "bin_start": 219.87357,
            "bin_end": 251.28408,
            "count": 0
           },
           {
            "bin_start": 251.28408,
            "bin_end": 282.69459,
            "count": 0
           },
           {
            "bin_start": 282.69459,
            "bin_end": 314.1051,
            "count": 1
           }
          ]
         }
        },
        {
         "name": "X9",
         "dtype": "float64",
         "stats": {
          "unique_count": 5,
          "nan_count": 0,
          "min": "0.0",
          "max": "468.3799",
          "histogram": [
           {
            "bin_start": 0,
            "bin_end": 46.837990000000005,
            "count": 1
           },
           {
            "bin_start": 46.837990000000005,
            "bin_end": 93.67598000000001,
            "count": 0
           },
           {
            "bin_start": 93.67598000000001,
            "bin_end": 140.51397000000003,
            "count": 0
           },
           {
            "bin_start": 140.51397000000003,
            "bin_end": 187.35196000000002,
            "count": 1
           },
           {
            "bin_start": 187.35196000000002,
            "bin_end": 234.18995,
            "count": 0
           },
           {
            "bin_start": 234.18995,
            "bin_end": 281.02794000000006,
            "count": 1
           },
           {
            "bin_start": 281.02794000000006,
            "bin_end": 327.86593000000005,
            "count": 0
           },
           {
            "bin_start": 327.86593000000005,
            "bin_end": 374.70392000000004,
            "count": 0
           },
           {
            "bin_start": 374.70392000000004,
            "bin_end": 421.54191000000003,
            "count": 1
           },
           {
            "bin_start": 421.54191000000003,
            "bin_end": 468.3799,
            "count": 1
           }
          ]
         }
        },
        {
         "name": "X10",
         "dtype": "float64",
         "stats": {
          "unique_count": 5,
          "nan_count": 0,
          "min": "45.4747",
          "max": "516.7467",
          "histogram": [
           {
            "bin_start": 45.4747,
            "bin_end": 92.6019,
            "count": 1
           },
           {
            "bin_start": 92.6019,
            "bin_end": 139.72910000000002,
            "count": 0
           },
           {
            "bin_start": 139.72910000000002,
            "bin_end": 186.85629999999998,
            "count": 1
           },
           {
            "bin_start": 186.85629999999998,
            "bin_end": 233.9835,
            "count": 0
           },
           {
            "bin_start": 233.9835,
            "bin_end": 281.1107,
            "count": 0
           },
           {
            "bin_start": 281.1107,
            "bin_end": 328.23789999999997,
            "count": 0
           },
           {
            "bin_start": 328.23789999999997,
            "bin_end": 375.3651,
            "count": 1
           },
           {
            "bin_start": 375.3651,
            "bin_end": 422.4923,
            "count": 0
           },
           {
            "bin_start": 422.4923,
            "bin_end": 469.6195,
            "count": 0
           },
           {
            "bin_start": 469.6195,
            "bin_end": 516.7467,
            "count": 2
           }
          ]
         }
        },
        {
         "name": "X11",
         "dtype": "float64",
         "stats": {
          "unique_count": 5,
          "nan_count": 0,
          "min": "1.6865",
          "max": "365.7745",
          "histogram": [
           {
            "bin_start": 1.6865,
            "bin_end": 38.0953,
            "count": 2
           },
           {
            "bin_start": 38.0953,
            "bin_end": 74.5041,
            "count": 0
           },
           {
            "bin_start": 74.5041,
            "bin_end": 110.9129,
            "count": 0
           },
           {
            "bin_start": 110.9129,
            "bin_end": 147.3217,
            "count": 0
           },
           {
            "bin_start": 147.3217,
            "bin_end": 183.73049999999998,
            "count": 0
           },
           {
            "bin_start": 183.73049999999998,
            "bin_end": 220.1393,
            "count": 0
           },
           {
            "bin_start": 220.1393,
            "bin_end": 256.54810000000003,
            "count": 0
           },
           {
            "bin_start": 256.54810000000003,
            "bin_end": 292.9569,
            "count": 1
           },
           {
            "bin_start": 292.9569,
            "bin_end": 329.3657,
            "count": 0
           },
           {
            "bin_start": 329.3657,
            "bin_end": 365.7745,
            "count": 2
           }
          ]
         }
        },
        {
         "name": "X12",
         "dtype": "float64",
         "stats": {
          "unique_count": 5,
          "nan_count": 0,
          "min": "54.9749",
          "max": "565.6854",
          "histogram": [
           {
            "bin_start": 54.9749,
            "bin_end": 106.04595,
            "count": 1
           },
           {
            "bin_start": 106.04595,
            "bin_end": 157.117,
            "count": 0
           },
           {
            "bin_start": 157.117,
            "bin_end": 208.18804999999998,
            "count": 0
           },
           {
            "bin_start": 208.18804999999998,
            "bin_end": 259.2591,
            "count": 0
           },
           {
            "bin_start": 259.2591,
            "bin_end": 310.33015,
            "count": 1
           },
           {
            "bin_start": 310.33015,
            "bin_end": 361.40119999999996,
            "count": 1
           },
           {
            "bin_start": 361.40119999999996,
            "bin_end": 412.47225,
            "count": 0
           },
           {
            "bin_start": 412.47225,
            "bin_end": 463.5433,
            "count": 0
           },
           {
            "bin_start": 463.5433,
            "bin_end": 514.6143500000001,
            "count": 1
           },
           {
            "bin_start": 514.6143500000001,
            "bin_end": 565.6854,
            "count": 1
           }
          ]
         }
        },
        {
         "name": "X13",
         "dtype": "float64",
         "stats": {
          "unique_count": 5,
          "nan_count": 0,
          "min": "38.8434",
          "max": "518.826",
          "histogram": [
           {
            "bin_start": 38.8434,
            "bin_end": 86.84166,
            "count": 1
           },
           {
            "bin_start": 86.84166,
            "bin_end": 134.83992,
            "count": 0
           },
           {
            "bin_start": 134.83992,
            "bin_end": 182.83818,
            "count": 1
           },
           {
            "bin_start": 182.83818,
            "bin_end": 230.83644,
            "count": 0
           },
           {
            "bin_start": 230.83644,
            "bin_end": 278.8347,
            "count": 0
           },
           {
            "bin_start": 278.8347,
            "bin_end": 326.83295999999996,
            "count": 1
           },
           {
            "bin_start": 326.83295999999996,
            "bin_end": 374.83122000000003,
            "count": 0
           },
           {
            "bin_start": 374.83122000000003,
            "bin_end": 422.82948,
            "count": 0
           },
           {
            "bin_start": 422.82948,
            "bin_end": 470.82774000000006,
            "count": 1
           },
           {
            "bin_start": 470.82774000000006,
            "bin_end": 518.826,
            "count": 1
           }
          ]
         }
        },
        {
         "name": "X14",
         "dtype": "float64",
         "stats": {
          "unique_count": 5,
          "nan_count": 0,
          "min": "90.5536",
          "max": "494.6027",
          "histogram": [
           {
            "bin_start": 90.5536,
            "bin_end": 130.95851,
            "count": 1
           },
           {
            "bin_start": 130.95851,
            "bin_end": 171.36342000000002,
            "count": 1
           },
           {
            "bin_start": 171.36342000000002,
            "bin_end": 211.76833,
            "count": 1
           },
           {
            "bin_start": 211.76833,
            "bin_end": 252.17324000000002,
            "count": 0
           },
           {
            "bin_start": 252.17324000000002,
            "bin_end": 292.57815,
            "count": 0
           },
           {
            "bin_start": 292.57815,
            "bin_end": 332.98306,
            "count": 0
           },
           {
            "bin_start": 332.98306,
            "bin_end": 373.38797000000005,
            "count": 0
           },
           {
            "bin_start": 373.38797000000005,
            "bin_end": 413.79288,
            "count": 1
           },
           {
            "bin_start": 413.79288,
            "bin_end": 454.19779,
            "count": 0
           },
           {
            "bin_start": 454.19779,
            "bin_end": 494.6027,
            "count": 1
           }
          ]
         }
        },
        {
         "name": "X15",
         "dtype": "float64",
         "stats": {
          "unique_count": 5,
          "nan_count": 0,
          "min": "3.4209",
          "max": "565.6854",
          "histogram": [
           {
            "bin_start": 3.4209,
            "bin_end": 59.64735,
            "count": 1
           },
           {
            "bin_start": 59.64735,
            "bin_end": 115.8738,
            "count": 0
           },
           {
            "bin_start": 115.8738,
            "bin_end": 172.10025,
            "count": 1
           },
           {
            "bin_start": 172.10025,
            "bin_end": 228.3267,
            "count": 0
           },
           {
            "bin_start": 228.3267,
            "bin_end": 284.55315,
            "count": 0
           },
           {
            "bin_start": 284.55315,
            "bin_end": 340.7796,
            "count": 0
           },
           {
            "bin_start": 340.7796,
            "bin_end": 397.00605,
            "count": 0
           },
           {
            "bin_start": 397.00605,
            "bin_end": 453.2325,
            "count": 0
           },
           {
            "bin_start": 453.2325,
            "bin_end": 509.45895,
            "count": 0
           },
           {
            "bin_start": 509.45895,
            "bin_end": 565.6854,
            "count": 3
           }
          ]
         }
        },
        {
         "name": "Y0",
         "dtype": "float64",
         "stats": {
          "unique_count": 5,
          "nan_count": 0,
          "min": "94.6465",
          "max": "510.7784",
          "histogram": [
           {
            "bin_start": 94.6465,
            "bin_end": 136.25969,
            "count": 2
           },
           {
            "bin_start": 136.25969,
            "bin_end": 177.87288,
            "count": 0
           },
           {
            "bin_start": 177.87288,
            "bin_end": 219.48606999999998,
            "count": 1
           },
           {
            "bin_start": 219.48606999999998,
            "bin_end": 261.09925999999996,
            "count": 0
           },
           {
            "bin_start": 261.09925999999996,
            "bin_end": 302.71245,
            "count": 0
           },
           {
            "bin_start": 302.71245,
            "bin_end": 344.32563999999996,
            "count": 0
           },
           {
            "bin_start": 344.32563999999996,
            "bin_end": 385.93883,
            "count": 0
           },
           {
            "bin_start": 385.93883,
            "bin_end": 427.55201999999997,
            "count": 0
           },
           {
            "bin_start": 427.55201999999997,
            "bin_end": 469.16520999999995,
            "count": 1
           },
           {
            "bin_start": 469.16520999999995,
            "bin_end": 510.7784,
            "count": 1
           }
          ]
         }
        },
        {
         "name": "Y1",
         "dtype": "float64",
         "stats": {
          "unique_count": 5,
          "nan_count": 0,
          "min": "221.2811",
          "max": "564.9436",
          "histogram": [
           {
            "bin_start": 221.2811,
            "bin_end": 255.64735000000002,
            "count": 1
           },
           {
            "bin_start": 255.64735000000002,
            "bin_end": 290.0136,
            "count": 1
           },
           {
            "bin_start": 290.0136,
            "bin_end": 324.37985,
            "count": 0
           },
           {
            "bin_start": 324.37985,
            "bin_end": 358.74609999999996,
            "count": 0
           },
           {
            "bin_start": 358.74609999999996,
            "bin_end": 393.11235,
            "count": 1
           },
           {
            "bin_start": 393.11235,
            "bin_end": 427.4786,
            "count": 0
           },
           {
            "bin_start": 427.4786,
            "bin_end": 461.84484999999995,
            "count": 0
           },
           {
            "bin_start": 461.84484999999995,
            "bin_end": 496.2111,
            "count": 0
           },
           {
            "bin_start": 496.2111,
            "bin_end": 530.5773499999999,
            "count": 0
           },
           {
            "bin_start": 530.5773499999999,
            "bin_end": 564.9436,
            "count": 2
           }
          ]
         }
        },
        {
         "name": "Y2",
         "dtype": "float64",
         "stats": {
          "unique_count": 5,
          "nan_count": 0,
          "min": "0.0",
          "max": "434.6103",
          "histogram": [
           {
            "bin_start": 0,
            "bin_end": 43.46103,
            "count": 1
           },
           {
            "bin_start": 43.46103,
            "bin_end": 86.92206,
            "count": 0
           },
           {
            "bin_start": 86.92206,
            "bin_end": 130.38309,
            "count": 0
           },
           {
            "bin_start": 130.38309,
            "bin_end": 173.84412,
            "count": 0
           },
           {
            "bin_start": 173.84412,
            "bin_end": 217.30515,
            "count": 1
           },
           {
            "bin_start": 217.30515,
            "bin_end": 260.76618,
            "count": 0
           },
           {
            "bin_start": 260.76618,
            "bin_end": 304.22721,
            "count": 1
           },
           {
            "bin_start": 304.22721,
            "bin_end": 347.68824,
            "count": 1
           },
           {
            "bin_start": 347.68824,
            "bin_end": 391.14927,
            "count": 0
           },
           {
            "bin_start": 391.14927,
            "bin_end": 434.6103,
            "count": 1
           }
          ]
         }
        },
        {
         "name": "Y3",
         "dtype": "float64",
         "stats": {
          "unique_count": 5,
          "nan_count": 0,
          "min": "94.5002",
          "max": "565.6854",
          "histogram": [
           {
            "bin_start": 94.5002,
            "bin_end": 141.61872,
            "count": 2
           },
           {
            "bin_start": 141.61872,
            "bin_end": 188.73723999999999,
            "count": 0
           },
           {
            "bin_start": 188.73723999999999,
            "bin_end": 235.85576,
            "count": 0
           },
           {
            "bin_start": 235.85576,
            "bin_end": 282.97428,
            "count": 0
           },
           {
            "bin_start": 282.97428,
            "bin_end": 330.0928,
            "count": 0
           },
           {
            "bin_start": 330.0928,
            "bin_end": 377.21132,
            "count": 0
           },
           {
            "bin_start": 377.21132,
            "bin_end": 424.32984,
            "count": 1
           },
           {
            "bin_start": 424.32984,
            "bin_end": 471.44836,
            "count": 1
           },
           {
            "bin_start": 471.44836,
            "bin_end": 518.56688,
            "count": 0
           },
           {
            "bin_start": 518.56688,
            "bin_end": 565.6854,
            "count": 1
           }
          ]
         }
        },
        {
         "name": "Y4",
         "dtype": "float64",
         "stats": {
          "unique_count": 5,
          "nan_count": 0,
          "min": "0.0",
          "max": "424.9487",
          "histogram": [
           {
            "bin_start": 0,
            "bin_end": 42.49487,
            "count": 1
           },
           {
            "bin_start": 42.49487,
            "bin_end": 84.98974,
            "count": 0
           },
           {
            "bin_start": 84.98974,
            "bin_end": 127.48461,
            "count": 1
           },
           {
            "bin_start": 127.48461,
            "bin_end": 169.97948,
            "count": 0
           },
           {
            "bin_start": 169.97948,
            "bin_end": 212.47435,
            "count": 1
           },
           {
            "bin_start": 212.47435,
            "bin_end": 254.96922,
            "count": 0
           },
           {
            "bin_start": 254.96922,
            "bin_end": 297.46409,
            "count": 0
           },
           {
            "bin_start": 297.46409,
            "bin_end": 339.95896,
            "count": 0
           },
           {
            "bin_start": 339.95896,
            "bin_end": 382.45383,
            "count": 0
           },
           {
            "bin_start": 382.45383,
            "bin_end": 424.9487,
            "count": 2
           }
          ]
         }
        },
        {
         "name": "Y5",
         "dtype": "float64",
         "stats": {
          "unique_count": 5,
          "nan_count": 0,
          "min": "90.2488",
          "max": "429.66",
          "histogram": [
           {
            "bin_start": 90.2488,
            "bin_end": 124.18992,
            "count": 1
           },
           {
            "bin_start": 124.18992,
            "bin_end": 158.13103999999998,
            "count": 1
           },
           {
            "bin_start": 158.13103999999998,
            "bin_end": 192.07216,
            "count": 0
           },
           {
            "bin_start": 192.07216,
            "bin_end": 226.01328,
            "count": 1
           },
           {
            "bin_start": 226.01328,
            "bin_end": 259.9544,
            "count": 0
           },
           {
            "bin_start": 259.9544,
            "bin_end": 293.89552,
            "count": 0
           },
           {
            "bin_start": 293.89552,
            "bin_end": 327.83664,
            "count": 0
           },
           {
            "bin_start": 327.83664,
            "bin_end": 361.77776,
            "count": 0
           },
           {
            "bin_start": 361.77776,
            "bin_end": 395.71888,
            "count": 0
           },
           {
            "bin_start": 395.71888,
            "bin_end": 429.66,
            "count": 2
           }
          ]
         }
        },
        {
         "name": "Y6",
         "dtype": "float64",
         "stats": {
          "unique_count": 5,
          "nan_count": 0,
          "min": "107.3907",
          "max": "516.1118",
          "histogram": [
           {
            "bin_start": 107.3907,
            "bin_end": 148.26281,
            "count": 1
           },
           {
            "bin_start": 148.26281,
            "bin_end": 189.13492000000002,
            "count": 1
           },
           {
            "bin_start": 189.13492000000002,
            "bin_end": 230.00703000000001,
            "count": 0
           },
           {
            "bin_start": 230.00703000000001,
            "bin_end": 270.87914,
            "count": 1
           },
           {
            "bin_start": 270.87914,
            "bin_end": 311.75125,
            "count": 0
           },
           {
            "bin_start": 311.75125,
            "bin_end": 352.62336000000005,
            "count": 1
           },
           {
            "bin_start": 352.62336000000005,
            "bin_end": 393.49547,
            "count": 0
           },
           {
            "bin_start": 393.49547,
            "bin_end": 434.36758000000003,
            "count": 0
           },
           {
            "bin_start": 434.36758000000003,
            "bin_end": 475.23969000000005,
            "count": 0
           },
           {
            "bin_start": 475.23969000000005,
            "bin_end": 516.1118,
            "count": 1
           }
          ]
         }
        },
        {
         "name": "Y7",
         "dtype": "float64",
         "stats": {
          "unique_count": 5,
          "nan_count": 0,
          "min": "217.2239",
          "max": "536.6741",
          "histogram": [
           {
            "bin_start": 217.2239,
            "bin_end": 249.16891999999999,
            "count": 2
           },
           {
            "bin_start": 249.16891999999999,
            "bin_end": 281.11393999999996,
            "count": 1
           },
           {
            "bin_start": 281.11393999999996,
            "bin_end": 313.05895999999996,
            "count": 0
           },
           {
            "bin_start": 313.05895999999996,
            "bin_end": 345.00397999999996,
            "count": 0
           },
           {
            "bin_start": 345.00397999999996,
            "bin_end": 376.94899999999996,
            "count": 0
           },
           {
            "bin_start": 376.94899999999996,
            "bin_end": 408.89401999999995,
            "count": 0
           },
           {
            "bin_start": 408.89401999999995,
            "bin_end": 440.83903999999995,
            "count": 0
           },
           {
            "bin_start": 440.83903999999995,
            "bin_end": 472.78405999999995,
            "count": 0
           },
           {
            "bin_start": 472.78405999999995,
            "bin_end": 504.72907999999995,
            "count": 1
           },
           {
            "bin_start": 504.72907999999995,
            "bin_end": 536.6741,
            "count": 1
           }
          ]
         }
        },
        {
         "name": "Y8",
         "dtype": "float64",
         "stats": {
          "unique_count": 5,
          "nan_count": 0,
          "min": "143.3888",
          "max": "562.7245",
          "histogram": [
           {
            "bin_start": 143.3888,
            "bin_end": 185.32237,
            "count": 1
           },
           {
            "bin_start": 185.32237,
            "bin_end": 227.25594,
            "count": 0
           },
           {
            "bin_start": 227.25594,
            "bin_end": 269.18951000000004,
            "count": 0
           },
           {
            "bin_start": 269.18951000000004,
            "bin_end": 311.12308,
            "count": 0
           },
           {
            "bin_start": 311.12308,
            "bin_end": 353.05665,
            "count": 0
           },
           {
            "bin_start": 353.05665,
            "bin_end": 394.99022,
            "count": 0
           },
           {
            "bin_start": 394.99022,
            "bin_end": 436.92379,
            "count": 2
           },
           {
            "bin_start": 436.92379,
            "bin_end": 478.85736,
            "count": 0
           },
           {
            "bin_start": 478.85736,
            "bin_end": 520.7909300000001,
            "count": 1
           },
           {
            "bin_start": 520.7909300000001,
            "bin_end": 562.7245,
            "count": 1
           }
          ]
         }
        },
        {
         "name": "Y9",
         "dtype": "float64",
         "stats": {
          "unique_count": 5,
          "nan_count": 0,
          "min": "35.5588",
          "max": "410.1439",
          "histogram": [
           {
            "bin_start": 35.5588,
            "bin_end": 73.01731,
            "count": 2
           },
           {
            "bin_start": 73.01731,
            "bin_end": 110.47582,
            "count": 1
           },
           {
            "bin_start": 110.47582,
            "bin_end": 147.93433,
            "count": 0
           },
           {
            "bin_start": 147.93433,
            "bin_end": 185.39283999999998,
            "count": 0
           },
           {
            "bin_start": 185.39283999999998,
            "bin_end": 222.85134999999997,
            "count": 0
           },
           {
            "bin_start": 222.85134999999997,
            "bin_end": 260.30986,
            "count": 0
           },
           {
            "bin_start": 260.30986,
            "bin_end": 297.76837,
            "count": 0
           },
           {
            "bin_start": 297.76837,
            "bin_end": 335.22688,
            "count": 0
           },
           {
            "bin_start": 335.22688,
            "bin_end": 372.68539,
            "count": 1
           },
           {
            "bin_start": 372.68539,
            "bin_end": 410.1439,
            "count": 1
           }
          ]
         }
        },
        {
         "name": "Y10",
         "dtype": "float64",
         "stats": {
          "unique_count": 5,
          "nan_count": 0,
          "min": "0.0",
          "max": "156.3712",
          "histogram": [
           {
            "bin_start": 0,
            "bin_end": 15.63712,
            "count": 1
           },
           {
            "bin_start": 15.63712,
            "bin_end": 31.27424,
            "count": 0
           },
           {
            "bin_start": 31.27424,
            "bin_end": 46.91136,
            "count": 0
           },
           {
            "bin_start": 46.91136,
            "bin_end": 62.54848,
            "count": 0
           },
           {
            "bin_start": 62.54848,
            "bin_end": 78.1856,
            "count": 0
           },
           {
            "bin_start": 78.1856,
            "bin_end": 93.82272,
            "count": 0
           },
           {
            "bin_start": 93.82272,
            "bin_end": 109.45984,
            "count": 0
           },
           {
            "bin_start": 109.45984,
            "bin_end": 125.09696,
            "count": 1
           },
           {
            "bin_start": 125.09696,
            "bin_end": 140.73408,
            "count": 0
           },
           {
            "bin_start": 140.73408,
            "bin_end": 156.3712,
            "count": 3
           }
          ]
         }
        },
        {
         "name": "Y11",
         "dtype": "float64",
         "stats": {
          "unique_count": 5,
          "nan_count": 0,
          "min": "18.7857",
          "max": "532.99",
          "histogram": [
           {
            "bin_start": 18.7857,
            "bin_end": 70.20613,
            "count": 2
           },
           {
            "bin_start": 70.20613,
            "bin_end": 121.62655999999998,
            "count": 0
           },
           {
            "bin_start": 121.62655999999998,
            "bin_end": 173.04698999999997,
            "count": 0
           },
           {
            "bin_start": 173.04698999999997,
            "bin_end": 224.46741999999998,
            "count": 0
           },
           {
            "bin_start": 224.46741999999998,
            "bin_end": 275.88785,
            "count": 1
           },
           {
            "bin_start": 275.88785,
            "bin_end": 327.30827999999997,
            "count": 0
           },
           {
            "bin_start": 327.30827999999997,
            "bin_end": 378.72871,
            "count": 1
           },
           {
            "bin_start": 378.72871,
            "bin_end": 430.14914,
            "count": 0
           },
           {
            "bin_start": 430.14914,
            "bin_end": 481.56957,
            "count": 0
           },
           {
            "bin_start": 481.56957,
            "bin_end": 532.99,
            "count": 1
           }
          ]
         }
        },
        {
         "name": "Y12",
         "dtype": "float64",
         "stats": {
          "unique_count": 5,
          "nan_count": 0,
          "min": "178.493",
          "max": "530.8384",
          "histogram": [
           {
            "bin_start": 178.493,
            "bin_end": 213.72753999999998,
            "count": 1
           },
           {
            "bin_start": 213.72753999999998,
            "bin_end": 248.96208,
            "count": 0
           },
           {
            "bin_start": 248.96208,
            "bin_end": 284.19662,
            "count": 1
           },
           {
            "bin_start": 284.19662,
            "bin_end": 319.43116,
            "count": 1
           },
           {
            "bin_start": 319.43116,
            "bin_end": 354.66569999999996,
            "count": 0
           },
           {
            "bin_start": 354.66569999999996,
            "bin_end": 389.90023999999994,
            "count": 0
           },
           {
            "bin_start": 389.90023999999994,
            "bin_end": 425.13478,
            "count": 0
           },
           {
            "bin_start": 425.13478,
            "bin_end": 460.36931999999996,
            "count": 0
           },
           {
            "bin_start": 460.36931999999996,
            "bin_end": 495.60385999999994,
            "count": 0
           },
           {
            "bin_start": 495.60385999999994,
            "bin_end": 530.8384,
            "count": 2
           }
          ]
         }
        },
        {
         "name": "Y13",
         "dtype": "float64",
         "stats": {
          "unique_count": 5,
          "nan_count": 0,
          "min": "3.2835",
          "max": "559.2803",
          "histogram": [
           {
            "bin_start": 3.2835,
            "bin_end": 58.883179999999996,
            "count": 2
           },
           {
            "bin_start": 58.883179999999996,
            "bin_end": 114.48286,
            "count": 0
           },
           {
            "bin_start": 114.48286,
            "bin_end": 170.08254,
            "count": 0
           },
           {
            "bin_start": 170.08254,
            "bin_end": 225.68222,
            "count": 0
           },
           {
            "bin_start": 225.68222,
            "bin_end": 281.2819,
            "count": 0
           },
           {
            "bin_start": 281.2819,
            "bin_end": 336.88158,
            "count": 1
           },
           {
            "bin_start": 336.88158,
            "bin_end": 392.48126,
            "count": 0
           },
           {
            "bin_start": 392.48126,
            "bin_end": 448.08094,
            "count": 0
           },
           {
            "bin_start": 448.08094,
            "bin_end": 503.68062,
            "count": 1
           },
           {
            "bin_start": 503.68062,
            "bin_end": 559.2803,
            "count": 1
           }
          ]
         }
        },
        {
         "name": "Y14",
         "dtype": "float64",
         "stats": {
          "unique_count": 5,
          "nan_count": 0,
          "min": "42.6895",
          "max": "513.9628",
          "histogram": [
           {
            "bin_start": 42.6895,
            "bin_end": 89.81683000000001,
            "count": 1
           },
           {
            "bin_start": 89.81683000000001,
            "bin_end": 136.94416,
            "count": 0
           },
           {
            "bin_start": 136.94416,
            "bin_end": 184.07149,
            "count": 0
           },
           {
            "bin_start": 184.07149,
            "bin_end": 231.19882,
            "count": 1
           },
           {
            "bin_start": 231.19882,
            "bin_end": 278.32615,
            "count": 1
           },
           {
            "bin_start": 278.32615,
            "bin_end": 325.45348,
            "count": 0
           },
           {
            "bin_start": 325.45348,
            "bin_end": 372.58081,
            "count": 0
           },
           {
            "bin_start": 372.58081,
            "bin_end": 419.70814,
            "count": 0
           },
           {
            "bin_start": 419.70814,
            "bin_end": 466.83547000000004,
            "count": 0
           },
           {
            "bin_start": 466.83547000000004,
            "bin_end": 513.9628,
            "count": 2
           }
          ]
         }
        },
        {
         "name": "Y15",
         "dtype": "float64",
         "stats": {
          "unique_count": 5,
          "nan_count": 0,
          "min": "19.6762",
          "max": "531.3943",
          "histogram": [
           {
            "bin_start": 19.6762,
            "bin_end": 70.84801000000002,
            "count": 1
           },
           {
            "bin_start": 70.84801000000002,
            "bin_end": 122.01982000000001,
            "count": 1
           },
           {
            "bin_start": 122.01982000000001,
            "bin_end": 173.19163000000003,
            "count": 0
           },
           {
            "bin_start": 173.19163000000003,
            "bin_end": 224.36344000000003,
            "count": 0
           },
           {
            "bin_start": 224.36344000000003,
            "bin_end": 275.53525,
            "count": 0
           },
           {
            "bin_start": 275.53525,
            "bin_end": 326.70706000000007,
            "count": 0
           },
           {
            "bin_start": 326.70706000000007,
            "bin_end": 377.87887000000006,
            "count": 2
           },
           {
            "bin_start": 377.87887000000006,
            "bin_end": 429.05068000000006,
            "count": 0
           },
           {
            "bin_start": 429.05068000000006,
            "bin_end": 480.22249000000005,
            "count": 0
           },
           {
            "bin_start": 480.22249000000005,
            "bin_end": 531.3943,
            "count": 1
           }
          ]
         }
        },
        {
         "name": "_deepnote_index_column",
         "dtype": "int64"
        }
       ],
       "rows": [
        {
         "X0": 316.5855,
         "X1": 223.9277,
         "X2": 182.3434,
         "X3": 551.5497,
         "X4": 7.8641,
         "X5": 243.1339,
         "X6": 361.0877,
         "X7": 115.9284,
         "X8": 78.6087,
         "X9": 468.3799,
         "X10": 362.6036,
         "X11": 1.6865,
         "X12": 508.6837,
         "X13": 446.644,
         "X14": 385.7292,
         "X15": 522.1661,
         "Y0": 180.9224,
         "Y1": 366.9186,
         "Y2": 200.9217,
         "Y3": 436.4863,
         "Y4": 189.6325,
         "Y5": 218.9722,
         "Y6": 247.9875,
         "Y7": 269.9356,
         "Y8": 495.7867,
         "Y9": 105.5203,
         "Y10": 141.8014,
         "Y11": 18.7857,
         "Y12": 496.6488,
         "Y13": 3.2835,
         "Y14": 513.9628,
         "Y15": 105.5529,
         "_deepnote_index_column": 0
        },
        {
         "X0": 530.3136,
         "X1": 68.7031,
         "X2": 31.5983,
         "X3": 175.2582,
         "X4": 516.1441,
         "X5": 63.4652,
         "X6": 67.0954,
         "X7": 369.4486,
         "X8": 14.093,
         "X9": 375.4462,
         "X10": 45.4747,
         "X11": 361.9118,
         "X12": 297.8632,
         "X13": 293.7442,
         "X14": 90.5536,
         "X15": 3.4209,
         "Y0": 510.7784,
         "Y1": 564.9436,
         "Y2": 324.5823,
         "Y3": 94.5002,
         "Y4": 424.137,
         "Y5": 400.1397,
         "Y6": 107.3907,
         "Y7": 248.7212,
         "Y8": 415.6457,
         "Y9": 410.1439,
         "Y10": 156.3712,
         "Y11": 532.99,
         "Y12": 280.7516,
         "Y13": 559.2803,
         "Y14": 208.7441,
         "Y15": 531.3943,
         "_deepnote_index_column": 1
        },
        {
         "X0": 27.3967,
         "X1": 399.0488,
         "X2": 565.6854,
         "X3": 394.0466,
         "X4": 120.2245,
         "X5": 558.1293,
         "X6": 546.452,
         "X7": 27.3256,
         "X8": 314.1051,
         "X9": 235.9476,
         "X10": 514.9275,
         "X11": 26.3633,
         "X12": 332.2882,
         "X13": 518.826,
         "X14": 494.6027,
         "X15": 514.5393,
         "Y0": 102.5081,
         "Y1": 221.2811,
         "Y2": 303.2901,
         "Y3": 378.8741,
         "Y4": 85.5374,
         "Y5": 90.2488,
         "Y6": 516.1118,
         "Y7": 498.6277,
         "Y8": 435.2397,
         "Y9": 35.5588,
         "Y10": 148.9206,
         "Y11": 48.0585,
         "Y12": 317.9832,
         "Y13": 26.8732,
         "Y14": 483.0186,
         "Y15": 359.0875,
         "_deepnote_index_column": 2
        },
        {
         "X0": 346.1526,
         "X1": 59.6375,
         "X2": 226.2742,
         "X3": 280.9095,
         "X4": 402.2161,
         "X5": 218.7181,
         "X6": 207.0407,
         "X7": 339.5676,
         "X8": 0,
         "X9": 0,
         "X10": 175.5163,
         "X11": 365.7745,
         "X12": 565.6854,
         "X13": 179.4148,
         "X14": 155.1914,
         "X15": 565.6854,
         "Y0": 441.9194,
         "Y1": 560.6924,
         "Y2": 0,
         "Y3": 565.6854,
         "Y4": 424.9487,
         "Y5": 429.66,
         "Y6": 176.7005,
         "Y7": 217.2239,
         "Y8": 562.7245,
         "Y9": 347.2173,
         "Y10": 0,
         "Y11": 272.3906,
         "Y12": 178.493,
         "Y13": 317.5044,
         "Y14": 235.5983,
         "Y15": 19.6762,
         "_deepnote_index_column": 3
        },
        {
         "X0": 317.9144,
         "X1": 551.8542,
         "X2": 335.4745,
         "X3": 40.024,
         "X4": 316.6285,
         "X5": 365.6434,
         "X6": 416.306,
         "X7": 562.1028,
         "X8": 211.3577,
         "X9": 143.1255,
         "X10": 516.7467,
         "X11": 288.3794,
         "X12": 54.9749,
         "X13": 38.8434,
         "X14": 193.8276,
         "X15": 138.5265,
         "Y0": 94.6465,
         "Y1": 256.6874,
         "Y2": 434.6103,
         "Y3": 114.7701,
         "Y4": 0,
         "Y5": 143.9788,
         "Y6": 337.7052,
         "Y7": 536.6741,
         "Y8": 143.3888,
         "Y9": 48.6452,
         "Y10": 109.5254,
         "Y11": 377.3113,
         "Y12": 530.8384,
         "Y13": 463.1129,
         "Y14": 42.6895,
         "Y15": 367.9045,
         "_deepnote_index_column": 4
        }
       ]
      },
      "text/plain": "         X0        X1        X2        X3        X4        X5        X6  \\\n0  316.5855  223.9277  182.3434  551.5497    7.8641  243.1339  361.0877   \n1  530.3136   68.7031   31.5983  175.2582  516.1441   63.4652   67.0954   \n2   27.3967  399.0488  565.6854  394.0466  120.2245  558.1293  546.4520   \n3  346.1526   59.6375  226.2742  280.9095  402.2161  218.7181  207.0407   \n4  317.9144  551.8542  335.4745   40.0240  316.6285  365.6434  416.3060   \n\n         X7        X8        X9  ...        Y6        Y7        Y8        Y9  \\\n0  115.9284   78.6087  468.3799  ...  247.9875  269.9356  495.7867  105.5203   \n1  369.4486   14.0930  375.4462  ...  107.3907  248.7212  415.6457  410.1439   \n2   27.3256  314.1051  235.9476  ...  516.1118  498.6277  435.2397   35.5588   \n3  339.5676    0.0000    0.0000  ...  176.7005  217.2239  562.7245  347.2173   \n4  562.1028  211.3577  143.1255  ...  337.7052  536.6741  143.3888   48.6452   \n\n        Y10       Y11       Y12       Y13       Y14       Y15  \n0  141.8014   18.7857  496.6488    3.2835  513.9628  105.5529  \n1  156.3712  532.9900  280.7516  559.2803  208.7441  531.3943  \n2  148.9206   48.0585  317.9832   26.8732  483.0186  359.0875  \n3    0.0000  272.3906  178.4930  317.5044  235.5983   19.6762  \n4  109.5254  377.3113  530.8384  463.1129   42.6895  367.9045  \n\n[5 rows x 32 columns]",
      "text/html": "<div>\n<style scoped>\n    .dataframe tbody tr th:only-of-type {\n        vertical-align: middle;\n    }\n\n    .dataframe tbody tr th {\n        vertical-align: top;\n    }\n\n    .dataframe thead th {\n        text-align: right;\n    }\n</style>\n<table border=\"1\" class=\"dataframe\">\n  <thead>\n    <tr style=\"text-align: right;\">\n      <th></th>\n      <th>X0</th>\n      <th>X1</th>\n      <th>X2</th>\n      <th>X3</th>\n      <th>X4</th>\n      <th>X5</th>\n      <th>X6</th>\n      <th>X7</th>\n      <th>X8</th>\n      <th>X9</th>\n      <th>...</th>\n      <th>Y6</th>\n      <th>Y7</th>\n      <th>Y8</th>\n      <th>Y9</th>\n      <th>Y10</th>\n      <th>Y11</th>\n      <th>Y12</th>\n      <th>Y13</th>\n      <th>Y14</th>\n      <th>Y15</th>\n    </tr>\n  </thead>\n  <tbody>\n    <tr>\n      <th>0</th>\n      <td>316.5855</td>\n      <td>223.9277</td>\n      <td>182.3434</td>\n      <td>551.5497</td>\n      <td>7.8641</td>\n      <td>243.1339</td>\n      <td>361.0877</td>\n      <td>115.9284</td>\n      <td>78.6087</td>\n      <td>468.3799</td>\n      <td>...</td>\n      <td>247.9875</td>\n      <td>269.9356</td>\n      <td>495.7867</td>\n      <td>105.5203</td>\n      <td>141.8014</td>\n      <td>18.7857</td>\n      <td>496.6488</td>\n      <td>3.2835</td>\n      <td>513.9628</td>\n      <td>105.5529</td>\n    </tr>\n    <tr>\n      <th>1</th>\n      <td>530.3136</td>\n      <td>68.7031</td>\n      <td>31.5983</td>\n      <td>175.2582</td>\n      <td>516.1441</td>\n      <td>63.4652</td>\n      <td>67.0954</td>\n      <td>369.4486</td>\n      <td>14.0930</td>\n      <td>375.4462</td>\n      <td>...</td>\n      <td>107.3907</td>\n      <td>248.7212</td>\n      <td>415.6457</td>\n      <td>410.1439</td>\n      <td>156.3712</td>\n      <td>532.9900</td>\n      <td>280.7516</td>\n      <td>559.2803</td>\n      <td>208.7441</td>\n      <td>531.3943</td>\n    </tr>\n    <tr>\n      <th>2</th>\n      <td>27.3967</td>\n      <td>399.0488</td>\n      <td>565.6854</td>\n      <td>394.0466</td>\n      <td>120.2245</td>\n      <td>558.1293</td>\n      <td>546.4520</td>\n      <td>27.3256</td>\n      <td>314.1051</td>\n      <td>235.9476</td>\n      <td>...</td>\n      <td>516.1118</td>\n      <td>498.6277</td>\n      <td>435.2397</td>\n      <td>35.5588</td>\n      <td>148.9206</td>\n      <td>48.0585</td>\n      <td>317.9832</td>\n      <td>26.8732</td>\n      <td>483.0186</td>\n      <td>359.0875</td>\n    </tr>\n    <tr>\n      <th>3</th>\n      <td>346.1526</td>\n      <td>59.6375</td>\n      <td>226.2742</td>\n      <td>280.9095</td>\n      <td>402.2161</td>\n      <td>218.7181</td>\n      <td>207.0407</td>\n      <td>339.5676</td>\n      <td>0.0000</td>\n      <td>0.0000</td>\n      <td>...</td>\n      <td>176.7005</td>\n      <td>217.2239</td>\n      <td>562.7245</td>\n      <td>347.2173</td>\n      <td>0.0000</td>\n      <td>272.3906</td>\n      <td>178.4930</td>\n      <td>317.5044</td>\n      <td>235.5983</td>\n      <td>19.6762</td>\n    </tr>\n    <tr>\n      <th>4</th>\n      <td>317.9144</td>\n      <td>551.8542</td>\n      <td>335.4745</td>\n      <td>40.0240</td>\n      <td>316.6285</td>\n      <td>365.6434</td>\n      <td>416.3060</td>\n      <td>562.1028</td>\n      <td>211.3577</td>\n      <td>143.1255</td>\n      <td>...</td>\n      <td>337.7052</td>\n      <td>536.6741</td>\n      <td>143.3888</td>\n      <td>48.6452</td>\n      <td>109.5254</td>\n      <td>377.3113</td>\n      <td>530.8384</td>\n      <td>463.1129</td>\n      <td>42.6895</td>\n      <td>367.9045</td>\n    </tr>\n  </tbody>\n</table>\n<p>5 rows × 32 columns</p>\n</div>"
     },
     "metadata": {}
    }
   ]
  },
  {
   "cell_type": "code",
   "metadata": {
    "cell_id": "00003-d1c9caa5-89c8-49cc-9735-9e455d47525f",
    "deepnote_to_be_reexecuted": false,
    "source_hash": "a801b217",
    "execution_start": 1649784594520,
    "execution_millis": 1,
    "deepnote_cell_type": "code",
    "deepnote_cell_height": 117
   },
   "source": "data_point1 = np.array([adelaide2.iloc[48393]])\ndata_point2 = adelaide2.iloc[3458]\ndata_point3 = adelaide2.iloc[13864]",
   "execution_count": null,
   "outputs": []
  },
  {
   "cell_type": "code",
   "metadata": {
    "cell_id": "00004-634d6d9d-299e-4503-9f34-fd80ee9bd18b",
    "deepnote_to_be_reexecuted": false,
    "source_hash": "e3b42ce7",
    "execution_start": 1649784595694,
    "execution_millis": 5,
    "deepnote_cell_type": "code",
    "deepnote_cell_height": 262,
    "deepnote_output_heights": [
     21
    ]
   },
   "source": "# Features matrix\nX = adelaide.iloc[:, 0:32]\nX = X.values\n\n# label vector\ny = adelaide[\"PALL\"]\ny = y.values\n\nX.shape",
   "execution_count": null,
   "outputs": [
    {
     "output_type": "execute_result",
     "execution_count": 5,
     "data": {
      "text/plain": "(71999, 32)"
     },
     "metadata": {}
    }
   ]
  },
  {
   "cell_type": "markdown",
   "source": "# Applichiamo l'algoritmo con scikit learn",
   "metadata": {
    "cell_id": "00005-fd366e2d-d4e9-48e3-96e5-394c3c8ea8f2",
    "deepnote_cell_type": "markdown",
    "deepnote_cell_height": 82
   }
  },
  {
   "cell_type": "code",
   "metadata": {
    "cell_id": "00006-f3ad9aa2-67b2-45a8-b07a-61b436246cce",
    "deepnote_to_be_reexecuted": false,
    "source_hash": "e309ac0c",
    "execution_start": 1649784602273,
    "execution_millis": 939,
    "deepnote_cell_type": "code",
    "deepnote_cell_height": 99
   },
   "source": "from sklearn.model_selection import train_test_split\nX_train, X_test, y_train, y_test = train_test_split(adelaide.iloc[:, 0:32], adelaide['PALL'], random_state=0)",
   "execution_count": null,
   "outputs": []
  },
  {
   "cell_type": "code",
   "metadata": {
    "cell_id": "00007-27bb256e-e662-400d-8c19-45f7b7967e30",
    "deepnote_to_be_reexecuted": false,
    "source_hash": "f4c24cbf",
    "execution_start": 1649783934732,
    "execution_millis": 6,
    "deepnote_cell_type": "code",
    "deepnote_cell_height": 226.8000030517578
   },
   "source": "print(\"Lunghezza dataset training:\",len(X_train))\nprint(\"Lunghezza target training:\",len(y_train))\nprint(\"Lunghezza dataset test:\",len(X_test))\nprint(\"Lunghezza target test:\",len(y_test))",
   "execution_count": null,
   "outputs": [
    {
     "name": "stdout",
     "text": "Lunghezza dataset training: 53999\nLunghezza target training: 53999\nLunghezza dataset test: 18000\nLunghezza target test: 18000\n",
     "output_type": "stream"
    }
   ]
  },
  {
   "cell_type": "code",
   "metadata": {
    "cell_id": "00008-b129ef4d-818b-4a71-b55a-007497d08be9",
    "deepnote_to_be_reexecuted": false,
    "source_hash": "314d23a4",
    "execution_start": 1649784603982,
    "execution_millis": 267,
    "deepnote_cell_type": "code",
    "deepnote_cell_height": 81
   },
   "source": "from sklearn.neighbors import KNeighborsRegressor",
   "execution_count": null,
   "outputs": []
  },
  {
   "cell_type": "code",
   "metadata": {
    "cell_id": "00009-53eb0ba5-7ae3-40cd-8798-0fb8cfa8fb96",
    "deepnote_to_be_reexecuted": false,
    "source_hash": "b25d0ac",
    "execution_start": 1649783934823,
    "execution_millis": 3,
    "deepnote_cell_type": "code",
    "deepnote_cell_height": 99
   },
   "source": "model_M1 = KNeighborsRegressor(n_neighbors=5, metric='manhattan')\nmodel_M2 = KNeighborsRegressor(n_neighbors=269, metric='manhattan')",
   "execution_count": null,
   "outputs": []
  },
  {
   "cell_type": "code",
   "metadata": {
    "cell_id": "00010-a3b9e7b9-fc5d-4de6-81f3-6a36eec3716e",
    "deepnote_to_be_reexecuted": false,
    "source_hash": "fb6e955d",
    "execution_start": 1649783934830,
    "execution_millis": 43,
    "deepnote_cell_type": "code",
    "deepnote_cell_height": 99
   },
   "source": "model_E1 = KNeighborsRegressor(n_neighbors=5, metric='euclidean')\nmodel_E2 = KNeighborsRegressor(n_neighbors=269, metric='euclidean')",
   "execution_count": null,
   "outputs": []
  },
  {
   "cell_type": "code",
   "metadata": {
    "cell_id": "00011-31706061-b836-4f68-b1f4-593a828c74bf",
    "deepnote_to_be_reexecuted": false,
    "source_hash": "9ecbe712",
    "execution_start": 1649783934874,
    "execution_millis": 0,
    "deepnote_cell_type": "code",
    "deepnote_cell_height": 99
   },
   "source": "model_K1 = KNeighborsRegressor(n_neighbors=5, metric='minkowski')\nmodel_K2 = KNeighborsRegressor(n_neighbors=269, metric='minkowski')",
   "execution_count": null,
   "outputs": []
  },
  {
   "cell_type": "code",
   "metadata": {
    "cell_id": "00012-9ef33cf8-de63-4f8e-b6bb-8090685d9d2f",
    "deepnote_to_be_reexecuted": false,
    "source_hash": "270ef844",
    "execution_start": 1649783934874,
    "execution_millis": 2,
    "deepnote_cell_type": "code",
    "deepnote_cell_height": 244,
    "deepnote_output_heights": [
     21
    ]
   },
   "source": "model_M1.fit(X_train, y_train)\nmodel_M2.fit(X_train, y_train)\n\nmodel_E1.fit(X_train, y_train)\nmodel_E2.fit(X_train, y_train)\n\nmodel_K1.fit(X_train, y_train)\nmodel_K2.fit(X_train, y_train)",
   "execution_count": null,
   "outputs": [
    {
     "output_type": "execute_result",
     "execution_count": 12,
     "data": {
      "text/plain": "KNeighborsRegressor(n_neighbors=269)"
     },
     "metadata": {}
    }
   ]
  },
  {
   "cell_type": "code",
   "metadata": {
    "cell_id": "00013-900135cb-4aff-4c1c-9d03-5c6b2bd53d62",
    "deepnote_to_be_reexecuted": false,
    "source_hash": "492e6def",
    "execution_start": 1649783934918,
    "execution_millis": 48,
    "deepnote_cell_type": "code",
    "deepnote_cell_height": 953
   },
   "source": "model_M1.predict(data_point1)\nmodel_M2.predict(data_point1)\n\nmodel_E1.predict(data_point1)\nmodel_E2.predict(data_point1)\n\nmodel_K1.predict(data_point1)\nmodel_K2.predict(data_point1)\n\nprint('secondo il modello M1 PALL di data_point1 è: ', model_M1.predict(data_point1))\nprint('secondo il modello M2 PALL di data_point1 è: ', model_M2.predict(data_point1))\nprint('secondo il modello E1 PALL di data_point1 è: ', model_E1.predict(data_point1))\nprint('secondo il modello E2 PALL di data_point1 è: ', model_E2.predict(data_point1))\nprint('secondo il modello K1 PALL di data_point1 è: ', model_K1.predict(data_point1))\nprint('secondo il modello K2 PALL di data_point1 è: ', model_K2.predict(data_point1))",
   "execution_count": null,
   "outputs": [
    {
     "name": "stdout",
     "text": "secondo il modello M1 PALL di data_point1 è:  [1410417.2684]\nsecondo il modello M2 PALL di data_point1 è:  [1430340.81182528]\nsecondo il modello E1 PALL di data_point1 è:  [1411640.1184]\nsecondo il modello E2 PALL di data_point1 è:  [1430902.99832714]\nsecondo il modello K1 PALL di data_point1 è:  [1411640.1184]\nsecondo il modello K2 PALL di data_point1 è:  [1430902.99832714]\n/shared-libs/python3.7/py/lib/python3.7/site-packages/sklearn/base.py:451: UserWarning: X does not have valid feature names, but KNeighborsRegressor was fitted with feature names\n  \"X does not have valid feature names, but\"\n/shared-libs/python3.7/py/lib/python3.7/site-packages/sklearn/base.py:451: UserWarning: X does not have valid feature names, but KNeighborsRegressor was fitted with feature names\n  \"X does not have valid feature names, but\"\n/shared-libs/python3.7/py/lib/python3.7/site-packages/sklearn/base.py:451: UserWarning: X does not have valid feature names, but KNeighborsRegressor was fitted with feature names\n  \"X does not have valid feature names, but\"\n/shared-libs/python3.7/py/lib/python3.7/site-packages/sklearn/base.py:451: UserWarning: X does not have valid feature names, but KNeighborsRegressor was fitted with feature names\n  \"X does not have valid feature names, but\"\n/shared-libs/python3.7/py/lib/python3.7/site-packages/sklearn/base.py:451: UserWarning: X does not have valid feature names, but KNeighborsRegressor was fitted with feature names\n  \"X does not have valid feature names, but\"\n/shared-libs/python3.7/py/lib/python3.7/site-packages/sklearn/base.py:451: UserWarning: X does not have valid feature names, but KNeighborsRegressor was fitted with feature names\n  \"X does not have valid feature names, but\"\n/shared-libs/python3.7/py/lib/python3.7/site-packages/sklearn/base.py:451: UserWarning: X does not have valid feature names, but KNeighborsRegressor was fitted with feature names\n  \"X does not have valid feature names, but\"\n/shared-libs/python3.7/py/lib/python3.7/site-packages/sklearn/base.py:451: UserWarning: X does not have valid feature names, but KNeighborsRegressor was fitted with feature names\n  \"X does not have valid feature names, but\"\n/shared-libs/python3.7/py/lib/python3.7/site-packages/sklearn/base.py:451: UserWarning: X does not have valid feature names, but KNeighborsRegressor was fitted with feature names\n  \"X does not have valid feature names, but\"\n/shared-libs/python3.7/py/lib/python3.7/site-packages/sklearn/base.py:451: UserWarning: X does not have valid feature names, but KNeighborsRegressor was fitted with feature names\n  \"X does not have valid feature names, but\"\n/shared-libs/python3.7/py/lib/python3.7/site-packages/sklearn/base.py:451: UserWarning: X does not have valid feature names, but KNeighborsRegressor was fitted with feature names\n  \"X does not have valid feature names, but\"\n/shared-libs/python3.7/py/lib/python3.7/site-packages/sklearn/base.py:451: UserWarning: X does not have valid feature names, but KNeighborsRegressor was fitted with feature names\n  \"X does not have valid feature names, but\"\n",
     "output_type": "stream"
    }
   ]
  },
  {
   "cell_type": "code",
   "metadata": {
    "cell_id": "00014-3e75b0a2-a4a3-4a23-b189-b292642e72d3",
    "deepnote_to_be_reexecuted": false,
    "source_hash": "e947cefe",
    "execution_start": 1649783935016,
    "execution_millis": 194998,
    "deepnote_cell_type": "code",
    "deepnote_cell_height": 204.39999389648438
   },
   "source": "perc_prec = model_M1.score(X_test, y_test)*100\nprint(f\"Percentuale di precisione dell'Algoritmo M1: {(perc_prec.round(2))}%\")\n\nperc_prec = model_M2.score(X_test, y_test)*100\nprint(f\"Percentuale di precisione dell'Algoritmo M2: {(perc_prec.round(2))}%\")",
   "execution_count": null,
   "outputs": [
    {
     "name": "stdout",
     "text": "Percentuale di precisione dell'Algoritmo M1: 81.15%\nPercentuale di precisione dell'Algoritmo M2: 69.79%\n",
     "output_type": "stream"
    }
   ]
  },
  {
   "cell_type": "code",
   "metadata": {
    "cell_id": "00015-233d94bc-ad1d-4f40-a4df-dbebab3fbd60",
    "deepnote_to_be_reexecuted": false,
    "source_hash": "55f6d98a",
    "execution_start": 1649784130013,
    "execution_millis": 44409,
    "deepnote_cell_type": "code",
    "deepnote_cell_height": 204.39999389648438
   },
   "source": "perc_prec = model_E1.score(X_test, y_test)*100\nprint(f\"Percentuale di precisione dell'Algoritmo E1: {(perc_prec.round(2))}%\")\n\nperc_prec = model_E2.score(X_test, y_test)*100\nprint(f\"Percentuale di precisione dell'Algoritmo E2: {(perc_prec.round(2))}%\")",
   "execution_count": null,
   "outputs": [
    {
     "name": "stdout",
     "text": "Percentuale di precisione dell'Algoritmo E1: 79.15%\nPercentuale di precisione dell'Algoritmo E2: 71.25%\n",
     "output_type": "stream"
    }
   ]
  },
  {
   "cell_type": "code",
   "metadata": {
    "cell_id": "00016-202ff1f4-9414-40da-8a43-aac31b41ac8f",
    "deepnote_to_be_reexecuted": false,
    "source_hash": "f6eea4",
    "execution_start": 1649784174441,
    "execution_millis": 41813,
    "deepnote_cell_type": "code",
    "deepnote_cell_height": 204.39999389648438
   },
   "source": "perc_prec = model_K1.score(X_test, y_test)*100\nprint(f\"Percentuale di precisione dell'Algoritmo K1: {(perc_prec.round(2))}%\")\n\nperc_prec = model_K2.score(X_test, y_test)*100\nprint(f\"Percentuale di precisione dell'Algoritmo K2: {(perc_prec.round(2))}%\")",
   "execution_count": null,
   "outputs": [
    {
     "name": "stdout",
     "text": "Percentuale di precisione dell'Algoritmo K1: 79.15%\nPercentuale di precisione dell'Algoritmo K2: 71.25%\n",
     "output_type": "stream"
    }
   ]
  },
  {
   "cell_type": "markdown",
   "source": "# Osservazioni\n\n1 - calcolando le distanze manualmente, non ci sono grosse differenze di tempo fra distanza euclidea e distanza coseno\n\n2 - scikit learn non ha fra le metriche la distanza coseno\n\n3 - a livello di performance, Manhattan sembra essere più preciso, ma su deepnote hanno fatto acc.90%, perchè?\n\n4 - ci vuole più tempo a fare il test che a fare .predict\n\n5 - più è piccolo k, più sembra accurato il modello",
   "metadata": {
    "cell_id": "00017-09b489b0-0cd9-47f2-88a6-f00b14e66054",
    "deepnote_cell_type": "markdown",
    "deepnote_cell_height": 266
   }
  },
  {
   "cell_type": "markdown",
   "source": "Controlliamo il tempo di esecuzione dei vari modelli",
   "metadata": {
    "cell_id": "5d3dd451abb341448210d62183e166b6",
    "tags": [],
    "deepnote_cell_type": "markdown",
    "deepnote_cell_height": 52.399993896484375
   }
  },
  {
   "cell_type": "code",
   "metadata": {
    "cell_id": "897bb9a560fc46f39e25ddcaf9b6490c",
    "tags": [],
    "deepnote_to_be_reexecuted": false,
    "source_hash": "bc657560",
    "execution_start": 1649785060521,
    "execution_millis": 18,
    "owner_user_id": "85ee03e4-dad8-4194-a83e-88396b92bc75",
    "deepnote_cell_type": "code",
    "deepnote_cell_height": 295.79998779296875,
    "deepnote_output_heights": [
     null,
     21
    ]
   },
   "source": "%%time\nmodel_M1 = KNeighborsRegressor(n_neighbors=5, weights=\"distance\", metric='manhattan')\nmodel_M1.fit(X_train, y_train)\nmodel_M1.predict(data_point1)",
   "execution_count": null,
   "outputs": [
    {
     "name": "stdout",
     "text": "CPU times: user 14 ms, sys: 190 µs, total: 14.1 ms\nWall time: 13.8 ms\n/shared-libs/python3.7/py/lib/python3.7/site-packages/sklearn/base.py:451: UserWarning: X does not have valid feature names, but KNeighborsRegressor was fitted with feature names\n  \"X does not have valid feature names, but\"\n",
     "output_type": "stream"
    },
    {
     "output_type": "execute_result",
     "execution_count": 18,
     "data": {
      "text/plain": "array([1407396.486])"
     },
     "metadata": {}
    }
   ]
  },
  {
   "cell_type": "code",
   "metadata": {
    "cell_id": "2becdcda225f49c088925f4a93247663",
    "tags": [],
    "deepnote_to_be_reexecuted": false,
    "source_hash": "a97b62c1",
    "execution_start": 1649785065818,
    "execution_millis": 84605,
    "deepnote_cell_type": "code",
    "deepnote_cell_height": 300
   },
   "source": "%%time\nmodel_M1 = KNeighborsRegressor(n_neighbors=5, weights=\"distance\", metric='manhattan')\nmodel_M1.fit(X_train, y_train)\nmodel_M1.predict(data_point1)\nperc_prec = model_M1.score(X_test, y_test)*100\nprint(f\"Percentuale di precisione dell'Algoritmo M1: {(perc_prec.round(2))}%\")",
   "execution_count": null,
   "outputs": [
    {
     "name": "stderr",
     "text": "/shared-libs/python3.7/py/lib/python3.7/site-packages/sklearn/base.py:451: UserWarning: X does not have valid feature names, but KNeighborsRegressor was fitted with feature names\n  \"X does not have valid feature names, but\"\nPercentuale di precisione dell'Algoritmo M1: 81.6%\nCPU times: user 1min 22s, sys: 2.02 s, total: 1min 24s\nWall time: 1min 24s\n",
     "output_type": "stream"
    }
   ]
  },
  {
   "cell_type": "code",
   "metadata": {
    "cell_id": "c711791225944475b1f5cc3caff2b549",
    "tags": [],
    "deepnote_to_be_reexecuted": false,
    "source_hash": "cbaa8968",
    "execution_start": 1649785150422,
    "execution_millis": 2,
    "deepnote_cell_type": "code",
    "deepnote_cell_height": 295.79998779296875,
    "deepnote_output_heights": [
     null,
     21
    ]
   },
   "source": "%%time\nmodel_E1 = KNeighborsRegressor(n_neighbors=5, weights=\"distance\", metric='euclidean')\nmodel_E1.fit(X_train, y_train)\nmodel_E1.predict(data_point1)",
   "execution_count": null,
   "outputs": [
    {
     "name": "stdout",
     "text": "CPU times: user 14.1 ms, sys: 4.63 ms, total: 18.8 ms\nWall time: 14.8 ms\n/shared-libs/python3.7/py/lib/python3.7/site-packages/sklearn/base.py:451: UserWarning: X does not have valid feature names, but KNeighborsRegressor was fitted with feature names\n  \"X does not have valid feature names, but\"\n",
     "output_type": "stream"
    },
    {
     "output_type": "execute_result",
     "execution_count": 20,
     "data": {
      "text/plain": "array([1407396.486])"
     },
     "metadata": {}
    }
   ]
  },
  {
   "cell_type": "code",
   "metadata": {
    "cell_id": "5df6afa56f3245018b36dd5486890fa2",
    "tags": [],
    "deepnote_to_be_reexecuted": false,
    "source_hash": "d710476",
    "execution_start": 1649785150426,
    "execution_millis": 26755,
    "deepnote_cell_type": "code",
    "deepnote_cell_height": 300
   },
   "source": "%%time\nmodel_E1 = KNeighborsRegressor(n_neighbors=5, weights=\"distance\", metric='euclidean')\nmodel_E1.fit(X_train, y_train)\nmodel_E1.predict(data_point1)\nperc_prec = model_E1.score(X_test, y_test)*100\nprint(f\"Percentuale di precisione dell'Algoritmo E1: {(perc_prec.round(2))}%\")",
   "execution_count": null,
   "outputs": [
    {
     "name": "stderr",
     "text": "/shared-libs/python3.7/py/lib/python3.7/site-packages/sklearn/base.py:451: UserWarning: X does not have valid feature names, but KNeighborsRegressor was fitted with feature names\n  \"X does not have valid feature names, but\"\nPercentuale di precisione dell'Algoritmo E1: 79.55%\nCPU times: user 26.9 s, sys: 3.78 s, total: 30.6 s\nWall time: 26.5 s\n",
     "output_type": "stream"
    }
   ]
  },
  {
   "cell_type": "code",
   "metadata": {
    "cell_id": "f0b51fdbe9534469acab14b0ecbee079",
    "tags": [],
    "deepnote_to_be_reexecuted": false,
    "source_hash": "b362bc76",
    "execution_start": 1649786551161,
    "execution_millis": 610,
    "deepnote_cell_type": "code",
    "deepnote_cell_height": 295.79998779296875,
    "deepnote_output_heights": [
     null,
     21
    ]
   },
   "source": "%%time\nmodel_K1 = KNeighborsRegressor(n_neighbors=5, weights=\"distance\", metric='minkowski')\nmodel_K1.fit(X_train, y_train)\nmodel_K1.predict(data_point1)",
   "execution_count": null,
   "outputs": [
    {
     "name": "stdout",
     "text": "CPU times: user 158 ms, sys: 133 µs, total: 158 ms\nWall time: 156 ms\n/shared-libs/python3.7/py/lib/python3.7/site-packages/sklearn/base.py:451: UserWarning: X does not have valid feature names, but KNeighborsRegressor was fitted with feature names\n  \"X does not have valid feature names, but\"\n",
     "output_type": "stream"
    },
    {
     "output_type": "execute_result",
     "execution_count": 29,
     "data": {
      "text/plain": "array([1407396.486])"
     },
     "metadata": {}
    }
   ]
  },
  {
   "cell_type": "code",
   "metadata": {
    "cell_id": "c0f9b5c1d5b74ac6b25e7c1c490d0a36",
    "tags": [],
    "deepnote_to_be_reexecuted": false,
    "source_hash": "75eab29d",
    "execution_start": 1649785541055,
    "execution_millis": 1010064,
    "deepnote_cell_type": "code",
    "deepnote_cell_height": 317.6000061035156
   },
   "source": "%%time\nmodel_K1 = KNeighborsRegressor(n_neighbors=5,  weights=\"distance\", metric='minkowski')\nmodel_K1.fit(X_train, y_train)\nmodel_K1.predict(data_point1)\nperc_prec = model_K1.score(X_test, y_test)*100\nprint(f\"Percentuale di precisione dell'Algoritmo K1: {(perc_prec.round(2))}%\")",
   "execution_count": null,
   "outputs": [
    {
     "name": "stderr",
     "text": "/shared-libs/python3.7/py/lib/python3.7/site-packages/sklearn/base.py:451: UserWarning: X does not have valid feature names, but KNeighborsRegressor was fitted with feature names\n  \"X does not have valid feature names, but\"\n",
     "output_type": "stream"
    },
    {
     "output_type": "error",
     "ename": "KeyboardInterrupt",
     "evalue": "",
     "traceback": [
      "\u001b[0;31m---------------------------------------------------------------------------\u001b[0m",
      "\u001b[0;31mKeyboardInterrupt\u001b[0m                         Traceback (most recent call last)",
      "\u001b[0;32m<timed exec>\u001b[0m in \u001b[0;36m<module>\u001b[0;34m\u001b[0m\n",
      "\u001b[0;32m/shared-libs/python3.7/py/lib/python3.7/site-packages/sklearn/base.py\u001b[0m in \u001b[0;36mscore\u001b[0;34m(self, X, y, sample_weight)\u001b[0m\n\u001b[1;32m    703\u001b[0m         \u001b[0;32mfrom\u001b[0m \u001b[0;34m.\u001b[0m\u001b[0mmetrics\u001b[0m \u001b[0;32mimport\u001b[0m \u001b[0mr2_score\u001b[0m\u001b[0;34m\u001b[0m\u001b[0;34m\u001b[0m\u001b[0m\n\u001b[1;32m    704\u001b[0m \u001b[0;34m\u001b[0m\u001b[0m\n\u001b[0;32m--> 705\u001b[0;31m         \u001b[0my_pred\u001b[0m \u001b[0;34m=\u001b[0m \u001b[0mself\u001b[0m\u001b[0;34m.\u001b[0m\u001b[0mpredict\u001b[0m\u001b[0;34m(\u001b[0m\u001b[0mX\u001b[0m\u001b[0;34m)\u001b[0m\u001b[0;34m\u001b[0m\u001b[0;34m\u001b[0m\u001b[0m\n\u001b[0m\u001b[1;32m    706\u001b[0m         \u001b[0;32mreturn\u001b[0m \u001b[0mr2_score\u001b[0m\u001b[0;34m(\u001b[0m\u001b[0my\u001b[0m\u001b[0;34m,\u001b[0m \u001b[0my_pred\u001b[0m\u001b[0;34m,\u001b[0m \u001b[0msample_weight\u001b[0m\u001b[0;34m=\u001b[0m\u001b[0msample_weight\u001b[0m\u001b[0;34m)\u001b[0m\u001b[0;34m\u001b[0m\u001b[0;34m\u001b[0m\u001b[0m\n\u001b[1;32m    707\u001b[0m \u001b[0;34m\u001b[0m\u001b[0m\n",
      "\u001b[0;32m/shared-libs/python3.7/py/lib/python3.7/site-packages/sklearn/neighbors/_regression.py\u001b[0m in \u001b[0;36mpredict\u001b[0;34m(self, X)\u001b[0m\n\u001b[1;32m    227\u001b[0m             \u001b[0mTarget\u001b[0m \u001b[0mvalues\u001b[0m\u001b[0;34m.\u001b[0m\u001b[0;34m\u001b[0m\u001b[0;34m\u001b[0m\u001b[0m\n\u001b[1;32m    228\u001b[0m         \"\"\"\n\u001b[0;32m--> 229\u001b[0;31m         \u001b[0mneigh_dist\u001b[0m\u001b[0;34m,\u001b[0m \u001b[0mneigh_ind\u001b[0m \u001b[0;34m=\u001b[0m \u001b[0mself\u001b[0m\u001b[0;34m.\u001b[0m\u001b[0mkneighbors\u001b[0m\u001b[0;34m(\u001b[0m\u001b[0mX\u001b[0m\u001b[0;34m)\u001b[0m\u001b[0;34m\u001b[0m\u001b[0;34m\u001b[0m\u001b[0m\n\u001b[0m\u001b[1;32m    230\u001b[0m \u001b[0;34m\u001b[0m\u001b[0m\n\u001b[1;32m    231\u001b[0m         \u001b[0mweights\u001b[0m \u001b[0;34m=\u001b[0m \u001b[0m_get_weights\u001b[0m\u001b[0;34m(\u001b[0m\u001b[0mneigh_dist\u001b[0m\u001b[0;34m,\u001b[0m \u001b[0mself\u001b[0m\u001b[0;34m.\u001b[0m\u001b[0mweights\u001b[0m\u001b[0;34m)\u001b[0m\u001b[0;34m\u001b[0m\u001b[0;34m\u001b[0m\u001b[0m\n",
      "\u001b[0;32m/shared-libs/python3.7/py/lib/python3.7/site-packages/sklearn/neighbors/_base.py\u001b[0m in \u001b[0;36mkneighbors\u001b[0;34m(self, X, n_neighbors, return_distance)\u001b[0m\n\u001b[1;32m    757\u001b[0m                     \u001b[0mmetric\u001b[0m\u001b[0;34m=\u001b[0m\u001b[0mself\u001b[0m\u001b[0;34m.\u001b[0m\u001b[0meffective_metric_\u001b[0m\u001b[0;34m,\u001b[0m\u001b[0;34m\u001b[0m\u001b[0;34m\u001b[0m\u001b[0m\n\u001b[1;32m    758\u001b[0m                     \u001b[0mn_jobs\u001b[0m\u001b[0;34m=\u001b[0m\u001b[0mn_jobs\u001b[0m\u001b[0;34m,\u001b[0m\u001b[0;34m\u001b[0m\u001b[0;34m\u001b[0m\u001b[0m\n\u001b[0;32m--> 759\u001b[0;31m                     \u001b[0;34m**\u001b[0m\u001b[0mkwds\u001b[0m\u001b[0;34m,\u001b[0m\u001b[0;34m\u001b[0m\u001b[0;34m\u001b[0m\u001b[0m\n\u001b[0m\u001b[1;32m    760\u001b[0m                 )\n\u001b[1;32m    761\u001b[0m             )\n",
      "\u001b[0;32m/shared-libs/python3.7/py/lib/python3.7/site-packages/sklearn/metrics/pairwise.py\u001b[0m in \u001b[0;36mpairwise_distances_chunked\u001b[0;34m(X, Y, reduce_func, metric, n_jobs, working_memory, **kwds)\u001b[0m\n\u001b[1;32m   1715\u001b[0m         \u001b[0;32melse\u001b[0m\u001b[0;34m:\u001b[0m\u001b[0;34m\u001b[0m\u001b[0;34m\u001b[0m\u001b[0m\n\u001b[1;32m   1716\u001b[0m             \u001b[0mX_chunk\u001b[0m \u001b[0;34m=\u001b[0m \u001b[0mX\u001b[0m\u001b[0;34m[\u001b[0m\u001b[0msl\u001b[0m\u001b[0;34m]\u001b[0m\u001b[0;34m\u001b[0m\u001b[0;34m\u001b[0m\u001b[0m\n\u001b[0;32m-> 1717\u001b[0;31m         \u001b[0mD_chunk\u001b[0m \u001b[0;34m=\u001b[0m \u001b[0mpairwise_distances\u001b[0m\u001b[0;34m(\u001b[0m\u001b[0mX_chunk\u001b[0m\u001b[0;34m,\u001b[0m \u001b[0mY\u001b[0m\u001b[0;34m,\u001b[0m \u001b[0mmetric\u001b[0m\u001b[0;34m=\u001b[0m\u001b[0mmetric\u001b[0m\u001b[0;34m,\u001b[0m \u001b[0mn_jobs\u001b[0m\u001b[0;34m=\u001b[0m\u001b[0mn_jobs\u001b[0m\u001b[0;34m,\u001b[0m \u001b[0;34m**\u001b[0m\u001b[0mkwds\u001b[0m\u001b[0;34m)\u001b[0m\u001b[0;34m\u001b[0m\u001b[0;34m\u001b[0m\u001b[0m\n\u001b[0m\u001b[1;32m   1718\u001b[0m         if (X is Y or Y is None) and PAIRWISE_DISTANCE_FUNCTIONS.get(\n\u001b[1;32m   1719\u001b[0m             \u001b[0mmetric\u001b[0m\u001b[0;34m,\u001b[0m \u001b[0;32mNone\u001b[0m\u001b[0;34m\u001b[0m\u001b[0;34m\u001b[0m\u001b[0m\n",
      "\u001b[0;32m/shared-libs/python3.7/py/lib/python3.7/site-packages/sklearn/metrics/pairwise.py\u001b[0m in \u001b[0;36mpairwise_distances\u001b[0;34m(X, Y, metric, n_jobs, force_all_finite, **kwds)\u001b[0m\n\u001b[1;32m   1887\u001b[0m         \u001b[0mfunc\u001b[0m \u001b[0;34m=\u001b[0m \u001b[0mpartial\u001b[0m\u001b[0;34m(\u001b[0m\u001b[0mdistance\u001b[0m\u001b[0;34m.\u001b[0m\u001b[0mcdist\u001b[0m\u001b[0;34m,\u001b[0m \u001b[0mmetric\u001b[0m\u001b[0;34m=\u001b[0m\u001b[0mmetric\u001b[0m\u001b[0;34m,\u001b[0m \u001b[0;34m**\u001b[0m\u001b[0mkwds\u001b[0m\u001b[0;34m)\u001b[0m\u001b[0;34m\u001b[0m\u001b[0;34m\u001b[0m\u001b[0m\n\u001b[1;32m   1888\u001b[0m \u001b[0;34m\u001b[0m\u001b[0m\n\u001b[0;32m-> 1889\u001b[0;31m     \u001b[0;32mreturn\u001b[0m \u001b[0m_parallel_pairwise\u001b[0m\u001b[0;34m(\u001b[0m\u001b[0mX\u001b[0m\u001b[0;34m,\u001b[0m \u001b[0mY\u001b[0m\u001b[0;34m,\u001b[0m \u001b[0mfunc\u001b[0m\u001b[0;34m,\u001b[0m \u001b[0mn_jobs\u001b[0m\u001b[0;34m,\u001b[0m \u001b[0;34m**\u001b[0m\u001b[0mkwds\u001b[0m\u001b[0;34m)\u001b[0m\u001b[0;34m\u001b[0m\u001b[0;34m\u001b[0m\u001b[0m\n\u001b[0m\u001b[1;32m   1890\u001b[0m \u001b[0;34m\u001b[0m\u001b[0m\n\u001b[1;32m   1891\u001b[0m \u001b[0;34m\u001b[0m\u001b[0m\n",
      "\u001b[0;32m/shared-libs/python3.7/py/lib/python3.7/site-packages/sklearn/metrics/pairwise.py\u001b[0m in \u001b[0;36m_parallel_pairwise\u001b[0;34m(X, Y, func, n_jobs, **kwds)\u001b[0m\n\u001b[1;32m   1428\u001b[0m \u001b[0;34m\u001b[0m\u001b[0m\n\u001b[1;32m   1429\u001b[0m     \u001b[0;32mif\u001b[0m \u001b[0meffective_n_jobs\u001b[0m\u001b[0;34m(\u001b[0m\u001b[0mn_jobs\u001b[0m\u001b[0;34m)\u001b[0m \u001b[0;34m==\u001b[0m \u001b[0;36m1\u001b[0m\u001b[0;34m:\u001b[0m\u001b[0;34m\u001b[0m\u001b[0;34m\u001b[0m\u001b[0m\n\u001b[0;32m-> 1430\u001b[0;31m         \u001b[0;32mreturn\u001b[0m \u001b[0mfunc\u001b[0m\u001b[0;34m(\u001b[0m\u001b[0mX\u001b[0m\u001b[0;34m,\u001b[0m \u001b[0mY\u001b[0m\u001b[0;34m,\u001b[0m \u001b[0;34m**\u001b[0m\u001b[0mkwds\u001b[0m\u001b[0;34m)\u001b[0m\u001b[0;34m\u001b[0m\u001b[0;34m\u001b[0m\u001b[0m\n\u001b[0m\u001b[1;32m   1431\u001b[0m \u001b[0;34m\u001b[0m\u001b[0m\n\u001b[1;32m   1432\u001b[0m     \u001b[0;31m# enforce a threading backend to prevent data communication overhead\u001b[0m\u001b[0;34m\u001b[0m\u001b[0;34m\u001b[0m\u001b[0;34m\u001b[0m\u001b[0m\n",
      "\u001b[0;32m/shared-libs/python3.7/py/lib/python3.7/site-packages/scipy/spatial/distance.py\u001b[0m in \u001b[0;36mcdist\u001b[0;34m(XA, XB, metric, out, **kwargs)\u001b[0m\n\u001b[1;32m   2952\u001b[0m         \u001b[0;32mif\u001b[0m \u001b[0mmetric_info\u001b[0m \u001b[0;32mis\u001b[0m \u001b[0;32mnot\u001b[0m \u001b[0;32mNone\u001b[0m\u001b[0;34m:\u001b[0m\u001b[0;34m\u001b[0m\u001b[0;34m\u001b[0m\u001b[0m\n\u001b[1;32m   2953\u001b[0m             \u001b[0mcdist_fn\u001b[0m \u001b[0;34m=\u001b[0m \u001b[0mmetric_info\u001b[0m\u001b[0;34m.\u001b[0m\u001b[0mcdist_func\u001b[0m\u001b[0;34m\u001b[0m\u001b[0;34m\u001b[0m\u001b[0m\n\u001b[0;32m-> 2954\u001b[0;31m             \u001b[0;32mreturn\u001b[0m \u001b[0mcdist_fn\u001b[0m\u001b[0;34m(\u001b[0m\u001b[0mXA\u001b[0m\u001b[0;34m,\u001b[0m \u001b[0mXB\u001b[0m\u001b[0;34m,\u001b[0m \u001b[0mout\u001b[0m\u001b[0;34m=\u001b[0m\u001b[0mout\u001b[0m\u001b[0;34m,\u001b[0m \u001b[0;34m**\u001b[0m\u001b[0mkwargs\u001b[0m\u001b[0;34m)\u001b[0m\u001b[0;34m\u001b[0m\u001b[0;34m\u001b[0m\u001b[0m\n\u001b[0m\u001b[1;32m   2955\u001b[0m         \u001b[0;32melif\u001b[0m \u001b[0mmstr\u001b[0m\u001b[0;34m.\u001b[0m\u001b[0mstartswith\u001b[0m\u001b[0;34m(\u001b[0m\u001b[0;34m\"test_\"\u001b[0m\u001b[0;34m)\u001b[0m\u001b[0;34m:\u001b[0m\u001b[0;34m\u001b[0m\u001b[0;34m\u001b[0m\u001b[0m\n\u001b[1;32m   2956\u001b[0m             \u001b[0mmetric_info\u001b[0m \u001b[0;34m=\u001b[0m \u001b[0m_TEST_METRICS\u001b[0m\u001b[0;34m.\u001b[0m\u001b[0mget\u001b[0m\u001b[0;34m(\u001b[0m\u001b[0mmstr\u001b[0m\u001b[0;34m,\u001b[0m \u001b[0;32mNone\u001b[0m\u001b[0;34m)\u001b[0m\u001b[0;34m\u001b[0m\u001b[0;34m\u001b[0m\u001b[0m\n",
      "\u001b[0;31mKeyboardInterrupt\u001b[0m: "
     ]
    }
   ]
  },
  {
   "cell_type": "code",
   "metadata": {
    "cell_id": "1fd133963df54fd88289b2c8c39528e8",
    "tags": [],
    "deepnote_to_be_reexecuted": false,
    "source_hash": "3ffd01b7",
    "execution_start": 1649785215486,
    "execution_millis": 38,
    "owner_user_id": "0e57f2ca-7673-4c0f-a6a3-d36b417d8e7f",
    "deepnote_cell_type": "code",
    "deepnote_cell_height": 295.79998779296875,
    "deepnote_output_heights": [
     null,
     21
    ]
   },
   "source": "%%time\nmodel_C1 = KNeighborsRegressor(n_neighbors=5,  weights=\"distance\", metric='cosine')\nmodel_C1.fit(X_train, y_train)\nmodel_C1.predict(data_point1)",
   "execution_count": null,
   "outputs": [
    {
     "name": "stdout",
     "text": "CPU times: user 11.6 ms, sys: 12.2 ms, total: 23.8 ms\nWall time: 19.7 ms\n/shared-libs/python3.7/py/lib/python3.7/site-packages/sklearn/base.py:451: UserWarning: X does not have valid feature names, but KNeighborsRegressor was fitted with feature names\n  \"X does not have valid feature names, but\"\n",
     "output_type": "stream"
    },
    {
     "output_type": "execute_result",
     "execution_count": 24,
     "data": {
      "text/plain": "array([1407396.486])"
     },
     "metadata": {}
    }
   ]
  },
  {
   "cell_type": "code",
   "metadata": {
    "cell_id": "2fba73b70f4b468096014b508698bc4d",
    "tags": [],
    "deepnote_to_be_reexecuted": false,
    "source_hash": "dd856ca3",
    "execution_start": 1649785293243,
    "execution_millis": 26725,
    "deepnote_cell_type": "code",
    "deepnote_cell_height": 300
   },
   "source": "%%time\nmodel_C1 = KNeighborsRegressor(n_neighbors=5,  weights=\"distance\", metric='cosine')\nmodel_C1.fit(X_train, y_train)\nmodel_C1.predict(data_point1)\nperc_prec = model_C1.score(X_test, y_test)*100\nprint(f\"Percentuale di precisione dell'Algoritmo C1: {(perc_prec.round(2))}%\")",
   "execution_count": null,
   "outputs": [
    {
     "name": "stderr",
     "text": "/shared-libs/python3.7/py/lib/python3.7/site-packages/sklearn/base.py:451: UserWarning: X does not have valid feature names, but KNeighborsRegressor was fitted with feature names\n  \"X does not have valid feature names, but\"\nPercentuale di precisione dell'Algoritmo C1: 79.87%\nCPU times: user 25.9 s, sys: 3.81 s, total: 29.7 s\nWall time: 26.7 s\n",
     "output_type": "stream"
    }
   ]
  },
  {
   "cell_type": "code",
   "metadata": {
    "cell_id": "df47ff28d86c43458662de66af637065",
    "tags": [],
    "deepnote_cell_type": "code",
    "deepnote_cell_height": 66
   },
   "source": "",
   "execution_count": null,
   "outputs": []
  },
  {
   "cell_type": "markdown",
   "source": "<a style='text-decoration:none;line-height:16px;display:flex;color:#5B5B62;padding:10px;justify-content:end;' href='https://deepnote.com?utm_source=created-in-deepnote-cell&projectId=531276df-e637-43fd-b6d2-ed5088148a23' target=\"_blank\">\n<img alt='Created in deepnote.com' style='display:inline;max-height:16px;margin:0px;margin-right:7.5px;' src='data:image/svg+xml;base64,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' > </img>\nCreated in <span style='font-weight:600;margin-left:4px;'>Deepnote</span></a>",
   "metadata": {
    "tags": [],
    "created_in_deepnote_cell": true,
    "deepnote_cell_type": "markdown"
   }
  }
 ],
 "nbformat": 4,
 "nbformat_minor": 4,
 "metadata": {
  "kernelspec": {
   "display_name": "Python 3",
   "language": "python",
   "name": "python3"
  },
  "language_info": {
   "codemirror_mode": {
    "name": "ipython",
    "version": 3
   },
   "file_extension": ".py",
   "mimetype": "text/x-python",
   "name": "python",
   "nbconvert_exporter": "python",
   "pygments_lexer": "ipython3",
   "version": "3.7.6"
  },
  "deepnote_notebook_id": "9f0dd774-7418-4f3c-8ade-300ed87e5b7c",
  "deepnote": {},
  "deepnote_execution_queue": []
 }
}