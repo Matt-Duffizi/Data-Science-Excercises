{
 "cells": [
  {
   "cell_type": "code",
   "metadata": {
    "tags": [],
    "cell_id": "49fc4509-5e03-4440-8b06-356699684ff4",
    "deepnote_to_be_reexecuted": false,
    "source_hash": "7a1f4dbe",
    "execution_start": 1649783097024,
    "execution_millis": 567,
    "deepnote_cell_type": "code",
    "deepnote_cell_height": 1203.6875,
    "deepnote_output_heights": [
     null,
     607
    ]
   },
   "source": "# Start writing code here...\n\n### ESERCIZIO 1\n# I imported data for you. Your are welcome! 🙂\nimport pandas as pd\nimport numpy as np\n\nfrom sklearn.datasets import load_iris\n\ndata = load_iris()\n\nX = data['data']\ny = data['target']\n\nprint(f\"Dataset is made by {len(X)} data, whose first 5 lines are \\n {X[:5]} \\n \")\nprint(f\"Target vector is {len(y)}-long, and targets names are \\n {data['target_names']}\")\ndata",
   "execution_count": 1,
   "outputs": [
    {
     "name": "stdout",
     "text": "Dataset is made by 150 data, whose first 5 lines are \n [[5.1 3.5 1.4 0.2]\n [4.9 3.  1.4 0.2]\n [4.7 3.2 1.3 0.2]\n [4.6 3.1 1.5 0.2]\n [5.  3.6 1.4 0.2]] \n \nTarget vector is 150-long, and targets names are \n ['setosa' 'versicolor' 'virginica']\n",
     "output_type": "stream"
    },
    {
     "output_type": "execute_result",
     "execution_count": 1,
     "data": {
      "text/plain": "{'data': array([[5.1, 3.5, 1.4, 0.2],\n        [4.9, 3. , 1.4, 0.2],\n        [4.7, 3.2, 1.3, 0.2],\n        [4.6, 3.1, 1.5, 0.2],\n        [5. , 3.6, 1.4, 0.2],\n        [5.4, 3.9, 1.7, 0.4],\n        [4.6, 3.4, 1.4, 0.3],\n        [5. , 3.4, 1.5, 0.2],\n        [4.4, 2.9, 1.4, 0.2],\n        [4.9, 3.1, 1.5, 0.1],\n        [5.4, 3.7, 1.5, 0.2],\n        [4.8, 3.4, 1.6, 0.2],\n        [4.8, 3. , 1.4, 0.1],\n        [4.3, 3. , 1.1, 0.1],\n        [5.8, 4. , 1.2, 0.2],\n        [5.7, 4.4, 1.5, 0.4],\n        [5.4, 3.9, 1.3, 0.4],\n        [5.1, 3.5, 1.4, 0.3],\n        [5.7, 3.8, 1.7, 0.3],\n        [5.1, 3.8, 1.5, 0.3],\n        [5.4, 3.4, 1.7, 0.2],\n        [5.1, 3.7, 1.5, 0.4],\n        [4.6, 3.6, 1. , 0.2],\n        [5.1, 3.3, 1.7, 0.5],\n        [4.8, 3.4, 1.9, 0.2],\n        [5. , 3. , 1.6, 0.2],\n        [5. , 3.4, 1.6, 0.4],\n        [5.2, 3.5, 1.5, 0.2],\n        [5.2, 3.4, 1.4, 0.2],\n        [4.7, 3.2, 1.6, 0.2],\n        [4.8, 3.1, 1.6, 0.2],\n        [5.4, 3.4, 1.5, 0.4],\n        [5.2, 4.1, 1.5, 0.1],\n        [5.5, 4.2, 1.4, 0.2],\n        [4.9, 3.1, 1.5, 0.2],\n        [5. , 3.2, 1.2, 0.2],\n        [5.5, 3.5, 1.3, 0.2],\n        [4.9, 3.6, 1.4, 0.1],\n        [4.4, 3. , 1.3, 0.2],\n        [5.1, 3.4, 1.5, 0.2],\n        [5. , 3.5, 1.3, 0.3],\n        [4.5, 2.3, 1.3, 0.3],\n        [4.4, 3.2, 1.3, 0.2],\n        [5. , 3.5, 1.6, 0.6],\n        [5.1, 3.8, 1.9, 0.4],\n        [4.8, 3. , 1.4, 0.3],\n        [5.1, 3.8, 1.6, 0.2],\n        [4.6, 3.2, 1.4, 0.2],\n        [5.3, 3.7, 1.5, 0.2],\n        [5. , 3.3, 1.4, 0.2],\n        [7. , 3.2, 4.7, 1.4],\n        [6.4, 3.2, 4.5, 1.5],\n        [6.9, 3.1, 4.9, 1.5],\n        [5.5, 2.3, 4. , 1.3],\n        [6.5, 2.8, 4.6, 1.5],\n        [5.7, 2.8, 4.5, 1.3],\n        [6.3, 3.3, 4.7, 1.6],\n        [4.9, 2.4, 3.3, 1. ],\n        [6.6, 2.9, 4.6, 1.3],\n        [5.2, 2.7, 3.9, 1.4],\n        [5. , 2. , 3.5, 1. ],\n        [5.9, 3. , 4.2, 1.5],\n        [6. , 2.2, 4. , 1. ],\n        [6.1, 2.9, 4.7, 1.4],\n        [5.6, 2.9, 3.6, 1.3],\n        [6.7, 3.1, 4.4, 1.4],\n        [5.6, 3. , 4.5, 1.5],\n        [5.8, 2.7, 4.1, 1. ],\n        [6.2, 2.2, 4.5, 1.5],\n        [5.6, 2.5, 3.9, 1.1],\n        [5.9, 3.2, 4.8, 1.8],\n        [6.1, 2.8, 4. , 1.3],\n        [6.3, 2.5, 4.9, 1.5],\n        [6.1, 2.8, 4.7, 1.2],\n        [6.4, 2.9, 4.3, 1.3],\n        [6.6, 3. , 4.4, 1.4],\n        [6.8, 2.8, 4.8, 1.4],\n        [6.7, 3. , 5. , 1.7],\n        [6. , 2.9, 4.5, 1.5],\n        [5.7, 2.6, 3.5, 1. ],\n        [5.5, 2.4, 3.8, 1.1],\n        [5.5, 2.4, 3.7, 1. ],\n        [5.8, 2.7, 3.9, 1.2],\n        [6. , 2.7, 5.1, 1.6],\n        [5.4, 3. , 4.5, 1.5],\n        [6. , 3.4, 4.5, 1.6],\n        [6.7, 3.1, 4.7, 1.5],\n        [6.3, 2.3, 4.4, 1.3],\n        [5.6, 3. , 4.1, 1.3],\n        [5.5, 2.5, 4. , 1.3],\n        [5.5, 2.6, 4.4, 1.2],\n        [6.1, 3. , 4.6, 1.4],\n        [5.8, 2.6, 4. , 1.2],\n        [5. , 2.3, 3.3, 1. ],\n        [5.6, 2.7, 4.2, 1.3],\n        [5.7, 3. , 4.2, 1.2],\n        [5.7, 2.9, 4.2, 1.3],\n        [6.2, 2.9, 4.3, 1.3],\n        [5.1, 2.5, 3. , 1.1],\n        [5.7, 2.8, 4.1, 1.3],\n        [6.3, 3.3, 6. , 2.5],\n        [5.8, 2.7, 5.1, 1.9],\n        [7.1, 3. , 5.9, 2.1],\n        [6.3, 2.9, 5.6, 1.8],\n        [6.5, 3. , 5.8, 2.2],\n        [7.6, 3. , 6.6, 2.1],\n        [4.9, 2.5, 4.5, 1.7],\n        [7.3, 2.9, 6.3, 1.8],\n        [6.7, 2.5, 5.8, 1.8],\n        [7.2, 3.6, 6.1, 2.5],\n        [6.5, 3.2, 5.1, 2. ],\n        [6.4, 2.7, 5.3, 1.9],\n        [6.8, 3. , 5.5, 2.1],\n        [5.7, 2.5, 5. , 2. ],\n        [5.8, 2.8, 5.1, 2.4],\n        [6.4, 3.2, 5.3, 2.3],\n        [6.5, 3. , 5.5, 1.8],\n        [7.7, 3.8, 6.7, 2.2],\n        [7.7, 2.6, 6.9, 2.3],\n        [6. , 2.2, 5. , 1.5],\n        [6.9, 3.2, 5.7, 2.3],\n        [5.6, 2.8, 4.9, 2. ],\n        [7.7, 2.8, 6.7, 2. ],\n        [6.3, 2.7, 4.9, 1.8],\n        [6.7, 3.3, 5.7, 2.1],\n        [7.2, 3.2, 6. , 1.8],\n        [6.2, 2.8, 4.8, 1.8],\n        [6.1, 3. , 4.9, 1.8],\n        [6.4, 2.8, 5.6, 2.1],\n        [7.2, 3. , 5.8, 1.6],\n        [7.4, 2.8, 6.1, 1.9],\n        [7.9, 3.8, 6.4, 2. ],\n        [6.4, 2.8, 5.6, 2.2],\n        [6.3, 2.8, 5.1, 1.5],\n        [6.1, 2.6, 5.6, 1.4],\n        [7.7, 3. , 6.1, 2.3],\n        [6.3, 3.4, 5.6, 2.4],\n        [6.4, 3.1, 5.5, 1.8],\n        [6. , 3. , 4.8, 1.8],\n        [6.9, 3.1, 5.4, 2.1],\n        [6.7, 3.1, 5.6, 2.4],\n        [6.9, 3.1, 5.1, 2.3],\n        [5.8, 2.7, 5.1, 1.9],\n        [6.8, 3.2, 5.9, 2.3],\n        [6.7, 3.3, 5.7, 2.5],\n        [6.7, 3. , 5.2, 2.3],\n        [6.3, 2.5, 5. , 1.9],\n        [6.5, 3. , 5.2, 2. ],\n        [6.2, 3.4, 5.4, 2.3],\n        [5.9, 3. , 5.1, 1.8]]),\n 'target': array([0, 0, 0, 0, 0, 0, 0, 0, 0, 0, 0, 0, 0, 0, 0, 0, 0, 0, 0, 0, 0, 0,\n        0, 0, 0, 0, 0, 0, 0, 0, 0, 0, 0, 0, 0, 0, 0, 0, 0, 0, 0, 0, 0, 0,\n        0, 0, 0, 0, 0, 0, 1, 1, 1, 1, 1, 1, 1, 1, 1, 1, 1, 1, 1, 1, 1, 1,\n        1, 1, 1, 1, 1, 1, 1, 1, 1, 1, 1, 1, 1, 1, 1, 1, 1, 1, 1, 1, 1, 1,\n        1, 1, 1, 1, 1, 1, 1, 1, 1, 1, 1, 1, 2, 2, 2, 2, 2, 2, 2, 2, 2, 2,\n        2, 2, 2, 2, 2, 2, 2, 2, 2, 2, 2, 2, 2, 2, 2, 2, 2, 2, 2, 2, 2, 2,\n        2, 2, 2, 2, 2, 2, 2, 2, 2, 2, 2, 2, 2, 2, 2, 2, 2, 2]),\n 'frame': None,\n 'target_names': array(['setosa', 'versicolor', 'virginica'], dtype='<U10'),\n 'DESCR': '.. _iris_dataset:\\n\\nIris plants dataset\\n--------------------\\n\\n**Data Set Characteristics:**\\n\\n    :Number of Instances: 150 (50 in each of three classes)\\n    :Number of Attributes: 4 numeric, predictive attributes and the class\\n    :Attribute Information:\\n        - sepal length in cm\\n        - sepal width in cm\\n        - petal length in cm\\n        - petal width in cm\\n        - class:\\n                - Iris-Setosa\\n                - Iris-Versicolour\\n                - Iris-Virginica\\n                \\n    :Summary Statistics:\\n\\n    ============== ==== ==== ======= ===== ====================\\n                    Min  Max   Mean    SD   Class Correlation\\n    ============== ==== ==== ======= ===== ====================\\n    sepal length:   4.3  7.9   5.84   0.83    0.7826\\n    sepal width:    2.0  4.4   3.05   0.43   -0.4194\\n    petal length:   1.0  6.9   3.76   1.76    0.9490  (high!)\\n    petal width:    0.1  2.5   1.20   0.76    0.9565  (high!)\\n    ============== ==== ==== ======= ===== ====================\\n\\n    :Missing Attribute Values: None\\n    :Class Distribution: 33.3% for each of 3 classes.\\n    :Creator: R.A. Fisher\\n    :Donor: Michael Marshall (MARSHALL%PLU@io.arc.nasa.gov)\\n    :Date: July, 1988\\n\\nThe famous Iris database, first used by Sir R.A. Fisher. The dataset is taken\\nfrom Fisher\\'s paper. Note that it\\'s the same as in R, but not as in the UCI\\nMachine Learning Repository, which has two wrong data points.\\n\\nThis is perhaps the best known database to be found in the\\npattern recognition literature.  Fisher\\'s paper is a classic in the field and\\nis referenced frequently to this day.  (See Duda & Hart, for example.)  The\\ndata set contains 3 classes of 50 instances each, where each class refers to a\\ntype of iris plant.  One class is linearly separable from the other 2; the\\nlatter are NOT linearly separable from each other.\\n\\n.. topic:: References\\n\\n   - Fisher, R.A. \"The use of multiple measurements in taxonomic problems\"\\n     Annual Eugenics, 7, Part II, 179-188 (1936); also in \"Contributions to\\n     Mathematical Statistics\" (John Wiley, NY, 1950).\\n   - Duda, R.O., & Hart, P.E. (1973) Pattern Classification and Scene Analysis.\\n     (Q327.D83) John Wiley & Sons.  ISBN 0-471-22361-1.  See page 218.\\n   - Dasarathy, B.V. (1980) \"Nosing Around the Neighborhood: A New System\\n     Structure and Classification Rule for Recognition in Partially Exposed\\n     Environments\".  IEEE Transactions on Pattern Analysis and Machine\\n     Intelligence, Vol. PAMI-2, No. 1, 67-71.\\n   - Gates, G.W. (1972) \"The Reduced Nearest Neighbor Rule\".  IEEE Transactions\\n     on Information Theory, May 1972, 431-433.\\n   - See also: 1988 MLC Proceedings, 54-64.  Cheeseman et al\"s AUTOCLASS II\\n     conceptual clustering system finds 3 classes in the data.\\n   - Many, many more ...',\n 'feature_names': ['sepal length (cm)',\n  'sepal width (cm)',\n  'petal length (cm)',\n  'petal width (cm)'],\n 'filename': 'iris.csv',\n 'data_module': 'sklearn.datasets.data'}"
     },
     "metadata": {}
    }
   ]
  },
  {
   "cell_type": "code",
   "metadata": {
    "cell_id": "14877f1f601d4b1d81a1e8c7528f23a4",
    "tags": [],
    "deepnote_to_be_reexecuted": false,
    "source_hash": "abe231a3",
    "execution_start": 1649783097597,
    "execution_millis": 49,
    "deepnote_cell_type": "code",
    "deepnote_cell_height": 467
   },
   "source": "df = pd.DataFrame(data['data'], columns = [\"S-L\",\"S-W\",\"P-L\",\"P-W\"])\ndf[\"Specie\"] = y # Aggiungo la specie\ndf.sort_values(\"Specie\") # Ordino in ordine crescente la specie 0-setosa, 1-versicolor, 2-virginica\n# Il dizionario y era già ordinato ma è questione di pulizia e corretta procedura.\ndf.head()",
   "execution_count": 2,
   "outputs": [
    {
     "output_type": "execute_result",
     "execution_count": 2,
     "data": {
      "application/vnd.deepnote.dataframe.v3+json": {
       "column_count": 5,
       "row_count": 5,
       "columns": [
        {
         "name": "S-L",
         "dtype": "float64",
         "stats": {
          "unique_count": 5,
          "nan_count": 0,
          "min": "4.6",
          "max": "5.1",
          "histogram": [
           {
            "bin_start": 4.6,
            "bin_end": 4.6499999999999995,
            "count": 1
           },
           {
            "bin_start": 4.6499999999999995,
            "bin_end": 4.699999999999999,
            "count": 0
           },
           {
            "bin_start": 4.699999999999999,
            "bin_end": 4.75,
            "count": 1
           },
           {
            "bin_start": 4.75,
            "bin_end": 4.8,
            "count": 0
           },
           {
            "bin_start": 4.8,
            "bin_end": 4.85,
            "count": 0
           },
           {
            "bin_start": 4.85,
            "bin_end": 4.8999999999999995,
            "count": 0
           },
           {
            "bin_start": 4.8999999999999995,
            "bin_end": 4.949999999999999,
            "count": 1
           },
           {
            "bin_start": 4.949999999999999,
            "bin_end": 5,
            "count": 0
           },
           {
            "bin_start": 5,
            "bin_end": 5.05,
            "count": 1
           },
           {
            "bin_start": 5.05,
            "bin_end": 5.1,
            "count": 1
           }
          ]
         }
        },
        {
         "name": "S-W",
         "dtype": "float64",
         "stats": {
          "unique_count": 5,
          "nan_count": 0,
          "min": "3.0",
          "max": "3.6",
          "histogram": [
           {
            "bin_start": 3,
            "bin_end": 3.06,
            "count": 1
           },
           {
            "bin_start": 3.06,
            "bin_end": 3.12,
            "count": 1
           },
           {
            "bin_start": 3.12,
            "bin_end": 3.18,
            "count": 0
           },
           {
            "bin_start": 3.18,
            "bin_end": 3.24,
            "count": 1
           },
           {
            "bin_start": 3.24,
            "bin_end": 3.3,
            "count": 0
           },
           {
            "bin_start": 3.3,
            "bin_end": 3.3600000000000003,
            "count": 0
           },
           {
            "bin_start": 3.3600000000000003,
            "bin_end": 3.42,
            "count": 0
           },
           {
            "bin_start": 3.42,
            "bin_end": 3.48,
            "count": 0
           },
           {
            "bin_start": 3.48,
            "bin_end": 3.54,
            "count": 1
           },
           {
            "bin_start": 3.54,
            "bin_end": 3.6,
            "count": 1
           }
          ]
         }
        },
        {
         "name": "P-L",
         "dtype": "float64",
         "stats": {
          "unique_count": 3,
          "nan_count": 0,
          "min": "1.3",
          "max": "1.5",
          "histogram": [
           {
            "bin_start": 1.3,
            "bin_end": 1.32,
            "count": 1
           },
           {
            "bin_start": 1.32,
            "bin_end": 1.34,
            "count": 0
           },
           {
            "bin_start": 1.34,
            "bin_end": 1.36,
            "count": 0
           },
           {
            "bin_start": 1.36,
            "bin_end": 1.3800000000000001,
            "count": 0
           },
           {
            "bin_start": 1.3800000000000001,
            "bin_end": 1.4,
            "count": 0
           },
           {
            "bin_start": 1.4,
            "bin_end": 1.42,
            "count": 3
           },
           {
            "bin_start": 1.42,
            "bin_end": 1.44,
            "count": 0
           },
           {
            "bin_start": 1.44,
            "bin_end": 1.46,
            "count": 0
           },
           {
            "bin_start": 1.46,
            "bin_end": 1.48,
            "count": 0
           },
           {
            "bin_start": 1.48,
            "bin_end": 1.5,
            "count": 1
           }
          ]
         }
        },
        {
         "name": "P-W",
         "dtype": "float64",
         "stats": {
          "unique_count": 1,
          "nan_count": 0,
          "min": "0.2",
          "max": "0.2",
          "histogram": [
           {
            "bin_start": -0.3,
            "bin_end": -0.19999999999999998,
            "count": 0
           },
           {
            "bin_start": -0.19999999999999998,
            "bin_end": -0.09999999999999998,
            "count": 0
           },
           {
            "bin_start": -0.09999999999999998,
            "bin_end": 5.551115123125783e-17,
            "count": 0
           },
           {
            "bin_start": 5.551115123125783e-17,
            "bin_end": 0.10000000000000003,
            "count": 0
           },
           {
            "bin_start": 0.10000000000000003,
            "bin_end": 0.2,
            "count": 0
           },
           {
            "bin_start": 0.2,
            "bin_end": 0.3000000000000001,
            "count": 5
           },
           {
            "bin_start": 0.3000000000000001,
            "bin_end": 0.4000000000000001,
            "count": 0
           },
           {
            "bin_start": 0.4000000000000001,
            "bin_end": 0.5,
            "count": 0
           },
           {
            "bin_start": 0.5,
            "bin_end": 0.6000000000000001,
            "count": 0
           },
           {
            "bin_start": 0.6000000000000001,
            "bin_end": 0.7,
            "count": 0
           }
          ]
         }
        },
        {
         "name": "Specie",
         "dtype": "int64",
         "stats": {
          "unique_count": 1,
          "nan_count": 0,
          "min": "0",
          "max": "0",
          "histogram": [
           {
            "bin_start": -0.5,
            "bin_end": -0.4,
            "count": 0
           },
           {
            "bin_start": -0.4,
            "bin_end": -0.3,
            "count": 0
           },
           {
            "bin_start": -0.3,
            "bin_end": -0.19999999999999996,
            "count": 0
           },
           {
            "bin_start": -0.19999999999999996,
            "bin_end": -0.09999999999999998,
            "count": 0
           },
           {
            "bin_start": -0.09999999999999998,
            "bin_end": 0,
            "count": 0
           },
           {
            "bin_start": 0,
            "bin_end": 0.10000000000000009,
            "count": 5
           },
           {
            "bin_start": 0.10000000000000009,
            "bin_end": 0.20000000000000007,
            "count": 0
           },
           {
            "bin_start": 0.20000000000000007,
            "bin_end": 0.30000000000000004,
            "count": 0
           },
           {
            "bin_start": 0.30000000000000004,
            "bin_end": 0.4,
            "count": 0
           },
           {
            "bin_start": 0.4,
            "bin_end": 0.5,
            "count": 0
           }
          ]
         }
        },
        {
         "name": "_deepnote_index_column",
         "dtype": "int64"
        }
       ],
       "rows": [
        {
         "S-L": 5.1,
         "S-W": 3.5,
         "P-L": 1.4,
         "P-W": 0.2,
         "Specie": 0,
         "_deepnote_index_column": 0
        },
        {
         "S-L": 4.9,
         "S-W": 3,
         "P-L": 1.4,
         "P-W": 0.2,
         "Specie": 0,
         "_deepnote_index_column": 1
        },
        {
         "S-L": 4.7,
         "S-W": 3.2,
         "P-L": 1.3,
         "P-W": 0.2,
         "Specie": 0,
         "_deepnote_index_column": 2
        },
        {
         "S-L": 4.6,
         "S-W": 3.1,
         "P-L": 1.5,
         "P-W": 0.2,
         "Specie": 0,
         "_deepnote_index_column": 3
        },
        {
         "S-L": 5,
         "S-W": 3.6,
         "P-L": 1.4,
         "P-W": 0.2,
         "Specie": 0,
         "_deepnote_index_column": 4
        }
       ]
      },
      "text/plain": "   S-L  S-W  P-L  P-W  Specie\n0  5.1  3.5  1.4  0.2       0\n1  4.9  3.0  1.4  0.2       0\n2  4.7  3.2  1.3  0.2       0\n3  4.6  3.1  1.5  0.2       0\n4  5.0  3.6  1.4  0.2       0",
      "text/html": "<div>\n<style scoped>\n    .dataframe tbody tr th:only-of-type {\n        vertical-align: middle;\n    }\n\n    .dataframe tbody tr th {\n        vertical-align: top;\n    }\n\n    .dataframe thead th {\n        text-align: right;\n    }\n</style>\n<table border=\"1\" class=\"dataframe\">\n  <thead>\n    <tr style=\"text-align: right;\">\n      <th></th>\n      <th>S-L</th>\n      <th>S-W</th>\n      <th>P-L</th>\n      <th>P-W</th>\n      <th>Specie</th>\n    </tr>\n  </thead>\n  <tbody>\n    <tr>\n      <th>0</th>\n      <td>5.1</td>\n      <td>3.5</td>\n      <td>1.4</td>\n      <td>0.2</td>\n      <td>0</td>\n    </tr>\n    <tr>\n      <th>1</th>\n      <td>4.9</td>\n      <td>3.0</td>\n      <td>1.4</td>\n      <td>0.2</td>\n      <td>0</td>\n    </tr>\n    <tr>\n      <th>2</th>\n      <td>4.7</td>\n      <td>3.2</td>\n      <td>1.3</td>\n      <td>0.2</td>\n      <td>0</td>\n    </tr>\n    <tr>\n      <th>3</th>\n      <td>4.6</td>\n      <td>3.1</td>\n      <td>1.5</td>\n      <td>0.2</td>\n      <td>0</td>\n    </tr>\n    <tr>\n      <th>4</th>\n      <td>5.0</td>\n      <td>3.6</td>\n      <td>1.4</td>\n      <td>0.2</td>\n      <td>0</td>\n    </tr>\n  </tbody>\n</table>\n</div>"
     },
     "metadata": {}
    }
   ]
  },
  {
   "cell_type": "code",
   "metadata": {
    "cell_id": "745e03654681461c9e1352074e943a76",
    "tags": [],
    "deepnote_to_be_reexecuted": false,
    "source_hash": "6f9ffe74",
    "execution_start": 1649783097669,
    "execution_millis": 4,
    "deepnote_cell_type": "code",
    "deepnote_cell_height": 243
   },
   "source": "#Copio quanto fa Oscar, quindi ritogliamo la specie, e da Dataframe lo fa tornare un array numpy\n#Il che significa che la cella sopra, per ora, è lì solo per la visualizzazione e controllo dei dati\n\n# Features matrix\nX = df.drop(\"Specie\", axis=1)\nX = X.values\n\n# label vector\ny = df[\"Specie\"]\ny = y.values",
   "execution_count": 3,
   "outputs": []
  },
  {
   "cell_type": "code",
   "metadata": {
    "cell_id": "ef522f138f134d5b905731a08f2f8245",
    "tags": [],
    "deepnote_to_be_reexecuted": false,
    "source_hash": "3817cabd",
    "execution_start": 1649783097680,
    "execution_millis": 11,
    "deepnote_cell_type": "code",
    "deepnote_cell_height": 606.9375
   },
   "source": "#Creo un Campione e un Test di 10 elementi\n\nimport random\n\n#Uso ciclo While per evitare ripetizioni degli indici da eliminare\n\nl1 = []\nwhile len(l1) < 10:\n    rand = random.randint(0,149)\n    if rand in l1:\n        continue\n    else:\n        l1.append(rand)\n\ncamp = np.delete(X,l1,axis=0)\ntest = X[l1]\nsoluzione = y[l1]\nY_camp = np.delete(y,l1,axis=0).reshape(140,1)\n\nprint(l1) # Dovrei avere 10 valori da 0 a 149 tutti diversi tra loro\nprint(X.shape) # La matrice di origine con 150 elementi\nprint(camp.shape) # La matrice Campione con 140 elementi\nprint(test.shape) # La matrice Test con 10 elementi\nprint(soluzione) # i risultati che dovranno combaciare con la nostra previsione ",
   "execution_count": 4,
   "outputs": [
    {
     "name": "stdout",
     "text": "[82, 116, 122, 5, 8, 53, 23, 99, 70, 38]\n(150, 4)\n(140, 4)\n(10, 4)\n[1 2 2 0 0 1 0 1 1 0]\n",
     "output_type": "stream"
    }
   ]
  },
  {
   "cell_type": "code",
   "metadata": {
    "cell_id": "29998cabeb894600a3a4cd0bc129cc0b",
    "tags": [],
    "deepnote_to_be_reexecuted": false,
    "source_hash": "5f6b79ed",
    "execution_start": 1649783097716,
    "execution_millis": 48,
    "deepnote_cell_type": "code",
    "deepnote_cell_height": 747
   },
   "source": "def euclidean_distance(x, y):\n    \"\"\"Euclidean distance implementation.\n    Parameters\n    ----------\n    x, y: np.array\n    Return\n    ------\n    float: the Euclidean distance between x, y.\n    \"\"\"\n    return np.linalg.norm(x-y, axis=1) \n\ndef cosine_distance(x, y):\n    \"\"\"Cosine distance implementation.\n\n    Parameters\n    ----------\n    x, y: np.array\n\n    Return\n    ------\n    float: the Cosine distance between x, y.\n    \"\"\"\n    return np.abs(np.dot(x, y))/(np.linalg.norm(x) * np.linalg.norm(y))\n\ndef manhattan_distance(x, y):\n    \"\"\"Manhattan distance implementation.\n\n    Parameters\n    ----------\n    x, y: np.array\n\n    Return\n    ------\n    float: the Manhattan distance between x, y.\n    \"\"\"\n    return np.sum(np.abs(x-y))\n\n",
   "execution_count": 6,
   "outputs": []
  },
  {
   "cell_type": "code",
   "metadata": {
    "cell_id": "0d06d91a5e104c0f96e5e331793e8794",
    "tags": [],
    "deepnote_to_be_reexecuted": false,
    "source_hash": "8519a7c3",
    "execution_start": 1649783097765,
    "execution_millis": 3,
    "deepnote_cell_type": "code",
    "deepnote_cell_height": 487.5
   },
   "source": "%%time \n# Dopo aver pulito e sistemato i dati\n# Qui inizia il vero modello\n# Quindi qui calcoliamo il tempo di produzione dello stesso.\n\nmatrix = np.zeros((140, 1))\nfor row in test:\n    dis1 = euclidean_distance(camp,row)\n    dis_array1 = np.array(dis1).reshape(140,1)\n    matrix = np.concatenate((matrix, dis_array1),axis=1)\n\nmatrix = np.delete(matrix,0,axis=1)\nprint(matrix.shape) # Deve essere 140,10, dove 10 sono le dieci osservazioni test.\nprint(matrix[:5,:5])",
   "execution_count": 7,
   "outputs": [
    {
     "name": "stdout",
     "text": "(140, 10)\n[[2.89482297 4.64542786 6.21128006 0.6164414  0.92195445]\n [2.85482048 4.68294779 6.26178888 1.09087121 0.50990195]\n [3.03644529 4.84561658 6.44670458 1.08627805 0.43588989]\n [2.89136646 4.70956474 6.32297398 1.16619038 0.3       ]\n [2.94957624 4.68828327 6.26578008 0.6164414  0.92195445]]\nCPU times: user 2.46 ms, sys: 0 ns, total: 2.46 ms\nWall time: 2.57 ms\n",
     "output_type": "stream"
    }
   ]
  },
  {
   "cell_type": "code",
   "metadata": {
    "cell_id": "674c870549b74557bd5cbfc739343c59",
    "tags": [],
    "deepnote_to_be_reexecuted": false,
    "source_hash": "ef10b226",
    "execution_start": 1649783097765,
    "execution_millis": 76,
    "deepnote_table_state": {
     "pageSize": 10,
     "pageIndex": 0,
     "filters": [],
     "sortBy": []
    },
    "deepnote_table_loading": false,
    "deepnote_cell_type": "code",
    "deepnote_cell_height": 723
   },
   "source": "#kNN\n\nk = 6\n\n#Troviamo la matrice degli indici\n\nmatrix_ind = np.zeros((6, 1))\n\nfor col in range(10):\n    nn_id = np.array(matrix[:,col].argsort()[:k]).reshape(6,1)\n    matrix_ind = np.concatenate((matrix_ind, nn_id),axis=1)\n\nmatrix_ind = np.delete(matrix_ind,0,axis=1)\n\ndf_ind = pd.DataFrame(matrix_ind)\ndf_ind",
   "execution_count": 8,
   "outputs": [
    {
     "output_type": "execute_result",
     "execution_count": 8,
     "data": {
      "application/vnd.deepnote.dataframe.v3+json": {
       "column_count": 10,
       "row_count": 6,
       "columns": [
        {
         "name": 0,
         "dtype": "float64",
         "stats": {
          "unique_count": 6,
          "nan_count": 0,
          "min": "62.0",
          "max": "87.0",
          "histogram": [
           {
            "bin_start": 62,
            "bin_end": 64.5,
            "count": 2
           },
           {
            "bin_start": 64.5,
            "bin_end": 67,
            "count": 1
           },
           {
            "bin_start": 67,
            "bin_end": 69.5,
            "count": 0
           },
           {
            "bin_start": 69.5,
            "bin_end": 72,
            "count": 0
           },
           {
            "bin_start": 72,
            "bin_end": 74.5,
            "count": 0
           },
           {
            "bin_start": 74.5,
            "bin_end": 77,
            "count": 0
           },
           {
            "bin_start": 77,
            "bin_end": 79.5,
            "count": 0
           },
           {
            "bin_start": 79.5,
            "bin_end": 82,
            "count": 0
           },
           {
            "bin_start": 82,
            "bin_end": 84.5,
            "count": 1
           },
           {
            "bin_start": 84.5,
            "bin_end": 87,
            "count": 2
           }
          ]
         }
        },
        {
         "name": 1,
         "dtype": "float64",
         "stats": {
          "unique_count": 6,
          "nan_count": 0,
          "min": "95.0",
          "max": "137.0",
          "histogram": [
           {
            "bin_start": 95,
            "bin_end": 99.2,
            "count": 1
           },
           {
            "bin_start": 99.2,
            "bin_end": 103.4,
            "count": 1
           },
           {
            "bin_start": 103.4,
            "bin_end": 107.6,
            "count": 1
           },
           {
            "bin_start": 107.6,
            "bin_end": 111.8,
            "count": 0
           },
           {
            "bin_start": 111.8,
            "bin_end": 116,
            "count": 0
           },
           {
            "bin_start": 116,
            "bin_end": 120.2,
            "count": 1
           },
           {
            "bin_start": 120.2,
            "bin_end": 124.4,
            "count": 0
           },
           {
            "bin_start": 124.4,
            "bin_end": 128.6,
            "count": 1
           },
           {
            "bin_start": 128.6,
            "bin_end": 132.8,
            "count": 0
           },
           {
            "bin_start": 132.8,
            "bin_end": 137,
            "count": 1
           }
          ]
         }
        },
        {
         "name": 2,
         "dtype": "float64",
         "stats": {
          "unique_count": 6,
          "nan_count": 0,
          "min": "97.0",
          "max": "125.0",
          "histogram": [
           {
            "bin_start": 97,
            "bin_end": 99.8,
            "count": 2
           },
           {
            "bin_start": 99.8,
            "bin_end": 102.6,
            "count": 0
           },
           {
            "bin_start": 102.6,
            "bin_end": 105.4,
            "count": 0
           },
           {
            "bin_start": 105.4,
            "bin_end": 108.2,
            "count": 0
           },
           {
            "bin_start": 108.2,
            "bin_end": 111,
            "count": 1
           },
           {
            "bin_start": 111,
            "bin_end": 113.8,
            "count": 0
           },
           {
            "bin_start": 113.8,
            "bin_end": 116.6,
            "count": 1
           },
           {
            "bin_start": 116.6,
            "bin_end": 119.4,
            "count": 0
           },
           {
            "bin_start": 119.4,
            "bin_end": 122.2,
            "count": 1
           },
           {
            "bin_start": 122.2,
            "bin_end": 125,
            "count": 1
           }
          ]
         }
        },
        {
         "name": 3,
         "dtype": "float64",
         "stats": {
          "unique_count": 6,
          "nan_count": 0,
          "min": "8.0",
          "max": "44.0",
          "histogram": [
           {
            "bin_start": 8,
            "bin_end": 11.6,
            "count": 1
           },
           {
            "bin_start": 11.6,
            "bin_end": 15.2,
            "count": 0
           },
           {
            "bin_start": 15.2,
            "bin_end": 18.8,
            "count": 2
           },
           {
            "bin_start": 18.8,
            "bin_end": 22.4,
            "count": 0
           },
           {
            "bin_start": 22.4,
            "bin_end": 26,
            "count": 0
           },
           {
            "bin_start": 26,
            "bin_end": 29.6,
            "count": 0
           },
           {
            "bin_start": 29.6,
            "bin_end": 33.2,
            "count": 0
           },
           {
            "bin_start": 33.2,
            "bin_end": 36.8,
            "count": 0
           },
           {
            "bin_start": 36.8,
            "bin_end": 40.4,
            "count": 1
           },
           {
            "bin_start": 40.4,
            "bin_end": 44,
            "count": 2
           }
          ]
         }
        },
        {
         "name": 4,
         "dtype": "float64",
         "stats": {
          "unique_count": 6,
          "nan_count": 0,
          "min": "3.0",
          "max": "43.0",
          "histogram": [
           {
            "bin_start": 3,
            "bin_end": 7,
            "count": 1
           },
           {
            "bin_start": 7,
            "bin_end": 11,
            "count": 1
           },
           {
            "bin_start": 11,
            "bin_end": 15,
            "count": 1
           },
           {
            "bin_start": 15,
            "bin_end": 19,
            "count": 0
           },
           {
            "bin_start": 19,
            "bin_end": 23,
            "count": 0
           },
           {
            "bin_start": 23,
            "bin_end": 27,
            "count": 0
           },
           {
            "bin_start": 27,
            "bin_end": 31,
            "count": 0
           },
           {
            "bin_start": 31,
            "bin_end": 35,
            "count": 0
           },
           {
            "bin_start": 35,
            "bin_end": 39,
            "count": 1
           },
           {
            "bin_start": 39,
            "bin_end": 43,
            "count": 2
           }
          ]
         }
        },
        {
         "name": 5,
         "dtype": "float64",
         "stats": {
          "unique_count": 6,
          "nan_count": 0,
          "min": "64.0",
          "max": "87.0",
          "histogram": [
           {
            "bin_start": 64,
            "bin_end": 66.3,
            "count": 1
           },
           {
            "bin_start": 66.3,
            "bin_end": 68.6,
            "count": 0
           },
           {
            "bin_start": 68.6,
            "bin_end": 70.9,
            "count": 0
           },
           {
            "bin_start": 70.9,
            "bin_end": 73.2,
            "count": 0
           },
           {
            "bin_start": 73.2,
            "bin_end": 75.5,
            "count": 2
           },
           {
            "bin_start": 75.5,
            "bin_end": 77.8,
            "count": 0
           },
           {
            "bin_start": 77.8,
            "bin_end": 80.1,
            "count": 0
           },
           {
            "bin_start": 80.1,
            "bin_end": 82.4,
            "count": 1
           },
           {
            "bin_start": 82.4,
            "bin_end": 84.7,
            "count": 0
           },
           {
            "bin_start": 84.7,
            "bin_end": 87,
            "count": 2
           }
          ]
         }
        },
        {
         "name": 6,
         "dtype": "float64",
         "stats": {
          "unique_count": 6,
          "nan_count": 0,
          "min": "6.0",
          "max": "39.0",
          "histogram": [
           {
            "bin_start": 6,
            "bin_end": 9.3,
            "count": 1
           },
           {
            "bin_start": 9.3,
            "bin_end": 12.6,
            "count": 0
           },
           {
            "bin_start": 12.6,
            "bin_end": 15.899999999999999,
            "count": 1
           },
           {
            "bin_start": 15.899999999999999,
            "bin_end": 19.2,
            "count": 0
           },
           {
            "bin_start": 19.2,
            "bin_end": 22.5,
            "count": 0
           },
           {
            "bin_start": 22.5,
            "bin_end": 25.799999999999997,
            "count": 1
           },
           {
            "bin_start": 25.799999999999997,
            "bin_end": 29.099999999999998,
            "count": 1
           },
           {
            "bin_start": 29.099999999999998,
            "bin_end": 32.4,
            "count": 0
           },
           {
            "bin_start": 32.4,
            "bin_end": 35.7,
            "count": 1
           },
           {
            "bin_start": 35.7,
            "bin_end": 39,
            "count": 1
           }
          ]
         }
        },
        {
         "name": 7,
         "dtype": "float64",
         "stats": {
          "unique_count": 6,
          "nan_count": 0,
          "min": "62.0",
          "max": "89.0",
          "histogram": [
           {
            "bin_start": 62,
            "bin_end": 64.7,
            "count": 1
           },
           {
            "bin_start": 64.7,
            "bin_end": 67.4,
            "count": 0
           },
           {
            "bin_start": 67.4,
            "bin_end": 70.1,
            "count": 0
           },
           {
            "bin_start": 70.1,
            "bin_end": 72.8,
            "count": 0
           },
           {
            "bin_start": 72.8,
            "bin_end": 75.5,
            "count": 0
           },
           {
            "bin_start": 75.5,
            "bin_end": 78.2,
            "count": 0
           },
           {
            "bin_start": 78.2,
            "bin_end": 80.9,
            "count": 0
           },
           {
            "bin_start": 80.9,
            "bin_end": 83.6,
            "count": 1
           },
           {
            "bin_start": 83.6,
            "bin_end": 86.3,
            "count": 1
           },
           {
            "bin_start": 86.3,
            "bin_end": 89,
            "count": 3
           }
          ]
         }
        },
        {
         "name": 8,
         "dtype": "float64",
         "stats": {
          "unique_count": 6,
          "nan_count": 0,
          "min": "51.0",
          "max": "139.0",
          "histogram": [
           {
            "bin_start": 51,
            "bin_end": 59.8,
            "count": 1
           },
           {
            "bin_start": 59.8,
            "bin_end": 68.6,
            "count": 0
           },
           {
            "bin_start": 68.6,
            "bin_end": 77.4,
            "count": 0
           },
           {
            "bin_start": 77.4,
            "bin_end": 86.2,
            "count": 1
           },
           {
            "bin_start": 86.2,
            "bin_end": 95,
            "count": 0
           },
           {
            "bin_start": 95,
            "bin_end": 103.80000000000001,
            "count": 0
           },
           {
            "bin_start": 103.80000000000001,
            "bin_end": 112.60000000000001,
            "count": 0
           },
           {
            "bin_start": 112.60000000000001,
            "bin_end": 121.4,
            "count": 2
           },
           {
            "bin_start": 121.4,
            "bin_end": 130.2,
            "count": 1
           },
           {
            "bin_start": 130.2,
            "bin_end": 139,
            "count": 1
           }
          ]
         }
        },
        {
         "name": 9,
         "dtype": "float64",
         "stats": {
          "unique_count": 6,
          "nan_count": 0,
          "min": "2.0",
          "max": "43.0",
          "histogram": [
           {
            "bin_start": 2,
            "bin_end": 6.1,
            "count": 2
           },
           {
            "bin_start": 6.1,
            "bin_end": 10.2,
            "count": 0
           },
           {
            "bin_start": 10.2,
            "bin_end": 14.299999999999999,
            "count": 1
           },
           {
            "bin_start": 14.299999999999999,
            "bin_end": 18.4,
            "count": 0
           },
           {
            "bin_start": 18.4,
            "bin_end": 22.5,
            "count": 0
           },
           {
            "bin_start": 22.5,
            "bin_end": 26.599999999999998,
            "count": 0
           },
           {
            "bin_start": 26.599999999999998,
            "bin_end": 30.699999999999996,
            "count": 0
           },
           {
            "bin_start": 30.699999999999996,
            "bin_end": 34.8,
            "count": 0
           },
           {
            "bin_start": 34.8,
            "bin_end": 38.9,
            "count": 1
           },
           {
            "bin_start": 38.9,
            "bin_end": 43,
            "count": 2
           }
          ]
         }
        },
        {
         "name": "_deepnote_index_column",
         "dtype": "int64"
        }
       ],
       "rows": [
        {
         "0": 85,
         "1": 127,
         "2": 97,
         "3": 16,
         "4": 3,
         "5": 82,
         "6": 23,
         "7": 89,
         "8": 128,
         "9": 38,
         "_deepnote_index_column": 0
        },
        {
         "0": 62,
         "1": 95,
         "2": 109,
         "3": 8,
         "4": 38,
         "5": 74,
         "6": 39,
         "7": 87,
         "8": 117,
         "9": 11,
         "_deepnote_index_column": 1
        },
        {
         "0": 64,
         "1": 137,
         "2": 99,
         "3": 44,
         "4": 11,
         "5": 64,
         "6": 35,
         "7": 81,
         "8": 139,
         "9": 3,
         "_deepnote_index_column": 2
        },
        {
         "0": 65,
         "1": 103,
         "2": 120,
         "3": 40,
         "4": 43,
         "5": 75,
         "6": 6,
         "7": 88,
         "8": 78,
         "9": 43,
         "_deepnote_index_column": 3
        },
        {
         "0": 87,
         "1": 118,
         "2": 125,
         "3": 42,
         "4": 41,
         "5": 85,
         "6": 28,
         "7": 85,
         "8": 51,
         "9": 2,
         "_deepnote_index_column": 4
        },
        {
         "0": 82,
         "1": 104,
         "2": 115,
         "3": 17,
         "4": 10,
         "5": 87,
         "6": 15,
         "7": 62,
         "8": 116,
         "9": 41,
         "_deepnote_index_column": 5
        }
       ]
      },
      "text/plain": "      0      1      2     3     4     5     6     7      8     9\n0  85.0  127.0   97.0  16.0   3.0  82.0  23.0  89.0  128.0  38.0\n1  62.0   95.0  109.0   8.0  38.0  74.0  39.0  87.0  117.0  11.0\n2  64.0  137.0   99.0  44.0  11.0  64.0  35.0  81.0  139.0   3.0\n3  65.0  103.0  120.0  40.0  43.0  75.0   6.0  88.0   78.0  43.0\n4  87.0  118.0  125.0  42.0  41.0  85.0  28.0  85.0   51.0   2.0\n5  82.0  104.0  115.0  17.0  10.0  87.0  15.0  62.0  116.0  41.0",
      "text/html": "<div>\n<style scoped>\n    .dataframe tbody tr th:only-of-type {\n        vertical-align: middle;\n    }\n\n    .dataframe tbody tr th {\n        vertical-align: top;\n    }\n\n    .dataframe thead th {\n        text-align: right;\n    }\n</style>\n<table border=\"1\" class=\"dataframe\">\n  <thead>\n    <tr style=\"text-align: right;\">\n      <th></th>\n      <th>0</th>\n      <th>1</th>\n      <th>2</th>\n      <th>3</th>\n      <th>4</th>\n      <th>5</th>\n      <th>6</th>\n      <th>7</th>\n      <th>8</th>\n      <th>9</th>\n    </tr>\n  </thead>\n  <tbody>\n    <tr>\n      <th>0</th>\n      <td>85.0</td>\n      <td>127.0</td>\n      <td>97.0</td>\n      <td>16.0</td>\n      <td>3.0</td>\n      <td>82.0</td>\n      <td>23.0</td>\n      <td>89.0</td>\n      <td>128.0</td>\n      <td>38.0</td>\n    </tr>\n    <tr>\n      <th>1</th>\n      <td>62.0</td>\n      <td>95.0</td>\n      <td>109.0</td>\n      <td>8.0</td>\n      <td>38.0</td>\n      <td>74.0</td>\n      <td>39.0</td>\n      <td>87.0</td>\n      <td>117.0</td>\n      <td>11.0</td>\n    </tr>\n    <tr>\n      <th>2</th>\n      <td>64.0</td>\n      <td>137.0</td>\n      <td>99.0</td>\n      <td>44.0</td>\n      <td>11.0</td>\n      <td>64.0</td>\n      <td>35.0</td>\n      <td>81.0</td>\n      <td>139.0</td>\n      <td>3.0</td>\n    </tr>\n    <tr>\n      <th>3</th>\n      <td>65.0</td>\n      <td>103.0</td>\n      <td>120.0</td>\n      <td>40.0</td>\n      <td>43.0</td>\n      <td>75.0</td>\n      <td>6.0</td>\n      <td>88.0</td>\n      <td>78.0</td>\n      <td>43.0</td>\n    </tr>\n    <tr>\n      <th>4</th>\n      <td>87.0</td>\n      <td>118.0</td>\n      <td>125.0</td>\n      <td>42.0</td>\n      <td>41.0</td>\n      <td>85.0</td>\n      <td>28.0</td>\n      <td>85.0</td>\n      <td>51.0</td>\n      <td>2.0</td>\n    </tr>\n    <tr>\n      <th>5</th>\n      <td>82.0</td>\n      <td>104.0</td>\n      <td>115.0</td>\n      <td>17.0</td>\n      <td>10.0</td>\n      <td>87.0</td>\n      <td>15.0</td>\n      <td>62.0</td>\n      <td>116.0</td>\n      <td>41.0</td>\n    </tr>\n  </tbody>\n</table>\n</div>"
     },
     "metadata": {}
    }
   ]
  },
  {
   "cell_type": "code",
   "metadata": {
    "cell_id": "7885b74f72354c8bac4218af9d7462de",
    "tags": [],
    "deepnote_to_be_reexecuted": false,
    "source_hash": "92852fc6",
    "execution_start": 1649783097903,
    "execution_millis": 542,
    "deepnote_cell_type": "code",
    "deepnote_cell_height": 669
   },
   "source": "#Troviamo la matrice delle distanze\nmatrix_dis = np.zeros((6, 1))\n\n\nfor col in range(10):\n    index_col = matrix_ind[:,col].astype(int)\n    nn_dis = np.array(matrix[index_col,col]).reshape(6,1)\n    matrix_dis = np.concatenate((matrix_dis, nn_dis),axis=1)\n\nmatrix_dis = np.delete(matrix_dis,0,axis=1)\n\ndf_dis = pd.DataFrame(matrix_dis)\ndf_dis",
   "execution_count": 9,
   "outputs": [
    {
     "output_type": "execute_result",
     "execution_count": 9,
     "data": {
      "application/vnd.deepnote.dataframe.v3+json": {
       "column_count": 10,
       "row_count": 6,
       "columns": [
        {
         "name": 0,
         "dtype": "float64",
         "stats": {
          "unique_count": 6,
          "nan_count": 0,
          "min": "0.14142135623730964",
          "max": "0.3872983346207417",
          "histogram": [
           {
            "bin_start": 0.14142135623730964,
            "bin_end": 0.16600905407565286,
            "count": 1
           },
           {
            "bin_start": 0.16600905407565286,
            "bin_end": 0.19059675191399605,
            "count": 0
           },
           {
            "bin_start": 0.19059675191399605,
            "bin_end": 0.21518444975233925,
            "count": 0
           },
           {
            "bin_start": 0.21518444975233925,
            "bin_end": 0.23977214759068247,
            "count": 0
           },
           {
            "bin_start": 0.23977214759068247,
            "bin_end": 0.2643598454290257,
            "count": 0
           },
           {
            "bin_start": 0.2643598454290257,
            "bin_end": 0.2889475432673689,
            "count": 1
           },
           {
            "bin_start": 0.2889475432673689,
            "bin_end": 0.31353524110571207,
            "count": 1
           },
           {
            "bin_start": 0.31353524110571207,
            "bin_end": 0.3381229389440553,
            "count": 0
           },
           {
            "bin_start": 0.3381229389440553,
            "bin_end": 0.36271063678239845,
            "count": 1
           },
           {
            "bin_start": 0.36271063678239845,
            "bin_end": 0.3872983346207417,
            "count": 2
           }
          ]
         }
        },
        {
         "name": 1,
         "dtype": "float64",
         "stats": {
          "unique_count": 6,
          "nan_count": 0,
          "min": "0.1414213562373093",
          "max": "0.42426406871192845",
          "histogram": [
           {
            "bin_start": 0.1414213562373093,
            "bin_end": 0.16970562748477122,
            "count": 1
           },
           {
            "bin_start": 0.16970562748477122,
            "bin_end": 0.19798989873223313,
            "count": 0
           },
           {
            "bin_start": 0.19798989873223313,
            "bin_end": 0.22627416997969504,
            "count": 0
           },
           {
            "bin_start": 0.22627416997969504,
            "bin_end": 0.254558441227157,
            "count": 1
           },
           {
            "bin_start": 0.254558441227157,
            "bin_end": 0.2828427124746189,
            "count": 0
           },
           {
            "bin_start": 0.2828427124746189,
            "bin_end": 0.3111269837220808,
            "count": 0
           },
           {
            "bin_start": 0.3111269837220808,
            "bin_end": 0.3394112549695427,
            "count": 0
           },
           {
            "bin_start": 0.3394112549695427,
            "bin_end": 0.36769552621700463,
            "count": 1
           },
           {
            "bin_start": 0.36769552621700463,
            "bin_end": 0.39597979746446654,
            "count": 2
           },
           {
            "bin_start": 0.39597979746446654,
            "bin_end": 0.42426406871192845,
            "count": 1
           }
          ]
         }
        },
        {
         "name": 2,
         "dtype": "float64",
         "stats": {
          "unique_count": 6,
          "nan_count": 0,
          "min": "0.26457513110645964",
          "max": "0.9695359714832661",
          "histogram": [
           {
            "bin_start": 0.26457513110645964,
            "bin_end": 0.3350712151441403,
            "count": 1
           },
           {
            "bin_start": 0.3350712151441403,
            "bin_end": 0.4055672991818209,
            "count": 0
           },
           {
            "bin_start": 0.4055672991818209,
            "bin_end": 0.47606338321950153,
            "count": 1
           },
           {
            "bin_start": 0.47606338321950153,
            "bin_end": 0.5465594672571822,
            "count": 0
           },
           {
            "bin_start": 0.5465594672571822,
            "bin_end": 0.6170555512948628,
            "count": 1
           },
           {
            "bin_start": 0.6170555512948628,
            "bin_end": 0.6875516353325435,
            "count": 1
           },
           {
            "bin_start": 0.6875516353325435,
            "bin_end": 0.7580477193702241,
            "count": 1
           },
           {
            "bin_start": 0.7580477193702241,
            "bin_end": 0.8285438034079047,
            "count": 0
           },
           {
            "bin_start": 0.8285438034079047,
            "bin_end": 0.8990398874455854,
            "count": 0
           },
           {
            "bin_start": 0.8990398874455854,
            "bin_end": 0.9695359714832661,
            "count": 1
           }
          ]
         }
        },
        {
         "name": 3,
         "dtype": "float64",
         "stats": {
          "unique_count": 5,
          "nan_count": 0,
          "min": "0.33166247903553986",
          "max": "0.38729833462074226",
          "histogram": [
           {
            "bin_start": 0.33166247903553986,
            "bin_end": 0.3372260645940601,
            "count": 1
           },
           {
            "bin_start": 0.3372260645940601,
            "bin_end": 0.34278965015258034,
            "count": 0
           },
           {
            "bin_start": 0.34278965015258034,
            "bin_end": 0.34835323571110055,
            "count": 1
           },
           {
            "bin_start": 0.34835323571110055,
            "bin_end": 0.3539168212696208,
            "count": 0
           },
           {
            "bin_start": 0.3539168212696208,
            "bin_end": 0.3594804068281411,
            "count": 0
           },
           {
            "bin_start": 0.3594804068281411,
            "bin_end": 0.3650439923866613,
            "count": 1
           },
           {
            "bin_start": 0.3650439923866613,
            "bin_end": 0.3706075779451815,
            "count": 0
           },
           {
            "bin_start": 0.3706075779451815,
            "bin_end": 0.3761711635037018,
            "count": 1
           },
           {
            "bin_start": 0.3761711635037018,
            "bin_end": 0.38173474906222205,
            "count": 0
           },
           {
            "bin_start": 0.38173474906222205,
            "bin_end": 0.38729833462074226,
            "count": 2
           }
          ]
         }
        },
        {
         "name": 4,
         "dtype": "float64",
         "stats": {
          "unique_count": 5,
          "nan_count": 0,
          "min": "0.2999999999999997",
          "max": "0.42426406871192807",
          "histogram": [
           {
            "bin_start": 0.2999999999999997,
            "bin_end": 0.31242640687119255,
            "count": 1
           },
           {
            "bin_start": 0.31242640687119255,
            "bin_end": 0.3248528137423854,
            "count": 1
           },
           {
            "bin_start": 0.3248528137423854,
            "bin_end": 0.33727922061357823,
            "count": 0
           },
           {
            "bin_start": 0.33727922061357823,
            "bin_end": 0.3497056274847711,
            "count": 1
           },
           {
            "bin_start": 0.3497056274847711,
            "bin_end": 0.36213203435596386,
            "count": 1
           },
           {
            "bin_start": 0.36213203435596386,
            "bin_end": 0.37455844122715676,
            "count": 0
           },
           {
            "bin_start": 0.37455844122715676,
            "bin_end": 0.38698484809834954,
            "count": 0
           },
           {
            "bin_start": 0.38698484809834954,
            "bin_end": 0.3994112549695424,
            "count": 0
           },
           {
            "bin_start": 0.3994112549695424,
            "bin_end": 0.4118376618407352,
            "count": 0
           },
           {
            "bin_start": 0.4118376618407352,
            "bin_end": 0.42426406871192807,
            "count": 2
           }
          ]
         }
        },
        {
         "name": 5,
         "dtype": "float64",
         "stats": {
          "unique_count": 6,
          "nan_count": 0,
          "min": "0.20000000000000018",
          "max": "0.45825756949558427",
          "histogram": [
           {
            "bin_start": 0.20000000000000018,
            "bin_end": 0.2258257569495586,
            "count": 1
           },
           {
            "bin_start": 0.2258257569495586,
            "bin_end": 0.251651513899117,
            "count": 0
           },
           {
            "bin_start": 0.251651513899117,
            "bin_end": 0.2774772708486754,
            "count": 0
           },
           {
            "bin_start": 0.2774772708486754,
            "bin_end": 0.3033030277982338,
            "count": 1
           },
           {
            "bin_start": 0.3033030277982338,
            "bin_end": 0.3291287847477922,
            "count": 1
           },
           {
            "bin_start": 0.3291287847477922,
            "bin_end": 0.35495454169735063,
            "count": 0
           },
           {
            "bin_start": 0.35495454169735063,
            "bin_end": 0.38078029864690904,
            "count": 0
           },
           {
            "bin_start": 0.38078029864690904,
            "bin_end": 0.40660605559646745,
            "count": 0
           },
           {
            "bin_start": 0.40660605559646745,
            "bin_end": 0.43243181254602586,
            "count": 0
           },
           {
            "bin_start": 0.43243181254602586,
            "bin_end": 0.45825756949558427,
            "count": 3
           }
          ]
         }
        },
        {
         "name": 6,
         "dtype": "float64",
         "stats": {
          "unique_count": 6,
          "nan_count": 0,
          "min": "0.1999999999999998",
          "max": "0.4123105625617662",
          "histogram": [
           {
            "bin_start": 0.1999999999999998,
            "bin_end": 0.22123105625617642,
            "count": 1
           },
           {
            "bin_start": 0.22123105625617642,
            "bin_end": 0.24246211251235306,
            "count": 0
           },
           {
            "bin_start": 0.24246211251235306,
            "bin_end": 0.2636931687685297,
            "count": 0
           },
           {
            "bin_start": 0.2636931687685297,
            "bin_end": 0.2849242250247064,
            "count": 1
           },
           {
            "bin_start": 0.2849242250247064,
            "bin_end": 0.306155281280883,
            "count": 0
           },
           {
            "bin_start": 0.306155281280883,
            "bin_end": 0.32738633753705965,
            "count": 0
           },
           {
            "bin_start": 0.32738633753705965,
            "bin_end": 0.3486173937932363,
            "count": 0
           },
           {
            "bin_start": 0.3486173937932363,
            "bin_end": 0.3698484500494129,
            "count": 0
           },
           {
            "bin_start": 0.3698484500494129,
            "bin_end": 0.3910795063055895,
            "count": 3
           },
           {
            "bin_start": 0.3910795063055895,
            "bin_end": 0.4123105625617662,
            "count": 1
           }
          ]
         }
        },
        {
         "name": 7,
         "dtype": "float64",
         "stats": {
          "unique_count": 6,
          "nan_count": 0,
          "min": "0.14142135623730995",
          "max": "0.3316624790355398",
          "histogram": [
           {
            "bin_start": 0.14142135623730995,
            "bin_end": 0.16044546851713293,
            "count": 1
           },
           {
            "bin_start": 0.16044546851713293,
            "bin_end": 0.1794695807969559,
            "count": 1
           },
           {
            "bin_start": 0.1794695807969559,
            "bin_end": 0.19849369307677892,
            "count": 0
           },
           {
            "bin_start": 0.19849369307677892,
            "bin_end": 0.2175178053566019,
            "count": 0
           },
           {
            "bin_start": 0.2175178053566019,
            "bin_end": 0.23654191763642488,
            "count": 1
           },
           {
            "bin_start": 0.23654191763642488,
            "bin_end": 0.2555660299162479,
            "count": 1
           },
           {
            "bin_start": 0.2555660299162479,
            "bin_end": 0.27459014219607086,
            "count": 1
           },
           {
            "bin_start": 0.27459014219607086,
            "bin_end": 0.29361425447589384,
            "count": 0
           },
           {
            "bin_start": 0.29361425447589384,
            "bin_end": 0.3126383667557168,
            "count": 0
           },
           {
            "bin_start": 0.3126383667557168,
            "bin_end": 0.3316624790355398,
            "count": 1
           }
          ]
         }
        },
        {
         "name": 8,
         "dtype": "float64",
         "stats": {
          "unique_count": 6,
          "nan_count": 0,
          "min": "0.22360679774997896",
          "max": "0.5000000000000001",
          "histogram": [
           {
            "bin_start": 0.22360679774997896,
            "bin_end": 0.2512461179749811,
            "count": 1
           },
           {
            "bin_start": 0.2512461179749811,
            "bin_end": 0.2788854381999832,
            "count": 0
           },
           {
            "bin_start": 0.2788854381999832,
            "bin_end": 0.3065247584249853,
            "count": 1
           },
           {
            "bin_start": 0.3065247584249853,
            "bin_end": 0.33416407864998743,
            "count": 0
           },
           {
            "bin_start": 0.33416407864998743,
            "bin_end": 0.3618033988749896,
            "count": 1
           },
           {
            "bin_start": 0.3618033988749896,
            "bin_end": 0.3894427190999916,
            "count": 0
           },
           {
            "bin_start": 0.3894427190999916,
            "bin_end": 0.41708203932499377,
            "count": 0
           },
           {
            "bin_start": 0.41708203932499377,
            "bin_end": 0.4447213595499959,
            "count": 1
           },
           {
            "bin_start": 0.4447213595499959,
            "bin_end": 0.472360679774998,
            "count": 1
           },
           {
            "bin_start": 0.472360679774998,
            "bin_end": 0.5000000000000001,
            "count": 1
           }
          ]
         }
        },
        {
         "name": 9,
         "dtype": "float64",
         "stats": {
          "unique_count": 6,
          "nan_count": 0,
          "min": "0.20000000000000018",
          "max": "0.424264068711928",
          "histogram": [
           {
            "bin_start": 0.20000000000000018,
            "bin_end": 0.22242640687119297,
            "count": 1
           },
           {
            "bin_start": 0.22242640687119297,
            "bin_end": 0.24485281374238574,
            "count": 0
           },
           {
            "bin_start": 0.24485281374238574,
            "bin_end": 0.26727922061357856,
            "count": 1
           },
           {
            "bin_start": 0.26727922061357856,
            "bin_end": 0.2897056274847713,
            "count": 0
           },
           {
            "bin_start": 0.2897056274847713,
            "bin_end": 0.3121320343559641,
            "count": 2
           },
           {
            "bin_start": 0.3121320343559641,
            "bin_end": 0.3345584412271569,
            "count": 0
           },
           {
            "bin_start": 0.3345584412271569,
            "bin_end": 0.3569848480983496,
            "count": 0
           },
           {
            "bin_start": 0.3569848480983496,
            "bin_end": 0.3794112549695424,
            "count": 1
           },
           {
            "bin_start": 0.3794112549695424,
            "bin_end": 0.4018376618407352,
            "count": 0
           },
           {
            "bin_start": 0.4018376618407352,
            "bin_end": 0.424264068711928,
            "count": 1
           }
          ]
         }
        },
        {
         "name": "_deepnote_index_column",
         "dtype": "int64"
        }
       ],
       "rows": [
        {
         "0": 0.14142135623730964,
         "1": 0.1414213562373093,
         "2": 0.26457513110645964,
         "3": 0.33166247903553986,
         "4": 0.2999999999999997,
         "5": 0.20000000000000018,
         "6": 0.1999999999999998,
         "7": 0.14142135623730995,
         "8": 0.22360679774997896,
         "9": 0.20000000000000018,
         "_deepnote_index_column": 0
        },
        {
         "0": 0.2828427124746188,
         "1": 0.24494897427831783,
         "2": 0.4123105625617659,
         "3": 0.3464101615137753,
         "4": 0.31622776601683816,
         "5": 0.3000000000000001,
         "6": 0.264575131106459,
         "7": 0.17320508075688815,
         "8": 0.2999999999999998,
         "9": 0.244948974278318,
         "_deepnote_index_column": 1
        },
        {
         "0": 0.30000000000000016,
         "1": 0.3605551275463988,
         "2": 0.6082762530298225,
         "3": 0.36055512754639896,
         "4": 0.3464101615137755,
         "5": 0.31622776601683794,
         "6": 0.3741657386773941,
         "7": 0.22360679774997935,
         "8": 0.3605551275463989,
         "9": 0.29999999999999954,
         "_deepnote_index_column": 2
        },
        {
         "0": 0.3464101615137753,
         "1": 0.38729833462074154,
         "2": 0.6782329983125273,
         "3": 0.3741657386773947,
         "4": 0.3605551275463988,
         "5": 0.4358898943540673,
         "6": 0.3872983346207416,
         "7": 0.24494897427831822,
         "8": 0.4242640687119282,
         "9": 0.2999999999999996,
         "_deepnote_index_column": 3
        },
        {
         "0": 0.37416573867739444,
         "1": 0.38729833462074165,
         "2": 0.7000000000000005,
         "3": 0.38729833462074226,
         "4": 0.42426406871192807,
         "5": 0.43588989435406744,
         "6": 0.3872983346207422,
         "7": 0.26457513110645864,
         "8": 0.46904157598234236,
         "9": 0.3605551275463989,
         "_deepnote_index_column": 4
        },
        {
         "0": 0.3872983346207417,
         "1": 0.42426406871192845,
         "2": 0.9695359714832661,
         "3": 0.38729833462074226,
         "4": 0.42426406871192807,
         "5": 0.45825756949558427,
         "6": 0.4123105625617662,
         "7": 0.3316624790355398,
         "8": 0.5000000000000001,
         "9": 0.424264068711928,
         "_deepnote_index_column": 5
        }
       ]
      },
      "text/plain": "          0         1         2         3         4         5         6  \\\n0  0.141421  0.141421  0.264575  0.331662  0.300000  0.200000  0.200000   \n1  0.282843  0.244949  0.412311  0.346410  0.316228  0.300000  0.264575   \n2  0.300000  0.360555  0.608276  0.360555  0.346410  0.316228  0.374166   \n3  0.346410  0.387298  0.678233  0.374166  0.360555  0.435890  0.387298   \n4  0.374166  0.387298  0.700000  0.387298  0.424264  0.435890  0.387298   \n5  0.387298  0.424264  0.969536  0.387298  0.424264  0.458258  0.412311   \n\n          7         8         9  \n0  0.141421  0.223607  0.200000  \n1  0.173205  0.300000  0.244949  \n2  0.223607  0.360555  0.300000  \n3  0.244949  0.424264  0.300000  \n4  0.264575  0.469042  0.360555  \n5  0.331662  0.500000  0.424264  ",
      "text/html": "<div>\n<style scoped>\n    .dataframe tbody tr th:only-of-type {\n        vertical-align: middle;\n    }\n\n    .dataframe tbody tr th {\n        vertical-align: top;\n    }\n\n    .dataframe thead th {\n        text-align: right;\n    }\n</style>\n<table border=\"1\" class=\"dataframe\">\n  <thead>\n    <tr style=\"text-align: right;\">\n      <th></th>\n      <th>0</th>\n      <th>1</th>\n      <th>2</th>\n      <th>3</th>\n      <th>4</th>\n      <th>5</th>\n      <th>6</th>\n      <th>7</th>\n      <th>8</th>\n      <th>9</th>\n    </tr>\n  </thead>\n  <tbody>\n    <tr>\n      <th>0</th>\n      <td>0.141421</td>\n      <td>0.141421</td>\n      <td>0.264575</td>\n      <td>0.331662</td>\n      <td>0.300000</td>\n      <td>0.200000</td>\n      <td>0.200000</td>\n      <td>0.141421</td>\n      <td>0.223607</td>\n      <td>0.200000</td>\n    </tr>\n    <tr>\n      <th>1</th>\n      <td>0.282843</td>\n      <td>0.244949</td>\n      <td>0.412311</td>\n      <td>0.346410</td>\n      <td>0.316228</td>\n      <td>0.300000</td>\n      <td>0.264575</td>\n      <td>0.173205</td>\n      <td>0.300000</td>\n      <td>0.244949</td>\n    </tr>\n    <tr>\n      <th>2</th>\n      <td>0.300000</td>\n      <td>0.360555</td>\n      <td>0.608276</td>\n      <td>0.360555</td>\n      <td>0.346410</td>\n      <td>0.316228</td>\n      <td>0.374166</td>\n      <td>0.223607</td>\n      <td>0.360555</td>\n      <td>0.300000</td>\n    </tr>\n    <tr>\n      <th>3</th>\n      <td>0.346410</td>\n      <td>0.387298</td>\n      <td>0.678233</td>\n      <td>0.374166</td>\n      <td>0.360555</td>\n      <td>0.435890</td>\n      <td>0.387298</td>\n      <td>0.244949</td>\n      <td>0.424264</td>\n      <td>0.300000</td>\n    </tr>\n    <tr>\n      <th>4</th>\n      <td>0.374166</td>\n      <td>0.387298</td>\n      <td>0.700000</td>\n      <td>0.387298</td>\n      <td>0.424264</td>\n      <td>0.435890</td>\n      <td>0.387298</td>\n      <td>0.264575</td>\n      <td>0.469042</td>\n      <td>0.360555</td>\n    </tr>\n    <tr>\n      <th>5</th>\n      <td>0.387298</td>\n      <td>0.424264</td>\n      <td>0.969536</td>\n      <td>0.387298</td>\n      <td>0.424264</td>\n      <td>0.458258</td>\n      <td>0.412311</td>\n      <td>0.331662</td>\n      <td>0.500000</td>\n      <td>0.424264</td>\n    </tr>\n  </tbody>\n</table>\n</div>"
     },
     "metadata": {}
    }
   ]
  },
  {
   "cell_type": "code",
   "metadata": {
    "cell_id": "7ae5b64e9bbc42f880b1de7190f5cc69",
    "tags": [],
    "deepnote_to_be_reexecuted": false,
    "source_hash": "b5716e6e",
    "execution_start": 1649783097927,
    "execution_millis": 521,
    "deepnote_cell_type": "code",
    "deepnote_cell_height": 615
   },
   "source": "#Valori della variabile risposta\nmatrix_y = np.zeros((6, 1))\n\nfor col in range(10):\n    index_col2 = matrix_ind[:,col].astype(int).reshape(6,1)\n    matrix_y = np.concatenate((matrix_y, Y_camp[index_col2,0]),axis=1)\n\nmatrix_y = np.delete(matrix_y,0,axis=1)\ndf_y = pd.DataFrame(matrix_y)\ndf_y",
   "execution_count": 10,
   "outputs": [
    {
     "output_type": "execute_result",
     "execution_count": 10,
     "data": {
      "application/vnd.deepnote.dataframe.v3+json": {
       "column_count": 10,
       "row_count": 6,
       "columns": [
        {
         "name": 0,
         "dtype": "float64",
         "stats": {
          "unique_count": 1,
          "nan_count": 0,
          "min": "1.0",
          "max": "1.0",
          "histogram": [
           {
            "bin_start": 0.5,
            "bin_end": 0.6,
            "count": 0
           },
           {
            "bin_start": 0.6,
            "bin_end": 0.7,
            "count": 0
           },
           {
            "bin_start": 0.7,
            "bin_end": 0.8,
            "count": 0
           },
           {
            "bin_start": 0.8,
            "bin_end": 0.9,
            "count": 0
           },
           {
            "bin_start": 0.9,
            "bin_end": 1,
            "count": 0
           },
           {
            "bin_start": 1,
            "bin_end": 1.1,
            "count": 6
           },
           {
            "bin_start": 1.1,
            "bin_end": 1.2000000000000002,
            "count": 0
           },
           {
            "bin_start": 1.2000000000000002,
            "bin_end": 1.3,
            "count": 0
           },
           {
            "bin_start": 1.3,
            "bin_end": 1.4,
            "count": 0
           },
           {
            "bin_start": 1.4,
            "bin_end": 1.5,
            "count": 0
           }
          ]
         }
        },
        {
         "name": 1,
         "dtype": "float64",
         "stats": {
          "unique_count": 1,
          "nan_count": 0,
          "min": "2.0",
          "max": "2.0",
          "histogram": [
           {
            "bin_start": 1.5,
            "bin_end": 1.6,
            "count": 0
           },
           {
            "bin_start": 1.6,
            "bin_end": 1.7,
            "count": 0
           },
           {
            "bin_start": 1.7,
            "bin_end": 1.8,
            "count": 0
           },
           {
            "bin_start": 1.8,
            "bin_end": 1.9,
            "count": 0
           },
           {
            "bin_start": 1.9,
            "bin_end": 2,
            "count": 0
           },
           {
            "bin_start": 2,
            "bin_end": 2.1,
            "count": 6
           },
           {
            "bin_start": 2.1,
            "bin_end": 2.2,
            "count": 0
           },
           {
            "bin_start": 2.2,
            "bin_end": 2.3,
            "count": 0
           },
           {
            "bin_start": 2.3,
            "bin_end": 2.4,
            "count": 0
           },
           {
            "bin_start": 2.4,
            "bin_end": 2.5,
            "count": 0
           }
          ]
         }
        },
        {
         "name": 2,
         "dtype": "float64",
         "stats": {
          "unique_count": 1,
          "nan_count": 0,
          "min": "2.0",
          "max": "2.0",
          "histogram": [
           {
            "bin_start": 1.5,
            "bin_end": 1.6,
            "count": 0
           },
           {
            "bin_start": 1.6,
            "bin_end": 1.7,
            "count": 0
           },
           {
            "bin_start": 1.7,
            "bin_end": 1.8,
            "count": 0
           },
           {
            "bin_start": 1.8,
            "bin_end": 1.9,
            "count": 0
           },
           {
            "bin_start": 1.9,
            "bin_end": 2,
            "count": 0
           },
           {
            "bin_start": 2,
            "bin_end": 2.1,
            "count": 6
           },
           {
            "bin_start": 2.1,
            "bin_end": 2.2,
            "count": 0
           },
           {
            "bin_start": 2.2,
            "bin_end": 2.3,
            "count": 0
           },
           {
            "bin_start": 2.3,
            "bin_end": 2.4,
            "count": 0
           },
           {
            "bin_start": 2.4,
            "bin_end": 2.5,
            "count": 0
           }
          ]
         }
        },
        {
         "name": 3,
         "dtype": "float64",
         "stats": {
          "unique_count": 1,
          "nan_count": 0,
          "min": "0.0",
          "max": "0.0",
          "histogram": [
           {
            "bin_start": -0.5,
            "bin_end": -0.4,
            "count": 0
           },
           {
            "bin_start": -0.4,
            "bin_end": -0.3,
            "count": 0
           },
           {
            "bin_start": -0.3,
            "bin_end": -0.19999999999999996,
            "count": 0
           },
           {
            "bin_start": -0.19999999999999996,
            "bin_end": -0.09999999999999998,
            "count": 0
           },
           {
            "bin_start": -0.09999999999999998,
            "bin_end": 0,
            "count": 0
           },
           {
            "bin_start": 0,
            "bin_end": 0.10000000000000009,
            "count": 6
           },
           {
            "bin_start": 0.10000000000000009,
            "bin_end": 0.20000000000000007,
            "count": 0
           },
           {
            "bin_start": 0.20000000000000007,
            "bin_end": 0.30000000000000004,
            "count": 0
           },
           {
            "bin_start": 0.30000000000000004,
            "bin_end": 0.4,
            "count": 0
           },
           {
            "bin_start": 0.4,
            "bin_end": 0.5,
            "count": 0
           }
          ]
         }
        },
        {
         "name": 4,
         "dtype": "float64",
         "stats": {
          "unique_count": 1,
          "nan_count": 0,
          "min": "0.0",
          "max": "0.0",
          "histogram": [
           {
            "bin_start": -0.5,
            "bin_end": -0.4,
            "count": 0
           },
           {
            "bin_start": -0.4,
            "bin_end": -0.3,
            "count": 0
           },
           {
            "bin_start": -0.3,
            "bin_end": -0.19999999999999996,
            "count": 0
           },
           {
            "bin_start": -0.19999999999999996,
            "bin_end": -0.09999999999999998,
            "count": 0
           },
           {
            "bin_start": -0.09999999999999998,
            "bin_end": 0,
            "count": 0
           },
           {
            "bin_start": 0,
            "bin_end": 0.10000000000000009,
            "count": 6
           },
           {
            "bin_start": 0.10000000000000009,
            "bin_end": 0.20000000000000007,
            "count": 0
           },
           {
            "bin_start": 0.20000000000000007,
            "bin_end": 0.30000000000000004,
            "count": 0
           },
           {
            "bin_start": 0.30000000000000004,
            "bin_end": 0.4,
            "count": 0
           },
           {
            "bin_start": 0.4,
            "bin_end": 0.5,
            "count": 0
           }
          ]
         }
        },
        {
         "name": 5,
         "dtype": "float64",
         "stats": {
          "unique_count": 1,
          "nan_count": 0,
          "min": "1.0",
          "max": "1.0",
          "histogram": [
           {
            "bin_start": 0.5,
            "bin_end": 0.6,
            "count": 0
           },
           {
            "bin_start": 0.6,
            "bin_end": 0.7,
            "count": 0
           },
           {
            "bin_start": 0.7,
            "bin_end": 0.8,
            "count": 0
           },
           {
            "bin_start": 0.8,
            "bin_end": 0.9,
            "count": 0
           },
           {
            "bin_start": 0.9,
            "bin_end": 1,
            "count": 0
           },
           {
            "bin_start": 1,
            "bin_end": 1.1,
            "count": 6
           },
           {
            "bin_start": 1.1,
            "bin_end": 1.2000000000000002,
            "count": 0
           },
           {
            "bin_start": 1.2000000000000002,
            "bin_end": 1.3,
            "count": 0
           },
           {
            "bin_start": 1.3,
            "bin_end": 1.4,
            "count": 0
           },
           {
            "bin_start": 1.4,
            "bin_end": 1.5,
            "count": 0
           }
          ]
         }
        },
        {
         "name": 6,
         "dtype": "float64",
         "stats": {
          "unique_count": 1,
          "nan_count": 0,
          "min": "0.0",
          "max": "0.0",
          "histogram": [
           {
            "bin_start": -0.5,
            "bin_end": -0.4,
            "count": 0
           },
           {
            "bin_start": -0.4,
            "bin_end": -0.3,
            "count": 0
           },
           {
            "bin_start": -0.3,
            "bin_end": -0.19999999999999996,
            "count": 0
           },
           {
            "bin_start": -0.19999999999999996,
            "bin_end": -0.09999999999999998,
            "count": 0
           },
           {
            "bin_start": -0.09999999999999998,
            "bin_end": 0,
            "count": 0
           },
           {
            "bin_start": 0,
            "bin_end": 0.10000000000000009,
            "count": 6
           },
           {
            "bin_start": 0.10000000000000009,
            "bin_end": 0.20000000000000007,
            "count": 0
           },
           {
            "bin_start": 0.20000000000000007,
            "bin_end": 0.30000000000000004,
            "count": 0
           },
           {
            "bin_start": 0.30000000000000004,
            "bin_end": 0.4,
            "count": 0
           },
           {
            "bin_start": 0.4,
            "bin_end": 0.5,
            "count": 0
           }
          ]
         }
        },
        {
         "name": 7,
         "dtype": "float64",
         "stats": {
          "unique_count": 1,
          "nan_count": 0,
          "min": "1.0",
          "max": "1.0",
          "histogram": [
           {
            "bin_start": 0.5,
            "bin_end": 0.6,
            "count": 0
           },
           {
            "bin_start": 0.6,
            "bin_end": 0.7,
            "count": 0
           },
           {
            "bin_start": 0.7,
            "bin_end": 0.8,
            "count": 0
           },
           {
            "bin_start": 0.8,
            "bin_end": 0.9,
            "count": 0
           },
           {
            "bin_start": 0.9,
            "bin_end": 1,
            "count": 0
           },
           {
            "bin_start": 1,
            "bin_end": 1.1,
            "count": 6
           },
           {
            "bin_start": 1.1,
            "bin_end": 1.2000000000000002,
            "count": 0
           },
           {
            "bin_start": 1.2000000000000002,
            "bin_end": 1.3,
            "count": 0
           },
           {
            "bin_start": 1.3,
            "bin_end": 1.4,
            "count": 0
           },
           {
            "bin_start": 1.4,
            "bin_end": 1.5,
            "count": 0
           }
          ]
         }
        },
        {
         "name": 8,
         "dtype": "float64",
         "stats": {
          "unique_count": 2,
          "nan_count": 0,
          "min": "1.0",
          "max": "2.0",
          "histogram": [
           {
            "bin_start": 1,
            "bin_end": 1.1,
            "count": 2
           },
           {
            "bin_start": 1.1,
            "bin_end": 1.2,
            "count": 0
           },
           {
            "bin_start": 1.2,
            "bin_end": 1.3,
            "count": 0
           },
           {
            "bin_start": 1.3,
            "bin_end": 1.4,
            "count": 0
           },
           {
            "bin_start": 1.4,
            "bin_end": 1.5,
            "count": 0
           },
           {
            "bin_start": 1.5,
            "bin_end": 1.6,
            "count": 0
           },
           {
            "bin_start": 1.6,
            "bin_end": 1.7000000000000002,
            "count": 0
           },
           {
            "bin_start": 1.7000000000000002,
            "bin_end": 1.8,
            "count": 0
           },
           {
            "bin_start": 1.8,
            "bin_end": 1.9,
            "count": 0
           },
           {
            "bin_start": 1.9,
            "bin_end": 2,
            "count": 4
           }
          ]
         }
        },
        {
         "name": 9,
         "dtype": "float64",
         "stats": {
          "unique_count": 1,
          "nan_count": 0,
          "min": "0.0",
          "max": "0.0",
          "histogram": [
           {
            "bin_start": -0.5,
            "bin_end": -0.4,
            "count": 0
           },
           {
            "bin_start": -0.4,
            "bin_end": -0.3,
            "count": 0
           },
           {
            "bin_start": -0.3,
            "bin_end": -0.19999999999999996,
            "count": 0
           },
           {
            "bin_start": -0.19999999999999996,
            "bin_end": -0.09999999999999998,
            "count": 0
           },
           {
            "bin_start": -0.09999999999999998,
            "bin_end": 0,
            "count": 0
           },
           {
            "bin_start": 0,
            "bin_end": 0.10000000000000009,
            "count": 6
           },
           {
            "bin_start": 0.10000000000000009,
            "bin_end": 0.20000000000000007,
            "count": 0
           },
           {
            "bin_start": 0.20000000000000007,
            "bin_end": 0.30000000000000004,
            "count": 0
           },
           {
            "bin_start": 0.30000000000000004,
            "bin_end": 0.4,
            "count": 0
           },
           {
            "bin_start": 0.4,
            "bin_end": 0.5,
            "count": 0
           }
          ]
         }
        },
        {
         "name": "_deepnote_index_column",
         "dtype": "int64"
        }
       ],
       "rows": [
        {
         "0": 1,
         "1": 2,
         "2": 2,
         "3": 0,
         "4": 0,
         "5": 1,
         "6": 0,
         "7": 1,
         "8": 2,
         "9": 0,
         "_deepnote_index_column": 0
        },
        {
         "0": 1,
         "1": 2,
         "2": 2,
         "3": 0,
         "4": 0,
         "5": 1,
         "6": 0,
         "7": 1,
         "8": 2,
         "9": 0,
         "_deepnote_index_column": 1
        },
        {
         "0": 1,
         "1": 2,
         "2": 2,
         "3": 0,
         "4": 0,
         "5": 1,
         "6": 0,
         "7": 1,
         "8": 2,
         "9": 0,
         "_deepnote_index_column": 2
        },
        {
         "0": 1,
         "1": 2,
         "2": 2,
         "3": 0,
         "4": 0,
         "5": 1,
         "6": 0,
         "7": 1,
         "8": 1,
         "9": 0,
         "_deepnote_index_column": 3
        },
        {
         "0": 1,
         "1": 2,
         "2": 2,
         "3": 0,
         "4": 0,
         "5": 1,
         "6": 0,
         "7": 1,
         "8": 1,
         "9": 0,
         "_deepnote_index_column": 4
        },
        {
         "0": 1,
         "1": 2,
         "2": 2,
         "3": 0,
         "4": 0,
         "5": 1,
         "6": 0,
         "7": 1,
         "8": 2,
         "9": 0,
         "_deepnote_index_column": 5
        }
       ]
      },
      "text/plain": "     0    1    2    3    4    5    6    7    8    9\n0  1.0  2.0  2.0  0.0  0.0  1.0  0.0  1.0  2.0  0.0\n1  1.0  2.0  2.0  0.0  0.0  1.0  0.0  1.0  2.0  0.0\n2  1.0  2.0  2.0  0.0  0.0  1.0  0.0  1.0  2.0  0.0\n3  1.0  2.0  2.0  0.0  0.0  1.0  0.0  1.0  1.0  0.0\n4  1.0  2.0  2.0  0.0  0.0  1.0  0.0  1.0  1.0  0.0\n5  1.0  2.0  2.0  0.0  0.0  1.0  0.0  1.0  2.0  0.0",
      "text/html": "<div>\n<style scoped>\n    .dataframe tbody tr th:only-of-type {\n        vertical-align: middle;\n    }\n\n    .dataframe tbody tr th {\n        vertical-align: top;\n    }\n\n    .dataframe thead th {\n        text-align: right;\n    }\n</style>\n<table border=\"1\" class=\"dataframe\">\n  <thead>\n    <tr style=\"text-align: right;\">\n      <th></th>\n      <th>0</th>\n      <th>1</th>\n      <th>2</th>\n      <th>3</th>\n      <th>4</th>\n      <th>5</th>\n      <th>6</th>\n      <th>7</th>\n      <th>8</th>\n      <th>9</th>\n    </tr>\n  </thead>\n  <tbody>\n    <tr>\n      <th>0</th>\n      <td>1.0</td>\n      <td>2.0</td>\n      <td>2.0</td>\n      <td>0.0</td>\n      <td>0.0</td>\n      <td>1.0</td>\n      <td>0.0</td>\n      <td>1.0</td>\n      <td>2.0</td>\n      <td>0.0</td>\n    </tr>\n    <tr>\n      <th>1</th>\n      <td>1.0</td>\n      <td>2.0</td>\n      <td>2.0</td>\n      <td>0.0</td>\n      <td>0.0</td>\n      <td>1.0</td>\n      <td>0.0</td>\n      <td>1.0</td>\n      <td>2.0</td>\n      <td>0.0</td>\n    </tr>\n    <tr>\n      <th>2</th>\n      <td>1.0</td>\n      <td>2.0</td>\n      <td>2.0</td>\n      <td>0.0</td>\n      <td>0.0</td>\n      <td>1.0</td>\n      <td>0.0</td>\n      <td>1.0</td>\n      <td>2.0</td>\n      <td>0.0</td>\n    </tr>\n    <tr>\n      <th>3</th>\n      <td>1.0</td>\n      <td>2.0</td>\n      <td>2.0</td>\n      <td>0.0</td>\n      <td>0.0</td>\n      <td>1.0</td>\n      <td>0.0</td>\n      <td>1.0</td>\n      <td>1.0</td>\n      <td>0.0</td>\n    </tr>\n    <tr>\n      <th>4</th>\n      <td>1.0</td>\n      <td>2.0</td>\n      <td>2.0</td>\n      <td>0.0</td>\n      <td>0.0</td>\n      <td>1.0</td>\n      <td>0.0</td>\n      <td>1.0</td>\n      <td>1.0</td>\n      <td>0.0</td>\n    </tr>\n    <tr>\n      <th>5</th>\n      <td>1.0</td>\n      <td>2.0</td>\n      <td>2.0</td>\n      <td>0.0</td>\n      <td>0.0</td>\n      <td>1.0</td>\n      <td>0.0</td>\n      <td>1.0</td>\n      <td>2.0</td>\n      <td>0.0</td>\n    </tr>\n  </tbody>\n</table>\n</div>"
     },
     "metadata": {}
    }
   ]
  },
  {
   "cell_type": "code",
   "metadata": {
    "cell_id": "91a4c2b16fca49b8b08b571844c97a23",
    "tags": [],
    "deepnote_to_be_reexecuted": false,
    "source_hash": "5399f17f",
    "execution_start": 1649783098088,
    "execution_millis": 293439782,
    "deepnote_cell_type": "code",
    "deepnote_cell_height": 674.5625
   },
   "source": "matrix_pred = np.zeros((3, 1))\n\nSetosa = []\n\nVersicolor= []\n\nVirginica = []\n\n \nfor col in range(10):\n    a1 = []\n    a2 = []\n    a3 = []\n\n    for row in range (6):\n\n        if matrix_y[row,col] == 0:\n            a1.append(matrix_dis[row,col])\n        elif matrix_y[row,col] == 1:\n            a2.append(matrix_dis[row,col])\n        else:\n            a3.append(matrix_dis[row,col])\n\n    Setosa.append(sum(a1))\n    Versicolor.append(sum(a2))\n    Virginica.append(sum(a3))         \n\nprint(Setosa, len(Setosa))\nprint(Versicolor, len(Versicolor))\nprint(Virginica, len(Virginica))",
   "execution_count": 11,
   "outputs": [
    {
     "name": "stdout",
     "text": "[0, 0, 0, 2.1873901760145933, 2.1717211925008684, 0, 2.025648101587103, 0, 0, 1.8297681705366444] 10\n[1.83213830352384, 0, 0, 0, 0, 2.146265124220557, 0, 1.3794198191644942, 0.8933056446942705, 0] 10\n[0, 1.9457861960154377, 3.6329309164938417, 0, 0, 0, 0, 0, 1.384161925296378, 0] 10\n",
     "output_type": "stream"
    }
   ]
  },
  {
   "cell_type": "code",
   "metadata": {
    "cell_id": "c01d37a22d394596868513bafa8723a9",
    "tags": [],
    "deepnote_to_be_reexecuted": false,
    "source_hash": "8521cab1",
    "execution_start": 1649783098089,
    "execution_millis": 293439791,
    "deepnote_cell_type": "code",
    "deepnote_cell_height": 548.5625
   },
   "source": "Set_len=[]\nVer_len=[]\nVir_len=[]\n\nfor col in range(10):\n    a1 = []\n    a2 = []\n    a3 = []\n    for row in range (6):\n        if matrix_y[row,col] == 0:\n            a1.append(1)\n        elif matrix_y[row,col] == 1:\n            a2.append(1)\n        else:\n            a3.append(1)\n\n    Set_len.append(sum(a1))\n    Ver_len.append(sum(a2))\n    Vir_len.append(sum(a3))  \n\nprint(Set_len)\nprint(Ver_len)\nprint(Vir_len)",
   "execution_count": 12,
   "outputs": [
    {
     "name": "stdout",
     "text": "[0, 0, 0, 6, 6, 0, 6, 0, 0, 6]\n[6, 0, 0, 0, 0, 6, 0, 6, 2, 0]\n[0, 6, 6, 0, 0, 0, 0, 0, 4, 0]\n",
     "output_type": "stream"
    }
   ]
  },
  {
   "cell_type": "code",
   "metadata": {
    "cell_id": "5b2922e90a454947a74330daad0db09c",
    "tags": [],
    "deepnote_to_be_reexecuted": false,
    "source_hash": "a901e02c",
    "execution_start": 1649783098131,
    "execution_millis": 293439790,
    "deepnote_cell_type": "code",
    "deepnote_cell_height": 405
   },
   "source": "# Matrice poi if se != 0 per la divisione\n# Poi ottengo una matrice finale, metto i valori nulli, e gli altri valori per ogni colonna trovo il minimo e quindi mi trovo un vettore di risultato\nmatrix_unione= np.array([Set_len,Ver_len,Vir_len])\nmatrix_unione1= np.array([Setosa,Versicolor,Virginica])\n\nmatrix_fin = np.zeros((3,10))\n\nfor col in range(10):\n    for row in range(3):\n        if matrix_unione[row,col] != 0:\n            matrix_fin[row,col] = matrix_unione1[row,col]/matrix_unione[row,col]\n        else:\n            matrix_fin[row,col] = np.nan\n\n\ndf_fin =pd.DataFrame(matrix_fin,index=[\"Setosa\",\"Versicolor\",\"Virginica\"])\n\n\n",
   "execution_count": 13,
   "outputs": []
  },
  {
   "cell_type": "code",
   "metadata": {
    "cell_id": "101b6cbb5ca34a2db72a7d24229c4d7c",
    "tags": [],
    "deepnote_to_be_reexecuted": false,
    "source_hash": "da8860c3",
    "execution_start": 1649783098132,
    "execution_millis": 321,
    "owner_user_id": "85ee03e4-dad8-4194-a83e-88396b92bc75",
    "deepnote_cell_type": "code",
    "deepnote_cell_height": 478.75
   },
   "source": "list_finale = []\nfor col in range(10):\n    list_finale.append(matrix_fin[:,col].argsort()[0])\n\nprint(\"Soluzione: \",soluzione)\nprint(\"Predizione: \",list_finale)\n\nerrori=[]\n\nif list(soluzione) == list_finale:\n    print(\"il modello è perfetto\")\nelse:\n    for x in range(10):\n        if list(soluzione)[x] != list_finale[x]:\n            errori.append(1)\n            print(\"Errore al test numero: \", x+1)\n\n    print(f\"Il modello ha {sum(errori)} errore su 10\")",
   "execution_count": 14,
   "outputs": [
    {
     "name": "stdout",
     "text": "Soluzione:  [1 2 2 0 0 1 0 1 1 0]\nPredizione:  [1, 2, 2, 0, 0, 1, 0, 1, 2, 0]\nErrore al test numero:  9\nIl modello ha 1 errore su 10\n",
     "output_type": "stream"
    }
   ]
  },
  {
   "cell_type": "markdown",
   "source": "<a style='text-decoration:none;line-height:16px;display:flex;color:#5B5B62;padding:10px;justify-content:end;' href='https://deepnote.com?utm_source=created-in-deepnote-cell&projectId=61b6c287-bc7c-4276-9bde-4e2cd887687b' target=\"_blank\">\n<img alt='Created in deepnote.com' style='display:inline;max-height:16px;margin:0px;margin-right:7.5px;' src='data:image/svg+xml;base64,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' > </img>\nCreated in <span style='font-weight:600;margin-left:4px;'>Deepnote</span></a>",
   "metadata": {
    "tags": [],
    "created_in_deepnote_cell": true,
    "deepnote_cell_type": "markdown"
   }
  }
 ],
 "nbformat": 4,
 "nbformat_minor": 2,
 "metadata": {
  "orig_nbformat": 2,
  "deepnote": {
   "is_reactive": false
  },
  "deepnote_notebook_id": "2ceb5061-5fd2-432b-a278-06a7c141d01c",
  "deepnote_execution_queue": []
 }
}