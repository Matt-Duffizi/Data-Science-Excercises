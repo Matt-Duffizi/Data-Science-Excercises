{
 "cells": [
  {
   "cell_type": "markdown",
   "source": "Use  𝑘 NN just implemented to solve a classification problem. (e.g. the notorious Iris classification problem).",
   "metadata": {
    "cell_id": "0bc5eac6-9705-48c7-bbbc-beb2f0d0f30d",
    "deepnote_cell_type": "markdown",
    "deepnote_cell_height": 52.390625
   }
  },
  {
   "cell_type": "code",
   "metadata": {
    "deepnote_to_be_reexecuted": false,
    "source_hash": "8a6f9109",
    "execution_start": 1649490604838,
    "execution_millis": 1106,
    "cell_id": "00001-2f73c724-666b-4301-aac0-88b7f9408f69",
    "deepnote_cell_type": "code",
    "deepnote_cell_height": 489.6875
   },
   "source": "# I imported data for you. Your are welcome! 🙂\nimport pandas as pd\nimport numpy as np\n\nfrom sklearn.datasets import load_iris\n\niris = load_iris()\n\nX = iris['data']\ny = iris['target']\n\nprint(f\"Dataset is made by {len(X)} data, whose first 5 lines are \\n {X[:5]} \\n \")\nprint(f\"Target vector is {len(y)}-long, and targets names are \\n {iris['target_names']}\")",
   "execution_count": null,
   "outputs": [
    {
     "name": "stdout",
     "text": "Dataset is made by 150 data, whose first 5 lines are \n [[5.1 3.5 1.4 0.2]\n [4.9 3.  1.4 0.2]\n [4.7 3.2 1.3 0.2]\n [4.6 3.1 1.5 0.2]\n [5.  3.6 1.4 0.2]] \n \nTarget vector is 150-long, and targets names are \n ['setosa' 'versicolor' 'virginica']\n",
     "output_type": "stream"
    }
   ]
  },
  {
   "cell_type": "markdown",
   "source": "Possiamo scegliere K come radice quadrata del numero di tutti i casi nel nostro set di dati K = Sqrt (n) quindi scegliere il valore Dispari più vicino ad esso per evitare confusione tra due classi di dati (i valori dispari ci consentono avere anche un \"vicino di casa in parità\").",
   "metadata": {
    "cell_id": "00002-d99cb8df-daf4-4fdb-a2fc-184fbe0412d4",
    "deepnote_cell_type": "markdown",
    "deepnote_cell_height": 97.171875
   }
  },
  {
   "cell_type": "code",
   "metadata": {
    "deepnote_to_be_reexecuted": false,
    "source_hash": "b2df8693",
    "execution_start": 1649490605946,
    "execution_millis": 67,
    "cell_id": "00003-aafc54d5-cf2d-449c-86b3-3ed85a56c9ca",
    "owner_user_id": "85ee03e4-dad8-4194-a83e-88396b92bc75",
    "deepnote_cell_type": "code",
    "deepnote_cell_height": 189
   },
   "source": "# Split the data set into training and testing\n# train_test_split è una funzione che divide il dataset in 75% di date per il taining e il 25% dei dati per testare)\n\nfrom sklearn.model_selection import train_test_split\nX_train, X_test, y_train, y_test = train_test_split(iris['data'], iris['target'], random_state=0)\n\n#Random seed used to initialize the pseudo-random number generator. Can be any integer between 0 and 2**32 - 1",
   "execution_count": null,
   "outputs": []
  },
  {
   "cell_type": "code",
   "metadata": {
    "deepnote_to_be_reexecuted": false,
    "source_hash": "661cad56",
    "execution_start": 1649490606017,
    "execution_millis": 10,
    "owner_user_id": "47b37cf1-c98e-4e40-a7ee-f75642bfd681",
    "cell_id": "00004-ed9bbdf0-1abf-498c-9c14-a07a2fecb4ba",
    "deepnote_cell_type": "code",
    "deepnote_cell_height": 226.75
   },
   "source": "print(\"Lunchezza dataset di training:\",len(X_train))\nprint(\"Lunchezza target di training:\",len(y_train))\nprint(\"Lunchezza dataset di test:\",len(X_test))\nprint(\"Lunchezza target di test:\",len(y_test))",
   "execution_count": null,
   "outputs": [
    {
     "name": "stdout",
     "text": "Lunchezza dataset di training: 112\nLunchezza target di training: 112\nLunchezza dataset di test: 38\nLunchezza target di test: 38\n",
     "output_type": "stream"
    }
   ]
  },
  {
   "cell_type": "code",
   "metadata": {
    "deepnote_to_be_reexecuted": false,
    "source_hash": "18f01ce0",
    "execution_start": 1649490606022,
    "execution_millis": 167,
    "cell_id": "00005-3a81cb6b-182b-4892-bbef-7e9fb0a0dbe1",
    "owner_user_id": "830cc81a-cc88-4b17-a5d9-c55adf091bb8",
    "deepnote_cell_type": "code",
    "deepnote_cell_height": 244.1875,
    "deepnote_output_heights": [
     21.1875
    ]
   },
   "source": "# Usiamo sklearn  per chiamare KneighborsClassifier con K = 1 (n_neighbors). \n#La funzione di adattamento ci consente di memorizzare il nostro dataset di dati di allenamento.\n\nfrom sklearn.neighbors import KNeighborsClassifier\n#calcoliamo la radice quadra di 150 e consideriamo il numero dispari\nKNN_Classifier = KNeighborsClassifier(n_neighbors=11,weights='distance') \n\nKNN_Classifier.fit(X_train, y_train)",
   "execution_count": null,
   "outputs": [
    {
     "output_type": "execute_result",
     "execution_count": 4,
     "data": {
      "text/plain": "KNeighborsClassifier(n_neighbors=11, weights='distance')"
     },
     "metadata": {}
    }
   ]
  },
  {
   "cell_type": "code",
   "metadata": {
    "deepnote_to_be_reexecuted": false,
    "source_hash": "4e073f5c",
    "execution_start": 1649490606220,
    "execution_millis": 3,
    "cell_id": "00006-d9b82521-db90-4f60-874c-d8f824af3974",
    "deepnote_cell_type": "code",
    "deepnote_cell_height": 220.1875
   },
   "source": "#testiamo l'algoritmo con un fiore dai dati casuali\n\nX_newIris = np.array([[5.2, 3.4, 1.7, 0.6]])\n\npredictNew = KNN_Classifier.predict(X_newIris)\nprint(predictNew)\n",
   "execution_count": null,
   "outputs": [
    {
     "name": "stdout",
     "text": "[0]\n",
     "output_type": "stream"
    }
   ]
  },
  {
   "cell_type": "code",
   "metadata": {
    "deepnote_to_be_reexecuted": false,
    "source_hash": "de15acfd",
    "execution_start": 1649490606221,
    "execution_millis": 2,
    "cell_id": "00007-2ceda257-13ea-4f5b-b46d-7e0fac630c71",
    "deepnote_cell_type": "code",
    "deepnote_cell_height": 148.1875
   },
   "source": "#controllo percentuale precisione dell'algoritmo\nperc_prec = KNN_Classifier.score(X_test, y_test)*100\nprint(f\"Percentuale di precisione dell'Algoritmo: {(perc_prec.round(2))}%\")",
   "execution_count": null,
   "outputs": [
    {
     "name": "stdout",
     "text": "Percentuale di precisione dell'Algoritmo: 97.37%\n",
     "output_type": "stream"
    }
   ]
  },
  {
   "cell_type": "code",
   "metadata": {
    "deepnote_to_be_reexecuted": false,
    "source_hash": "f0e15e70",
    "execution_start": 1649490606222,
    "execution_millis": 1297976,
    "cell_id": "00008-34b555b1-cc93-4c0b-a6f5-b1d4bd6b99b0",
    "deepnote_cell_type": "code",
    "deepnote_cell_height": 116.1875
   },
   "source": "print (KNN_Classifier.get_params(deep=True))",
   "execution_count": null,
   "outputs": [
    {
     "name": "stdout",
     "text": "{'algorithm': 'auto', 'leaf_size': 30, 'metric': 'minkowski', 'metric_params': None, 'n_jobs': None, 'n_neighbors': 11, 'p': 2, 'weights': 'distance'}\n",
     "output_type": "stream"
    }
   ]
  },
  {
   "cell_type": "code",
   "metadata": {
    "deepnote_to_be_reexecuted": false,
    "source_hash": "b623e53d",
    "execution_start": 1649490606270,
    "execution_millis": 1297921,
    "cell_id": "00009-72bb61d1-7ad5-48b9-b764-a6e6ffe21a6f",
    "deepnote_cell_type": "code",
    "deepnote_cell_height": 81
   },
   "source": "",
   "execution_count": null,
   "outputs": []
  },
  {
   "cell_type": "markdown",
   "source": "<a style='text-decoration:none;line-height:16px;display:flex;color:#5B5B62;padding:10px;justify-content:end;' href='https://deepnote.com?utm_source=created-in-deepnote-cell&projectId=61b6c287-bc7c-4276-9bde-4e2cd887687b' target=\"_blank\">\n<img alt='Created in deepnote.com' style='display:inline;max-height:16px;margin:0px;margin-right:7.5px;' src='data:image/svg+xml;base64,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' > </img>\nCreated in <span style='font-weight:600;margin-left:4px;'>Deepnote</span></a>",
   "metadata": {
    "tags": [],
    "created_in_deepnote_cell": true,
    "deepnote_cell_type": "markdown"
   }
  }
 ],
 "nbformat": 4,
 "nbformat_minor": 5,
 "metadata": {
  "kernelspec": {
   "display_name": "Python 3 (ipykernel)",
   "language": "python",
   "name": "python3"
  },
  "language_info": {
   "codemirror_mode": {
    "name": "ipython",
    "version": 3
   },
   "file_extension": ".py",
   "mimetype": "text/x-python",
   "name": "python",
   "nbconvert_exporter": "python",
   "pygments_lexer": "ipython3",
   "version": "3.9.7"
  },
  "deepnote_notebook_id": "ed987a81-71b3-459f-a160-d7aafabc538d",
  "deepnote": {},
  "deepnote_execution_queue": []
 }
}