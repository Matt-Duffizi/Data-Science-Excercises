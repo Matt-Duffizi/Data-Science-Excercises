{
 "cells": [
  {
   "cell_type": "code",
   "metadata": {
    "cell_id": "d6cc295431ad406aaec7454010e8c415",
    "tags": [],
    "deepnote_to_be_reexecuted": false,
    "source_hash": "d92e733d",
    "execution_start": 1649494771923,
    "execution_millis": 995,
    "deepnote_cell_type": "code",
    "deepnote_cell_height": 315
   },
   "source": "#importiamo librerie e strutturiamo il df\n\nimport pandas as pd\nimport numpy as np\n\nfrom sklearn.datasets import load_iris\n\ndata = load_iris()\n\nX = data['data']\ny = data['target']\n\ndfi = pd.DataFrame(data['data'], columns = [\"S-L\",\"S-W\",\"P-L\",\"P-W\"])\ndfi[\"Specie\"] = y",
   "execution_count": null,
   "outputs": []
  },
  {
   "cell_type": "code",
   "metadata": {
    "cell_id": "bf525067fce54cbcac6303d593ac6d2e",
    "tags": [],
    "deepnote_to_be_reexecuted": false,
    "source_hash": "99e80fe8",
    "execution_start": 1649494929866,
    "execution_millis": 113,
    "deepnote_cell_type": "code",
    "deepnote_cell_height": 398
   },
   "source": "#new datapoint: step 1 ->trovare range feature\n\ndef minMax(x):\n    return pd.Series(index=['min','max'],data=[x.min(),x.max()])\n\ndfi.apply(minMax)\n\n",
   "execution_count": null,
   "outputs": [
    {
     "output_type": "execute_result",
     "execution_count": 3,
     "data": {
      "application/vnd.deepnote.dataframe.v3+json": {
       "column_count": 5,
       "row_count": 2,
       "columns": [
        {
         "name": "S-L",
         "dtype": "float64",
         "stats": {
          "unique_count": 2,
          "nan_count": 0,
          "min": "4.3",
          "max": "7.9",
          "histogram": [
           {
            "bin_start": 4.3,
            "bin_end": 4.66,
            "count": 1
           },
           {
            "bin_start": 4.66,
            "bin_end": 5.02,
            "count": 0
           },
           {
            "bin_start": 5.02,
            "bin_end": 5.38,
            "count": 0
           },
           {
            "bin_start": 5.38,
            "bin_end": 5.74,
            "count": 0
           },
           {
            "bin_start": 5.74,
            "bin_end": 6.1,
            "count": 0
           },
           {
            "bin_start": 6.1,
            "bin_end": 6.46,
            "count": 0
           },
           {
            "bin_start": 6.46,
            "bin_end": 6.82,
            "count": 0
           },
           {
            "bin_start": 6.82,
            "bin_end": 7.18,
            "count": 0
           },
           {
            "bin_start": 7.18,
            "bin_end": 7.54,
            "count": 0
           },
           {
            "bin_start": 7.54,
            "bin_end": 7.9,
            "count": 1
           }
          ]
         }
        },
        {
         "name": "S-W",
         "dtype": "float64",
         "stats": {
          "unique_count": 2,
          "nan_count": 0,
          "min": "2.0",
          "max": "4.4",
          "histogram": [
           {
            "bin_start": 2,
            "bin_end": 2.24,
            "count": 1
           },
           {
            "bin_start": 2.24,
            "bin_end": 2.48,
            "count": 0
           },
           {
            "bin_start": 2.48,
            "bin_end": 2.72,
            "count": 0
           },
           {
            "bin_start": 2.72,
            "bin_end": 2.96,
            "count": 0
           },
           {
            "bin_start": 2.96,
            "bin_end": 3.2,
            "count": 0
           },
           {
            "bin_start": 3.2,
            "bin_end": 3.4400000000000004,
            "count": 0
           },
           {
            "bin_start": 3.4400000000000004,
            "bin_end": 3.6800000000000006,
            "count": 0
           },
           {
            "bin_start": 3.6800000000000006,
            "bin_end": 3.9200000000000004,
            "count": 0
           },
           {
            "bin_start": 3.9200000000000004,
            "bin_end": 4.16,
            "count": 0
           },
           {
            "bin_start": 4.16,
            "bin_end": 4.4,
            "count": 1
           }
          ]
         }
        },
        {
         "name": "P-L",
         "dtype": "float64",
         "stats": {
          "unique_count": 2,
          "nan_count": 0,
          "min": "1.0",
          "max": "6.9",
          "histogram": [
           {
            "bin_start": 1,
            "bin_end": 1.59,
            "count": 1
           },
           {
            "bin_start": 1.59,
            "bin_end": 2.18,
            "count": 0
           },
           {
            "bin_start": 2.18,
            "bin_end": 2.7700000000000005,
            "count": 0
           },
           {
            "bin_start": 2.7700000000000005,
            "bin_end": 3.3600000000000003,
            "count": 0
           },
           {
            "bin_start": 3.3600000000000003,
            "bin_end": 3.95,
            "count": 0
           },
           {
            "bin_start": 3.95,
            "bin_end": 4.540000000000001,
            "count": 0
           },
           {
            "bin_start": 4.540000000000001,
            "bin_end": 5.130000000000001,
            "count": 0
           },
           {
            "bin_start": 5.130000000000001,
            "bin_end": 5.720000000000001,
            "count": 0
           },
           {
            "bin_start": 5.720000000000001,
            "bin_end": 6.3100000000000005,
            "count": 0
           },
           {
            "bin_start": 6.3100000000000005,
            "bin_end": 6.9,
            "count": 1
           }
          ]
         }
        },
        {
         "name": "P-W",
         "dtype": "float64",
         "stats": {
          "unique_count": 2,
          "nan_count": 0,
          "min": "0.1",
          "max": "2.5",
          "histogram": [
           {
            "bin_start": 0.1,
            "bin_end": 0.33999999999999997,
            "count": 1
           },
           {
            "bin_start": 0.33999999999999997,
            "bin_end": 0.58,
            "count": 0
           },
           {
            "bin_start": 0.58,
            "bin_end": 0.82,
            "count": 0
           },
           {
            "bin_start": 0.82,
            "bin_end": 1.06,
            "count": 0
           },
           {
            "bin_start": 1.06,
            "bin_end": 1.3,
            "count": 0
           },
           {
            "bin_start": 1.3,
            "bin_end": 1.54,
            "count": 0
           },
           {
            "bin_start": 1.54,
            "bin_end": 1.78,
            "count": 0
           },
           {
            "bin_start": 1.78,
            "bin_end": 2.02,
            "count": 0
           },
           {
            "bin_start": 2.02,
            "bin_end": 2.2600000000000002,
            "count": 0
           },
           {
            "bin_start": 2.2600000000000002,
            "bin_end": 2.5,
            "count": 1
           }
          ]
         }
        },
        {
         "name": "Specie",
         "dtype": "int64",
         "stats": {
          "unique_count": 2,
          "nan_count": 0,
          "min": "0",
          "max": "2",
          "histogram": [
           {
            "bin_start": 0,
            "bin_end": 0.2,
            "count": 1
           },
           {
            "bin_start": 0.2,
            "bin_end": 0.4,
            "count": 0
           },
           {
            "bin_start": 0.4,
            "bin_end": 0.6000000000000001,
            "count": 0
           },
           {
            "bin_start": 0.6000000000000001,
            "bin_end": 0.8,
            "count": 0
           },
           {
            "bin_start": 0.8,
            "bin_end": 1,
            "count": 0
           },
           {
            "bin_start": 1,
            "bin_end": 1.2000000000000002,
            "count": 0
           },
           {
            "bin_start": 1.2000000000000002,
            "bin_end": 1.4000000000000001,
            "count": 0
           },
           {
            "bin_start": 1.4000000000000001,
            "bin_end": 1.6,
            "count": 0
           },
           {
            "bin_start": 1.6,
            "bin_end": 1.8,
            "count": 0
           },
           {
            "bin_start": 1.8,
            "bin_end": 2,
            "count": 1
           }
          ]
         }
        },
        {
         "name": "_deepnote_index_column",
         "dtype": "object"
        }
       ],
       "rows": [
        {
         "S-L": 4.3,
         "S-W": 2,
         "P-L": 1,
         "P-W": 0.1,
         "Specie": 0,
         "_deepnote_index_column": "min"
        },
        {
         "S-L": 7.9,
         "S-W": 4.4,
         "P-L": 6.9,
         "P-W": 2.5,
         "Specie": 2,
         "_deepnote_index_column": "max"
        }
       ]
      },
      "text/plain": "     S-L  S-W  P-L  P-W  Specie\nmin  4.3  2.0  1.0  0.1       0\nmax  7.9  4.4  6.9  2.5       2",
      "text/html": "<div>\n<style scoped>\n    .dataframe tbody tr th:only-of-type {\n        vertical-align: middle;\n    }\n\n    .dataframe tbody tr th {\n        vertical-align: top;\n    }\n\n    .dataframe thead th {\n        text-align: right;\n    }\n</style>\n<table border=\"1\" class=\"dataframe\">\n  <thead>\n    <tr style=\"text-align: right;\">\n      <th></th>\n      <th>S-L</th>\n      <th>S-W</th>\n      <th>P-L</th>\n      <th>P-W</th>\n      <th>Specie</th>\n    </tr>\n  </thead>\n  <tbody>\n    <tr>\n      <th>min</th>\n      <td>4.3</td>\n      <td>2.0</td>\n      <td>1.0</td>\n      <td>0.1</td>\n      <td>0</td>\n    </tr>\n    <tr>\n      <th>max</th>\n      <td>7.9</td>\n      <td>4.4</td>\n      <td>6.9</td>\n      <td>2.5</td>\n      <td>2</td>\n    </tr>\n  </tbody>\n</table>\n</div>"
     },
     "metadata": {}
    }
   ]
  },
  {
   "cell_type": "code",
   "metadata": {
    "cell_id": "ca6b9ee150924f60a5d26fd88336256c",
    "tags": [],
    "owner_user_id": "47b37cf1-c98e-4e40-a7ee-f75642bfd681",
    "deepnote_to_be_reexecuted": false,
    "source_hash": "b8228ba7",
    "execution_start": 1649494933930,
    "execution_millis": 3,
    "deepnote_cell_type": "code",
    "deepnote_cell_height": 256.20001220703125
   },
   "source": "import random\n\nsl=round(random.uniform(4.3, 7.9),2)\nsw=round(random.uniform(2, 4.4),2)\npl=round(random.uniform(1.0, 6.9),2)\npw=round(random.uniform(0.1, 2.0),2)\n\nnew_iris=np.array([sl, sw, pl, pw])\nprint(new_iris)",
   "execution_count": null,
   "outputs": [
    {
     "name": "stdout",
     "text": "[5.95 2.73 2.49 1.05]\n",
     "output_type": "stream"
    }
   ]
  },
  {
   "cell_type": "markdown",
   "source": "<a style='text-decoration:none;line-height:16px;display:flex;color:#5B5B62;padding:10px;justify-content:end;' href='https://deepnote.com?utm_source=created-in-deepnote-cell&projectId=61b6c287-bc7c-4276-9bde-4e2cd887687b' target=\"_blank\">\n<img alt='Created in deepnote.com' style='display:inline;max-height:16px;margin:0px;margin-right:7.5px;' src='data:image/svg+xml;base64,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' > </img>\nCreated in <span style='font-weight:600;margin-left:4px;'>Deepnote</span></a>",
   "metadata": {
    "tags": [],
    "created_in_deepnote_cell": true,
    "deepnote_cell_type": "markdown"
   }
  }
 ],
 "nbformat": 4,
 "nbformat_minor": 2,
 "metadata": {
  "orig_nbformat": 2,
  "deepnote": {
   "is_reactive": false
  },
  "deepnote_notebook_id": "54b8d25f-d946-4d5e-95a3-b4c9696e478b",
  "deepnote_execution_queue": []
 }
}