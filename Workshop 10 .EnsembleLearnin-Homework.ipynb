{
 "cells": [
  {
   "cell_type": "markdown",
   "source": "# Introduction to Data Science and Machine Learning\n\n<p align=\"center\">\n    <img width=\"699\" alt=\"image\" src=\"https://user-images.githubusercontent.com/49638680/159042792-8510fbd1-c4ac-4a48-8320-bc6c1a49cdae.png\">\n</p>\n\n---\n\n### Import libraries\n",
   "metadata": {
    "cell_id": "325fae7d-1198-40f6-939f-7056412a7e89",
    "deepnote_cell_type": "markdown",
    "deepnote_cell_height": 702.1875
   }
  },
  {
   "cell_type": "code",
   "metadata": {
    "cell_id": "00001-70cb003e-a107-4cf7-8534-a89b56c6285f",
    "deepnote_to_be_reexecuted": false,
    "source_hash": "2de19d30",
    "execution_start": 1663699774196,
    "execution_millis": 1603,
    "deepnote_cell_type": "code",
    "deepnote_cell_height": 400
   },
   "source": "import pandas as pd\nimport numpy as np\n\nimport seaborn as sns\nimport matplotlib.pyplot as plt\n\nfrom sklearn.datasets import make_blobs, load_digits\nfrom sklearn.model_selection import train_test_split, learning_curve, GridSearchCV, KFold\nfrom sklearn.linear_model import LogisticRegression\nfrom sklearn.tree import DecisionTreeClassifier\nfrom sklearn.neighbors import KNeighborsClassifier\nfrom sklearn.ensemble import BaggingClassifier, RandomForestClassifier\nfrom sklearn.metrics import classification_report\n\n\n%matplotlib inline\n%config InlineBackend.figure_format = \"retina\"\nplt.rcParams['figure.figsize'] = (25.0, 10.0)\nsns.set()",
   "outputs": [],
   "execution_count": null
  },
  {
   "cell_type": "markdown",
   "source": "## Exercises",
   "metadata": {
    "cell_id": "00002-1e5b98e2-9ed1-4aa4-9c9c-44bb53650d35",
    "deepnote_cell_type": "markdown",
    "deepnote_cell_height": 70
   }
  },
  {
   "cell_type": "markdown",
   "source": "### Exercise 1\n\nClassify the digit dataset with a decision tree such that your classifier is in overfit.\n\n1. Show that actually the classifier overfits data.\n2. Play with hyperparameters in order to improve the model performances on test set.\n3. Apply ensemble methods (Random Forest or the explicit bagging classifier) to show how these reduce overfit and increase test accuracy.\n\n__NOTE__: you should get a final accuracy above the $95\\%$.",
   "metadata": {
    "cell_id": "00003-3126f322-b3f7-4347-8248-a24bc9a8e2ca",
    "deepnote_cell_type": "markdown",
    "deepnote_cell_height": 246.390625
   }
  },
  {
   "cell_type": "code",
   "metadata": {
    "cell_id": "fb8b23c6dd6c417fb137bf958e46a6c4",
    "tags": [],
    "deepnote_to_be_reexecuted": false,
    "source_hash": "a6f34f1d",
    "execution_start": 1663699775802,
    "execution_millis": 20,
    "deepnote_cell_type": "code",
    "deepnote_cell_height": 130
   },
   "source": "digits = load_digits(as_frame=True)\n\nX = digits.data \ny = digits.target ",
   "outputs": [],
   "execution_count": null
  },
  {
   "cell_type": "code",
   "metadata": {
    "cell_id": "8d014cae078847f684776877dd5939cf",
    "tags": [],
    "deepnote_to_be_reexecuted": false,
    "source_hash": "91c01c58",
    "execution_start": 1663699775884,
    "execution_millis": 584,
    "deepnote_cell_type": "code",
    "deepnote_cell_height": 404.390625
   },
   "source": "X.head()",
   "outputs": [
    {
     "output_type": "execute_result",
     "execution_count": 3,
     "data": {
      "application/vnd.deepnote.dataframe.v3+json": {
       "column_count": 64,
       "row_count": 5,
       "columns": [
        {
         "name": "pixel_0_0",
         "dtype": "float64",
         "stats": {
          "unique_count": 1,
          "nan_count": 0,
          "min": "0.0",
          "max": "0.0",
          "histogram": [
           {
            "bin_start": -0.5,
            "bin_end": -0.4,
            "count": 0
           },
           {
            "bin_start": -0.4,
            "bin_end": -0.3,
            "count": 0
           },
           {
            "bin_start": -0.3,
            "bin_end": -0.19999999999999996,
            "count": 0
           },
           {
            "bin_start": -0.19999999999999996,
            "bin_end": -0.09999999999999998,
            "count": 0
           },
           {
            "bin_start": -0.09999999999999998,
            "bin_end": 0,
            "count": 0
           },
           {
            "bin_start": 0,
            "bin_end": 0.10000000000000009,
            "count": 5
           },
           {
            "bin_start": 0.10000000000000009,
            "bin_end": 0.20000000000000007,
            "count": 0
           },
           {
            "bin_start": 0.20000000000000007,
            "bin_end": 0.30000000000000004,
            "count": 0
           },
           {
            "bin_start": 0.30000000000000004,
            "bin_end": 0.4,
            "count": 0
           },
           {
            "bin_start": 0.4,
            "bin_end": 0.5,
            "count": 0
           }
          ]
         }
        },
        {
         "name": "pixel_0_1",
         "dtype": "float64",
         "stats": {
          "unique_count": 1,
          "nan_count": 0,
          "min": "0.0",
          "max": "0.0",
          "histogram": [
           {
            "bin_start": -0.5,
            "bin_end": -0.4,
            "count": 0
           },
           {
            "bin_start": -0.4,
            "bin_end": -0.3,
            "count": 0
           },
           {
            "bin_start": -0.3,
            "bin_end": -0.19999999999999996,
            "count": 0
           },
           {
            "bin_start": -0.19999999999999996,
            "bin_end": -0.09999999999999998,
            "count": 0
           },
           {
            "bin_start": -0.09999999999999998,
            "bin_end": 0,
            "count": 0
           },
           {
            "bin_start": 0,
            "bin_end": 0.10000000000000009,
            "count": 5
           },
           {
            "bin_start": 0.10000000000000009,
            "bin_end": 0.20000000000000007,
            "count": 0
           },
           {
            "bin_start": 0.20000000000000007,
            "bin_end": 0.30000000000000004,
            "count": 0
           },
           {
            "bin_start": 0.30000000000000004,
            "bin_end": 0.4,
            "count": 0
           },
           {
            "bin_start": 0.4,
            "bin_end": 0.5,
            "count": 0
           }
          ]
         }
        },
        {
         "name": "pixel_0_2",
         "dtype": "float64",
         "stats": {
          "unique_count": 3,
          "nan_count": 0,
          "min": "0.0",
          "max": "7.0",
          "histogram": [
           {
            "bin_start": 0,
            "bin_end": 0.7,
            "count": 3
           },
           {
            "bin_start": 0.7,
            "bin_end": 1.4,
            "count": 0
           },
           {
            "bin_start": 1.4,
            "bin_end": 2.0999999999999996,
            "count": 0
           },
           {
            "bin_start": 2.0999999999999996,
            "bin_end": 2.8,
            "count": 0
           },
           {
            "bin_start": 2.8,
            "bin_end": 3.5,
            "count": 0
           },
           {
            "bin_start": 3.5,
            "bin_end": 4.199999999999999,
            "count": 0
           },
           {
            "bin_start": 4.199999999999999,
            "bin_end": 4.8999999999999995,
            "count": 0
           },
           {
            "bin_start": 4.8999999999999995,
            "bin_end": 5.6,
            "count": 1
           },
           {
            "bin_start": 5.6,
            "bin_end": 6.3,
            "count": 0
           },
           {
            "bin_start": 6.3,
            "bin_end": 7,
            "count": 1
           }
          ]
         }
        },
        {
         "name": "pixel_0_3",
         "dtype": "float64",
         "stats": {
          "unique_count": 5,
          "nan_count": 0,
          "min": "1.0",
          "max": "15.0",
          "histogram": [
           {
            "bin_start": 1,
            "bin_end": 2.4,
            "count": 1
           },
           {
            "bin_start": 2.4,
            "bin_end": 3.8,
            "count": 0
           },
           {
            "bin_start": 3.8,
            "bin_end": 5.199999999999999,
            "count": 1
           },
           {
            "bin_start": 5.199999999999999,
            "bin_end": 6.6,
            "count": 0
           },
           {
            "bin_start": 6.6,
            "bin_end": 8,
            "count": 0
           },
           {
            "bin_start": 8,
            "bin_end": 9.399999999999999,
            "count": 0
           },
           {
            "bin_start": 9.399999999999999,
            "bin_end": 10.799999999999999,
            "count": 0
           },
           {
            "bin_start": 10.799999999999999,
            "bin_end": 12.2,
            "count": 1
           },
           {
            "bin_start": 12.2,
            "bin_end": 13.6,
            "count": 1
           },
           {
            "bin_start": 13.6,
            "bin_end": 15,
            "count": 1
           }
          ]
         }
        },
        {
         "name": "pixel_0_4",
         "dtype": "float64",
         "stats": {
          "unique_count": 4,
          "nan_count": 0,
          "min": "9.0",
          "max": "15.0",
          "histogram": [
           {
            "bin_start": 9,
            "bin_end": 9.6,
            "count": 1
           },
           {
            "bin_start": 9.6,
            "bin_end": 10.2,
            "count": 0
           },
           {
            "bin_start": 10.2,
            "bin_end": 10.8,
            "count": 0
           },
           {
            "bin_start": 10.8,
            "bin_end": 11.4,
            "count": 1
           },
           {
            "bin_start": 11.4,
            "bin_end": 12,
            "count": 0
           },
           {
            "bin_start": 12,
            "bin_end": 12.6,
            "count": 0
           },
           {
            "bin_start": 12.6,
            "bin_end": 13.2,
            "count": 2
           },
           {
            "bin_start": 13.2,
            "bin_end": 13.8,
            "count": 0
           },
           {
            "bin_start": 13.8,
            "bin_end": 14.399999999999999,
            "count": 0
           },
           {
            "bin_start": 14.399999999999999,
            "bin_end": 15,
            "count": 1
           }
          ]
         }
        },
        {
         "name": "pixel_0_5",
         "dtype": "float64",
         "stats": {
          "unique_count": 4,
          "nan_count": 0,
          "min": "0.0",
          "max": "12.0",
          "histogram": [
           {
            "bin_start": 0,
            "bin_end": 1.2,
            "count": 3
           },
           {
            "bin_start": 1.2,
            "bin_end": 2.4,
            "count": 0
           },
           {
            "bin_start": 2.4,
            "bin_end": 3.5999999999999996,
            "count": 0
           },
           {
            "bin_start": 3.5999999999999996,
            "bin_end": 4.8,
            "count": 0
           },
           {
            "bin_start": 4.8,
            "bin_end": 6,
            "count": 1
           },
           {
            "bin_start": 6,
            "bin_end": 7.199999999999999,
            "count": 0
           },
           {
            "bin_start": 7.199999999999999,
            "bin_end": 8.4,
            "count": 0
           },
           {
            "bin_start": 8.4,
            "bin_end": 9.6,
            "count": 0
           },
           {
            "bin_start": 9.6,
            "bin_end": 10.799999999999999,
            "count": 0
           },
           {
            "bin_start": 10.799999999999999,
            "bin_end": 12,
            "count": 1
           }
          ]
         }
        },
        {
         "name": "pixel_0_6",
         "dtype": "float64",
         "stats": {
          "unique_count": 1,
          "nan_count": 0,
          "min": "0.0",
          "max": "0.0",
          "histogram": [
           {
            "bin_start": -0.5,
            "bin_end": -0.4,
            "count": 0
           },
           {
            "bin_start": -0.4,
            "bin_end": -0.3,
            "count": 0
           },
           {
            "bin_start": -0.3,
            "bin_end": -0.19999999999999996,
            "count": 0
           },
           {
            "bin_start": -0.19999999999999996,
            "bin_end": -0.09999999999999998,
            "count": 0
           },
           {
            "bin_start": -0.09999999999999998,
            "bin_end": 0,
            "count": 0
           },
           {
            "bin_start": 0,
            "bin_end": 0.10000000000000009,
            "count": 5
           },
           {
            "bin_start": 0.10000000000000009,
            "bin_end": 0.20000000000000007,
            "count": 0
           },
           {
            "bin_start": 0.20000000000000007,
            "bin_end": 0.30000000000000004,
            "count": 0
           },
           {
            "bin_start": 0.30000000000000004,
            "bin_end": 0.4,
            "count": 0
           },
           {
            "bin_start": 0.4,
            "bin_end": 0.5,
            "count": 0
           }
          ]
         }
        },
        {
         "name": "pixel_0_7",
         "dtype": "float64",
         "stats": {
          "unique_count": 1,
          "nan_count": 0,
          "min": "0.0",
          "max": "0.0",
          "histogram": [
           {
            "bin_start": -0.5,
            "bin_end": -0.4,
            "count": 0
           },
           {
            "bin_start": -0.4,
            "bin_end": -0.3,
            "count": 0
           },
           {
            "bin_start": -0.3,
            "bin_end": -0.19999999999999996,
            "count": 0
           },
           {
            "bin_start": -0.19999999999999996,
            "bin_end": -0.09999999999999998,
            "count": 0
           },
           {
            "bin_start": -0.09999999999999998,
            "bin_end": 0,
            "count": 0
           },
           {
            "bin_start": 0,
            "bin_end": 0.10000000000000009,
            "count": 5
           },
           {
            "bin_start": 0.10000000000000009,
            "bin_end": 0.20000000000000007,
            "count": 0
           },
           {
            "bin_start": 0.20000000000000007,
            "bin_end": 0.30000000000000004,
            "count": 0
           },
           {
            "bin_start": 0.30000000000000004,
            "bin_end": 0.4,
            "count": 0
           },
           {
            "bin_start": 0.4,
            "bin_end": 0.5,
            "count": 0
           }
          ]
         }
        },
        {
         "name": "pixel_1_0",
         "dtype": "float64",
         "stats": {
          "unique_count": 1,
          "nan_count": 0,
          "min": "0.0",
          "max": "0.0",
          "histogram": [
           {
            "bin_start": -0.5,
            "bin_end": -0.4,
            "count": 0
           },
           {
            "bin_start": -0.4,
            "bin_end": -0.3,
            "count": 0
           },
           {
            "bin_start": -0.3,
            "bin_end": -0.19999999999999996,
            "count": 0
           },
           {
            "bin_start": -0.19999999999999996,
            "bin_end": -0.09999999999999998,
            "count": 0
           },
           {
            "bin_start": -0.09999999999999998,
            "bin_end": 0,
            "count": 0
           },
           {
            "bin_start": 0,
            "bin_end": 0.10000000000000009,
            "count": 5
           },
           {
            "bin_start": 0.10000000000000009,
            "bin_end": 0.20000000000000007,
            "count": 0
           },
           {
            "bin_start": 0.20000000000000007,
            "bin_end": 0.30000000000000004,
            "count": 0
           },
           {
            "bin_start": 0.30000000000000004,
            "bin_end": 0.4,
            "count": 0
           },
           {
            "bin_start": 0.4,
            "bin_end": 0.5,
            "count": 0
           }
          ]
         }
        },
        {
         "name": "pixel_1_1",
         "dtype": "float64",
         "stats": {
          "unique_count": 2,
          "nan_count": 0,
          "min": "0.0",
          "max": "8.0",
          "histogram": [
           {
            "bin_start": 0,
            "bin_end": 0.8,
            "count": 4
           },
           {
            "bin_start": 0.8,
            "bin_end": 1.6,
            "count": 0
           },
           {
            "bin_start": 1.6,
            "bin_end": 2.4000000000000004,
            "count": 0
           },
           {
            "bin_start": 2.4000000000000004,
            "bin_end": 3.2,
            "count": 0
           },
           {
            "bin_start": 3.2,
            "bin_end": 4,
            "count": 0
           },
           {
            "bin_start": 4,
            "bin_end": 4.800000000000001,
            "count": 0
           },
           {
            "bin_start": 4.800000000000001,
            "bin_end": 5.6000000000000005,
            "count": 0
           },
           {
            "bin_start": 5.6000000000000005,
            "bin_end": 6.4,
            "count": 0
           },
           {
            "bin_start": 6.4,
            "bin_end": 7.2,
            "count": 0
           },
           {
            "bin_start": 7.2,
            "bin_end": 8,
            "count": 1
           }
          ]
         }
        },
        {
         "name": "pixel_1_2",
         "dtype": "float64",
         "stats": {
          "unique_count": 3,
          "nan_count": 0,
          "min": "0.0",
          "max": "13.0",
          "histogram": [
           {
            "bin_start": 0,
            "bin_end": 1.3,
            "count": 2
           },
           {
            "bin_start": 1.3,
            "bin_end": 2.6,
            "count": 0
           },
           {
            "bin_start": 2.6,
            "bin_end": 3.9000000000000004,
            "count": 1
           },
           {
            "bin_start": 3.9000000000000004,
            "bin_end": 5.2,
            "count": 0
           },
           {
            "bin_start": 5.2,
            "bin_end": 6.5,
            "count": 0
           },
           {
            "bin_start": 6.5,
            "bin_end": 7.800000000000001,
            "count": 0
           },
           {
            "bin_start": 7.800000000000001,
            "bin_end": 9.1,
            "count": 0
           },
           {
            "bin_start": 9.1,
            "bin_end": 10.4,
            "count": 0
           },
           {
            "bin_start": 10.4,
            "bin_end": 11.700000000000001,
            "count": 0
           },
           {
            "bin_start": 11.700000000000001,
            "bin_end": 13,
            "count": 2
           }
          ]
         }
        },
        {
         "name": "pixel_1_3",
         "dtype": "float64",
         "stats": {
          "unique_count": 5,
          "nan_count": 0,
          "min": "6.0",
          "max": "16.0",
          "histogram": [
           {
            "bin_start": 6,
            "bin_end": 7,
            "count": 1
           },
           {
            "bin_start": 7,
            "bin_end": 8,
            "count": 1
           },
           {
            "bin_start": 8,
            "bin_end": 9,
            "count": 0
           },
           {
            "bin_start": 9,
            "bin_end": 10,
            "count": 0
           },
           {
            "bin_start": 10,
            "bin_end": 11,
            "count": 0
           },
           {
            "bin_start": 11,
            "bin_end": 12,
            "count": 1
           },
           {
            "bin_start": 12,
            "bin_end": 13,
            "count": 0
           },
           {
            "bin_start": 13,
            "bin_end": 14,
            "count": 0
           },
           {
            "bin_start": 14,
            "bin_end": 15,
            "count": 0
           },
           {
            "bin_start": 15,
            "bin_end": 16,
            "count": 2
           }
          ]
         }
        },
        {
         "name": "pixel_1_4",
         "dtype": "float64",
         "stats": {
          "unique_count": 4,
          "nan_count": 0,
          "min": "8.0",
          "max": "16.0",
          "histogram": [
           {
            "bin_start": 8,
            "bin_end": 8.8,
            "count": 1
           },
           {
            "bin_start": 8.8,
            "bin_end": 9.6,
            "count": 0
           },
           {
            "bin_start": 9.6,
            "bin_end": 10.4,
            "count": 1
           },
           {
            "bin_start": 10.4,
            "bin_end": 11.2,
            "count": 0
           },
           {
            "bin_start": 11.2,
            "bin_end": 12,
            "count": 0
           },
           {
            "bin_start": 12,
            "bin_end": 12.8,
            "count": 0
           },
           {
            "bin_start": 12.8,
            "bin_end": 13.600000000000001,
            "count": 0
           },
           {
            "bin_start": 13.600000000000001,
            "bin_end": 14.4,
            "count": 0
           },
           {
            "bin_start": 14.4,
            "bin_end": 15.2,
            "count": 2
           },
           {
            "bin_start": 15.2,
            "bin_end": 16,
            "count": 1
           }
          ]
         }
        },
        {
         "name": "pixel_1_5",
         "dtype": "float64",
         "stats": {
          "unique_count": 5,
          "nan_count": 0,
          "min": "0.0",
          "max": "15.0",
          "histogram": [
           {
            "bin_start": 0,
            "bin_end": 1.5,
            "count": 1
           },
           {
            "bin_start": 1.5,
            "bin_end": 3,
            "count": 0
           },
           {
            "bin_start": 3,
            "bin_end": 4.5,
            "count": 1
           },
           {
            "bin_start": 4.5,
            "bin_end": 6,
            "count": 0
           },
           {
            "bin_start": 6,
            "bin_end": 7.5,
            "count": 0
           },
           {
            "bin_start": 7.5,
            "bin_end": 9,
            "count": 0
           },
           {
            "bin_start": 9,
            "bin_end": 10.5,
            "count": 1
           },
           {
            "bin_start": 10.5,
            "bin_end": 12,
            "count": 0
           },
           {
            "bin_start": 12,
            "bin_end": 13.5,
            "count": 0
           },
           {
            "bin_start": 13.5,
            "bin_end": 15,
            "count": 2
           }
          ]
         }
        },
        {
         "name": "pixel_1_6",
         "dtype": "float64",
         "stats": {
          "unique_count": 2,
          "nan_count": 0,
          "min": "0.0",
          "max": "5.0",
          "histogram": [
           {
            "bin_start": 0,
            "bin_end": 0.5,
            "count": 4
           },
           {
            "bin_start": 0.5,
            "bin_end": 1,
            "count": 0
           },
           {
            "bin_start": 1,
            "bin_end": 1.5,
            "count": 0
           },
           {
            "bin_start": 1.5,
            "bin_end": 2,
            "count": 0
           },
           {
            "bin_start": 2,
            "bin_end": 2.5,
            "count": 0
           },
           {
            "bin_start": 2.5,
            "bin_end": 3,
            "count": 0
           },
           {
            "bin_start": 3,
            "bin_end": 3.5,
            "count": 0
           },
           {
            "bin_start": 3.5,
            "bin_end": 4,
            "count": 0
           },
           {
            "bin_start": 4,
            "bin_end": 4.5,
            "count": 0
           },
           {
            "bin_start": 4.5,
            "bin_end": 5,
            "count": 1
           }
          ]
         }
        },
        {
         "name": "pixel_1_7",
         "dtype": "float64",
         "stats": {
          "unique_count": 1,
          "nan_count": 0,
          "min": "0.0",
          "max": "0.0",
          "histogram": [
           {
            "bin_start": -0.5,
            "bin_end": -0.4,
            "count": 0
           },
           {
            "bin_start": -0.4,
            "bin_end": -0.3,
            "count": 0
           },
           {
            "bin_start": -0.3,
            "bin_end": -0.19999999999999996,
            "count": 0
           },
           {
            "bin_start": -0.19999999999999996,
            "bin_end": -0.09999999999999998,
            "count": 0
           },
           {
            "bin_start": -0.09999999999999998,
            "bin_end": 0,
            "count": 0
           },
           {
            "bin_start": 0,
            "bin_end": 0.10000000000000009,
            "count": 5
           },
           {
            "bin_start": 0.10000000000000009,
            "bin_end": 0.20000000000000007,
            "count": 0
           },
           {
            "bin_start": 0.20000000000000007,
            "bin_end": 0.30000000000000004,
            "count": 0
           },
           {
            "bin_start": 0.30000000000000004,
            "bin_end": 0.4,
            "count": 0
           },
           {
            "bin_start": 0.4,
            "bin_end": 0.5,
            "count": 0
           }
          ]
         }
        },
        {
         "name": "pixel_2_0",
         "dtype": "float64",
         "stats": {
          "unique_count": 1,
          "nan_count": 0,
          "min": "0.0",
          "max": "0.0",
          "histogram": [
           {
            "bin_start": -0.5,
            "bin_end": -0.4,
            "count": 0
           },
           {
            "bin_start": -0.4,
            "bin_end": -0.3,
            "count": 0
           },
           {
            "bin_start": -0.3,
            "bin_end": -0.19999999999999996,
            "count": 0
           },
           {
            "bin_start": -0.19999999999999996,
            "bin_end": -0.09999999999999998,
            "count": 0
           },
           {
            "bin_start": -0.09999999999999998,
            "bin_end": 0,
            "count": 0
           },
           {
            "bin_start": 0,
            "bin_end": 0.10000000000000009,
            "count": 5
           },
           {
            "bin_start": 0.10000000000000009,
            "bin_end": 0.20000000000000007,
            "count": 0
           },
           {
            "bin_start": 0.20000000000000007,
            "bin_end": 0.30000000000000004,
            "count": 0
           },
           {
            "bin_start": 0.30000000000000004,
            "bin_end": 0.4,
            "count": 0
           },
           {
            "bin_start": 0.4,
            "bin_end": 0.5,
            "count": 0
           }
          ]
         }
        },
        {
         "name": "pixel_2_1",
         "dtype": "float64",
         "stats": {
          "unique_count": 3,
          "nan_count": 0,
          "min": "0.0",
          "max": "3.0",
          "histogram": [
           {
            "bin_start": 0,
            "bin_end": 0.3,
            "count": 3
           },
           {
            "bin_start": 0.3,
            "bin_end": 0.6,
            "count": 0
           },
           {
            "bin_start": 0.6,
            "bin_end": 0.8999999999999999,
            "count": 0
           },
           {
            "bin_start": 0.8999999999999999,
            "bin_end": 1.2,
            "count": 0
           },
           {
            "bin_start": 1.2,
            "bin_end": 1.5,
            "count": 0
           },
           {
            "bin_start": 1.5,
            "bin_end": 1.7999999999999998,
            "count": 0
           },
           {
            "bin_start": 1.7999999999999998,
            "bin_end": 2.1,
            "count": 1
           },
           {
            "bin_start": 2.1,
            "bin_end": 2.4,
            "count": 0
           },
           {
            "bin_start": 2.4,
            "bin_end": 2.6999999999999997,
            "count": 0
           },
           {
            "bin_start": 2.6999999999999997,
            "bin_end": 3,
            "count": 1
           }
          ]
         }
        },
        {
         "name": "pixel_2_2",
         "dtype": "float64",
         "stats": {
          "unique_count": 4,
          "nan_count": 0,
          "min": "1.0",
          "max": "15.0",
          "histogram": [
           {
            "bin_start": 1,
            "bin_end": 2.4,
            "count": 2
           },
           {
            "bin_start": 2.4,
            "bin_end": 3.8,
            "count": 1
           },
           {
            "bin_start": 3.8,
            "bin_end": 5.199999999999999,
            "count": 0
           },
           {
            "bin_start": 5.199999999999999,
            "bin_end": 6.6,
            "count": 0
           },
           {
            "bin_start": 6.6,
            "bin_end": 8,
            "count": 0
           },
           {
            "bin_start": 8,
            "bin_end": 9.399999999999999,
            "count": 1
           },
           {
            "bin_start": 9.399999999999999,
            "bin_end": 10.799999999999999,
            "count": 0
           },
           {
            "bin_start": 10.799999999999999,
            "bin_end": 12.2,
            "count": 0
           },
           {
            "bin_start": 12.2,
            "bin_end": 13.6,
            "count": 0
           },
           {
            "bin_start": 13.6,
            "bin_end": 15,
            "count": 1
           }
          ]
         }
        },
        {
         "name": "pixel_2_3",
         "dtype": "float64",
         "stats": {
          "unique_count": 3,
          "nan_count": 0,
          "min": "2.0",
          "max": "15.0",
          "histogram": [
           {
            "bin_start": 2,
            "bin_end": 3.3,
            "count": 1
           },
           {
            "bin_start": 3.3,
            "bin_end": 4.6,
            "count": 0
           },
           {
            "bin_start": 4.6,
            "bin_end": 5.9,
            "count": 0
           },
           {
            "bin_start": 5.9,
            "bin_end": 7.2,
            "count": 0
           },
           {
            "bin_start": 7.2,
            "bin_end": 8.5,
            "count": 0
           },
           {
            "bin_start": 8.5,
            "bin_end": 9.8,
            "count": 0
           },
           {
            "bin_start": 9.8,
            "bin_end": 11.1,
            "count": 0
           },
           {
            "bin_start": 11.1,
            "bin_end": 12.4,
            "count": 0
           },
           {
            "bin_start": 12.4,
            "bin_end": 13.700000000000001,
            "count": 3
           },
           {
            "bin_start": 13.700000000000001,
            "bin_end": 15,
            "count": 1
           }
          ]
         }
        },
        {
         "name": "pixel_2_4",
         "dtype": "float64",
         "stats": {
          "unique_count": 5,
          "nan_count": 0,
          "min": "0.0",
          "max": "16.0",
          "histogram": [
           {
            "bin_start": 0,
            "bin_end": 1.6,
            "count": 1
           },
           {
            "bin_start": 1.6,
            "bin_end": 3.2,
            "count": 0
           },
           {
            "bin_start": 3.2,
            "bin_end": 4.800000000000001,
            "count": 0
           },
           {
            "bin_start": 4.800000000000001,
            "bin_end": 6.4,
            "count": 1
           },
           {
            "bin_start": 6.4,
            "bin_end": 8,
            "count": 0
           },
           {
            "bin_start": 8,
            "bin_end": 9.600000000000001,
            "count": 1
           },
           {
            "bin_start": 9.600000000000001,
            "bin_end": 11.200000000000001,
            "count": 0
           },
           {
            "bin_start": 11.200000000000001,
            "bin_end": 12.8,
            "count": 0
           },
           {
            "bin_start": 12.8,
            "bin_end": 14.4,
            "count": 1
           },
           {
            "bin_start": 14.4,
            "bin_end": 16,
            "count": 1
           }
          ]
         }
        },
        {
         "name": "pixel_2_5",
         "dtype": "float64",
         "stats": {
          "unique_count": 5,
          "nan_count": 0,
          "min": "0.0",
          "max": "16.0",
          "histogram": [
           {
            "bin_start": 0,
            "bin_end": 1.6,
            "count": 1
           },
           {
            "bin_start": 1.6,
            "bin_end": 3.2,
            "count": 1
           },
           {
            "bin_start": 3.2,
            "bin_end": 4.800000000000001,
            "count": 0
           },
           {
            "bin_start": 4.800000000000001,
            "bin_end": 6.4,
            "count": 1
           },
           {
            "bin_start": 6.4,
            "bin_end": 8,
            "count": 0
           },
           {
            "bin_start": 8,
            "bin_end": 9.600000000000001,
            "count": 0
           },
           {
            "bin_start": 9.600000000000001,
            "bin_end": 11.200000000000001,
            "count": 1
           },
           {
            "bin_start": 11.200000000000001,
            "bin_end": 12.8,
            "count": 0
           },
           {
            "bin_start": 12.8,
            "bin_end": 14.4,
            "count": 0
           },
           {
            "bin_start": 14.4,
            "bin_end": 16,
            "count": 1
           }
          ]
         }
        },
        {
         "name": "pixel_2_6",
         "dtype": "float64",
         "stats": {
          "unique_count": 3,
          "nan_count": 0,
          "min": "0.0",
          "max": "8.0",
          "histogram": [
           {
            "bin_start": 0,
            "bin_end": 0.8,
            "count": 3
           },
           {
            "bin_start": 0.8,
            "bin_end": 1.6,
            "count": 0
           },
           {
            "bin_start": 1.6,
            "bin_end": 2.4000000000000004,
            "count": 1
           },
           {
            "bin_start": 2.4000000000000004,
            "bin_end": 3.2,
            "count": 0
           },
           {
            "bin_start": 3.2,
            "bin_end": 4,
            "count": 0
           },
           {
            "bin_start": 4,
            "bin_end": 4.800000000000001,
            "count": 0
           },
           {
            "bin_start": 4.800000000000001,
            "bin_end": 5.6000000000000005,
            "count": 0
           },
           {
            "bin_start": 5.6000000000000005,
            "bin_end": 6.4,
            "count": 0
           },
           {
            "bin_start": 6.4,
            "bin_end": 7.2,
            "count": 0
           },
           {
            "bin_start": 7.2,
            "bin_end": 8,
            "count": 1
           }
          ]
         }
        },
        {
         "name": "pixel_2_7",
         "dtype": "float64",
         "stats": {
          "unique_count": 1,
          "nan_count": 0,
          "min": "0.0",
          "max": "0.0",
          "histogram": [
           {
            "bin_start": -0.5,
            "bin_end": -0.4,
            "count": 0
           },
           {
            "bin_start": -0.4,
            "bin_end": -0.3,
            "count": 0
           },
           {
            "bin_start": -0.3,
            "bin_end": -0.19999999999999996,
            "count": 0
           },
           {
            "bin_start": -0.19999999999999996,
            "bin_end": -0.09999999999999998,
            "count": 0
           },
           {
            "bin_start": -0.09999999999999998,
            "bin_end": 0,
            "count": 0
           },
           {
            "bin_start": 0,
            "bin_end": 0.10000000000000009,
            "count": 5
           },
           {
            "bin_start": 0.10000000000000009,
            "bin_end": 0.20000000000000007,
            "count": 0
           },
           {
            "bin_start": 0.20000000000000007,
            "bin_end": 0.30000000000000004,
            "count": 0
           },
           {
            "bin_start": 0.30000000000000004,
            "bin_end": 0.4,
            "count": 0
           },
           {
            "bin_start": 0.4,
            "bin_end": 0.5,
            "count": 0
           }
          ]
         }
        },
        {
         "name": "pixel_3_0",
         "dtype": "float64",
         "stats": {
          "unique_count": 1,
          "nan_count": 0,
          "min": "0.0",
          "max": "0.0",
          "histogram": [
           {
            "bin_start": -0.5,
            "bin_end": -0.4,
            "count": 0
           },
           {
            "bin_start": -0.4,
            "bin_end": -0.3,
            "count": 0
           },
           {
            "bin_start": -0.3,
            "bin_end": -0.19999999999999996,
            "count": 0
           },
           {
            "bin_start": -0.19999999999999996,
            "bin_end": -0.09999999999999998,
            "count": 0
           },
           {
            "bin_start": -0.09999999999999998,
            "bin_end": 0,
            "count": 0
           },
           {
            "bin_start": 0,
            "bin_end": 0.10000000000000009,
            "count": 5
           },
           {
            "bin_start": 0.10000000000000009,
            "bin_end": 0.20000000000000007,
            "count": 0
           },
           {
            "bin_start": 0.20000000000000007,
            "bin_end": 0.30000000000000004,
            "count": 0
           },
           {
            "bin_start": 0.30000000000000004,
            "bin_end": 0.4,
            "count": 0
           },
           {
            "bin_start": 0.4,
            "bin_end": 0.5,
            "count": 0
           }
          ]
         }
        },
        {
         "name": "pixel_3_1",
         "dtype": "float64",
         "stats": {
          "unique_count": 3,
          "nan_count": 0,
          "min": "0.0",
          "max": "7.0",
          "histogram": [
           {
            "bin_start": 0,
            "bin_end": 0.7,
            "count": 3
           },
           {
            "bin_start": 0.7,
            "bin_end": 1.4,
            "count": 0
           },
           {
            "bin_start": 1.4,
            "bin_end": 2.0999999999999996,
            "count": 0
           },
           {
            "bin_start": 2.0999999999999996,
            "bin_end": 2.8,
            "count": 0
           },
           {
            "bin_start": 2.8,
            "bin_end": 3.5,
            "count": 0
           },
           {
            "bin_start": 3.5,
            "bin_end": 4.199999999999999,
            "count": 1
           },
           {
            "bin_start": 4.199999999999999,
            "bin_end": 4.8999999999999995,
            "count": 0
           },
           {
            "bin_start": 4.8999999999999995,
            "bin_end": 5.6,
            "count": 0
           },
           {
            "bin_start": 5.6,
            "bin_end": 6.3,
            "count": 0
           },
           {
            "bin_start": 6.3,
            "bin_end": 7,
            "count": 1
           }
          ]
         }
        },
        {
         "name": "pixel_3_2",
         "dtype": "float64",
         "stats": {
          "unique_count": 5,
          "nan_count": 0,
          "min": "1.0",
          "max": "15.0",
          "histogram": [
           {
            "bin_start": 1,
            "bin_end": 2.4,
            "count": 2
           },
           {
            "bin_start": 2.4,
            "bin_end": 3.8,
            "count": 0
           },
           {
            "bin_start": 3.8,
            "bin_end": 5.199999999999999,
            "count": 0
           },
           {
            "bin_start": 5.199999999999999,
            "bin_end": 6.6,
            "count": 0
           },
           {
            "bin_start": 6.6,
            "bin_end": 8,
            "count": 1
           },
           {
            "bin_start": 8,
            "bin_end": 9.399999999999999,
            "count": 0
           },
           {
            "bin_start": 9.399999999999999,
            "bin_end": 10.799999999999999,
            "count": 0
           },
           {
            "bin_start": 10.799999999999999,
            "bin_end": 12.2,
            "count": 1
           },
           {
            "bin_start": 12.2,
            "bin_end": 13.6,
            "count": 0
           },
           {
            "bin_start": 13.6,
            "bin_end": 15,
            "count": 1
           }
          ]
         }
        },
        {
         "name": "pixel_3_3",
         "dtype": "float64",
         "stats": {
          "unique_count": 4,
          "nan_count": 0,
          "min": "0.0",
          "max": "16.0",
          "histogram": [
           {
            "bin_start": 0,
            "bin_end": 1.6,
            "count": 1
           },
           {
            "bin_start": 1.6,
            "bin_end": 3.2,
            "count": 0
           },
           {
            "bin_start": 3.2,
            "bin_end": 4.800000000000001,
            "count": 0
           },
           {
            "bin_start": 4.800000000000001,
            "bin_end": 6.4,
            "count": 1
           },
           {
            "bin_start": 6.4,
            "bin_end": 8,
            "count": 0
           },
           {
            "bin_start": 8,
            "bin_end": 9.600000000000001,
            "count": 0
           },
           {
            "bin_start": 9.600000000000001,
            "bin_end": 11.200000000000001,
            "count": 0
           },
           {
            "bin_start": 11.200000000000001,
            "bin_end": 12.8,
            "count": 0
           },
           {
            "bin_start": 12.8,
            "bin_end": 14.4,
            "count": 0
           },
           {
            "bin_start": 14.4,
            "bin_end": 16,
            "count": 3
           }
          ]
         }
        },
        {
         "name": "pixel_3_4",
         "dtype": "float64",
         "stats": {
          "unique_count": 4,
          "nan_count": 0,
          "min": "0.0",
          "max": "16.0",
          "histogram": [
           {
            "bin_start": 0,
            "bin_end": 1.6,
            "count": 2
           },
           {
            "bin_start": 1.6,
            "bin_end": 3.2,
            "count": 0
           },
           {
            "bin_start": 3.2,
            "bin_end": 4.800000000000001,
            "count": 0
           },
           {
            "bin_start": 4.800000000000001,
            "bin_end": 6.4,
            "count": 0
           },
           {
            "bin_start": 6.4,
            "bin_end": 8,
            "count": 0
           },
           {
            "bin_start": 8,
            "bin_end": 9.600000000000001,
            "count": 0
           },
           {
            "bin_start": 9.600000000000001,
            "bin_end": 11.200000000000001,
            "count": 1
           },
           {
            "bin_start": 11.200000000000001,
            "bin_end": 12.8,
            "count": 0
           },
           {
            "bin_start": 12.8,
            "bin_end": 14.4,
            "count": 0
           },
           {
            "bin_start": 14.4,
            "bin_end": 16,
            "count": 2
           }
          ]
         }
        },
        {
         "name": "pixel_3_5",
         "dtype": "float64",
         "stats": {
          "unique_count": 5,
          "nan_count": 0,
          "min": "1.0",
          "max": "11.0",
          "histogram": [
           {
            "bin_start": 1,
            "bin_end": 2,
            "count": 1
           },
           {
            "bin_start": 2,
            "bin_end": 3,
            "count": 1
           },
           {
            "bin_start": 3,
            "bin_end": 4,
            "count": 0
           },
           {
            "bin_start": 4,
            "bin_end": 5,
            "count": 0
           },
           {
            "bin_start": 5,
            "bin_end": 6,
            "count": 0
           },
           {
            "bin_start": 6,
            "bin_end": 7,
            "count": 0
           },
           {
            "bin_start": 7,
            "bin_end": 8,
            "count": 0
           },
           {
            "bin_start": 8,
            "bin_end": 9,
            "count": 1
           },
           {
            "bin_start": 9,
            "bin_end": 10,
            "count": 1
           },
           {
            "bin_start": 10,
            "bin_end": 11,
            "count": 1
           }
          ]
         }
        },
        {
         "name": "pixel_3_6",
         "dtype": "float64",
         "stats": {
          "unique_count": 2,
          "nan_count": 0,
          "min": "0.0",
          "max": "8.0",
          "histogram": [
           {
            "bin_start": 0,
            "bin_end": 0.8,
            "count": 3
           },
           {
            "bin_start": 0.8,
            "bin_end": 1.6,
            "count": 0
           },
           {
            "bin_start": 1.6,
            "bin_end": 2.4000000000000004,
            "count": 0
           },
           {
            "bin_start": 2.4000000000000004,
            "bin_end": 3.2,
            "count": 0
           },
           {
            "bin_start": 3.2,
            "bin_end": 4,
            "count": 0
           },
           {
            "bin_start": 4,
            "bin_end": 4.800000000000001,
            "count": 0
           },
           {
            "bin_start": 4.800000000000001,
            "bin_end": 5.6000000000000005,
            "count": 0
           },
           {
            "bin_start": 5.6000000000000005,
            "bin_end": 6.4,
            "count": 0
           },
           {
            "bin_start": 6.4,
            "bin_end": 7.2,
            "count": 0
           },
           {
            "bin_start": 7.2,
            "bin_end": 8,
            "count": 2
           }
          ]
         }
        },
        {
         "name": "pixel_3_7",
         "dtype": "float64",
         "stats": {
          "unique_count": 1,
          "nan_count": 0,
          "min": "0.0",
          "max": "0.0",
          "histogram": [
           {
            "bin_start": -0.5,
            "bin_end": -0.4,
            "count": 0
           },
           {
            "bin_start": -0.4,
            "bin_end": -0.3,
            "count": 0
           },
           {
            "bin_start": -0.3,
            "bin_end": -0.19999999999999996,
            "count": 0
           },
           {
            "bin_start": -0.19999999999999996,
            "bin_end": -0.09999999999999998,
            "count": 0
           },
           {
            "bin_start": -0.09999999999999998,
            "bin_end": 0,
            "count": 0
           },
           {
            "bin_start": 0,
            "bin_end": 0.10000000000000009,
            "count": 5
           },
           {
            "bin_start": 0.10000000000000009,
            "bin_end": 0.20000000000000007,
            "count": 0
           },
           {
            "bin_start": 0.20000000000000007,
            "bin_end": 0.30000000000000004,
            "count": 0
           },
           {
            "bin_start": 0.30000000000000004,
            "bin_end": 0.4,
            "count": 0
           },
           {
            "bin_start": 0.4,
            "bin_end": 0.5,
            "count": 0
           }
          ]
         }
        },
        {
         "name": "pixel_4_0",
         "dtype": "float64",
         "stats": {
          "unique_count": 1,
          "nan_count": 0,
          "min": "0.0",
          "max": "0.0",
          "histogram": [
           {
            "bin_start": -0.5,
            "bin_end": -0.4,
            "count": 0
           },
           {
            "bin_start": -0.4,
            "bin_end": -0.3,
            "count": 0
           },
           {
            "bin_start": -0.3,
            "bin_end": -0.19999999999999996,
            "count": 0
           },
           {
            "bin_start": -0.19999999999999996,
            "bin_end": -0.09999999999999998,
            "count": 0
           },
           {
            "bin_start": -0.09999999999999998,
            "bin_end": 0,
            "count": 0
           },
           {
            "bin_start": 0,
            "bin_end": 0.10000000000000009,
            "count": 5
           },
           {
            "bin_start": 0.10000000000000009,
            "bin_end": 0.20000000000000007,
            "count": 0
           },
           {
            "bin_start": 0.20000000000000007,
            "bin_end": 0.30000000000000004,
            "count": 0
           },
           {
            "bin_start": 0.30000000000000004,
            "bin_end": 0.4,
            "count": 0
           },
           {
            "bin_start": 0.4,
            "bin_end": 0.5,
            "count": 0
           }
          ]
         }
        },
        {
         "name": "pixel_4_1",
         "dtype": "float64",
         "stats": {
          "unique_count": 3,
          "nan_count": 0,
          "min": "0.0",
          "max": "5.0",
          "histogram": [
           {
            "bin_start": 0,
            "bin_end": 0.5,
            "count": 2
           },
           {
            "bin_start": 0.5,
            "bin_end": 1,
            "count": 0
           },
           {
            "bin_start": 1,
            "bin_end": 1.5,
            "count": 1
           },
           {
            "bin_start": 1.5,
            "bin_end": 2,
            "count": 0
           },
           {
            "bin_start": 2,
            "bin_end": 2.5,
            "count": 0
           },
           {
            "bin_start": 2.5,
            "bin_end": 3,
            "count": 0
           },
           {
            "bin_start": 3,
            "bin_end": 3.5,
            "count": 0
           },
           {
            "bin_start": 3.5,
            "bin_end": 4,
            "count": 0
           },
           {
            "bin_start": 4,
            "bin_end": 4.5,
            "count": 0
           },
           {
            "bin_start": 4.5,
            "bin_end": 5,
            "count": 2
           }
          ]
         }
        },
        {
         "name": "pixel_4_2",
         "dtype": "float64",
         "stats": {
          "unique_count": 4,
          "nan_count": 0,
          "min": "0.0",
          "max": "16.0",
          "histogram": [
           {
            "bin_start": 0,
            "bin_end": 1.6,
            "count": 2
           },
           {
            "bin_start": 1.6,
            "bin_end": 3.2,
            "count": 0
           },
           {
            "bin_start": 3.2,
            "bin_end": 4.800000000000001,
            "count": 0
           },
           {
            "bin_start": 4.800000000000001,
            "bin_end": 6.4,
            "count": 0
           },
           {
            "bin_start": 6.4,
            "bin_end": 8,
            "count": 0
           },
           {
            "bin_start": 8,
            "bin_end": 9.600000000000001,
            "count": 2
           },
           {
            "bin_start": 9.600000000000001,
            "bin_end": 11.200000000000001,
            "count": 0
           },
           {
            "bin_start": 11.200000000000001,
            "bin_end": 12.8,
            "count": 0
           },
           {
            "bin_start": 12.8,
            "bin_end": 14.4,
            "count": 0
           },
           {
            "bin_start": 14.4,
            "bin_end": 16,
            "count": 1
           }
          ]
         }
        },
        {
         "name": "pixel_4_3",
         "dtype": "float64",
         "stats": {
          "unique_count": 5,
          "nan_count": 0,
          "min": "0.0",
          "max": "16.0",
          "histogram": [
           {
            "bin_start": 0,
            "bin_end": 1.6,
            "count": 2
           },
           {
            "bin_start": 1.6,
            "bin_end": 3.2,
            "count": 0
           },
           {
            "bin_start": 3.2,
            "bin_end": 4.800000000000001,
            "count": 0
           },
           {
            "bin_start": 4.800000000000001,
            "bin_end": 6.4,
            "count": 0
           },
           {
            "bin_start": 6.4,
            "bin_end": 8,
            "count": 0
           },
           {
            "bin_start": 8,
            "bin_end": 9.600000000000001,
            "count": 0
           },
           {
            "bin_start": 9.600000000000001,
            "bin_end": 11.200000000000001,
            "count": 1
           },
           {
            "bin_start": 11.200000000000001,
            "bin_end": 12.8,
            "count": 0
           },
           {
            "bin_start": 12.8,
            "bin_end": 14.4,
            "count": 1
           },
           {
            "bin_start": 14.4,
            "bin_end": 16,
            "count": 1
           }
          ]
         }
        },
        {
         "name": "pixel_4_4",
         "dtype": "float64",
         "stats": {
          "unique_count": 4,
          "nan_count": 0,
          "min": "0.0",
          "max": "16.0",
          "histogram": [
           {
            "bin_start": 0,
            "bin_end": 1.6,
            "count": 2
           },
           {
            "bin_start": 1.6,
            "bin_end": 3.2,
            "count": 0
           },
           {
            "bin_start": 3.2,
            "bin_end": 4.800000000000001,
            "count": 0
           },
           {
            "bin_start": 4.800000000000001,
            "bin_end": 6.4,
            "count": 0
           },
           {
            "bin_start": 6.4,
            "bin_end": 8,
            "count": 0
           },
           {
            "bin_start": 8,
            "bin_end": 9.600000000000001,
            "count": 0
           },
           {
            "bin_start": 9.600000000000001,
            "bin_end": 11.200000000000001,
            "count": 0
           },
           {
            "bin_start": 11.200000000000001,
            "bin_end": 12.8,
            "count": 1
           },
           {
            "bin_start": 12.8,
            "bin_end": 14.4,
            "count": 0
           },
           {
            "bin_start": 14.4,
            "bin_end": 16,
            "count": 2
           }
          ]
         }
        },
        {
         "name": "pixel_4_5",
         "dtype": "float64",
         "stats": {
          "unique_count": 5,
          "nan_count": 0,
          "min": "1.0",
          "max": "16.0",
          "histogram": [
           {
            "bin_start": 1,
            "bin_end": 2.5,
            "count": 1
           },
           {
            "bin_start": 2.5,
            "bin_end": 4,
            "count": 1
           },
           {
            "bin_start": 4,
            "bin_end": 5.5,
            "count": 0
           },
           {
            "bin_start": 5.5,
            "bin_end": 7,
            "count": 0
           },
           {
            "bin_start": 7,
            "bin_end": 8.5,
            "count": 0
           },
           {
            "bin_start": 8.5,
            "bin_end": 10,
            "count": 1
           },
           {
            "bin_start": 10,
            "bin_end": 11.5,
            "count": 0
           },
           {
            "bin_start": 11.5,
            "bin_end": 13,
            "count": 1
           },
           {
            "bin_start": 13,
            "bin_end": 14.5,
            "count": 0
           },
           {
            "bin_start": 14.5,
            "bin_end": 16,
            "count": 1
           }
          ]
         }
        },
        {
         "name": "pixel_4_6",
         "dtype": "float64",
         "stats": {
          "unique_count": 4,
          "nan_count": 0,
          "min": "0.0",
          "max": "8.0",
          "histogram": [
           {
            "bin_start": 0,
            "bin_end": 0.8,
            "count": 2
           },
           {
            "bin_start": 0.8,
            "bin_end": 1.6,
            "count": 1
           },
           {
            "bin_start": 1.6,
            "bin_end": 2.4000000000000004,
            "count": 0
           },
           {
            "bin_start": 2.4000000000000004,
            "bin_end": 3.2,
            "count": 0
           },
           {
            "bin_start": 3.2,
            "bin_end": 4,
            "count": 0
           },
           {
            "bin_start": 4,
            "bin_end": 4.800000000000001,
            "count": 0
           },
           {
            "bin_start": 4.800000000000001,
            "bin_end": 5.6000000000000005,
            "count": 0
           },
           {
            "bin_start": 5.6000000000000005,
            "bin_end": 6.4,
            "count": 1
           },
           {
            "bin_start": 6.4,
            "bin_end": 7.2,
            "count": 0
           },
           {
            "bin_start": 7.2,
            "bin_end": 8,
            "count": 1
           }
          ]
         }
        },
        {
         "name": "pixel_4_7",
         "dtype": "float64",
         "stats": {
          "unique_count": 1,
          "nan_count": 0,
          "min": "0.0",
          "max": "0.0",
          "histogram": [
           {
            "bin_start": -0.5,
            "bin_end": -0.4,
            "count": 0
           },
           {
            "bin_start": -0.4,
            "bin_end": -0.3,
            "count": 0
           },
           {
            "bin_start": -0.3,
            "bin_end": -0.19999999999999996,
            "count": 0
           },
           {
            "bin_start": -0.19999999999999996,
            "bin_end": -0.09999999999999998,
            "count": 0
           },
           {
            "bin_start": -0.09999999999999998,
            "bin_end": 0,
            "count": 0
           },
           {
            "bin_start": 0,
            "bin_end": 0.10000000000000009,
            "count": 5
           },
           {
            "bin_start": 0.10000000000000009,
            "bin_end": 0.20000000000000007,
            "count": 0
           },
           {
            "bin_start": 0.20000000000000007,
            "bin_end": 0.30000000000000004,
            "count": 0
           },
           {
            "bin_start": 0.30000000000000004,
            "bin_end": 0.4,
            "count": 0
           },
           {
            "bin_start": 0.4,
            "bin_end": 0.5,
            "count": 0
           }
          ]
         }
        },
        {
         "name": "pixel_5_0",
         "dtype": "float64",
         "stats": {
          "unique_count": 1,
          "nan_count": 0,
          "min": "0.0",
          "max": "0.0",
          "histogram": [
           {
            "bin_start": -0.5,
            "bin_end": -0.4,
            "count": 0
           },
           {
            "bin_start": -0.4,
            "bin_end": -0.3,
            "count": 0
           },
           {
            "bin_start": -0.3,
            "bin_end": -0.19999999999999996,
            "count": 0
           },
           {
            "bin_start": -0.19999999999999996,
            "bin_end": -0.09999999999999998,
            "count": 0
           },
           {
            "bin_start": -0.09999999999999998,
            "bin_end": 0,
            "count": 0
           },
           {
            "bin_start": 0,
            "bin_end": 0.10000000000000009,
            "count": 5
           },
           {
            "bin_start": 0.10000000000000009,
            "bin_end": 0.20000000000000007,
            "count": 0
           },
           {
            "bin_start": 0.20000000000000007,
            "bin_end": 0.30000000000000004,
            "count": 0
           },
           {
            "bin_start": 0.30000000000000004,
            "bin_end": 0.4,
            "count": 0
           },
           {
            "bin_start": 0.4,
            "bin_end": 0.5,
            "count": 0
           }
          ]
         }
        },
        {
         "name": "pixel_5_1",
         "dtype": "float64",
         "stats": {
          "unique_count": 3,
          "nan_count": 0,
          "min": "0.0",
          "max": "9.0",
          "histogram": [
           {
            "bin_start": 0,
            "bin_end": 0.9,
            "count": 2
           },
           {
            "bin_start": 0.9,
            "bin_end": 1.8,
            "count": 0
           },
           {
            "bin_start": 1.8,
            "bin_end": 2.7,
            "count": 0
           },
           {
            "bin_start": 2.7,
            "bin_end": 3.6,
            "count": 0
           },
           {
            "bin_start": 3.6,
            "bin_end": 4.5,
            "count": 2
           },
           {
            "bin_start": 4.5,
            "bin_end": 5.4,
            "count": 0
           },
           {
            "bin_start": 5.4,
            "bin_end": 6.3,
            "count": 0
           },
           {
            "bin_start": 6.3,
            "bin_end": 7.2,
            "count": 0
           },
           {
            "bin_start": 7.2,
            "bin_end": 8.1,
            "count": 0
           },
           {
            "bin_start": 8.1,
            "bin_end": 9,
            "count": 1
           }
          ]
         }
        },
        {
         "name": "pixel_5_2",
         "dtype": "float64",
         "stats": {
          "unique_count": 5,
          "nan_count": 0,
          "min": "0.0",
          "max": "16.0",
          "histogram": [
           {
            "bin_start": 0,
            "bin_end": 1.6,
            "count": 2
           },
           {
            "bin_start": 1.6,
            "bin_end": 3.2,
            "count": 0
           },
           {
            "bin_start": 3.2,
            "bin_end": 4.800000000000001,
            "count": 0
           },
           {
            "bin_start": 4.800000000000001,
            "bin_end": 6.4,
            "count": 0
           },
           {
            "bin_start": 6.4,
            "bin_end": 8,
            "count": 0
           },
           {
            "bin_start": 8,
            "bin_end": 9.600000000000001,
            "count": 0
           },
           {
            "bin_start": 9.600000000000001,
            "bin_end": 11.200000000000001,
            "count": 1
           },
           {
            "bin_start": 11.200000000000001,
            "bin_end": 12.8,
            "count": 0
           },
           {
            "bin_start": 12.8,
            "bin_end": 14.4,
            "count": 0
           },
           {
            "bin_start": 14.4,
            "bin_end": 16,
            "count": 2
           }
          ]
         }
        },
        {
         "name": "pixel_5_3",
         "dtype": "float64",
         "stats": {
          "unique_count": 2,
          "nan_count": 0,
          "min": "0.0",
          "max": "16.0",
          "histogram": [
           {
            "bin_start": 0,
            "bin_end": 1.6,
            "count": 2
           },
           {
            "bin_start": 1.6,
            "bin_end": 3.2,
            "count": 0
           },
           {
            "bin_start": 3.2,
            "bin_end": 4.800000000000001,
            "count": 0
           },
           {
            "bin_start": 4.800000000000001,
            "bin_end": 6.4,
            "count": 0
           },
           {
            "bin_start": 6.4,
            "bin_end": 8,
            "count": 0
           },
           {
            "bin_start": 8,
            "bin_end": 9.600000000000001,
            "count": 0
           },
           {
            "bin_start": 9.600000000000001,
            "bin_end": 11.200000000000001,
            "count": 0
           },
           {
            "bin_start": 11.200000000000001,
            "bin_end": 12.8,
            "count": 0
           },
           {
            "bin_start": 12.8,
            "bin_end": 14.4,
            "count": 0
           },
           {
            "bin_start": 14.4,
            "bin_end": 16,
            "count": 3
           }
          ]
         }
        },
        {
         "name": "pixel_5_4",
         "dtype": "float64",
         "stats": {
          "unique_count": 4,
          "nan_count": 0,
          "min": "1.0",
          "max": "16.0",
          "histogram": [
           {
            "bin_start": 1,
            "bin_end": 2.5,
            "count": 2
           },
           {
            "bin_start": 2.5,
            "bin_end": 4,
            "count": 0
           },
           {
            "bin_start": 4,
            "bin_end": 5.5,
            "count": 1
           },
           {
            "bin_start": 5.5,
            "bin_end": 7,
            "count": 0
           },
           {
            "bin_start": 7,
            "bin_end": 8.5,
            "count": 0
           },
           {
            "bin_start": 8.5,
            "bin_end": 10,
            "count": 0
           },
           {
            "bin_start": 10,
            "bin_end": 11.5,
            "count": 0
           },
           {
            "bin_start": 11.5,
            "bin_end": 13,
            "count": 0
           },
           {
            "bin_start": 13,
            "bin_end": 14.5,
            "count": 1
           },
           {
            "bin_start": 14.5,
            "bin_end": 16,
            "count": 1
           }
          ]
         }
        },
        {
         "name": "pixel_5_5",
         "dtype": "float64",
         "stats": {
          "unique_count": 5,
          "nan_count": 0,
          "min": "0.0",
          "max": "16.0",
          "histogram": [
           {
            "bin_start": 0,
            "bin_end": 1.6,
            "count": 1
           },
           {
            "bin_start": 1.6,
            "bin_end": 3.2,
            "count": 0
           },
           {
            "bin_start": 3.2,
            "bin_end": 4.800000000000001,
            "count": 0
           },
           {
            "bin_start": 4.800000000000001,
            "bin_end": 6.4,
            "count": 1
           },
           {
            "bin_start": 6.4,
            "bin_end": 8,
            "count": 0
           },
           {
            "bin_start": 8,
            "bin_end": 9.600000000000001,
            "count": 0
           },
           {
            "bin_start": 9.600000000000001,
            "bin_end": 11.200000000000001,
            "count": 1
           },
           {
            "bin_start": 11.200000000000001,
            "bin_end": 12.8,
            "count": 1
           },
           {
            "bin_start": 12.8,
            "bin_end": 14.4,
            "count": 0
           },
           {
            "bin_start": 14.4,
            "bin_end": 16,
            "count": 1
           }
          ]
         }
        },
        {
         "name": "pixel_5_6",
         "dtype": "float64",
         "stats": {
          "unique_count": 4,
          "nan_count": 0,
          "min": "0.0",
          "max": "8.0",
          "histogram": [
           {
            "bin_start": 0,
            "bin_end": 0.8,
            "count": 2
           },
           {
            "bin_start": 0.8,
            "bin_end": 1.6,
            "count": 1
           },
           {
            "bin_start": 1.6,
            "bin_end": 2.4000000000000004,
            "count": 0
           },
           {
            "bin_start": 2.4000000000000004,
            "bin_end": 3.2,
            "count": 0
           },
           {
            "bin_start": 3.2,
            "bin_end": 4,
            "count": 0
           },
           {
            "bin_start": 4,
            "bin_end": 4.800000000000001,
            "count": 0
           },
           {
            "bin_start": 4.800000000000001,
            "bin_end": 5.6000000000000005,
            "count": 0
           },
           {
            "bin_start": 5.6000000000000005,
            "bin_end": 6.4,
            "count": 0
           },
           {
            "bin_start": 6.4,
            "bin_end": 7.2,
            "count": 1
           },
           {
            "bin_start": 7.2,
            "bin_end": 8,
            "count": 1
           }
          ]
         }
        },
        {
         "name": "pixel_5_7",
         "dtype": "float64",
         "stats": {
          "unique_count": 1,
          "nan_count": 0,
          "min": "0.0",
          "max": "0.0",
          "histogram": [
           {
            "bin_start": -0.5,
            "bin_end": -0.4,
            "count": 0
           },
           {
            "bin_start": -0.4,
            "bin_end": -0.3,
            "count": 0
           },
           {
            "bin_start": -0.3,
            "bin_end": -0.19999999999999996,
            "count": 0
           },
           {
            "bin_start": -0.19999999999999996,
            "bin_end": -0.09999999999999998,
            "count": 0
           },
           {
            "bin_start": -0.09999999999999998,
            "bin_end": 0,
            "count": 0
           },
           {
            "bin_start": 0,
            "bin_end": 0.10000000000000009,
            "count": 5
           },
           {
            "bin_start": 0.10000000000000009,
            "bin_end": 0.20000000000000007,
            "count": 0
           },
           {
            "bin_start": 0.20000000000000007,
            "bin_end": 0.30000000000000004,
            "count": 0
           },
           {
            "bin_start": 0.30000000000000004,
            "bin_end": 0.4,
            "count": 0
           },
           {
            "bin_start": 0.4,
            "bin_end": 0.5,
            "count": 0
           }
          ]
         }
        },
        {
         "name": "pixel_6_0",
         "dtype": "float64",
         "stats": {
          "unique_count": 1,
          "nan_count": 0,
          "min": "0.0",
          "max": "0.0",
          "histogram": [
           {
            "bin_start": -0.5,
            "bin_end": -0.4,
            "count": 0
           },
           {
            "bin_start": -0.4,
            "bin_end": -0.3,
            "count": 0
           },
           {
            "bin_start": -0.3,
            "bin_end": -0.19999999999999996,
            "count": 0
           },
           {
            "bin_start": -0.19999999999999996,
            "bin_end": -0.09999999999999998,
            "count": 0
           },
           {
            "bin_start": -0.09999999999999998,
            "bin_end": 0,
            "count": 0
           },
           {
            "bin_start": 0,
            "bin_end": 0.10000000000000009,
            "count": 5
           },
           {
            "bin_start": 0.10000000000000009,
            "bin_end": 0.20000000000000007,
            "count": 0
           },
           {
            "bin_start": 0.20000000000000007,
            "bin_end": 0.30000000000000004,
            "count": 0
           },
           {
            "bin_start": 0.30000000000000004,
            "bin_end": 0.4,
            "count": 0
           },
           {
            "bin_start": 0.4,
            "bin_end": 0.5,
            "count": 0
           }
          ]
         }
        },
        {
         "name": "pixel_6_1",
         "dtype": "float64",
         "stats": {
          "unique_count": 3,
          "nan_count": 0,
          "min": "0.0",
          "max": "3.0",
          "histogram": [
           {
            "bin_start": 0,
            "bin_end": 0.3,
            "count": 3
           },
           {
            "bin_start": 0.3,
            "bin_end": 0.6,
            "count": 0
           },
           {
            "bin_start": 0.6,
            "bin_end": 0.8999999999999999,
            "count": 0
           },
           {
            "bin_start": 0.8999999999999999,
            "bin_end": 1.2,
            "count": 0
           },
           {
            "bin_start": 1.2,
            "bin_end": 1.5,
            "count": 0
           },
           {
            "bin_start": 1.5,
            "bin_end": 1.7999999999999998,
            "count": 0
           },
           {
            "bin_start": 1.7999999999999998,
            "bin_end": 2.1,
            "count": 1
           },
           {
            "bin_start": 2.1,
            "bin_end": 2.4,
            "count": 0
           },
           {
            "bin_start": 2.4,
            "bin_end": 2.6999999999999997,
            "count": 0
           },
           {
            "bin_start": 2.6999999999999997,
            "bin_end": 3,
            "count": 1
           }
          ]
         }
        },
        {
         "name": "pixel_6_2",
         "dtype": "float64",
         "stats": {
          "unique_count": 5,
          "nan_count": 0,
          "min": "0.0",
          "max": "14.0",
          "histogram": [
           {
            "bin_start": 0,
            "bin_end": 1.4,
            "count": 2
           },
           {
            "bin_start": 1.4,
            "bin_end": 2.8,
            "count": 0
           },
           {
            "bin_start": 2.8,
            "bin_end": 4.199999999999999,
            "count": 0
           },
           {
            "bin_start": 4.199999999999999,
            "bin_end": 5.6,
            "count": 0
           },
           {
            "bin_start": 5.6,
            "bin_end": 7,
            "count": 0
           },
           {
            "bin_start": 7,
            "bin_end": 8.399999999999999,
            "count": 1
           },
           {
            "bin_start": 8.399999999999999,
            "bin_end": 9.799999999999999,
            "count": 0
           },
           {
            "bin_start": 9.799999999999999,
            "bin_end": 11.2,
            "count": 0
           },
           {
            "bin_start": 11.2,
            "bin_end": 12.6,
            "count": 0
           },
           {
            "bin_start": 12.6,
            "bin_end": 14,
            "count": 2
           }
          ]
         }
        },
        {
         "name": "pixel_6_3",
         "dtype": "float64",
         "stats": {
          "unique_count": 4,
          "nan_count": 0,
          "min": "3.0",
          "max": "16.0",
          "histogram": [
           {
            "bin_start": 3,
            "bin_end": 4.3,
            "count": 2
           },
           {
            "bin_start": 4.3,
            "bin_end": 5.6,
            "count": 1
           },
           {
            "bin_start": 5.6,
            "bin_end": 6.9,
            "count": 0
           },
           {
            "bin_start": 6.9,
            "bin_end": 8.2,
            "count": 0
           },
           {
            "bin_start": 8.2,
            "bin_end": 9.5,
            "count": 0
           },
           {
            "bin_start": 9.5,
            "bin_end": 10.8,
            "count": 0
           },
           {
            "bin_start": 10.8,
            "bin_end": 12.1,
            "count": 0
           },
           {
            "bin_start": 12.1,
            "bin_end": 13.4,
            "count": 0
           },
           {
            "bin_start": 13.4,
            "bin_end": 14.700000000000001,
            "count": 0
           },
           {
            "bin_start": 14.700000000000001,
            "bin_end": 16,
            "count": 2
           }
          ]
         }
        },
        {
         "name": "pixel_6_4",
         "dtype": "float64",
         "stats": {
          "unique_count": 4,
          "nan_count": 0,
          "min": "5.0",
          "max": "16.0",
          "histogram": [
           {
            "bin_start": 5,
            "bin_end": 6.1,
            "count": 1
           },
           {
            "bin_start": 6.1,
            "bin_end": 7.2,
            "count": 0
           },
           {
            "bin_start": 7.2,
            "bin_end": 8.3,
            "count": 0
           },
           {
            "bin_start": 8.3,
            "bin_end": 9.4,
            "count": 0
           },
           {
            "bin_start": 9.4,
            "bin_end": 10.5,
            "count": 1
           },
           {
            "bin_start": 10.5,
            "bin_end": 11.600000000000001,
            "count": 0
           },
           {
            "bin_start": 11.600000000000001,
            "bin_end": 12.700000000000001,
            "count": 0
           },
           {
            "bin_start": 12.700000000000001,
            "bin_end": 13.8,
            "count": 0
           },
           {
            "bin_start": 13.8,
            "bin_end": 14.9,
            "count": 0
           },
           {
            "bin_start": 14.9,
            "bin_end": 16,
            "count": 3
           }
          ]
         }
        },
        {
         "name": "pixel_6_5",
         "dtype": "float64",
         "stats": {
          "unique_count": 5,
          "nan_count": 0,
          "min": "6.0",
          "max": "14.0",
          "histogram": [
           {
            "bin_start": 6,
            "bin_end": 6.8,
            "count": 1
           },
           {
            "bin_start": 6.8,
            "bin_end": 7.6,
            "count": 0
           },
           {
            "bin_start": 7.6,
            "bin_end": 8.4,
            "count": 0
           },
           {
            "bin_start": 8.4,
            "bin_end": 9.2,
            "count": 0
           },
           {
            "bin_start": 9.2,
            "bin_end": 10,
            "count": 0
           },
           {
            "bin_start": 10,
            "bin_end": 10.8,
            "count": 1
           },
           {
            "bin_start": 10.8,
            "bin_end": 11.600000000000001,
            "count": 1
           },
           {
            "bin_start": 11.600000000000001,
            "bin_end": 12.4,
            "count": 1
           },
           {
            "bin_start": 12.4,
            "bin_end": 13.2,
            "count": 0
           },
           {
            "bin_start": 13.2,
            "bin_end": 14,
            "count": 1
           }
          ]
         }
        },
        {
         "name": "pixel_6_6",
         "dtype": "float64",
         "stats": {
          "unique_count": 3,
          "nan_count": 0,
          "min": "0.0",
          "max": "9.0",
          "histogram": [
           {
            "bin_start": 0,
            "bin_end": 0.9,
            "count": 3
           },
           {
            "bin_start": 0.9,
            "bin_end": 1.8,
            "count": 0
           },
           {
            "bin_start": 1.8,
            "bin_end": 2.7,
            "count": 0
           },
           {
            "bin_start": 2.7,
            "bin_end": 3.6,
            "count": 0
           },
           {
            "bin_start": 3.6,
            "bin_end": 4.5,
            "count": 0
           },
           {
            "bin_start": 4.5,
            "bin_end": 5.4,
            "count": 1
           },
           {
            "bin_start": 5.4,
            "bin_end": 6.3,
            "count": 0
           },
           {
            "bin_start": 6.3,
            "bin_end": 7.2,
            "count": 0
           },
           {
            "bin_start": 7.2,
            "bin_end": 8.1,
            "count": 0
           },
           {
            "bin_start": 8.1,
            "bin_end": 9,
            "count": 1
           }
          ]
         }
        },
        {
         "name": "pixel_6_7",
         "dtype": "float64",
         "stats": {
          "unique_count": 1,
          "nan_count": 0,
          "min": "0.0",
          "max": "0.0",
          "histogram": [
           {
            "bin_start": -0.5,
            "bin_end": -0.4,
            "count": 0
           },
           {
            "bin_start": -0.4,
            "bin_end": -0.3,
            "count": 0
           },
           {
            "bin_start": -0.3,
            "bin_end": -0.19999999999999996,
            "count": 0
           },
           {
            "bin_start": -0.19999999999999996,
            "bin_end": -0.09999999999999998,
            "count": 0
           },
           {
            "bin_start": -0.09999999999999998,
            "bin_end": 0,
            "count": 0
           },
           {
            "bin_start": 0,
            "bin_end": 0.10000000000000009,
            "count": 5
           },
           {
            "bin_start": 0.10000000000000009,
            "bin_end": 0.20000000000000007,
            "count": 0
           },
           {
            "bin_start": 0.20000000000000007,
            "bin_end": 0.30000000000000004,
            "count": 0
           },
           {
            "bin_start": 0.30000000000000004,
            "bin_end": 0.4,
            "count": 0
           },
           {
            "bin_start": 0.4,
            "bin_end": 0.5,
            "count": 0
           }
          ]
         }
        },
        {
         "name": "pixel_7_0",
         "dtype": "float64",
         "stats": {
          "unique_count": 1,
          "nan_count": 0,
          "min": "0.0",
          "max": "0.0",
          "histogram": [
           {
            "bin_start": -0.5,
            "bin_end": -0.4,
            "count": 0
           },
           {
            "bin_start": -0.4,
            "bin_end": -0.3,
            "count": 0
           },
           {
            "bin_start": -0.3,
            "bin_end": -0.19999999999999996,
            "count": 0
           },
           {
            "bin_start": -0.19999999999999996,
            "bin_end": -0.09999999999999998,
            "count": 0
           },
           {
            "bin_start": -0.09999999999999998,
            "bin_end": 0,
            "count": 0
           },
           {
            "bin_start": 0,
            "bin_end": 0.10000000000000009,
            "count": 5
           },
           {
            "bin_start": 0.10000000000000009,
            "bin_end": 0.20000000000000007,
            "count": 0
           },
           {
            "bin_start": 0.20000000000000007,
            "bin_end": 0.30000000000000004,
            "count": 0
           },
           {
            "bin_start": 0.30000000000000004,
            "bin_end": 0.4,
            "count": 0
           },
           {
            "bin_start": 0.4,
            "bin_end": 0.5,
            "count": 0
           }
          ]
         }
        },
        {
         "name": "pixel_7_1",
         "dtype": "float64",
         "stats": {
          "unique_count": 1,
          "nan_count": 0,
          "min": "0.0",
          "max": "0.0",
          "histogram": [
           {
            "bin_start": -0.5,
            "bin_end": -0.4,
            "count": 0
           },
           {
            "bin_start": -0.4,
            "bin_end": -0.3,
            "count": 0
           },
           {
            "bin_start": -0.3,
            "bin_end": -0.19999999999999996,
            "count": 0
           },
           {
            "bin_start": -0.19999999999999996,
            "bin_end": -0.09999999999999998,
            "count": 0
           },
           {
            "bin_start": -0.09999999999999998,
            "bin_end": 0,
            "count": 0
           },
           {
            "bin_start": 0,
            "bin_end": 0.10000000000000009,
            "count": 5
           },
           {
            "bin_start": 0.10000000000000009,
            "bin_end": 0.20000000000000007,
            "count": 0
           },
           {
            "bin_start": 0.20000000000000007,
            "bin_end": 0.30000000000000004,
            "count": 0
           },
           {
            "bin_start": 0.30000000000000004,
            "bin_end": 0.4,
            "count": 0
           },
           {
            "bin_start": 0.4,
            "bin_end": 0.5,
            "count": 0
           }
          ]
         }
        },
        {
         "name": "pixel_7_2",
         "dtype": "float64",
         "stats": {
          "unique_count": 3,
          "nan_count": 0,
          "min": "0.0",
          "max": "7.0",
          "histogram": [
           {
            "bin_start": 0,
            "bin_end": 0.7,
            "count": 3
           },
           {
            "bin_start": 0.7,
            "bin_end": 1.4,
            "count": 0
           },
           {
            "bin_start": 1.4,
            "bin_end": 2.0999999999999996,
            "count": 0
           },
           {
            "bin_start": 2.0999999999999996,
            "bin_end": 2.8,
            "count": 0
           },
           {
            "bin_start": 2.8,
            "bin_end": 3.5,
            "count": 0
           },
           {
            "bin_start": 3.5,
            "bin_end": 4.199999999999999,
            "count": 0
           },
           {
            "bin_start": 4.199999999999999,
            "bin_end": 4.8999999999999995,
            "count": 0
           },
           {
            "bin_start": 4.8999999999999995,
            "bin_end": 5.6,
            "count": 0
           },
           {
            "bin_start": 5.6,
            "bin_end": 6.3,
            "count": 1
           },
           {
            "bin_start": 6.3,
            "bin_end": 7,
            "count": 1
           }
          ]
         }
        },
        {
         "name": "pixel_7_3",
         "dtype": "float64",
         "stats": {
          "unique_count": 4,
          "nan_count": 0,
          "min": "2.0",
          "max": "13.0",
          "histogram": [
           {
            "bin_start": 2,
            "bin_end": 3.1,
            "count": 2
           },
           {
            "bin_start": 3.1,
            "bin_end": 4.2,
            "count": 0
           },
           {
            "bin_start": 4.2,
            "bin_end": 5.300000000000001,
            "count": 0
           },
           {
            "bin_start": 5.300000000000001,
            "bin_end": 6.4,
            "count": 0
           },
           {
            "bin_start": 6.4,
            "bin_end": 7.5,
            "count": 0
           },
           {
            "bin_start": 7.5,
            "bin_end": 8.600000000000001,
            "count": 0
           },
           {
            "bin_start": 8.600000000000001,
            "bin_end": 9.700000000000001,
            "count": 0
           },
           {
            "bin_start": 9.700000000000001,
            "bin_end": 10.8,
            "count": 0
           },
           {
            "bin_start": 10.8,
            "bin_end": 11.9,
            "count": 1
           },
           {
            "bin_start": 11.9,
            "bin_end": 13,
            "count": 2
           }
          ]
         }
        },
        {
         "name": "pixel_7_4",
         "dtype": "float64",
         "stats": {
          "unique_count": 4,
          "nan_count": 0,
          "min": "10.0",
          "max": "16.0",
          "histogram": [
           {
            "bin_start": 10,
            "bin_end": 10.6,
            "count": 1
           },
           {
            "bin_start": 10.6,
            "bin_end": 11.2,
            "count": 1
           },
           {
            "bin_start": 11.2,
            "bin_end": 11.8,
            "count": 0
           },
           {
            "bin_start": 11.8,
            "bin_end": 12.4,
            "count": 0
           },
           {
            "bin_start": 12.4,
            "bin_end": 13,
            "count": 0
           },
           {
            "bin_start": 13,
            "bin_end": 13.6,
            "count": 1
           },
           {
            "bin_start": 13.6,
            "bin_end": 14.2,
            "count": 0
           },
           {
            "bin_start": 14.2,
            "bin_end": 14.8,
            "count": 0
           },
           {
            "bin_start": 14.8,
            "bin_end": 15.399999999999999,
            "count": 0
           },
           {
            "bin_start": 15.399999999999999,
            "bin_end": 16,
            "count": 2
           }
          ]
         }
        },
        {
         "name": "pixel_7_5",
         "dtype": "float64",
         "stats": {
          "unique_count": 5,
          "nan_count": 0,
          "min": "0.0",
          "max": "16.0",
          "histogram": [
           {
            "bin_start": 0,
            "bin_end": 1.6,
            "count": 1
           },
           {
            "bin_start": 1.6,
            "bin_end": 3.2,
            "count": 0
           },
           {
            "bin_start": 3.2,
            "bin_end": 4.800000000000001,
            "count": 1
           },
           {
            "bin_start": 4.800000000000001,
            "bin_end": 6.4,
            "count": 0
           },
           {
            "bin_start": 6.4,
            "bin_end": 8,
            "count": 0
           },
           {
            "bin_start": 8,
            "bin_end": 9.600000000000001,
            "count": 1
           },
           {
            "bin_start": 9.600000000000001,
            "bin_end": 11.200000000000001,
            "count": 1
           },
           {
            "bin_start": 11.200000000000001,
            "bin_end": 12.8,
            "count": 0
           },
           {
            "bin_start": 12.8,
            "bin_end": 14.4,
            "count": 0
           },
           {
            "bin_start": 14.4,
            "bin_end": 16,
            "count": 1
           }
          ]
         }
        },
        {
         "name": "pixel_7_6",
         "dtype": "float64",
         "stats": {
          "unique_count": 2,
          "nan_count": 0,
          "min": "0.0",
          "max": "9.0",
          "histogram": [
           {
            "bin_start": 0,
            "bin_end": 0.9,
            "count": 4
           },
           {
            "bin_start": 0.9,
            "bin_end": 1.8,
            "count": 0
           },
           {
            "bin_start": 1.8,
            "bin_end": 2.7,
            "count": 0
           },
           {
            "bin_start": 2.7,
            "bin_end": 3.6,
            "count": 0
           },
           {
            "bin_start": 3.6,
            "bin_end": 4.5,
            "count": 0
           },
           {
            "bin_start": 4.5,
            "bin_end": 5.4,
            "count": 0
           },
           {
            "bin_start": 5.4,
            "bin_end": 6.3,
            "count": 0
           },
           {
            "bin_start": 6.3,
            "bin_end": 7.2,
            "count": 0
           },
           {
            "bin_start": 7.2,
            "bin_end": 8.1,
            "count": 0
           },
           {
            "bin_start": 8.1,
            "bin_end": 9,
            "count": 1
           }
          ]
         }
        },
        {
         "name": "pixel_7_7",
         "dtype": "float64",
         "stats": {
          "unique_count": 1,
          "nan_count": 0,
          "min": "0.0",
          "max": "0.0",
          "histogram": [
           {
            "bin_start": -0.5,
            "bin_end": -0.4,
            "count": 0
           },
           {
            "bin_start": -0.4,
            "bin_end": -0.3,
            "count": 0
           },
           {
            "bin_start": -0.3,
            "bin_end": -0.19999999999999996,
            "count": 0
           },
           {
            "bin_start": -0.19999999999999996,
            "bin_end": -0.09999999999999998,
            "count": 0
           },
           {
            "bin_start": -0.09999999999999998,
            "bin_end": 0,
            "count": 0
           },
           {
            "bin_start": 0,
            "bin_end": 0.10000000000000009,
            "count": 5
           },
           {
            "bin_start": 0.10000000000000009,
            "bin_end": 0.20000000000000007,
            "count": 0
           },
           {
            "bin_start": 0.20000000000000007,
            "bin_end": 0.30000000000000004,
            "count": 0
           },
           {
            "bin_start": 0.30000000000000004,
            "bin_end": 0.4,
            "count": 0
           },
           {
            "bin_start": 0.4,
            "bin_end": 0.5,
            "count": 0
           }
          ]
         }
        },
        {
         "name": "_deepnote_index_column",
         "dtype": "int64"
        }
       ],
       "rows": [
        {
         "pixel_0_0": "0.0",
         "pixel_0_1": "0.0",
         "pixel_0_2": "5.0",
         "pixel_0_3": "13.0",
         "pixel_0_4": "9.0",
         "pixel_0_5": "1.0",
         "pixel_0_6": "0.0",
         "pixel_0_7": "0.0",
         "pixel_1_0": "0.0",
         "pixel_1_1": "0.0",
         "pixel_1_2": "13.0",
         "pixel_1_3": "15.0",
         "pixel_1_4": "10.0",
         "pixel_1_5": "15.0",
         "pixel_1_6": "5.0",
         "pixel_1_7": "0.0",
         "pixel_2_0": "0.0",
         "pixel_2_1": "3.0",
         "pixel_2_2": "15.0",
         "pixel_2_3": "2.0",
         "pixel_2_4": "0.0",
         "pixel_2_5": "11.0",
         "pixel_2_6": "8.0",
         "pixel_2_7": "0.0",
         "pixel_3_0": "0.0",
         "pixel_3_1": "4.0",
         "pixel_3_2": "12.0",
         "pixel_3_3": "0.0",
         "pixel_3_4": "0.0",
         "pixel_3_5": "8.0",
         "pixel_3_6": "8.0",
         "pixel_3_7": "0.0",
         "pixel_4_0": "0.0",
         "pixel_4_1": "5.0",
         "pixel_4_2": "8.0",
         "pixel_4_3": "0.0",
         "pixel_4_4": "0.0",
         "pixel_4_5": "9.0",
         "pixel_4_6": "8.0",
         "pixel_4_7": "0.0",
         "pixel_5_0": "0.0",
         "pixel_5_1": "4.0",
         "pixel_5_2": "11.0",
         "pixel_5_3": "0.0",
         "pixel_5_4": "1.0",
         "pixel_5_5": "12.0",
         "pixel_5_6": "7.0",
         "pixel_5_7": "0.0",
         "pixel_6_0": "0.0",
         "pixel_6_1": "2.0",
         "pixel_6_2": "14.0",
         "pixel_6_3": "5.0",
         "pixel_6_4": "10.0",
         "pixel_6_5": "12.0",
         "pixel_6_6": "0.0",
         "pixel_6_7": "0.0",
         "pixel_7_0": "0.0",
         "pixel_7_1": "0.0",
         "pixel_7_2": "6.0",
         "pixel_7_3": "13.0",
         "pixel_7_4": "10.0",
         "pixel_7_5": "0.0",
         "pixel_7_6": "0.0",
         "pixel_7_7": "0.0",
         "_deepnote_index_column": "0"
        },
        {
         "pixel_0_0": "0.0",
         "pixel_0_1": "0.0",
         "pixel_0_2": "0.0",
         "pixel_0_3": "12.0",
         "pixel_0_4": "13.0",
         "pixel_0_5": "5.0",
         "pixel_0_6": "0.0",
         "pixel_0_7": "0.0",
         "pixel_1_0": "0.0",
         "pixel_1_1": "0.0",
         "pixel_1_2": "0.0",
         "pixel_1_3": "11.0",
         "pixel_1_4": "16.0",
         "pixel_1_5": "9.0",
         "pixel_1_6": "0.0",
         "pixel_1_7": "0.0",
         "pixel_2_0": "0.0",
         "pixel_2_1": "0.0",
         "pixel_2_2": "3.0",
         "pixel_2_3": "15.0",
         "pixel_2_4": "16.0",
         "pixel_2_5": "6.0",
         "pixel_2_6": "0.0",
         "pixel_2_7": "0.0",
         "pixel_3_0": "0.0",
         "pixel_3_1": "7.0",
         "pixel_3_2": "15.0",
         "pixel_3_3": "16.0",
         "pixel_3_4": "16.0",
         "pixel_3_5": "2.0",
         "pixel_3_6": "0.0",
         "pixel_3_7": "0.0",
         "pixel_4_0": "0.0",
         "pixel_4_1": "0.0",
         "pixel_4_2": "1.0",
         "pixel_4_3": "16.0",
         "pixel_4_4": "16.0",
         "pixel_4_5": "3.0",
         "pixel_4_6": "0.0",
         "pixel_4_7": "0.0",
         "pixel_5_0": "0.0",
         "pixel_5_1": "0.0",
         "pixel_5_2": "1.0",
         "pixel_5_3": "16.0",
         "pixel_5_4": "16.0",
         "pixel_5_5": "6.0",
         "pixel_5_6": "0.0",
         "pixel_5_7": "0.0",
         "pixel_6_0": "0.0",
         "pixel_6_1": "0.0",
         "pixel_6_2": "1.0",
         "pixel_6_3": "16.0",
         "pixel_6_4": "16.0",
         "pixel_6_5": "6.0",
         "pixel_6_6": "0.0",
         "pixel_6_7": "0.0",
         "pixel_7_0": "0.0",
         "pixel_7_1": "0.0",
         "pixel_7_2": "0.0",
         "pixel_7_3": "11.0",
         "pixel_7_4": "16.0",
         "pixel_7_5": "10.0",
         "pixel_7_6": "0.0",
         "pixel_7_7": "0.0",
         "_deepnote_index_column": "1"
        },
        {
         "pixel_0_0": "0.0",
         "pixel_0_1": "0.0",
         "pixel_0_2": "0.0",
         "pixel_0_3": "4.0",
         "pixel_0_4": "15.0",
         "pixel_0_5": "12.0",
         "pixel_0_6": "0.0",
         "pixel_0_7": "0.0",
         "pixel_1_0": "0.0",
         "pixel_1_1": "0.0",
         "pixel_1_2": "3.0",
         "pixel_1_3": "16.0",
         "pixel_1_4": "15.0",
         "pixel_1_5": "14.0",
         "pixel_1_6": "0.0",
         "pixel_1_7": "0.0",
         "pixel_2_0": "0.0",
         "pixel_2_1": "0.0",
         "pixel_2_2": "8.0",
         "pixel_2_3": "13.0",
         "pixel_2_4": "8.0",
         "pixel_2_5": "16.0",
         "pixel_2_6": "0.0",
         "pixel_2_7": "0.0",
         "pixel_3_0": "0.0",
         "pixel_3_1": "0.0",
         "pixel_3_2": "1.0",
         "pixel_3_3": "6.0",
         "pixel_3_4": "15.0",
         "pixel_3_5": "11.0",
         "pixel_3_6": "0.0",
         "pixel_3_7": "0.0",
         "pixel_4_0": "0.0",
         "pixel_4_1": "1.0",
         "pixel_4_2": "8.0",
         "pixel_4_3": "13.0",
         "pixel_4_4": "15.0",
         "pixel_4_5": "1.0",
         "pixel_4_6": "0.0",
         "pixel_4_7": "0.0",
         "pixel_5_0": "0.0",
         "pixel_5_1": "9.0",
         "pixel_5_2": "16.0",
         "pixel_5_3": "16.0",
         "pixel_5_4": "5.0",
         "pixel_5_5": "0.0",
         "pixel_5_6": "0.0",
         "pixel_5_7": "0.0",
         "pixel_6_0": "0.0",
         "pixel_6_1": "3.0",
         "pixel_6_2": "13.0",
         "pixel_6_3": "16.0",
         "pixel_6_4": "16.0",
         "pixel_6_5": "11.0",
         "pixel_6_6": "5.0",
         "pixel_6_7": "0.0",
         "pixel_7_0": "0.0",
         "pixel_7_1": "0.0",
         "pixel_7_2": "0.0",
         "pixel_7_3": "3.0",
         "pixel_7_4": "11.0",
         "pixel_7_5": "16.0",
         "pixel_7_6": "9.0",
         "pixel_7_7": "0.0",
         "_deepnote_index_column": "2"
        },
        {
         "pixel_0_0": "0.0",
         "pixel_0_1": "0.0",
         "pixel_0_2": "7.0",
         "pixel_0_3": "15.0",
         "pixel_0_4": "13.0",
         "pixel_0_5": "1.0",
         "pixel_0_6": "0.0",
         "pixel_0_7": "0.0",
         "pixel_1_0": "0.0",
         "pixel_1_1": "8.0",
         "pixel_1_2": "13.0",
         "pixel_1_3": "6.0",
         "pixel_1_4": "15.0",
         "pixel_1_5": "4.0",
         "pixel_1_6": "0.0",
         "pixel_1_7": "0.0",
         "pixel_2_0": "0.0",
         "pixel_2_1": "2.0",
         "pixel_2_2": "1.0",
         "pixel_2_3": "13.0",
         "pixel_2_4": "13.0",
         "pixel_2_5": "0.0",
         "pixel_2_6": "0.0",
         "pixel_2_7": "0.0",
         "pixel_3_0": "0.0",
         "pixel_3_1": "0.0",
         "pixel_3_2": "2.0",
         "pixel_3_3": "15.0",
         "pixel_3_4": "11.0",
         "pixel_3_5": "1.0",
         "pixel_3_6": "0.0",
         "pixel_3_7": "0.0",
         "pixel_4_0": "0.0",
         "pixel_4_1": "0.0",
         "pixel_4_2": "0.0",
         "pixel_4_3": "1.0",
         "pixel_4_4": "12.0",
         "pixel_4_5": "12.0",
         "pixel_4_6": "1.0",
         "pixel_4_7": "0.0",
         "pixel_5_0": "0.0",
         "pixel_5_1": "0.0",
         "pixel_5_2": "0.0",
         "pixel_5_3": "0.0",
         "pixel_5_4": "1.0",
         "pixel_5_5": "10.0",
         "pixel_5_6": "8.0",
         "pixel_5_7": "0.0",
         "pixel_6_0": "0.0",
         "pixel_6_1": "0.0",
         "pixel_6_2": "8.0",
         "pixel_6_3": "4.0",
         "pixel_6_4": "5.0",
         "pixel_6_5": "14.0",
         "pixel_6_6": "9.0",
         "pixel_6_7": "0.0",
         "pixel_7_0": "0.0",
         "pixel_7_1": "0.0",
         "pixel_7_2": "7.0",
         "pixel_7_3": "13.0",
         "pixel_7_4": "13.0",
         "pixel_7_5": "9.0",
         "pixel_7_6": "0.0",
         "pixel_7_7": "0.0",
         "_deepnote_index_column": "3"
        },
        {
         "pixel_0_0": "0.0",
         "pixel_0_1": "0.0",
         "pixel_0_2": "0.0",
         "pixel_0_3": "1.0",
         "pixel_0_4": "11.0",
         "pixel_0_5": "0.0",
         "pixel_0_6": "0.0",
         "pixel_0_7": "0.0",
         "pixel_1_0": "0.0",
         "pixel_1_1": "0.0",
         "pixel_1_2": "0.0",
         "pixel_1_3": "7.0",
         "pixel_1_4": "8.0",
         "pixel_1_5": "0.0",
         "pixel_1_6": "0.0",
         "pixel_1_7": "0.0",
         "pixel_2_0": "0.0",
         "pixel_2_1": "0.0",
         "pixel_2_2": "1.0",
         "pixel_2_3": "13.0",
         "pixel_2_4": "6.0",
         "pixel_2_5": "2.0",
         "pixel_2_6": "2.0",
         "pixel_2_7": "0.0",
         "pixel_3_0": "0.0",
         "pixel_3_1": "0.0",
         "pixel_3_2": "7.0",
         "pixel_3_3": "15.0",
         "pixel_3_4": "0.0",
         "pixel_3_5": "9.0",
         "pixel_3_6": "8.0",
         "pixel_3_7": "0.0",
         "pixel_4_0": "0.0",
         "pixel_4_1": "5.0",
         "pixel_4_2": "16.0",
         "pixel_4_3": "10.0",
         "pixel_4_4": "0.0",
         "pixel_4_5": "16.0",
         "pixel_4_6": "6.0",
         "pixel_4_7": "0.0",
         "pixel_5_0": "0.0",
         "pixel_5_1": "4.0",
         "pixel_5_2": "15.0",
         "pixel_5_3": "16.0",
         "pixel_5_4": "13.0",
         "pixel_5_5": "16.0",
         "pixel_5_6": "1.0",
         "pixel_5_7": "0.0",
         "pixel_6_0": "0.0",
         "pixel_6_1": "0.0",
         "pixel_6_2": "0.0",
         "pixel_6_3": "3.0",
         "pixel_6_4": "15.0",
         "pixel_6_5": "10.0",
         "pixel_6_6": "0.0",
         "pixel_6_7": "0.0",
         "pixel_7_0": "0.0",
         "pixel_7_1": "0.0",
         "pixel_7_2": "0.0",
         "pixel_7_3": "2.0",
         "pixel_7_4": "16.0",
         "pixel_7_5": "4.0",
         "pixel_7_6": "0.0",
         "pixel_7_7": "0.0",
         "_deepnote_index_column": "4"
        }
       ]
      },
      "text/plain": "   pixel_0_0  pixel_0_1  pixel_0_2  pixel_0_3  pixel_0_4  pixel_0_5  \\\n0        0.0        0.0        5.0       13.0        9.0        1.0   \n1        0.0        0.0        0.0       12.0       13.0        5.0   \n2        0.0        0.0        0.0        4.0       15.0       12.0   \n3        0.0        0.0        7.0       15.0       13.0        1.0   \n4        0.0        0.0        0.0        1.0       11.0        0.0   \n\n   pixel_0_6  pixel_0_7  pixel_1_0  pixel_1_1  ...  pixel_6_6  pixel_6_7  \\\n0        0.0        0.0        0.0        0.0  ...        0.0        0.0   \n1        0.0        0.0        0.0        0.0  ...        0.0        0.0   \n2        0.0        0.0        0.0        0.0  ...        5.0        0.0   \n3        0.0        0.0        0.0        8.0  ...        9.0        0.0   \n4        0.0        0.0        0.0        0.0  ...        0.0        0.0   \n\n   pixel_7_0  pixel_7_1  pixel_7_2  pixel_7_3  pixel_7_4  pixel_7_5  \\\n0        0.0        0.0        6.0       13.0       10.0        0.0   \n1        0.0        0.0        0.0       11.0       16.0       10.0   \n2        0.0        0.0        0.0        3.0       11.0       16.0   \n3        0.0        0.0        7.0       13.0       13.0        9.0   \n4        0.0        0.0        0.0        2.0       16.0        4.0   \n\n   pixel_7_6  pixel_7_7  \n0        0.0        0.0  \n1        0.0        0.0  \n2        9.0        0.0  \n3        0.0        0.0  \n4        0.0        0.0  \n\n[5 rows x 64 columns]",
      "text/html": "<div>\n<style scoped>\n    .dataframe tbody tr th:only-of-type {\n        vertical-align: middle;\n    }\n\n    .dataframe tbody tr th {\n        vertical-align: top;\n    }\n\n    .dataframe thead th {\n        text-align: right;\n    }\n</style>\n<table border=\"1\" class=\"dataframe\">\n  <thead>\n    <tr style=\"text-align: right;\">\n      <th></th>\n      <th>pixel_0_0</th>\n      <th>pixel_0_1</th>\n      <th>pixel_0_2</th>\n      <th>pixel_0_3</th>\n      <th>pixel_0_4</th>\n      <th>pixel_0_5</th>\n      <th>pixel_0_6</th>\n      <th>pixel_0_7</th>\n      <th>pixel_1_0</th>\n      <th>pixel_1_1</th>\n      <th>...</th>\n      <th>pixel_6_6</th>\n      <th>pixel_6_7</th>\n      <th>pixel_7_0</th>\n      <th>pixel_7_1</th>\n      <th>pixel_7_2</th>\n      <th>pixel_7_3</th>\n      <th>pixel_7_4</th>\n      <th>pixel_7_5</th>\n      <th>pixel_7_6</th>\n      <th>pixel_7_7</th>\n    </tr>\n  </thead>\n  <tbody>\n    <tr>\n      <th>0</th>\n      <td>0.0</td>\n      <td>0.0</td>\n      <td>5.0</td>\n      <td>13.0</td>\n      <td>9.0</td>\n      <td>1.0</td>\n      <td>0.0</td>\n      <td>0.0</td>\n      <td>0.0</td>\n      <td>0.0</td>\n      <td>...</td>\n      <td>0.0</td>\n      <td>0.0</td>\n      <td>0.0</td>\n      <td>0.0</td>\n      <td>6.0</td>\n      <td>13.0</td>\n      <td>10.0</td>\n      <td>0.0</td>\n      <td>0.0</td>\n      <td>0.0</td>\n    </tr>\n    <tr>\n      <th>1</th>\n      <td>0.0</td>\n      <td>0.0</td>\n      <td>0.0</td>\n      <td>12.0</td>\n      <td>13.0</td>\n      <td>5.0</td>\n      <td>0.0</td>\n      <td>0.0</td>\n      <td>0.0</td>\n      <td>0.0</td>\n      <td>...</td>\n      <td>0.0</td>\n      <td>0.0</td>\n      <td>0.0</td>\n      <td>0.0</td>\n      <td>0.0</td>\n      <td>11.0</td>\n      <td>16.0</td>\n      <td>10.0</td>\n      <td>0.0</td>\n      <td>0.0</td>\n    </tr>\n    <tr>\n      <th>2</th>\n      <td>0.0</td>\n      <td>0.0</td>\n      <td>0.0</td>\n      <td>4.0</td>\n      <td>15.0</td>\n      <td>12.0</td>\n      <td>0.0</td>\n      <td>0.0</td>\n      <td>0.0</td>\n      <td>0.0</td>\n      <td>...</td>\n      <td>5.0</td>\n      <td>0.0</td>\n      <td>0.0</td>\n      <td>0.0</td>\n      <td>0.0</td>\n      <td>3.0</td>\n      <td>11.0</td>\n      <td>16.0</td>\n      <td>9.0</td>\n      <td>0.0</td>\n    </tr>\n    <tr>\n      <th>3</th>\n      <td>0.0</td>\n      <td>0.0</td>\n      <td>7.0</td>\n      <td>15.0</td>\n      <td>13.0</td>\n      <td>1.0</td>\n      <td>0.0</td>\n      <td>0.0</td>\n      <td>0.0</td>\n      <td>8.0</td>\n      <td>...</td>\n      <td>9.0</td>\n      <td>0.0</td>\n      <td>0.0</td>\n      <td>0.0</td>\n      <td>7.0</td>\n      <td>13.0</td>\n      <td>13.0</td>\n      <td>9.0</td>\n      <td>0.0</td>\n      <td>0.0</td>\n    </tr>\n    <tr>\n      <th>4</th>\n      <td>0.0</td>\n      <td>0.0</td>\n      <td>0.0</td>\n      <td>1.0</td>\n      <td>11.0</td>\n      <td>0.0</td>\n      <td>0.0</td>\n      <td>0.0</td>\n      <td>0.0</td>\n      <td>0.0</td>\n      <td>...</td>\n      <td>0.0</td>\n      <td>0.0</td>\n      <td>0.0</td>\n      <td>0.0</td>\n      <td>0.0</td>\n      <td>2.0</td>\n      <td>16.0</td>\n      <td>4.0</td>\n      <td>0.0</td>\n      <td>0.0</td>\n    </tr>\n  </tbody>\n</table>\n<p>5 rows × 64 columns</p>\n</div>"
     },
     "metadata": {}
    }
   ],
   "execution_count": null
  },
  {
   "cell_type": "code",
   "metadata": {
    "cell_id": "10fe21c784cc4eedaea29fb03ea6bdb4",
    "tags": [],
    "deepnote_to_be_reexecuted": false,
    "source_hash": "e52f4e4c",
    "execution_start": 1663699776007,
    "execution_millis": 462,
    "deepnote_cell_type": "code",
    "deepnote_cell_height": 696
   },
   "source": "X.info()",
   "outputs": [
    {
     "name": "stdout",
     "text": "<class 'pandas.core.frame.DataFrame'>\nRangeIndex: 1797 entries, 0 to 1796\nData columns (total 64 columns):\n #   Column     Non-Null Count  Dtype  \n---  ------     --------------  -----  \n 0   pixel_0_0  1797 non-null   float64\n 1   pixel_0_1  1797 non-null   float64\n 2   pixel_0_2  1797 non-null   float64\n 3   pixel_0_3  1797 non-null   float64\n 4   pixel_0_4  1797 non-null   float64\n 5   pixel_0_5  1797 non-null   float64\n 6   pixel_0_6  1797 non-null   float64\n 7   pixel_0_7  1797 non-null   float64\n 8   pixel_1_0  1797 non-null   float64\n 9   pixel_1_1  1797 non-null   float64\n 10  pixel_1_2  1797 non-null   float64\n 11  pixel_1_3  1797 non-null   float64\n 12  pixel_1_4  1797 non-null   float64\n 13  pixel_1_5  1797 non-null   float64\n 14  pixel_1_6  1797 non-null   float64\n 15  pixel_1_7  1797 non-null   float64\n 16  pixel_2_0  1797 non-null   float64\n 17  pixel_2_1  1797 non-null   float64\n 18  pixel_2_2  1797 non-null   float64\n 19  pixel_2_3  1797 non-null   float64\n 20  pixel_2_4  1797 non-null   float64\n 21  pixel_2_5  1797 non-null   float64\n 22  pixel_2_6  1797 non-null   float64\n 23  pixel_2_7  1797 non-null   float64\n 24  pixel_3_0  1797 non-null   float64\n 25  pixel_3_1  1797 non-null   float64\n 26  pixel_3_2  1797 non-null   float64\n 27  pixel_3_3  1797 non-null   float64\n 28  pixel_3_4  1797 non-null   float64\n 29  pixel_3_5  1797 non-null   float64\n 30  pixel_3_6  1797 non-null   float64\n 31  pixel_3_7  1797 non-null   float64\n 32  pixel_4_0  1797 non-null   float64\n 33  pixel_4_1  1797 non-null   float64\n 34  pixel_4_2  1797 non-null   float64\n 35  pixel_4_3  1797 non-null   float64\n 36  pixel_4_4  1797 non-null   float64\n 37  pixel_4_5  1797 non-null   float64\n 38  pixel_4_6  1797 non-null   float64\n 39  pixel_4_7  1797 non-null   float64\n 40  pixel_5_0  1797 non-null   float64\n 41  pixel_5_1  1797 non-null   float64\n 42  pixel_5_2  1797 non-null   float64\n 43  pixel_5_3  1797 non-null   float64\n 44  pixel_5_4  1797 non-null   float64\n 45  pixel_5_5  1797 non-null   float64\n 46  pixel_5_6  1797 non-null   float64\n 47  pixel_5_7  1797 non-null   float64\n 48  pixel_6_0  1797 non-null   float64\n 49  pixel_6_1  1797 non-null   float64\n 50  pixel_6_2  1797 non-null   float64\n 51  pixel_6_3  1797 non-null   float64\n 52  pixel_6_4  1797 non-null   float64\n 53  pixel_6_5  1797 non-null   float64\n 54  pixel_6_6  1797 non-null   float64\n 55  pixel_6_7  1797 non-null   float64\n 56  pixel_7_0  1797 non-null   float64\n 57  pixel_7_1  1797 non-null   float64\n 58  pixel_7_2  1797 non-null   float64\n 59  pixel_7_3  1797 non-null   float64\n 60  pixel_7_4  1797 non-null   float64\n 61  pixel_7_5  1797 non-null   float64\n 62  pixel_7_6  1797 non-null   float64\n 63  pixel_7_7  1797 non-null   float64\ndtypes: float64(64)\nmemory usage: 898.6 KB\n",
     "output_type": "stream"
    }
   ],
   "execution_count": null
  },
  {
   "cell_type": "markdown",
   "source": "#### Data Overview\n---\n\nIl dataset è un famoso dataset contente immagini di cifre da 0 a 9. è un dataset pulito senza valori nulli con 1797 righe, 64 colonne ( le immagini infatti sono 8px * 8px).\nIl Dataset non richiede attività di preprocessing, perché useremo un modello Decision Tree e tutte le features (colonne del Dataframe) sono entro gli stessi valori 0-255.\nNon ha senso fare analisi della correlazione delle features con la variabile risposta giacché tutte le features sono importanti per la creazione dell'immagine.\n",
   "metadata": {
    "cell_id": "1bc4cf03b2e84bf281d552ba6b4ce1e2",
    "tags": [],
    "deepnote_cell_type": "markdown",
    "deepnote_cell_height": 201.390625
   }
  },
  {
   "cell_type": "code",
   "metadata": {
    "cell_id": "c9cbdb13e51c4844883476d42b3e4215",
    "tags": [],
    "deepnote_to_be_reexecuted": false,
    "source_hash": "744c35f1",
    "execution_start": 1663699776024,
    "execution_millis": 836,
    "deepnote_cell_type": "code",
    "deepnote_cell_height": 907.1875,
    "deepnote_output_heights": [
     20.1875,
     610
    ]
   },
   "source": "plt.gray()\n\nplt.matshow(digits.images[1])\n\nplt.show()\n\nprint(X.shape)",
   "outputs": [
    {
     "data": {
      "text/plain": "<Figure size 2500x1000 with 0 Axes>"
     },
     "metadata": {},
     "output_type": "display_data"
    },
    {
     "data": {
      "text/plain": "<Figure size 1000x1000 with 1 Axes>",
      "image/png": "[encoded data removed]"
     },
     "metadata": {
      "image/png": {
       "width": 1635,
       "height": 1662
      }
     },
     "output_type": "display_data"
    },
    {
     "name": "stdout",
     "text": "(1797, 64)\n",
     "output_type": "stream"
    }
   ],
   "execution_count": null
  },
  {
   "cell_type": "markdown",
   "source": "#### Model Selection, Part 1\n---\n\nPartiamo con un modello base di tipo Decision Tree, come richiesto dall'esercizio",
   "metadata": {
    "cell_id": "6992f8e3b8734c0f95a73b8addf1eff6",
    "tags": [],
    "deepnote_cell_type": "markdown",
    "deepnote_cell_height": 89.390625
   }
  },
  {
   "cell_type": "code",
   "source": "#Splitting\n\nX_train, X_test, y_train, y_test = train_test_split(X, y, train_size=0.8, stratify=y,random_state=42)\n\n\n#Scoring interessato: accuracy\n\nscoring = \"accuracy\"\n\n# KFold for Cross Validation\n\nkf = KFold(n_splits = 10,shuffle=True,random_state=42) ",
   "metadata": {
    "cell_id": "1a65f9cc074843a79c755dfa43b03be5",
    "tags": [],
    "deepnote_to_be_reexecuted": false,
    "source_hash": "412f849a",
    "execution_start": 1663700242489,
    "execution_millis": 5,
    "deepnote_cell_type": "code",
    "deepnote_cell_height": 274
   },
   "outputs": [],
   "execution_count": null
  },
  {
   "cell_type": "code",
   "metadata": {
    "cell_id": "9fe632581a774168b0dc456dd520398d",
    "tags": [],
    "deepnote_to_be_reexecuted": false,
    "source_hash": "9dc9e9f2",
    "execution_start": 1663699824219,
    "execution_millis": 833,
    "deepnote_cell_type": "code",
    "deepnote_cell_height": 573
   },
   "source": "dt = DecisionTreeClassifier()\n\ndt.fit(X_train,y_train)\ny_pred = dt.predict(X_test)\nprint(classification_report(y_test,y_pred))\n\naccuracy = dt.score(X_test, y_test) \nprint(\"Accuracy del modello sul test:\", accuracy)",
   "outputs": [
    {
     "name": "stdout",
     "text": "              precision    recall  f1-score   support\n\n           0       0.92      0.97      0.95        36\n           1       0.74      0.69      0.71        36\n           2       0.79      0.86      0.82        35\n           3       0.78      0.84      0.81        37\n           4       0.94      0.83      0.88        36\n           5       0.79      0.92      0.85        37\n           6       0.91      0.83      0.87        36\n           7       0.81      0.83      0.82        36\n           8       0.73      0.63      0.68        35\n           9       0.77      0.75      0.76        36\n\n    accuracy                           0.82       360\n   macro avg       0.82      0.82      0.81       360\nweighted avg       0.82      0.82      0.82       360\n\nAccuracy del modello sul test: 0.8166666666666667\n",
     "output_type": "stream"
    }
   ],
   "execution_count": null
  },
  {
   "cell_type": "code",
   "metadata": {
    "cell_id": "17bb1932eec74f21bd023b8ed226f781",
    "tags": [],
    "deepnote_to_be_reexecuted": false,
    "source_hash": "5a897c6a",
    "execution_start": 1663699827114,
    "execution_millis": 885,
    "deepnote_cell_type": "code",
    "deepnote_cell_height": 125
   },
   "source": "accuracy = dt.score(X_train, y_train) \nprint(\"Accuracy del modello sul train per mostrare che il modello è in overfit:\", accuracy)",
   "outputs": [
    {
     "name": "stdout",
     "text": "Accuracy del modello sul train per mostrare che il modello è in overfit: 1.0\n",
     "output_type": "stream"
    }
   ],
   "execution_count": null
  },
  {
   "cell_type": "markdown",
   "source": "##### Procediamo con l'hyperparameter tuning\n\n---",
   "metadata": {
    "cell_id": "2f2d05f59904459b953f3de62e4378ca",
    "tags": [],
    "deepnote_cell_type": "markdown",
    "deepnote_cell_height": 67
   }
  },
  {
   "cell_type": "code",
   "metadata": {
    "cell_id": "cf2ee56b6ce242faa1798c37c09f15a8",
    "tags": [],
    "deepnote_to_be_reexecuted": false,
    "source_hash": "a2d72817",
    "execution_start": 1663699828167,
    "execution_millis": 26412,
    "deepnote_cell_type": "code",
    "deepnote_cell_height": 453
   },
   "source": "# GridSerach CV\nparam_grid = {\"max_depth\": [5,8,20,50,100,200,300,400],\n                \"max_leaf_nodes\": [50,100,200,300,400,500],\n                \"ccp_alpha\" : [0,0.015,0.02]}\n\n\n\ndt_cv = GridSearchCV(dt, param_grid, cv = kf, scoring = scoring) \ndt_cv.fit(X_train, y_train) \n\nprint(\"Risultato di Cross validation:\", dt_cv.best_params_)\nprint(\"Score del Cross Validation:\", dt_cv.best_score_) \n\ny_pred = dt_cv.best_estimator_.predict(X_test)\n\naccuracy = dt_cv.best_estimator_.score(X_test, y_test) \nprint(\"Accuracy del modello sul test:\", accuracy)\n",
   "outputs": [
    {
     "name": "stdout",
     "text": "Risultato di Cross validation: {'ccp_alpha': 0, 'max_depth': 50, 'max_leaf_nodes': 500}\nScore del Cross Validation: 0.8754127816627817\nAccuracy del modello sul test: 0.8277777777777777\n",
     "output_type": "stream"
    }
   ],
   "execution_count": null
  },
  {
   "cell_type": "markdown",
   "source": "L'hyperparameter tuning non porta a risultati soddisfacienti. Supponiamo per via del parametro max_depth che di defalut è settato al massimo possibile e che influisce nel massimizzare il risultato sul test anche senza adeguamento dei parametri.",
   "metadata": {
    "cell_id": "14bcde283d234b6fb7e96c0d4f05c44d",
    "tags": [],
    "deepnote_cell_type": "markdown",
    "deepnote_cell_height": 74.796875
   }
  },
  {
   "cell_type": "markdown",
   "source": "##### Ensamble methods\n----\nPassiamo all'utilizzo di metodi Ensamble",
   "metadata": {
    "cell_id": "806d0c73c0df4162939b63164a0a3caa",
    "tags": [],
    "deepnote_cell_type": "markdown",
    "deepnote_cell_height": 89.390625
   }
  },
  {
   "cell_type": "code",
   "metadata": {
    "cell_id": "33d259722f1e40d2a1c53333b36ab935",
    "tags": [],
    "deepnote_to_be_reexecuted": false,
    "source_hash": "38a705a0",
    "execution_start": 1663699854587,
    "execution_millis": 4313,
    "deepnote_cell_type": "code",
    "deepnote_cell_height": 591
   },
   "source": "# Random Forest\nrf = RandomForestClassifier(n_estimators=1000)\n\nrf.fit(X_train,y_train)\ny_pred = rf.predict(X_test)\nprint(classification_report(y_test,y_pred))\n\naccuracy = rf.score(X_test, y_test) \nprint(\"Accuracy del modello sul test:\", accuracy)",
   "outputs": [
    {
     "name": "stdout",
     "text": "              precision    recall  f1-score   support\n\n           0       1.00      0.97      0.99        36\n           1       0.92      1.00      0.96        36\n           2       1.00      1.00      1.00        35\n           3       0.97      1.00      0.99        37\n           4       0.97      1.00      0.99        36\n           5       1.00      1.00      1.00        37\n           6       1.00      0.97      0.99        36\n           7       0.92      1.00      0.96        36\n           8       0.94      0.86      0.90        35\n           9       1.00      0.92      0.96        36\n\n    accuracy                           0.97       360\n   macro avg       0.97      0.97      0.97       360\nweighted avg       0.97      0.97      0.97       360\n\nAccuracy del modello sul test: 0.9722222222222222\n",
     "output_type": "stream"
    }
   ],
   "execution_count": null
  },
  {
   "cell_type": "code",
   "source": "# GridSerach CV\nparam_grid = {\"n_estimators\": [100,1000,1500], \n                \"ccp_alpha\" : [0,0.015,0.02]}\n\nrf_cv = GridSearchCV(rf, param_grid, cv = kf, scoring = scoring) \nrf_cv.fit(X_train, y_train) \n\nprint(\"Risultato di Cross validation:\", rf_cv.best_params_)\nprint(\"Score del Cross Validation:\", rf_cv.best_score_) \n\ny_pred = rf_cv.best_estimator_.predict(X_test)\n\naccuracy = rf_cv.best_estimator_.score(X_test, y_test) \nprint(\"Accuracy del modello sul test:\", accuracy)",
   "metadata": {
    "cell_id": "dc18cc4d818a4a92accfe72d34559385",
    "tags": [],
    "deepnote_to_be_reexecuted": false,
    "source_hash": "917ca556",
    "execution_start": 1663699857993,
    "execution_millis": 246589,
    "deepnote_cell_type": "code",
    "deepnote_cell_height": 381
   },
   "outputs": [
    {
     "name": "stdout",
     "text": "Risultato di Cross validation: {'ccp_alpha': 0, 'n_estimators': 100}\nScore del Cross Validation: 0.9784090909090908\nAccuracy del modello sul test: 0.9666666666666667\n",
     "output_type": "stream"
    }
   ],
   "execution_count": null
  },
  {
   "cell_type": "code",
   "metadata": {
    "cell_id": "d7f5022cf08647cabdd288587f1b5a0b",
    "tags": [],
    "deepnote_to_be_reexecuted": false,
    "source_hash": "e99cf6e4",
    "execution_start": 1663700104580,
    "execution_millis": 12311,
    "deepnote_cell_type": "code",
    "deepnote_cell_height": 609
   },
   "source": "#Bagging classifier\nbg = BaggingClassifier(base_estimator=dt, n_estimators=1000, random_state=42)\n\nbg.fit(X_train,y_train)\ny_pred = bg.predict(X_test)\nprint(classification_report(y_test,y_pred))\n\naccuracy = bg.score(X_test, y_test) \nprint(\"Accuracy del modello sul test:\", accuracy)\n",
   "outputs": [
    {
     "name": "stdout",
     "text": "              precision    recall  f1-score   support\n\n           0       0.94      0.94      0.94        36\n           1       0.90      0.97      0.93        36\n           2       1.00      0.91      0.96        35\n           3       0.88      0.97      0.92        37\n           4       0.92      0.94      0.93        36\n           5       0.97      1.00      0.99        37\n           6       1.00      0.94      0.97        36\n           7       0.88      1.00      0.94        36\n           8       0.86      0.71      0.78        35\n           9       0.94      0.86      0.90        36\n\n    accuracy                           0.93       360\n   macro avg       0.93      0.93      0.93       360\nweighted avg       0.93      0.93      0.93       360\n\nAccuracy del modello sul test: 0.9277777777777778\n",
     "output_type": "stream"
    }
   ],
   "execution_count": null
  },
  {
   "cell_type": "code",
   "metadata": {
    "cell_id": "5f3c4126e7544879a6b18340af53a41f",
    "tags": [],
    "deepnote_to_be_reexecuted": false,
    "source_hash": "4a1991bc",
    "execution_start": 1663700116892,
    "execution_millis": 12247,
    "deepnote_cell_type": "code",
    "deepnote_cell_height": 609
   },
   "source": "#BG con estimator estratto da Cv\n\nbg_cv = BaggingClassifier(base_estimator=dt_cv.best_estimator_, n_estimators=1000, random_state=42)\n\nbg_cv.fit(X_train,y_train)\ny_pred = bg_cv.predict(X_test)\nprint(classification_report(y_test,y_pred))\n\naccuracy = bg_cv.score(X_test, y_test) \nprint(\"Accuracy del modello sul test:\", accuracy)",
   "outputs": [
    {
     "name": "stdout",
     "text": "              precision    recall  f1-score   support\n\n           0       0.94      0.94      0.94        36\n           1       0.90      0.97      0.93        36\n           2       1.00      0.91      0.96        35\n           3       0.88      0.97      0.92        37\n           4       0.92      0.94      0.93        36\n           5       0.97      1.00      0.99        37\n           6       1.00      0.94      0.97        36\n           7       0.88      1.00      0.94        36\n           8       0.86      0.71      0.78        35\n           9       0.94      0.86      0.90        36\n\n    accuracy                           0.93       360\n   macro avg       0.93      0.93      0.93       360\nweighted avg       0.93      0.93      0.93       360\n\nAccuracy del modello sul test: 0.9277777777777778\n",
     "output_type": "stream"
    }
   ],
   "execution_count": null
  },
  {
   "cell_type": "markdown",
   "source": "### Risultato\n----\nIl migior modello è il Random Forest estratto dall'aggiustamento degli hyperparametri. Il Random Forest così estratto ha una accuratezza del 97.22 % sui dati di test",
   "metadata": {
    "cell_id": "68ead2a17b994266ad7bda58c25cd166",
    "tags": [],
    "deepnote_cell_type": "markdown",
    "deepnote_cell_height": 123.796875
   }
  },
  {
   "cell_type": "markdown",
   "source": "### Exercise 2\n\nPredict the churn rate with the xgboost classifier.\n\nHere, you will be working with churn data. This dataset contains imaginary data from a ride-sharing app with user behaviors over their first month of app usage in a set of imaginary cities as well as whether they used the service 5 months after sign-up.\n\nDownload the dataset [here](https://raw.githubusercontent.com/goodboychan/goodboychan.github.io/main/_notebooks/dataset/churn_data.csv)\n\n1. Write pipelines for preprocessing\n2. Perform the right choices for hyperparameters.\n3. Verify that your model does not overfits data. Measure the right metrics to justify your answers.\n\n__NOTE__: you should get a final accuracy above the $75\\%$.\n\n",
   "metadata": {
    "cell_id": "00004-5533938b-3963-4216-99ac-49616e28b02d",
    "deepnote_cell_type": "markdown",
    "deepnote_cell_height": 319.1875
   }
  },
  {
   "cell_type": "markdown",
   "source": "1. data preprocessing: nan input, encoder, scaling...",
   "metadata": {
    "formattedRanges": [],
    "is_collapsed": false,
    "cell_id": "0ab29bad1d43493aac7dd6cccb0e8c38",
    "tags": [],
    "number": 1,
    "style": "decimal",
    "deepnote_cell_type": "text-cell-number"
   }
  },
  {
   "cell_type": "markdown",
   "source": "undefined. definizione modello e tuning iperparametri",
   "metadata": {
    "formattedRanges": [],
    "is_collapsed": false,
    "cell_id": "b753ab3a-8658-4894-92f4-5a96ab597174",
    "tags": [],
    "style": "decimal",
    "deepnote_cell_type": "text-cell-number"
   }
  },
  {
   "cell_type": "markdown",
   "source": "",
   "metadata": {
    "formattedRanges": [],
    "is_collapsed": false,
    "cell_id": "3c5f9650-8473-4886-b06d-81bae582e654",
    "tags": [],
    "style": "decimal",
    "deepnote_cell_type": "text-cell-p"
   }
  },
  {
   "cell_type": "markdown",
   "source": "",
   "metadata": {
    "formattedRanges": [],
    "is_collapsed": false,
    "cell_id": "d981ab4d-bf61-4677-b8b3-f02c63fa65f9",
    "tags": [],
    "style": "decimal",
    "deepnote_cell_type": "text-cell-p"
   }
  },
  {
   "cell_type": "code",
   "metadata": {
    "cell_id": "932580f01e4d4a01848e25f4dfd4516b",
    "tags": [],
    "deepnote_to_be_reexecuted": false,
    "source_hash": "77ae9bd6",
    "execution_start": 1663700258955,
    "execution_millis": 192,
    "deepnote_cell_type": "code",
    "deepnote_cell_height": 871.390625
   },
   "source": "df= pd.read_csv('https://raw.githubusercontent.com/goodboychan/goodboychan.github.io/main/_notebooks/dataset/churn_data.csv')\ndf.info()\ndf.head()",
   "outputs": [
    {
     "name": "stdout",
     "text": "<class 'pandas.core.frame.DataFrame'>\nRangeIndex: 50000 entries, 0 to 49999\nData columns (total 13 columns):\n #   Column                       Non-Null Count  Dtype  \n---  ------                       --------------  -----  \n 0   avg_dist                     50000 non-null  float64\n 1   avg_rating_by_driver         49799 non-null  float64\n 2   avg_rating_of_driver         41878 non-null  float64\n 3   avg_inc_price                50000 non-null  float64\n 4   inc_pct                      50000 non-null  float64\n 5   weekday_pct                  50000 non-null  float64\n 6   fancy_car_user               50000 non-null  bool   \n 7   city_Carthag                 50000 non-null  int64  \n 8   city_Harko                   50000 non-null  int64  \n 9   phone_iPhone                 50000 non-null  int64  \n 10  first_month_cat_more_1_trip  50000 non-null  int64  \n 11  first_month_cat_no_trips     50000 non-null  int64  \n 12  month_5_still_here           50000 non-null  int64  \ndtypes: bool(1), float64(6), int64(6)\nmemory usage: 4.6 MB\n",
     "output_type": "stream"
    },
    {
     "output_type": "execute_result",
     "execution_count": 20,
     "data": {
      "application/vnd.deepnote.dataframe.v3+json": {
       "column_count": 13,
       "row_count": 5,
       "columns": [
        {
         "name": "avg_dist",
         "dtype": "float64",
         "stats": {
          "unique_count": 5,
          "nan_count": 0,
          "min": "0.77",
          "max": "8.26",
          "histogram": [
           {
            "bin_start": 0.77,
            "bin_end": 1.5190000000000001,
            "count": 1
           },
           {
            "bin_start": 1.5190000000000001,
            "bin_end": 2.268,
            "count": 0
           },
           {
            "bin_start": 2.268,
            "bin_end": 3.017,
            "count": 1
           },
           {
            "bin_start": 3.017,
            "bin_end": 3.766,
            "count": 2
           },
           {
            "bin_start": 3.766,
            "bin_end": 4.515000000000001,
            "count": 0
           },
           {
            "bin_start": 4.515000000000001,
            "bin_end": 5.263999999999999,
            "count": 0
           },
           {
            "bin_start": 5.263999999999999,
            "bin_end": 6.013,
            "count": 0
           },
           {
            "bin_start": 6.013,
            "bin_end": 6.7620000000000005,
            "count": 0
           },
           {
            "bin_start": 6.7620000000000005,
            "bin_end": 7.510999999999999,
            "count": 0
           },
           {
            "bin_start": 7.510999999999999,
            "bin_end": 8.26,
            "count": 1
           }
          ]
         }
        },
        {
         "name": "avg_rating_by_driver",
         "dtype": "float64",
         "stats": {
          "unique_count": 2,
          "nan_count": 0,
          "min": "4.9",
          "max": "5.0",
          "histogram": [
           {
            "bin_start": 4.9,
            "bin_end": 4.91,
            "count": 2
           },
           {
            "bin_start": 4.91,
            "bin_end": 4.92,
            "count": 0
           },
           {
            "bin_start": 4.92,
            "bin_end": 4.930000000000001,
            "count": 0
           },
           {
            "bin_start": 4.930000000000001,
            "bin_end": 4.94,
            "count": 0
           },
           {
            "bin_start": 4.94,
            "bin_end": 4.95,
            "count": 0
           },
           {
            "bin_start": 4.95,
            "bin_end": 4.96,
            "count": 0
           },
           {
            "bin_start": 4.96,
            "bin_end": 4.97,
            "count": 0
           },
           {
            "bin_start": 4.97,
            "bin_end": 4.98,
            "count": 0
           },
           {
            "bin_start": 4.98,
            "bin_end": 4.99,
            "count": 0
           },
           {
            "bin_start": 4.99,
            "bin_end": 5,
            "count": 3
           }
          ]
         }
        },
        {
         "name": "avg_rating_of_driver",
         "dtype": "float64",
         "stats": {
          "unique_count": 5,
          "nan_count": 0,
          "min": "4.3",
          "max": "5.0",
          "histogram": [
           {
            "bin_start": 4.3,
            "bin_end": 4.37,
            "count": 1
           },
           {
            "bin_start": 4.37,
            "bin_end": 4.4399999999999995,
            "count": 1
           },
           {
            "bin_start": 4.4399999999999995,
            "bin_end": 4.51,
            "count": 0
           },
           {
            "bin_start": 4.51,
            "bin_end": 4.58,
            "count": 0
           },
           {
            "bin_start": 4.58,
            "bin_end": 4.65,
            "count": 1
           },
           {
            "bin_start": 4.65,
            "bin_end": 4.72,
            "count": 1
           },
           {
            "bin_start": 4.72,
            "bin_end": 4.79,
            "count": 0
           },
           {
            "bin_start": 4.79,
            "bin_end": 4.86,
            "count": 0
           },
           {
            "bin_start": 4.86,
            "bin_end": 4.93,
            "count": 0
           },
           {
            "bin_start": 4.93,
            "bin_end": 5,
            "count": 1
           }
          ]
         }
        },
        {
         "name": "avg_inc_price",
         "dtype": "float64",
         "stats": {
          "unique_count": 4,
          "nan_count": 0,
          "min": "1.0",
          "max": "1.19",
          "histogram": [
           {
            "bin_start": 1,
            "bin_end": 1.019,
            "count": 2
           },
           {
            "bin_start": 1.019,
            "bin_end": 1.038,
            "count": 0
           },
           {
            "bin_start": 1.038,
            "bin_end": 1.057,
            "count": 0
           },
           {
            "bin_start": 1.057,
            "bin_end": 1.076,
            "count": 0
           },
           {
            "bin_start": 1.076,
            "bin_end": 1.095,
            "count": 0
           },
           {
            "bin_start": 1.095,
            "bin_end": 1.1139999999999999,
            "count": 1
           },
           {
            "bin_start": 1.1139999999999999,
            "bin_end": 1.133,
            "count": 0
           },
           {
            "bin_start": 1.133,
            "bin_end": 1.152,
            "count": 1
           },
           {
            "bin_start": 1.152,
            "bin_end": 1.171,
            "count": 0
           },
           {
            "bin_start": 1.171,
            "bin_end": 1.19,
            "count": 1
           }
          ]
         }
        },
        {
         "name": "inc_pct",
         "dtype": "float64",
         "stats": {
          "unique_count": 4,
          "nan_count": 0,
          "min": "0.0",
          "max": "20.0",
          "histogram": [
           {
            "bin_start": 0,
            "bin_end": 2,
            "count": 2
           },
           {
            "bin_start": 2,
            "bin_end": 4,
            "count": 0
           },
           {
            "bin_start": 4,
            "bin_end": 6,
            "count": 0
           },
           {
            "bin_start": 6,
            "bin_end": 8,
            "count": 0
           },
           {
            "bin_start": 8,
            "bin_end": 10,
            "count": 0
           },
           {
            "bin_start": 10,
            "bin_end": 12,
            "count": 1
           },
           {
            "bin_start": 12,
            "bin_end": 14,
            "count": 0
           },
           {
            "bin_start": 14,
            "bin_end": 16,
            "count": 1
           },
           {
            "bin_start": 16,
            "bin_end": 18,
            "count": 0
           },
           {
            "bin_start": 18,
            "bin_end": 20,
            "count": 1
           }
          ]
         }
        },
        {
         "name": "weekday_pct",
         "dtype": "float64",
         "stats": {
          "unique_count": 5,
          "nan_count": 0,
          "min": "46.2",
          "max": "100.0",
          "histogram": [
           {
            "bin_start": 46.2,
            "bin_end": 51.580000000000005,
            "count": 2
           },
           {
            "bin_start": 51.580000000000005,
            "bin_end": 56.96,
            "count": 0
           },
           {
            "bin_start": 56.96,
            "bin_end": 62.34,
            "count": 0
           },
           {
            "bin_start": 62.34,
            "bin_end": 67.72,
            "count": 0
           },
           {
            "bin_start": 67.72,
            "bin_end": 73.1,
            "count": 0
           },
           {
            "bin_start": 73.1,
            "bin_end": 78.48,
            "count": 0
           },
           {
            "bin_start": 78.48,
            "bin_end": 83.86,
            "count": 2
           },
           {
            "bin_start": 83.86,
            "bin_end": 89.24000000000001,
            "count": 0
           },
           {
            "bin_start": 89.24000000000001,
            "bin_end": 94.62,
            "count": 0
           },
           {
            "bin_start": 94.62,
            "bin_end": 100,
            "count": 1
           }
          ]
         }
        },
        {
         "name": "fancy_car_user",
         "dtype": "bool",
         "stats": {
          "unique_count": 2,
          "nan_count": 0,
          "categories": [
           {
            "name": "False",
            "count": 3
           },
           {
            "name": "True",
            "count": 2
           }
          ]
         }
        },
        {
         "name": "city_Carthag",
         "dtype": "int64",
         "stats": {
          "unique_count": 2,
          "nan_count": 0,
          "min": "0",
          "max": "1",
          "histogram": [
           {
            "bin_start": 0,
            "bin_end": 0.1,
            "count": 3
           },
           {
            "bin_start": 0.1,
            "bin_end": 0.2,
            "count": 0
           },
           {
            "bin_start": 0.2,
            "bin_end": 0.30000000000000004,
            "count": 0
           },
           {
            "bin_start": 0.30000000000000004,
            "bin_end": 0.4,
            "count": 0
           },
           {
            "bin_start": 0.4,
            "bin_end": 0.5,
            "count": 0
           },
           {
            "bin_start": 0.5,
            "bin_end": 0.6000000000000001,
            "count": 0
           },
           {
            "bin_start": 0.6000000000000001,
            "bin_end": 0.7000000000000001,
            "count": 0
           },
           {
            "bin_start": 0.7000000000000001,
            "bin_end": 0.8,
            "count": 0
           },
           {
            "bin_start": 0.8,
            "bin_end": 0.9,
            "count": 0
           },
           {
            "bin_start": 0.9,
            "bin_end": 1,
            "count": 2
           }
          ]
         }
        },
        {
         "name": "city_Harko",
         "dtype": "int64",
         "stats": {
          "unique_count": 2,
          "nan_count": 0,
          "min": "0",
          "max": "1",
          "histogram": [
           {
            "bin_start": 0,
            "bin_end": 0.1,
            "count": 3
           },
           {
            "bin_start": 0.1,
            "bin_end": 0.2,
            "count": 0
           },
           {
            "bin_start": 0.2,
            "bin_end": 0.30000000000000004,
            "count": 0
           },
           {
            "bin_start": 0.30000000000000004,
            "bin_end": 0.4,
            "count": 0
           },
           {
            "bin_start": 0.4,
            "bin_end": 0.5,
            "count": 0
           },
           {
            "bin_start": 0.5,
            "bin_end": 0.6000000000000001,
            "count": 0
           },
           {
            "bin_start": 0.6000000000000001,
            "bin_end": 0.7000000000000001,
            "count": 0
           },
           {
            "bin_start": 0.7000000000000001,
            "bin_end": 0.8,
            "count": 0
           },
           {
            "bin_start": 0.8,
            "bin_end": 0.9,
            "count": 0
           },
           {
            "bin_start": 0.9,
            "bin_end": 1,
            "count": 2
           }
          ]
         }
        },
        {
         "name": "phone_iPhone",
         "dtype": "int64",
         "stats": {
          "unique_count": 2,
          "nan_count": 0,
          "min": "0",
          "max": "1",
          "histogram": [
           {
            "bin_start": 0,
            "bin_end": 0.1,
            "count": 2
           },
           {
            "bin_start": 0.1,
            "bin_end": 0.2,
            "count": 0
           },
           {
            "bin_start": 0.2,
            "bin_end": 0.30000000000000004,
            "count": 0
           },
           {
            "bin_start": 0.30000000000000004,
            "bin_end": 0.4,
            "count": 0
           },
           {
            "bin_start": 0.4,
            "bin_end": 0.5,
            "count": 0
           },
           {
            "bin_start": 0.5,
            "bin_end": 0.6000000000000001,
            "count": 0
           },
           {
            "bin_start": 0.6000000000000001,
            "bin_end": 0.7000000000000001,
            "count": 0
           },
           {
            "bin_start": 0.7000000000000001,
            "bin_end": 0.8,
            "count": 0
           },
           {
            "bin_start": 0.8,
            "bin_end": 0.9,
            "count": 0
           },
           {
            "bin_start": 0.9,
            "bin_end": 1,
            "count": 3
           }
          ]
         }
        },
        {
         "name": "first_month_cat_more_1_trip",
         "dtype": "int64",
         "stats": {
          "unique_count": 2,
          "nan_count": 0,
          "min": "0",
          "max": "1",
          "histogram": [
           {
            "bin_start": 0,
            "bin_end": 0.1,
            "count": 1
           },
           {
            "bin_start": 0.1,
            "bin_end": 0.2,
            "count": 0
           },
           {
            "bin_start": 0.2,
            "bin_end": 0.30000000000000004,
            "count": 0
           },
           {
            "bin_start": 0.30000000000000004,
            "bin_end": 0.4,
            "count": 0
           },
           {
            "bin_start": 0.4,
            "bin_end": 0.5,
            "count": 0
           },
           {
            "bin_start": 0.5,
            "bin_end": 0.6000000000000001,
            "count": 0
           },
           {
            "bin_start": 0.6000000000000001,
            "bin_end": 0.7000000000000001,
            "count": 0
           },
           {
            "bin_start": 0.7000000000000001,
            "bin_end": 0.8,
            "count": 0
           },
           {
            "bin_start": 0.8,
            "bin_end": 0.9,
            "count": 0
           },
           {
            "bin_start": 0.9,
            "bin_end": 1,
            "count": 4
           }
          ]
         }
        },
        {
         "name": "first_month_cat_no_trips",
         "dtype": "int64",
         "stats": {
          "unique_count": 2,
          "nan_count": 0,
          "min": "0",
          "max": "1",
          "histogram": [
           {
            "bin_start": 0,
            "bin_end": 0.1,
            "count": 4
           },
           {
            "bin_start": 0.1,
            "bin_end": 0.2,
            "count": 0
           },
           {
            "bin_start": 0.2,
            "bin_end": 0.30000000000000004,
            "count": 0
           },
           {
            "bin_start": 0.30000000000000004,
            "bin_end": 0.4,
            "count": 0
           },
           {
            "bin_start": 0.4,
            "bin_end": 0.5,
            "count": 0
           },
           {
            "bin_start": 0.5,
            "bin_end": 0.6000000000000001,
            "count": 0
           },
           {
            "bin_start": 0.6000000000000001,
            "bin_end": 0.7000000000000001,
            "count": 0
           },
           {
            "bin_start": 0.7000000000000001,
            "bin_end": 0.8,
            "count": 0
           },
           {
            "bin_start": 0.8,
            "bin_end": 0.9,
            "count": 0
           },
           {
            "bin_start": 0.9,
            "bin_end": 1,
            "count": 1
           }
          ]
         }
        },
        {
         "name": "month_5_still_here",
         "dtype": "int64",
         "stats": {
          "unique_count": 2,
          "nan_count": 0,
          "min": "0",
          "max": "1",
          "histogram": [
           {
            "bin_start": 0,
            "bin_end": 0.1,
            "count": 3
           },
           {
            "bin_start": 0.1,
            "bin_end": 0.2,
            "count": 0
           },
           {
            "bin_start": 0.2,
            "bin_end": 0.30000000000000004,
            "count": 0
           },
           {
            "bin_start": 0.30000000000000004,
            "bin_end": 0.4,
            "count": 0
           },
           {
            "bin_start": 0.4,
            "bin_end": 0.5,
            "count": 0
           },
           {
            "bin_start": 0.5,
            "bin_end": 0.6000000000000001,
            "count": 0
           },
           {
            "bin_start": 0.6000000000000001,
            "bin_end": 0.7000000000000001,
            "count": 0
           },
           {
            "bin_start": 0.7000000000000001,
            "bin_end": 0.8,
            "count": 0
           },
           {
            "bin_start": 0.8,
            "bin_end": 0.9,
            "count": 0
           },
           {
            "bin_start": 0.9,
            "bin_end": 1,
            "count": 2
           }
          ]
         }
        },
        {
         "name": "_deepnote_index_column",
         "dtype": "int64"
        }
       ],
       "rows": [
        {
         "avg_dist": "3.67",
         "avg_rating_by_driver": "5.0",
         "avg_rating_of_driver": "4.7",
         "avg_inc_price": "1.1",
         "inc_pct": "15.4",
         "weekday_pct": "46.2",
         "fancy_car_user": "True",
         "city_Carthag": "0",
         "city_Harko": "1",
         "phone_iPhone": "1",
         "first_month_cat_more_1_trip": "1",
         "first_month_cat_no_trips": "0",
         "month_5_still_here": "1",
         "_deepnote_index_column": "0"
        },
        {
         "avg_dist": "8.26",
         "avg_rating_by_driver": "5.0",
         "avg_rating_of_driver": "5.0",
         "avg_inc_price": "1.0",
         "inc_pct": "0.0",
         "weekday_pct": "50.0",
         "fancy_car_user": "False",
         "city_Carthag": "1",
         "city_Harko": "0",
         "phone_iPhone": "0",
         "first_month_cat_more_1_trip": "0",
         "first_month_cat_no_trips": "1",
         "month_5_still_here": "0",
         "_deepnote_index_column": "1"
        },
        {
         "avg_dist": "0.77",
         "avg_rating_by_driver": "5.0",
         "avg_rating_of_driver": "4.3",
         "avg_inc_price": "1.0",
         "inc_pct": "0.0",
         "weekday_pct": "100.0",
         "fancy_car_user": "False",
         "city_Carthag": "1",
         "city_Harko": "0",
         "phone_iPhone": "1",
         "first_month_cat_more_1_trip": "1",
         "first_month_cat_no_trips": "0",
         "month_5_still_here": "0",
         "_deepnote_index_column": "2"
        },
        {
         "avg_dist": "2.36",
         "avg_rating_by_driver": "4.9",
         "avg_rating_of_driver": "4.6",
         "avg_inc_price": "1.14",
         "inc_pct": "20.0",
         "weekday_pct": "80.0",
         "fancy_car_user": "True",
         "city_Carthag": "0",
         "city_Harko": "1",
         "phone_iPhone": "1",
         "first_month_cat_more_1_trip": "1",
         "first_month_cat_no_trips": "0",
         "month_5_still_here": "1",
         "_deepnote_index_column": "3"
        },
        {
         "avg_dist": "3.13",
         "avg_rating_by_driver": "4.9",
         "avg_rating_of_driver": "4.4",
         "avg_inc_price": "1.19",
         "inc_pct": "11.8",
         "weekday_pct": "82.4",
         "fancy_car_user": "False",
         "city_Carthag": "0",
         "city_Harko": "0",
         "phone_iPhone": "0",
         "first_month_cat_more_1_trip": "1",
         "first_month_cat_no_trips": "0",
         "month_5_still_here": "0",
         "_deepnote_index_column": "4"
        }
       ]
      },
      "text/plain": "   avg_dist  avg_rating_by_driver  avg_rating_of_driver  avg_inc_price  \\\n0      3.67                   5.0                   4.7           1.10   \n1      8.26                   5.0                   5.0           1.00   \n2      0.77                   5.0                   4.3           1.00   \n3      2.36                   4.9                   4.6           1.14   \n4      3.13                   4.9                   4.4           1.19   \n\n   inc_pct  weekday_pct  fancy_car_user  city_Carthag  city_Harko  \\\n0     15.4         46.2            True             0           1   \n1      0.0         50.0           False             1           0   \n2      0.0        100.0           False             1           0   \n3     20.0         80.0            True             0           1   \n4     11.8         82.4           False             0           0   \n\n   phone_iPhone  first_month_cat_more_1_trip  first_month_cat_no_trips  \\\n0             1                            1                         0   \n1             0                            0                         1   \n2             1                            1                         0   \n3             1                            1                         0   \n4             0                            1                         0   \n\n   month_5_still_here  \n0                   1  \n1                   0  \n2                   0  \n3                   1  \n4                   0  ",
      "text/html": "<div>\n<style scoped>\n    .dataframe tbody tr th:only-of-type {\n        vertical-align: middle;\n    }\n\n    .dataframe tbody tr th {\n        vertical-align: top;\n    }\n\n    .dataframe thead th {\n        text-align: right;\n    }\n</style>\n<table border=\"1\" class=\"dataframe\">\n  <thead>\n    <tr style=\"text-align: right;\">\n      <th></th>\n      <th>avg_dist</th>\n      <th>avg_rating_by_driver</th>\n      <th>avg_rating_of_driver</th>\n      <th>avg_inc_price</th>\n      <th>inc_pct</th>\n      <th>weekday_pct</th>\n      <th>fancy_car_user</th>\n      <th>city_Carthag</th>\n      <th>city_Harko</th>\n      <th>phone_iPhone</th>\n      <th>first_month_cat_more_1_trip</th>\n      <th>first_month_cat_no_trips</th>\n      <th>month_5_still_here</th>\n    </tr>\n  </thead>\n  <tbody>\n    <tr>\n      <th>0</th>\n      <td>3.67</td>\n      <td>5.0</td>\n      <td>4.7</td>\n      <td>1.10</td>\n      <td>15.4</td>\n      <td>46.2</td>\n      <td>True</td>\n      <td>0</td>\n      <td>1</td>\n      <td>1</td>\n      <td>1</td>\n      <td>0</td>\n      <td>1</td>\n    </tr>\n    <tr>\n      <th>1</th>\n      <td>8.26</td>\n      <td>5.0</td>\n      <td>5.0</td>\n      <td>1.00</td>\n      <td>0.0</td>\n      <td>50.0</td>\n      <td>False</td>\n      <td>1</td>\n      <td>0</td>\n      <td>0</td>\n      <td>0</td>\n      <td>1</td>\n      <td>0</td>\n    </tr>\n    <tr>\n      <th>2</th>\n      <td>0.77</td>\n      <td>5.0</td>\n      <td>4.3</td>\n      <td>1.00</td>\n      <td>0.0</td>\n      <td>100.0</td>\n      <td>False</td>\n      <td>1</td>\n      <td>0</td>\n      <td>1</td>\n      <td>1</td>\n      <td>0</td>\n      <td>0</td>\n    </tr>\n    <tr>\n      <th>3</th>\n      <td>2.36</td>\n      <td>4.9</td>\n      <td>4.6</td>\n      <td>1.14</td>\n      <td>20.0</td>\n      <td>80.0</td>\n      <td>True</td>\n      <td>0</td>\n      <td>1</td>\n      <td>1</td>\n      <td>1</td>\n      <td>0</td>\n      <td>1</td>\n    </tr>\n    <tr>\n      <th>4</th>\n      <td>3.13</td>\n      <td>4.9</td>\n      <td>4.4</td>\n      <td>1.19</td>\n      <td>11.8</td>\n      <td>82.4</td>\n      <td>False</td>\n      <td>0</td>\n      <td>0</td>\n      <td>0</td>\n      <td>1</td>\n      <td>0</td>\n      <td>0</td>\n    </tr>\n  </tbody>\n</table>\n</div>"
     },
     "metadata": {}
    }
   ],
   "execution_count": null
  },
  {
   "cell_type": "code",
   "metadata": {
    "cell_id": "83be86c8a8a8456eae58b2999bcda792",
    "tags": [],
    "deepnote_to_be_reexecuted": false,
    "source_hash": "f88152d9",
    "execution_start": 1663700304446,
    "execution_millis": 82,
    "deepnote_cell_type": "code",
    "deepnote_cell_height": 527.390625
   },
   "source": "df.describe()",
   "outputs": [
    {
     "output_type": "execute_result",
     "execution_count": 21,
     "data": {
      "application/vnd.deepnote.dataframe.v3+json": {
       "column_count": 12,
       "row_count": 8,
       "columns": [
        {
         "name": "avg_dist",
         "dtype": "float64",
         "stats": {
          "unique_count": 8,
          "nan_count": 0,
          "min": "0.0",
          "max": "50000.0",
          "histogram": [
           {
            "bin_start": 0,
            "bin_end": 5000,
            "count": 7
           },
           {
            "bin_start": 5000,
            "bin_end": 10000,
            "count": 0
           },
           {
            "bin_start": 10000,
            "bin_end": 15000,
            "count": 0
           },
           {
            "bin_start": 15000,
            "bin_end": 20000,
            "count": 0
           },
           {
            "bin_start": 20000,
            "bin_end": 25000,
            "count": 0
           },
           {
            "bin_start": 25000,
            "bin_end": 30000,
            "count": 0
           },
           {
            "bin_start": 30000,
            "bin_end": 35000,
            "count": 0
           },
           {
            "bin_start": 35000,
            "bin_end": 40000,
            "count": 0
           },
           {
            "bin_start": 40000,
            "bin_end": 45000,
            "count": 0
           },
           {
            "bin_start": 45000,
            "bin_end": 50000,
            "count": 1
           }
          ]
         }
        },
        {
         "name": "avg_rating_by_driver",
         "dtype": "float64",
         "stats": {
          "unique_count": 6,
          "nan_count": 0,
          "min": "0.44665179346562006",
          "max": "49799.0",
          "histogram": [
           {
            "bin_start": 0.44665179346562006,
            "bin_end": 4980.3019866141185,
            "count": 7
           },
           {
            "bin_start": 4980.3019866141185,
            "bin_end": 9960.157321434772,
            "count": 0
           },
           {
            "bin_start": 9960.157321434772,
            "bin_end": 14940.012656255425,
            "count": 0
           },
           {
            "bin_start": 14940.012656255425,
            "bin_end": 19919.86799107608,
            "count": 0
           },
           {
            "bin_start": 19919.86799107608,
            "bin_end": 24899.723325896735,
            "count": 0
           },
           {
            "bin_start": 24899.723325896735,
            "bin_end": 29879.578660717387,
            "count": 0
           },
           {
            "bin_start": 29879.578660717387,
            "bin_end": 34859.433995538035,
            "count": 0
           },
           {
            "bin_start": 34859.433995538035,
            "bin_end": 39839.28933035869,
            "count": 0
           },
           {
            "bin_start": 39839.28933035869,
            "bin_end": 44819.144665179345,
            "count": 0
           },
           {
            "bin_start": 44819.144665179345,
            "bin_end": 49799,
            "count": 1
           }
          ]
         }
        },
        {
         "name": "avg_rating_of_driver",
         "dtype": "float64",
         "stats": {
          "unique_count": 7,
          "nan_count": 0,
          "min": "0.6173384560411342",
          "max": "41878.0",
          "histogram": [
           {
            "bin_start": 0.6173384560411342,
            "bin_end": 4188.355604610438,
            "count": 7
           },
           {
            "bin_start": 4188.355604610438,
            "bin_end": 8376.093870764833,
            "count": 0
           },
           {
            "bin_start": 8376.093870764833,
            "bin_end": 12563.832136919229,
            "count": 0
           },
           {
            "bin_start": 12563.832136919229,
            "bin_end": 16751.570403073627,
            "count": 0
           },
           {
            "bin_start": 16751.570403073627,
            "bin_end": 20939.308669228023,
            "count": 0
           },
           {
            "bin_start": 20939.308669228023,
            "bin_end": 25127.04693538242,
            "count": 0
           },
           {
            "bin_start": 25127.04693538242,
            "bin_end": 29314.785201536815,
            "count": 0
           },
           {
            "bin_start": 29314.785201536815,
            "bin_end": 33502.52346769121,
            "count": 0
           },
           {
            "bin_start": 33502.52346769121,
            "bin_end": 37690.261733845604,
            "count": 0
           },
           {
            "bin_start": 37690.261733845604,
            "bin_end": 41878,
            "count": 1
           }
          ]
         }
        },
        {
         "name": "avg_inc_price",
         "dtype": "float64",
         "stats": {
          "unique_count": 6,
          "nan_count": 0,
          "min": "0.22233600894946712",
          "max": "50000.0",
          "histogram": [
           {
            "bin_start": 0.22233600894946712,
            "bin_end": 5000.200102408055,
            "count": 7
           },
           {
            "bin_start": 5000.200102408055,
            "bin_end": 10000.17786880716,
            "count": 0
           },
           {
            "bin_start": 10000.17786880716,
            "bin_end": 15000.155635206267,
            "count": 0
           },
           {
            "bin_start": 15000.155635206267,
            "bin_end": 20000.13340160537,
            "count": 0
           },
           {
            "bin_start": 20000.13340160537,
            "bin_end": 25000.111168004474,
            "count": 0
           },
           {
            "bin_start": 25000.111168004474,
            "bin_end": 30000.088934403582,
            "count": 0
           },
           {
            "bin_start": 30000.088934403582,
            "bin_end": 35000.06670080269,
            "count": 0
           },
           {
            "bin_start": 35000.06670080269,
            "bin_end": 40000.04446720179,
            "count": 0
           },
           {
            "bin_start": 40000.04446720179,
            "bin_end": 45000.022233600896,
            "count": 0
           },
           {
            "bin_start": 45000.022233600896,
            "bin_end": 50000,
            "count": 1
           }
          ]
         }
        },
        {
         "name": "inc_pct",
         "dtype": "float64",
         "stats": {
          "unique_count": 6,
          "nan_count": 0,
          "min": "0.0",
          "max": "50000.0",
          "histogram": [
           {
            "bin_start": 0,
            "bin_end": 5000,
            "count": 7
           },
           {
            "bin_start": 5000,
            "bin_end": 10000,
            "count": 0
           },
           {
            "bin_start": 10000,
            "bin_end": 15000,
            "count": 0
           },
           {
            "bin_start": 15000,
            "bin_end": 20000,
            "count": 0
           },
           {
            "bin_start": 20000,
            "bin_end": 25000,
            "count": 0
           },
           {
            "bin_start": 25000,
            "bin_end": 30000,
            "count": 0
           },
           {
            "bin_start": 30000,
            "bin_end": 35000,
            "count": 0
           },
           {
            "bin_start": 35000,
            "bin_end": 40000,
            "count": 0
           },
           {
            "bin_start": 40000,
            "bin_end": 45000,
            "count": 0
           },
           {
            "bin_start": 45000,
            "bin_end": 50000,
            "count": 1
           }
          ]
         }
        },
        {
         "name": "weekday_pct",
         "dtype": "float64",
         "stats": {
          "unique_count": 7,
          "nan_count": 0,
          "min": "0.0",
          "max": "50000.0",
          "histogram": [
           {
            "bin_start": 0,
            "bin_end": 5000,
            "count": 7
           },
           {
            "bin_start": 5000,
            "bin_end": 10000,
            "count": 0
           },
           {
            "bin_start": 10000,
            "bin_end": 15000,
            "count": 0
           },
           {
            "bin_start": 15000,
            "bin_end": 20000,
            "count": 0
           },
           {
            "bin_start": 20000,
            "bin_end": 25000,
            "count": 0
           },
           {
            "bin_start": 25000,
            "bin_end": 30000,
            "count": 0
           },
           {
            "bin_start": 30000,
            "bin_end": 35000,
            "count": 0
           },
           {
            "bin_start": 35000,
            "bin_end": 40000,
            "count": 0
           },
           {
            "bin_start": 40000,
            "bin_end": 45000,
            "count": 0
           },
           {
            "bin_start": 45000,
            "bin_end": 50000,
            "count": 1
           }
          ]
         }
        },
        {
         "name": "city_Carthag",
         "dtype": "float64",
         "stats": {
          "unique_count": 5,
          "nan_count": 0,
          "min": "0.0",
          "max": "50000.0",
          "histogram": [
           {
            "bin_start": 0,
            "bin_end": 5000,
            "count": 7
           },
           {
            "bin_start": 5000,
            "bin_end": 10000,
            "count": 0
           },
           {
            "bin_start": 10000,
            "bin_end": 15000,
            "count": 0
           },
           {
            "bin_start": 15000,
            "bin_end": 20000,
            "count": 0
           },
           {
            "bin_start": 20000,
            "bin_end": 25000,
            "count": 0
           },
           {
            "bin_start": 25000,
            "bin_end": 30000,
            "count": 0
           },
           {
            "bin_start": 30000,
            "bin_end": 35000,
            "count": 0
           },
           {
            "bin_start": 35000,
            "bin_end": 40000,
            "count": 0
           },
           {
            "bin_start": 40000,
            "bin_end": 45000,
            "count": 0
           },
           {
            "bin_start": 45000,
            "bin_end": 50000,
            "count": 1
           }
          ]
         }
        },
        {
         "name": "city_Harko",
         "dtype": "float64",
         "stats": {
          "unique_count": 5,
          "nan_count": 0,
          "min": "0.0",
          "max": "50000.0",
          "histogram": [
           {
            "bin_start": 0,
            "bin_end": 5000,
            "count": 7
           },
           {
            "bin_start": 5000,
            "bin_end": 10000,
            "count": 0
           },
           {
            "bin_start": 10000,
            "bin_end": 15000,
            "count": 0
           },
           {
            "bin_start": 15000,
            "bin_end": 20000,
            "count": 0
           },
           {
            "bin_start": 20000,
            "bin_end": 25000,
            "count": 0
           },
           {
            "bin_start": 25000,
            "bin_end": 30000,
            "count": 0
           },
           {
            "bin_start": 30000,
            "bin_end": 35000,
            "count": 0
           },
           {
            "bin_start": 35000,
            "bin_end": 40000,
            "count": 0
           },
           {
            "bin_start": 40000,
            "bin_end": 45000,
            "count": 0
           },
           {
            "bin_start": 45000,
            "bin_end": 50000,
            "count": 1
           }
          ]
         }
        },
        {
         "name": "phone_iPhone",
         "dtype": "float64",
         "stats": {
          "unique_count": 5,
          "nan_count": 0,
          "min": "0.0",
          "max": "50000.0",
          "histogram": [
           {
            "bin_start": 0,
            "bin_end": 5000,
            "count": 7
           },
           {
            "bin_start": 5000,
            "bin_end": 10000,
            "count": 0
           },
           {
            "bin_start": 10000,
            "bin_end": 15000,
            "count": 0
           },
           {
            "bin_start": 15000,
            "bin_end": 20000,
            "count": 0
           },
           {
            "bin_start": 20000,
            "bin_end": 25000,
            "count": 0
           },
           {
            "bin_start": 25000,
            "bin_end": 30000,
            "count": 0
           },
           {
            "bin_start": 30000,
            "bin_end": 35000,
            "count": 0
           },
           {
            "bin_start": 35000,
            "bin_end": 40000,
            "count": 0
           },
           {
            "bin_start": 40000,
            "bin_end": 45000,
            "count": 0
           },
           {
            "bin_start": 45000,
            "bin_end": 50000,
            "count": 1
           }
          ]
         }
        },
        {
         "name": "first_month_cat_more_1_trip",
         "dtype": "float64",
         "stats": {
          "unique_count": 5,
          "nan_count": 0,
          "min": "0.0",
          "max": "50000.0",
          "histogram": [
           {
            "bin_start": 0,
            "bin_end": 5000,
            "count": 7
           },
           {
            "bin_start": 5000,
            "bin_end": 10000,
            "count": 0
           },
           {
            "bin_start": 10000,
            "bin_end": 15000,
            "count": 0
           },
           {
            "bin_start": 15000,
            "bin_end": 20000,
            "count": 0
           },
           {
            "bin_start": 20000,
            "bin_end": 25000,
            "count": 0
           },
           {
            "bin_start": 25000,
            "bin_end": 30000,
            "count": 0
           },
           {
            "bin_start": 30000,
            "bin_end": 35000,
            "count": 0
           },
           {
            "bin_start": 35000,
            "bin_end": 40000,
            "count": 0
           },
           {
            "bin_start": 40000,
            "bin_end": 45000,
            "count": 0
           },
           {
            "bin_start": 45000,
            "bin_end": 50000,
            "count": 1
           }
          ]
         }
        },
        {
         "name": "first_month_cat_no_trips",
         "dtype": "float64",
         "stats": {
          "unique_count": 5,
          "nan_count": 0,
          "min": "0.0",
          "max": "50000.0",
          "histogram": [
           {
            "bin_start": 0,
            "bin_end": 5000,
            "count": 7
           },
           {
            "bin_start": 5000,
            "bin_end": 10000,
            "count": 0
           },
           {
            "bin_start": 10000,
            "bin_end": 15000,
            "count": 0
           },
           {
            "bin_start": 15000,
            "bin_end": 20000,
            "count": 0
           },
           {
            "bin_start": 20000,
            "bin_end": 25000,
            "count": 0
           },
           {
            "bin_start": 25000,
            "bin_end": 30000,
            "count": 0
           },
           {
            "bin_start": 30000,
            "bin_end": 35000,
            "count": 0
           },
           {
            "bin_start": 35000,
            "bin_end": 40000,
            "count": 0
           },
           {
            "bin_start": 40000,
            "bin_end": 45000,
            "count": 0
           },
           {
            "bin_start": 45000,
            "bin_end": 50000,
            "count": 1
           }
          ]
         }
        },
        {
         "name": "month_5_still_here",
         "dtype": "float64",
         "stats": {
          "unique_count": 5,
          "nan_count": 0,
          "min": "0.0",
          "max": "50000.0",
          "histogram": [
           {
            "bin_start": 0,
            "bin_end": 5000,
            "count": 7
           },
           {
            "bin_start": 5000,
            "bin_end": 10000,
            "count": 0
           },
           {
            "bin_start": 10000,
            "bin_end": 15000,
            "count": 0
           },
           {
            "bin_start": 15000,
            "bin_end": 20000,
            "count": 0
           },
           {
            "bin_start": 20000,
            "bin_end": 25000,
            "count": 0
           },
           {
            "bin_start": 25000,
            "bin_end": 30000,
            "count": 0
           },
           {
            "bin_start": 30000,
            "bin_end": 35000,
            "count": 0
           },
           {
            "bin_start": 35000,
            "bin_end": 40000,
            "count": 0
           },
           {
            "bin_start": 40000,
            "bin_end": 45000,
            "count": 0
           },
           {
            "bin_start": 45000,
            "bin_end": 50000,
            "count": 1
           }
          ]
         }
        },
        {
         "name": "_deepnote_index_column",
         "dtype": "object"
        }
       ],
       "rows": [
        {
         "avg_dist": "50000.0",
         "avg_rating_by_driver": "49799.0",
         "avg_rating_of_driver": "41878.0",
         "avg_inc_price": "50000.0",
         "inc_pct": "50000.0",
         "weekday_pct": "50000.0",
         "city_Carthag": "50000.0",
         "city_Harko": "50000.0",
         "phone_iPhone": "50000.0",
         "first_month_cat_more_1_trip": "50000.0",
         "first_month_cat_no_trips": "50000.0",
         "month_5_still_here": "50000.0",
         "_deepnote_index_column": "count"
        },
        {
         "avg_dist": "5.7968266",
         "avg_rating_by_driver": "4.77815819594771",
         "avg_rating_of_driver": "4.601559291274655",
         "avg_inc_price": "1.0747638",
         "inc_pct": "8.849535999999999",
         "weekday_pct": "60.926083999999996",
         "city_Carthag": "0.33068",
         "city_Harko": "0.2026",
         "phone_iPhone": "0.69164",
         "first_month_cat_more_1_trip": "0.41004",
         "first_month_cat_no_trips": "0.3078",
         "month_5_still_here": "0.44988",
         "_deepnote_index_column": "mean"
        },
        {
         "avg_dist": "5.7073567032333985",
         "avg_rating_by_driver": "0.44665179346562006",
         "avg_rating_of_driver": "0.6173384560411342",
         "avg_inc_price": "0.22233600894946712",
         "inc_pct": "19.958810898131016",
         "weekday_pct": "37.08150340510535",
         "city_Carthag": "0.4704627129787079",
         "city_Harko": "0.4019408801421206",
         "phone_iPhone": "0.4618207184260136",
         "first_month_cat_more_1_trip": "0.491845541446431",
         "first_month_cat_no_trips": "0.46158793449182073",
         "month_5_still_here": "0.49748661837149866",
         "_deepnote_index_column": "std"
        },
        {
         "avg_dist": "0.0",
         "avg_rating_by_driver": "1.0",
         "avg_rating_of_driver": "1.0",
         "avg_inc_price": "1.0",
         "inc_pct": "0.0",
         "weekday_pct": "0.0",
         "city_Carthag": "0.0",
         "city_Harko": "0.0",
         "phone_iPhone": "0.0",
         "first_month_cat_more_1_trip": "0.0",
         "first_month_cat_no_trips": "0.0",
         "month_5_still_here": "0.0",
         "_deepnote_index_column": "min"
        },
        {
         "avg_dist": "2.42",
         "avg_rating_by_driver": "4.7",
         "avg_rating_of_driver": "4.3",
         "avg_inc_price": "1.0",
         "inc_pct": "0.0",
         "weekday_pct": "33.3",
         "city_Carthag": "0.0",
         "city_Harko": "0.0",
         "phone_iPhone": "0.0",
         "first_month_cat_more_1_trip": "0.0",
         "first_month_cat_no_trips": "0.0",
         "month_5_still_here": "0.0",
         "_deepnote_index_column": "25%"
        },
        {
         "avg_dist": "3.88",
         "avg_rating_by_driver": "5.0",
         "avg_rating_of_driver": "4.9",
         "avg_inc_price": "1.0",
         "inc_pct": "0.0",
         "weekday_pct": "66.7",
         "city_Carthag": "0.0",
         "city_Harko": "0.0",
         "phone_iPhone": "1.0",
         "first_month_cat_more_1_trip": "0.0",
         "first_month_cat_no_trips": "0.0",
         "month_5_still_here": "0.0",
         "_deepnote_index_column": "50%"
        },
        {
         "avg_dist": "6.94",
         "avg_rating_by_driver": "5.0",
         "avg_rating_of_driver": "5.0",
         "avg_inc_price": "1.05",
         "inc_pct": "8.6",
         "weekday_pct": "100.0",
         "city_Carthag": "1.0",
         "city_Harko": "0.0",
         "phone_iPhone": "1.0",
         "first_month_cat_more_1_trip": "1.0",
         "first_month_cat_no_trips": "1.0",
         "month_5_still_here": "1.0",
         "_deepnote_index_column": "75%"
        },
        {
         "avg_dist": "160.96",
         "avg_rating_by_driver": "5.0",
         "avg_rating_of_driver": "5.0",
         "avg_inc_price": "8.0",
         "inc_pct": "100.0",
         "weekday_pct": "100.0",
         "city_Carthag": "1.0",
         "city_Harko": "1.0",
         "phone_iPhone": "1.0",
         "first_month_cat_more_1_trip": "1.0",
         "first_month_cat_no_trips": "1.0",
         "month_5_still_here": "1.0",
         "_deepnote_index_column": "max"
        }
       ]
      },
      "text/plain": "           avg_dist  avg_rating_by_driver  avg_rating_of_driver  \\\ncount  50000.000000          49799.000000          41878.000000   \nmean       5.796827              4.778158              4.601559   \nstd        5.707357              0.446652              0.617338   \nmin        0.000000              1.000000              1.000000   \n25%        2.420000              4.700000              4.300000   \n50%        3.880000              5.000000              4.900000   \n75%        6.940000              5.000000              5.000000   \nmax      160.960000              5.000000              5.000000   \n\n       avg_inc_price       inc_pct   weekday_pct  city_Carthag    city_Harko  \\\ncount   50000.000000  50000.000000  50000.000000  50000.000000  50000.000000   \nmean        1.074764      8.849536     60.926084      0.330680      0.202600   \nstd         0.222336     19.958811     37.081503      0.470463      0.401941   \nmin         1.000000      0.000000      0.000000      0.000000      0.000000   \n25%         1.000000      0.000000     33.300000      0.000000      0.000000   \n50%         1.000000      0.000000     66.700000      0.000000      0.000000   \n75%         1.050000      8.600000    100.000000      1.000000      0.000000   \nmax         8.000000    100.000000    100.000000      1.000000      1.000000   \n\n       phone_iPhone  first_month_cat_more_1_trip  first_month_cat_no_trips  \\\ncount  50000.000000                 50000.000000              50000.000000   \nmean       0.691640                     0.410040                  0.307800   \nstd        0.461821                     0.491846                  0.461588   \nmin        0.000000                     0.000000                  0.000000   \n25%        0.000000                     0.000000                  0.000000   \n50%        1.000000                     0.000000                  0.000000   \n75%        1.000000                     1.000000                  1.000000   \nmax        1.000000                     1.000000                  1.000000   \n\n       month_5_still_here  \ncount        50000.000000  \nmean             0.449880  \nstd              0.497487  \nmin              0.000000  \n25%              0.000000  \n50%              0.000000  \n75%              1.000000  \nmax              1.000000  ",
      "text/html": "<div>\n<style scoped>\n    .dataframe tbody tr th:only-of-type {\n        vertical-align: middle;\n    }\n\n    .dataframe tbody tr th {\n        vertical-align: top;\n    }\n\n    .dataframe thead th {\n        text-align: right;\n    }\n</style>\n<table border=\"1\" class=\"dataframe\">\n  <thead>\n    <tr style=\"text-align: right;\">\n      <th></th>\n      <th>avg_dist</th>\n      <th>avg_rating_by_driver</th>\n      <th>avg_rating_of_driver</th>\n      <th>avg_inc_price</th>\n      <th>inc_pct</th>\n      <th>weekday_pct</th>\n      <th>city_Carthag</th>\n      <th>city_Harko</th>\n      <th>phone_iPhone</th>\n      <th>first_month_cat_more_1_trip</th>\n      <th>first_month_cat_no_trips</th>\n      <th>month_5_still_here</th>\n    </tr>\n  </thead>\n  <tbody>\n    <tr>\n      <th>count</th>\n      <td>50000.000000</td>\n      <td>49799.000000</td>\n      <td>41878.000000</td>\n      <td>50000.000000</td>\n      <td>50000.000000</td>\n      <td>50000.000000</td>\n      <td>50000.000000</td>\n      <td>50000.000000</td>\n      <td>50000.000000</td>\n      <td>50000.000000</td>\n      <td>50000.000000</td>\n      <td>50000.000000</td>\n    </tr>\n    <tr>\n      <th>mean</th>\n      <td>5.796827</td>\n      <td>4.778158</td>\n      <td>4.601559</td>\n      <td>1.074764</td>\n      <td>8.849536</td>\n      <td>60.926084</td>\n      <td>0.330680</td>\n      <td>0.202600</td>\n      <td>0.691640</td>\n      <td>0.410040</td>\n      <td>0.307800</td>\n      <td>0.449880</td>\n    </tr>\n    <tr>\n      <th>std</th>\n      <td>5.707357</td>\n      <td>0.446652</td>\n      <td>0.617338</td>\n      <td>0.222336</td>\n      <td>19.958811</td>\n      <td>37.081503</td>\n      <td>0.470463</td>\n      <td>0.401941</td>\n      <td>0.461821</td>\n      <td>0.491846</td>\n      <td>0.461588</td>\n      <td>0.497487</td>\n    </tr>\n    <tr>\n      <th>min</th>\n      <td>0.000000</td>\n      <td>1.000000</td>\n      <td>1.000000</td>\n      <td>1.000000</td>\n      <td>0.000000</td>\n      <td>0.000000</td>\n      <td>0.000000</td>\n      <td>0.000000</td>\n      <td>0.000000</td>\n      <td>0.000000</td>\n      <td>0.000000</td>\n      <td>0.000000</td>\n    </tr>\n    <tr>\n      <th>25%</th>\n      <td>2.420000</td>\n      <td>4.700000</td>\n      <td>4.300000</td>\n      <td>1.000000</td>\n      <td>0.000000</td>\n      <td>33.300000</td>\n      <td>0.000000</td>\n      <td>0.000000</td>\n      <td>0.000000</td>\n      <td>0.000000</td>\n      <td>0.000000</td>\n      <td>0.000000</td>\n    </tr>\n    <tr>\n      <th>50%</th>\n      <td>3.880000</td>\n      <td>5.000000</td>\n      <td>4.900000</td>\n      <td>1.000000</td>\n      <td>0.000000</td>\n      <td>66.700000</td>\n      <td>0.000000</td>\n      <td>0.000000</td>\n      <td>1.000000</td>\n      <td>0.000000</td>\n      <td>0.000000</td>\n      <td>0.000000</td>\n    </tr>\n    <tr>\n      <th>75%</th>\n      <td>6.940000</td>\n      <td>5.000000</td>\n      <td>5.000000</td>\n      <td>1.050000</td>\n      <td>8.600000</td>\n      <td>100.000000</td>\n      <td>1.000000</td>\n      <td>0.000000</td>\n      <td>1.000000</td>\n      <td>1.000000</td>\n      <td>1.000000</td>\n      <td>1.000000</td>\n    </tr>\n    <tr>\n      <th>max</th>\n      <td>160.960000</td>\n      <td>5.000000</td>\n      <td>5.000000</td>\n      <td>8.000000</td>\n      <td>100.000000</td>\n      <td>100.000000</td>\n      <td>1.000000</td>\n      <td>1.000000</td>\n      <td>1.000000</td>\n      <td>1.000000</td>\n      <td>1.000000</td>\n      <td>1.000000</td>\n    </tr>\n  </tbody>\n</table>\n</div>"
     },
     "metadata": {}
    }
   ],
   "execution_count": null
  },
  {
   "cell_type": "code",
   "source": "df = df.astype(\"float64\")\ndf.info()",
   "metadata": {
    "cell_id": "ba16581f14264c5cb2f0f89b0f18d29e",
    "tags": [],
    "deepnote_to_be_reexecuted": false,
    "source_hash": "fb80aaea",
    "execution_start": 1663700472541,
    "execution_millis": 14,
    "deepnote_cell_type": "code",
    "deepnote_cell_height": 505
   },
   "outputs": [
    {
     "name": "stdout",
     "text": "<class 'pandas.core.frame.DataFrame'>\nRangeIndex: 50000 entries, 0 to 49999\nData columns (total 13 columns):\n #   Column                       Non-Null Count  Dtype  \n---  ------                       --------------  -----  \n 0   avg_dist                     50000 non-null  float64\n 1   avg_rating_by_driver         49799 non-null  float64\n 2   avg_rating_of_driver         41878 non-null  float64\n 3   avg_inc_price                50000 non-null  float64\n 4   inc_pct                      50000 non-null  float64\n 5   weekday_pct                  50000 non-null  float64\n 6   fancy_car_user               50000 non-null  float64\n 7   city_Carthag                 50000 non-null  float64\n 8   city_Harko                   50000 non-null  float64\n 9   phone_iPhone                 50000 non-null  float64\n 10  first_month_cat_more_1_trip  50000 non-null  float64\n 11  first_month_cat_no_trips     50000 non-null  float64\n 12  month_5_still_here           50000 non-null  float64\ndtypes: float64(13)\nmemory usage: 5.0 MB\n",
     "output_type": "stream"
    }
   ],
   "execution_count": null
  },
  {
   "cell_type": "code",
   "source": "df['avg_rating_by_driver'] = df['avg_rating_by_driver'].fillna(df['avg_rating_by_driver'].mean())\ndf['avg_rating_of_driver'] = df['avg_rating_of_driver'].fillna(df['avg_rating_of_driver'].mean())\ndf.info()",
   "metadata": {
    "cell_id": "ca7f49b7580742ccacf3d4868cb33422",
    "tags": [],
    "deepnote_to_be_reexecuted": false,
    "source_hash": "13d7aeb7",
    "execution_start": 1663700758579,
    "execution_millis": 2,
    "deepnote_cell_type": "code",
    "deepnote_cell_height": 523
   },
   "outputs": [
    {
     "name": "stdout",
     "text": "<class 'pandas.core.frame.DataFrame'>\nRangeIndex: 50000 entries, 0 to 49999\nData columns (total 13 columns):\n #   Column                       Non-Null Count  Dtype  \n---  ------                       --------------  -----  \n 0   avg_dist                     50000 non-null  float64\n 1   avg_rating_by_driver         50000 non-null  float64\n 2   avg_rating_of_driver         50000 non-null  float64\n 3   avg_inc_price                50000 non-null  float64\n 4   inc_pct                      50000 non-null  float64\n 5   weekday_pct                  50000 non-null  float64\n 6   fancy_car_user               50000 non-null  float64\n 7   city_Carthag                 50000 non-null  float64\n 8   city_Harko                   50000 non-null  float64\n 9   phone_iPhone                 50000 non-null  float64\n 10  first_month_cat_more_1_trip  50000 non-null  float64\n 11  first_month_cat_no_trips     50000 non-null  float64\n 12  month_5_still_here           50000 non-null  float64\ndtypes: float64(13)\nmemory usage: 5.0 MB\n",
     "output_type": "stream"
    }
   ],
   "execution_count": null
  },
  {
   "cell_type": "code",
   "source": "#Splitting\nX = df.drop(\"month_5_still_here\",axis=1)\ny = df['month_5_still_here']\n\nX_train, X_test, y_train, y_test = train_test_split(X, y, train_size=0.8, stratify=y,random_state=42)\n\n#Scoring interessato: accuracy\n\nscoring = \"accuracy\"\n\n# KFold for Cross Validation\n\nkf = KFold(n_splits = 10,shuffle=True,random_state=42) ",
   "metadata": {
    "cell_id": "8ef7617e06094f1fa815c9bf0833827f",
    "tags": [],
    "deepnote_to_be_reexecuted": false,
    "source_hash": "d8c2243a",
    "execution_start": 1663701500192,
    "execution_millis": 29,
    "deepnote_cell_type": "code",
    "deepnote_cell_height": 292
   },
   "outputs": [],
   "execution_count": null
  },
  {
   "cell_type": "code",
   "source": "from sklearn.preprocessing import StandardScaler\nfrom sklearn.pipeline import Pipeline \nimport xgboost as xgb\n\nsteps = [(\"standard_scaler\", StandardScaler()),\n        (\"model\", xgb.XGBClassifier())] \n\npipeline = Pipeline(steps) \n\npipeline.fit(X_train, y_train) \n\ny_pred = pipeline.predict(X_test)\n\naccuracy = pipeline.score(X_test, y_test) \nprint(\"Accuracy del modello sul test:\", accuracy)",
   "metadata": {
    "cell_id": "be01e7e94f884a0ba9d073efdd1554c9",
    "tags": [],
    "deepnote_to_be_reexecuted": false,
    "source_hash": "c9a255dd",
    "execution_start": 1663701550052,
    "execution_millis": 3699,
    "deepnote_cell_type": "code",
    "deepnote_cell_height": 359
   },
   "outputs": [
    {
     "name": "stdout",
     "text": "Accuracy del modello sul test: 0.7644\n",
     "output_type": "stream"
    }
   ],
   "execution_count": null
  },
  {
   "cell_type": "code",
   "source": "xgb_pipeline = Pipeline(steps) \n\nparam_grid = {\"model__max_depth\": [2,6,20],\n                \"model__gamma\": [0,0.005,0.02],\n                \"model__reg_alpha\": [0,0.005,0.02]}\n\ngrid = GridSearchCV(xgb_pipeline, param_grid=param_grid, cv=5, scoring='accuracy')",
   "metadata": {
    "cell_id": "c80db8205c3e4eb188583efc5db6169f",
    "tags": [],
    "deepnote_to_be_reexecuted": false,
    "source_hash": "b6b3d2fd",
    "execution_start": 1663706638164,
    "execution_millis": 1,
    "deepnote_cell_type": "code",
    "deepnote_cell_height": 184,
    "deepnote_output_heights": [
     null,
     605.1875
    ]
   },
   "outputs": [],
   "execution_count": null
  },
  {
   "cell_type": "code",
   "source": "grid.fit(X_train,y_train)\nprint(grid.best_score_)\n",
   "metadata": {
    "cell_id": "1267c167042345c888b264dc5b0369b6",
    "tags": [],
    "deepnote_to_be_reexecuted": false,
    "source_hash": "eab77a25",
    "execution_start": 1663706639359,
    "execution_millis": 634482,
    "deepnote_cell_type": "code",
    "deepnote_cell_height": 143
   },
   "outputs": [
    {
     "name": "stdout",
     "text": "0.76285\n",
     "output_type": "stream"
    }
   ],
   "execution_count": null
  },
  {
   "cell_type": "code",
   "source": "accuracy = grid.best_estimator_.score(X_test, y_test) \nprint(\"Accuracy del modello sul test:\", accuracy)\nprint(\"I migliori parametri: \", grid.best_params_)",
   "metadata": {
    "cell_id": "b7904e6ab4d84f7b88f23973a9812c33",
    "tags": [],
    "deepnote_to_be_reexecuted": false,
    "source_hash": "d0e0d20e",
    "execution_start": 1663707326103,
    "execution_millis": 7,
    "deepnote_cell_type": "code",
    "deepnote_cell_height": 163
   },
   "outputs": [
    {
     "name": "stdout",
     "text": "Accuracy del modello sul test: 0.7653\nI migliori parametri:  {'model__gamma': 0, 'model__max_depth': 2, 'model__reg_alpha': 0}\n",
     "output_type": "stream"
    }
   ],
   "execution_count": null
  },
  {
   "cell_type": "markdown",
   "source": "<a style='text-decoration:none;line-height:16px;display:flex;color:#5B5B62;padding:10px;justify-content:end;' href='https://deepnote.com?utm_source=created-in-deepnote-cell&projectId=53f133e4-d090-44f8-819a-f2d0921ffe98' target=\"_blank\">\n<img alt='Created in deepnote.com' style='display:inline;max-height:16px;margin:0px;margin-right:7.5px;' src='data:image/svg+xml;base64,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' > </img>\nCreated in <span style='font-weight:600;margin-left:4px;'>Deepnote</span></a>",
   "metadata": {
    "tags": [],
    "created_in_deepnote_cell": true,
    "deepnote_cell_type": "markdown"
   }
  }
 ],
 "nbformat": 4,
 "nbformat_minor": 2,
 "metadata": {
  "kernelspec": {
   "display_name": "Python 3.8.13 ('lectures')",
   "language": "python",
   "name": "python3"
  },
  "language_info": {
   "codemirror_mode": {
    "name": "ipython",
    "version": 3
   },
   "file_extension": ".py",
   "mimetype": "text/x-python",
   "name": "python",
   "nbconvert_exporter": "python",
   "pygments_lexer": "ipython3",
   "version": "3.8.13"
  },
  "orig_nbformat": 4,
  "vscode": {
   "interpreter": {
    "hash": "344cc1eeed8544eb3655402a89f8b06dbf0ee0c5373119cdc275e8f730c3c713"
   }
  },
  "deepnote_notebook_id": "fbaedae4-722f-46ed-a42c-48b2548e904c",
  "deepnote": {},
  "deepnote_execution_queue": []
 }
}