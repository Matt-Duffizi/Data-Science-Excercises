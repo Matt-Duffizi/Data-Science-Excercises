{
 "cells": [
  {
   "cell_type": "markdown",
   "source": "# Introduction to Data Science and Machine Learning\n\n<p align=\"center\">\n    <img width=\"699\" alt=\"image\" src=\"https://user-images.githubusercontent.com/49638680/159042792-8510fbd1-c4ac-4a48-8320-bc6c1a49cdae.png\">\n</p>\n\n---\n\n## Exploratory Data Analysis - Homework\n\nThe aim of this notebook is to give you an exercise to perform an exploratory data analysis in order to extract some useful information hidden in data.\n\nWe are going to analyse the [Tennis dataset](http://tennis-data.co.uk). In order to guide your analysis, you should try to approach the problem by wondering some questions. The role of the analysis is to find the answers.",
   "metadata": {
    "cell_id": "7139ea70-c462-464d-af1c-7222e630d7da",
    "owner_user_id": "0e57f2ca-7673-4c0f-a6a3-d36b417d8e7f",
    "deepnote_cell_type": "markdown",
    "deepnote_cell_height": 334.5625
   }
  },
  {
   "cell_type": "code",
   "metadata": {
    "cell_id": "00001-603e373c-e11e-4691-84ad-2428d3f35add",
    "deepnote_to_be_reexecuted": false,
    "source_hash": "afa76208",
    "execution_start": 1650994903061,
    "execution_millis": 1,
    "deepnote_cell_type": "code",
    "deepnote_cell_height": 225
   },
   "source": "# Import Libraries\nimport pandas as pd\nfrom urllib.request import urlopen  \nimport os.path as osp\nimport os\nimport logging\nimport zipfile\nfrom glob import glob\nlogging.getLogger().setLevel('INFO')",
   "execution_count": null,
   "outputs": []
  },
  {
   "cell_type": "markdown",
   "source": "## Helpers",
   "metadata": {
    "cell_id": "00002-ed67a8f7-5145-4987-bd26-a9d86e42c408",
    "deepnote_cell_type": "markdown",
    "deepnote_cell_height": 70
   }
  },
  {
   "cell_type": "code",
   "metadata": {
    "cell_id": "00003-13cf67d2-7142-4707-bfcc-8beb2a6da764",
    "deepnote_to_be_reexecuted": false,
    "source_hash": "4ea38c69",
    "execution_start": 1650994903062,
    "execution_millis": 0,
    "deepnote_cell_type": "code",
    "deepnote_cell_height": 243
   },
   "source": "def download_file(url_str, path):\n    url = urlopen(url_str)\n    output = open(path, 'wb')       \n    output.write(url.read())\n    output.close()  \n    \ndef extract_file(archive_path, target_dir):\n    zip_file = zipfile.ZipFile(archive_path, 'r')\n    zip_file.extractall(target_dir)\n    zip_file.close()",
   "execution_count": null,
   "outputs": []
  },
  {
   "cell_type": "markdown",
   "source": "## Download the dataset",
   "metadata": {
    "cell_id": "00004-1362d7cb-950b-4d3d-9378-821daaeb491f",
    "deepnote_cell_type": "markdown",
    "deepnote_cell_height": 70
   }
  },
  {
   "cell_type": "code",
   "metadata": {
    "cell_id": "00005-5302e26b-89ff-4475-a7f7-f01b7115e4ba",
    "deepnote_to_be_reexecuted": false,
    "source_hash": "5f7e2a64",
    "execution_start": 1650994903063,
    "execution_millis": 29002,
    "deepnote_cell_type": "code",
    "deepnote_cell_height": 1248.375
   },
   "source": "BASE_URL = 'http://tennis-data.co.uk'\nDATA_DIR = \"tennis_data\"\nATP_DIR = './{}/ATP'.format(DATA_DIR)\nWTA_DIR = './{}/WTA'.format(DATA_DIR)\n\nATP_URLS = [BASE_URL + \"/%i/%i.zip\" % (i,i) for i in range(2000,2019)]\nWTA_URLS = [BASE_URL + \"/%iw/%i.zip\" % (i,i) for i in range(2007,2019)]\n\nos.makedirs(osp.join(ATP_DIR, 'archives'), exist_ok=True)\nos.makedirs(osp.join(WTA_DIR, 'archives'), exist_ok=True)\n\nfor files, directory in ((ATP_URLS, ATP_DIR), (WTA_URLS, WTA_DIR)):\n    for dl_path in files:\n        logging.info(\"downloading & extracting file %s\", dl_path)\n        archive_path = osp.join(directory, 'archives', osp.basename(dl_path))\n        download_file(dl_path, archive_path)\n        extract_file(archive_path, directory)\n    \nATP_FILES = sorted(glob(\"%s/*.xls*\" % ATP_DIR))\nWTA_FILES = sorted(glob(\"%s/*.xls*\" % WTA_DIR))\n\ndf_atp = pd.concat([pd.read_excel(f) for f in ATP_FILES], ignore_index=True)\ndf_wta = pd.concat([pd.read_excel(f) for f in WTA_FILES], ignore_index=True)\n\nlogging.info(\"%i matches ATP in df_atp\", df_atp.shape[0])\nlogging.info(\"%i matches WTA in df_wta\", df_wta.shape[0])",
   "execution_count": null,
   "outputs": [
    {
     "name": "stderr",
     "text": "INFO:root:downloading & extracting file http://tennis-data.co.uk/2000/2000.zip\nINFO:root:downloading & extracting file http://tennis-data.co.uk/2001/2001.zip\nINFO:root:downloading & extracting file http://tennis-data.co.uk/2002/2002.zip\nINFO:root:downloading & extracting file http://tennis-data.co.uk/2003/2003.zip\nINFO:root:downloading & extracting file http://tennis-data.co.uk/2004/2004.zip\nINFO:root:downloading & extracting file http://tennis-data.co.uk/2005/2005.zip\nINFO:root:downloading & extracting file http://tennis-data.co.uk/2006/2006.zip\nINFO:root:downloading & extracting file http://tennis-data.co.uk/2007/2007.zip\nINFO:root:downloading & extracting file http://tennis-data.co.uk/2008/2008.zip\nINFO:root:downloading & extracting file http://tennis-data.co.uk/2009/2009.zip\nINFO:root:downloading & extracting file http://tennis-data.co.uk/2010/2010.zip\nINFO:root:downloading & extracting file http://tennis-data.co.uk/2011/2011.zip\nINFO:root:downloading & extracting file http://tennis-data.co.uk/2012/2012.zip\nINFO:root:downloading & extracting file http://tennis-data.co.uk/2013/2013.zip\nINFO:root:downloading & extracting file http://tennis-data.co.uk/2014/2014.zip\nINFO:root:downloading & extracting file http://tennis-data.co.uk/2015/2015.zip\nINFO:root:downloading & extracting file http://tennis-data.co.uk/2016/2016.zip\nINFO:root:downloading & extracting file http://tennis-data.co.uk/2017/2017.zip\nINFO:root:downloading & extracting file http://tennis-data.co.uk/2018/2018.zip\nINFO:root:downloading & extracting file http://tennis-data.co.uk/2007w/2007.zip\nINFO:root:downloading & extracting file http://tennis-data.co.uk/2008w/2008.zip\nINFO:root:downloading & extracting file http://tennis-data.co.uk/2009w/2009.zip\nINFO:root:downloading & extracting file http://tennis-data.co.uk/2010w/2010.zip\nINFO:root:downloading & extracting file http://tennis-data.co.uk/2011w/2011.zip\nINFO:root:downloading & extracting file http://tennis-data.co.uk/2012w/2012.zip\nINFO:root:downloading & extracting file http://tennis-data.co.uk/2013w/2013.zip\nINFO:root:downloading & extracting file http://tennis-data.co.uk/2014w/2014.zip\nINFO:root:downloading & extracting file http://tennis-data.co.uk/2015w/2015.zip\nINFO:root:downloading & extracting file http://tennis-data.co.uk/2016w/2016.zip\nINFO:root:downloading & extracting file http://tennis-data.co.uk/2017w/2017.zip\nINFO:root:downloading & extracting file http://tennis-data.co.uk/2018w/2018.zip\n",
     "output_type": "stream"
    },
    {
     "output_type": "error",
     "ename": "ImportError",
     "evalue": "Missing optional dependency 'xlrd'. Install xlrd >= 1.0.0 for Excel support Use pip or conda to install xlrd.",
     "traceback": [
      "\u001b[0;31m---------------------------------------------------------------------------\u001b[0m",
      "\u001b[0;31mImportError\u001b[0m                               Traceback (most recent call last)",
      "\u001b[0;32m<ipython-input-3-fe308f5b6a38>\u001b[0m in \u001b[0;36m<module>\u001b[0;34m\u001b[0m\n\u001b[1;32m     20\u001b[0m \u001b[0mWTA_FILES\u001b[0m \u001b[0;34m=\u001b[0m \u001b[0msorted\u001b[0m\u001b[0;34m(\u001b[0m\u001b[0mglob\u001b[0m\u001b[0;34m(\u001b[0m\u001b[0;34m\"%s/*.xls*\"\u001b[0m \u001b[0;34m%\u001b[0m \u001b[0mWTA_DIR\u001b[0m\u001b[0;34m)\u001b[0m\u001b[0;34m)\u001b[0m\u001b[0;34m\u001b[0m\u001b[0;34m\u001b[0m\u001b[0m\n\u001b[1;32m     21\u001b[0m \u001b[0;34m\u001b[0m\u001b[0m\n\u001b[0;32m---> 22\u001b[0;31m \u001b[0mdf_atp\u001b[0m \u001b[0;34m=\u001b[0m \u001b[0mpd\u001b[0m\u001b[0;34m.\u001b[0m\u001b[0mconcat\u001b[0m\u001b[0;34m(\u001b[0m\u001b[0;34m[\u001b[0m\u001b[0mpd\u001b[0m\u001b[0;34m.\u001b[0m\u001b[0mread_excel\u001b[0m\u001b[0;34m(\u001b[0m\u001b[0mf\u001b[0m\u001b[0;34m)\u001b[0m \u001b[0;32mfor\u001b[0m \u001b[0mf\u001b[0m \u001b[0;32min\u001b[0m \u001b[0mATP_FILES\u001b[0m\u001b[0;34m]\u001b[0m\u001b[0;34m,\u001b[0m \u001b[0mignore_index\u001b[0m\u001b[0;34m=\u001b[0m\u001b[0;32mTrue\u001b[0m\u001b[0;34m)\u001b[0m\u001b[0;34m\u001b[0m\u001b[0;34m\u001b[0m\u001b[0m\n\u001b[0m\u001b[1;32m     23\u001b[0m \u001b[0mdf_wta\u001b[0m \u001b[0;34m=\u001b[0m \u001b[0mpd\u001b[0m\u001b[0;34m.\u001b[0m\u001b[0mconcat\u001b[0m\u001b[0;34m(\u001b[0m\u001b[0;34m[\u001b[0m\u001b[0mpd\u001b[0m\u001b[0;34m.\u001b[0m\u001b[0mread_excel\u001b[0m\u001b[0;34m(\u001b[0m\u001b[0mf\u001b[0m\u001b[0;34m)\u001b[0m \u001b[0;32mfor\u001b[0m \u001b[0mf\u001b[0m \u001b[0;32min\u001b[0m \u001b[0mWTA_FILES\u001b[0m\u001b[0;34m]\u001b[0m\u001b[0;34m,\u001b[0m \u001b[0mignore_index\u001b[0m\u001b[0;34m=\u001b[0m\u001b[0;32mTrue\u001b[0m\u001b[0;34m)\u001b[0m\u001b[0;34m\u001b[0m\u001b[0;34m\u001b[0m\u001b[0m\n\u001b[1;32m     24\u001b[0m \u001b[0;34m\u001b[0m\u001b[0m\n",
      "\u001b[0;32m<ipython-input-3-fe308f5b6a38>\u001b[0m in \u001b[0;36m<listcomp>\u001b[0;34m(.0)\u001b[0m\n\u001b[1;32m     20\u001b[0m \u001b[0mWTA_FILES\u001b[0m \u001b[0;34m=\u001b[0m \u001b[0msorted\u001b[0m\u001b[0;34m(\u001b[0m\u001b[0mglob\u001b[0m\u001b[0;34m(\u001b[0m\u001b[0;34m\"%s/*.xls*\"\u001b[0m \u001b[0;34m%\u001b[0m \u001b[0mWTA_DIR\u001b[0m\u001b[0;34m)\u001b[0m\u001b[0;34m)\u001b[0m\u001b[0;34m\u001b[0m\u001b[0;34m\u001b[0m\u001b[0m\n\u001b[1;32m     21\u001b[0m \u001b[0;34m\u001b[0m\u001b[0m\n\u001b[0;32m---> 22\u001b[0;31m \u001b[0mdf_atp\u001b[0m \u001b[0;34m=\u001b[0m \u001b[0mpd\u001b[0m\u001b[0;34m.\u001b[0m\u001b[0mconcat\u001b[0m\u001b[0;34m(\u001b[0m\u001b[0;34m[\u001b[0m\u001b[0mpd\u001b[0m\u001b[0;34m.\u001b[0m\u001b[0mread_excel\u001b[0m\u001b[0;34m(\u001b[0m\u001b[0mf\u001b[0m\u001b[0;34m)\u001b[0m \u001b[0;32mfor\u001b[0m \u001b[0mf\u001b[0m \u001b[0;32min\u001b[0m \u001b[0mATP_FILES\u001b[0m\u001b[0;34m]\u001b[0m\u001b[0;34m,\u001b[0m \u001b[0mignore_index\u001b[0m\u001b[0;34m=\u001b[0m\u001b[0;32mTrue\u001b[0m\u001b[0;34m)\u001b[0m\u001b[0;34m\u001b[0m\u001b[0;34m\u001b[0m\u001b[0m\n\u001b[0m\u001b[1;32m     23\u001b[0m \u001b[0mdf_wta\u001b[0m \u001b[0;34m=\u001b[0m \u001b[0mpd\u001b[0m\u001b[0;34m.\u001b[0m\u001b[0mconcat\u001b[0m\u001b[0;34m(\u001b[0m\u001b[0;34m[\u001b[0m\u001b[0mpd\u001b[0m\u001b[0;34m.\u001b[0m\u001b[0mread_excel\u001b[0m\u001b[0;34m(\u001b[0m\u001b[0mf\u001b[0m\u001b[0;34m)\u001b[0m \u001b[0;32mfor\u001b[0m \u001b[0mf\u001b[0m \u001b[0;32min\u001b[0m \u001b[0mWTA_FILES\u001b[0m\u001b[0;34m]\u001b[0m\u001b[0;34m,\u001b[0m \u001b[0mignore_index\u001b[0m\u001b[0;34m=\u001b[0m\u001b[0;32mTrue\u001b[0m\u001b[0;34m)\u001b[0m\u001b[0;34m\u001b[0m\u001b[0;34m\u001b[0m\u001b[0m\n\u001b[1;32m     24\u001b[0m \u001b[0;34m\u001b[0m\u001b[0m\n",
      "\u001b[0;32m/shared-libs/python3.7/py/lib/python3.7/site-packages/pandas/util/_decorators.py\u001b[0m in \u001b[0;36mwrapper\u001b[0;34m(*args, **kwargs)\u001b[0m\n\u001b[1;32m    297\u001b[0m                 )\n\u001b[1;32m    298\u001b[0m                 \u001b[0mwarnings\u001b[0m\u001b[0;34m.\u001b[0m\u001b[0mwarn\u001b[0m\u001b[0;34m(\u001b[0m\u001b[0mmsg\u001b[0m\u001b[0;34m,\u001b[0m \u001b[0mFutureWarning\u001b[0m\u001b[0;34m,\u001b[0m \u001b[0mstacklevel\u001b[0m\u001b[0;34m=\u001b[0m\u001b[0mstacklevel\u001b[0m\u001b[0;34m)\u001b[0m\u001b[0;34m\u001b[0m\u001b[0;34m\u001b[0m\u001b[0m\n\u001b[0;32m--> 299\u001b[0;31m             \u001b[0;32mreturn\u001b[0m \u001b[0mfunc\u001b[0m\u001b[0;34m(\u001b[0m\u001b[0;34m*\u001b[0m\u001b[0margs\u001b[0m\u001b[0;34m,\u001b[0m \u001b[0;34m**\u001b[0m\u001b[0mkwargs\u001b[0m\u001b[0;34m)\u001b[0m\u001b[0;34m\u001b[0m\u001b[0;34m\u001b[0m\u001b[0m\n\u001b[0m\u001b[1;32m    300\u001b[0m \u001b[0;34m\u001b[0m\u001b[0m\n\u001b[1;32m    301\u001b[0m         \u001b[0;32mreturn\u001b[0m \u001b[0mwrapper\u001b[0m\u001b[0;34m\u001b[0m\u001b[0;34m\u001b[0m\u001b[0m\n",
      "\u001b[0;32m/shared-libs/python3.7/py/lib/python3.7/site-packages/pandas/io/excel/_base.py\u001b[0m in \u001b[0;36mread_excel\u001b[0;34m(io, sheet_name, header, names, index_col, usecols, squeeze, dtype, engine, converters, true_values, false_values, skiprows, nrows, na_values, keep_default_na, na_filter, verbose, parse_dates, date_parser, thousands, comment, skipfooter, convert_float, mangle_dupe_cols, storage_options)\u001b[0m\n\u001b[1;32m    334\u001b[0m     \u001b[0;32mif\u001b[0m \u001b[0;32mnot\u001b[0m \u001b[0misinstance\u001b[0m\u001b[0;34m(\u001b[0m\u001b[0mio\u001b[0m\u001b[0;34m,\u001b[0m \u001b[0mExcelFile\u001b[0m\u001b[0;34m)\u001b[0m\u001b[0;34m:\u001b[0m\u001b[0;34m\u001b[0m\u001b[0;34m\u001b[0m\u001b[0m\n\u001b[1;32m    335\u001b[0m         \u001b[0mshould_close\u001b[0m \u001b[0;34m=\u001b[0m \u001b[0;32mTrue\u001b[0m\u001b[0;34m\u001b[0m\u001b[0;34m\u001b[0m\u001b[0m\n\u001b[0;32m--> 336\u001b[0;31m         \u001b[0mio\u001b[0m \u001b[0;34m=\u001b[0m \u001b[0mExcelFile\u001b[0m\u001b[0;34m(\u001b[0m\u001b[0mio\u001b[0m\u001b[0;34m,\u001b[0m \u001b[0mstorage_options\u001b[0m\u001b[0;34m=\u001b[0m\u001b[0mstorage_options\u001b[0m\u001b[0;34m,\u001b[0m \u001b[0mengine\u001b[0m\u001b[0;34m=\u001b[0m\u001b[0mengine\u001b[0m\u001b[0;34m)\u001b[0m\u001b[0;34m\u001b[0m\u001b[0;34m\u001b[0m\u001b[0m\n\u001b[0m\u001b[1;32m    337\u001b[0m     \u001b[0;32melif\u001b[0m \u001b[0mengine\u001b[0m \u001b[0;32mand\u001b[0m \u001b[0mengine\u001b[0m \u001b[0;34m!=\u001b[0m \u001b[0mio\u001b[0m\u001b[0;34m.\u001b[0m\u001b[0mengine\u001b[0m\u001b[0;34m:\u001b[0m\u001b[0;34m\u001b[0m\u001b[0;34m\u001b[0m\u001b[0m\n\u001b[1;32m    338\u001b[0m         raise ValueError(\n",
      "\u001b[0;32m/shared-libs/python3.7/py/lib/python3.7/site-packages/pandas/io/excel/_base.py\u001b[0m in \u001b[0;36m__init__\u001b[0;34m(self, path_or_buffer, engine, storage_options)\u001b[0m\n\u001b[1;32m   1138\u001b[0m         \u001b[0mself\u001b[0m\u001b[0;34m.\u001b[0m\u001b[0mstorage_options\u001b[0m \u001b[0;34m=\u001b[0m \u001b[0mstorage_options\u001b[0m\u001b[0;34m\u001b[0m\u001b[0;34m\u001b[0m\u001b[0m\n\u001b[1;32m   1139\u001b[0m \u001b[0;34m\u001b[0m\u001b[0m\n\u001b[0;32m-> 1140\u001b[0;31m         \u001b[0mself\u001b[0m\u001b[0;34m.\u001b[0m\u001b[0m_reader\u001b[0m \u001b[0;34m=\u001b[0m \u001b[0mself\u001b[0m\u001b[0;34m.\u001b[0m\u001b[0m_engines\u001b[0m\u001b[0;34m[\u001b[0m\u001b[0mengine\u001b[0m\u001b[0;34m]\u001b[0m\u001b[0;34m(\u001b[0m\u001b[0mself\u001b[0m\u001b[0;34m.\u001b[0m\u001b[0m_io\u001b[0m\u001b[0;34m,\u001b[0m \u001b[0mstorage_options\u001b[0m\u001b[0;34m=\u001b[0m\u001b[0mstorage_options\u001b[0m\u001b[0;34m)\u001b[0m\u001b[0;34m\u001b[0m\u001b[0;34m\u001b[0m\u001b[0m\n\u001b[0m\u001b[1;32m   1141\u001b[0m \u001b[0;34m\u001b[0m\u001b[0m\n\u001b[1;32m   1142\u001b[0m     \u001b[0;32mdef\u001b[0m \u001b[0m__fspath__\u001b[0m\u001b[0;34m(\u001b[0m\u001b[0mself\u001b[0m\u001b[0;34m)\u001b[0m\u001b[0;34m:\u001b[0m\u001b[0;34m\u001b[0m\u001b[0;34m\u001b[0m\u001b[0m\n",
      "\u001b[0;32m/shared-libs/python3.7/py/lib/python3.7/site-packages/pandas/io/excel/_xlrd.py\u001b[0m in \u001b[0;36m__init__\u001b[0;34m(self, filepath_or_buffer, storage_options)\u001b[0m\n\u001b[1;32m     22\u001b[0m         \"\"\"\n\u001b[1;32m     23\u001b[0m         \u001b[0merr_msg\u001b[0m \u001b[0;34m=\u001b[0m \u001b[0;34m\"Install xlrd >= 1.0.0 for Excel support\"\u001b[0m\u001b[0;34m\u001b[0m\u001b[0;34m\u001b[0m\u001b[0m\n\u001b[0;32m---> 24\u001b[0;31m         \u001b[0mimport_optional_dependency\u001b[0m\u001b[0;34m(\u001b[0m\u001b[0;34m\"xlrd\"\u001b[0m\u001b[0;34m,\u001b[0m \u001b[0mextra\u001b[0m\u001b[0;34m=\u001b[0m\u001b[0merr_msg\u001b[0m\u001b[0;34m)\u001b[0m\u001b[0;34m\u001b[0m\u001b[0;34m\u001b[0m\u001b[0m\n\u001b[0m\u001b[1;32m     25\u001b[0m         \u001b[0msuper\u001b[0m\u001b[0;34m(\u001b[0m\u001b[0;34m)\u001b[0m\u001b[0;34m.\u001b[0m\u001b[0m__init__\u001b[0m\u001b[0;34m(\u001b[0m\u001b[0mfilepath_or_buffer\u001b[0m\u001b[0;34m,\u001b[0m \u001b[0mstorage_options\u001b[0m\u001b[0;34m=\u001b[0m\u001b[0mstorage_options\u001b[0m\u001b[0;34m)\u001b[0m\u001b[0;34m\u001b[0m\u001b[0;34m\u001b[0m\u001b[0m\n\u001b[1;32m     26\u001b[0m \u001b[0;34m\u001b[0m\u001b[0m\n",
      "\u001b[0;32m/shared-libs/python3.7/py/lib/python3.7/site-packages/pandas/compat/_optional.py\u001b[0m in \u001b[0;36mimport_optional_dependency\u001b[0;34m(name, extra, raise_on_missing, on_version)\u001b[0m\n\u001b[1;32m    107\u001b[0m     \u001b[0;32mexcept\u001b[0m \u001b[0mImportError\u001b[0m\u001b[0;34m:\u001b[0m\u001b[0;34m\u001b[0m\u001b[0;34m\u001b[0m\u001b[0m\n\u001b[1;32m    108\u001b[0m         \u001b[0;32mif\u001b[0m \u001b[0mraise_on_missing\u001b[0m\u001b[0;34m:\u001b[0m\u001b[0;34m\u001b[0m\u001b[0;34m\u001b[0m\u001b[0m\n\u001b[0;32m--> 109\u001b[0;31m             \u001b[0;32mraise\u001b[0m \u001b[0mImportError\u001b[0m\u001b[0;34m(\u001b[0m\u001b[0mmsg\u001b[0m\u001b[0;34m)\u001b[0m \u001b[0;32mfrom\u001b[0m \u001b[0;32mNone\u001b[0m\u001b[0;34m\u001b[0m\u001b[0;34m\u001b[0m\u001b[0m\n\u001b[0m\u001b[1;32m    110\u001b[0m         \u001b[0;32melse\u001b[0m\u001b[0;34m:\u001b[0m\u001b[0;34m\u001b[0m\u001b[0;34m\u001b[0m\u001b[0m\n\u001b[1;32m    111\u001b[0m             \u001b[0;32mreturn\u001b[0m \u001b[0;32mNone\u001b[0m\u001b[0;34m\u001b[0m\u001b[0;34m\u001b[0m\u001b[0m\n",
      "\u001b[0;31mImportError\u001b[0m: Missing optional dependency 'xlrd'. Install xlrd >= 1.0.0 for Excel support Use pip or conda to install xlrd."
     ]
    }
   ]
  },
  {
   "cell_type": "markdown",
   "source": "## Problem description\n\n### The data\nThe website​ [​http://tennis-data.co.uk/alldata.php​](​http://tennis-data.co.uk/alldata.php​) gathers outcomes of both WTA​ (Women Tennis Association)​ and ATP ​(Association of Tennis Professionals - men only)​ tennis games over several years.\nA short description of each variable can be found here : [http://www.tennis-data.co.uk/notes.txt](http://www.tennis-data.co.uk/notes.txt)\n\n### What is expected from you\nFirst of all, answer the following questions.\n\n#### Questions\nPlease answer the following questions about the dataset with the appropriate line(s) of code.\n\n##### Example\n\n__Question​__: How many ATP matches are there in the dataset? \n\n__Answer​__: \n```python\nlen(df_atp)\n```\n\n1. Who are the three ATP players with the most wins ?\n2. How many sets did the player “​Federer R.” win in total ?\n3. How many sets did the player “​Federer R.” win during the years 2016 and 2017 ?\n4. For each match, what is the percentage of victories of the winner in the past ?\n5. How are (differently) distributed wins of players in the age segments `[16-23]`, `[24-30]` `[30+]`?\n6. Does the behaviour in the previous answer changes between men and women?\n\n_Hint_: Careful with null values and how you handle them.\n\n#### Bonus points\n\n* your notebook contains graphics that are both interesting and pretty\n* we can go through your entire notebook without frowning\n* you teach us something cool 🙂\n\n#### Free Analysis\n\nWe would like you to perform some free analysis. For example study distributions, correlations, etc.\n\n---\n\n## Your Work\n\nHave fun!",
   "metadata": {
    "cell_id": "00006-eedf8097-8319-48d1-b0d0-13e227bef406",
    "deepnote_cell_type": "markdown",
    "deepnote_cell_height": 1044.8125
   }
  },
  {
   "cell_type": "code",
   "metadata": {
    "cell_id": "acecff9de4f141468e68eae2504d3341",
    "tags": [],
    "deepnote_to_be_reexecuted": true,
    "source_hash": "4593e86d",
    "execution_start": 1650916934913,
    "execution_millis": 13,
    "deepnote_cell_type": "code",
    "deepnote_cell_height": 144.1875
   },
   "source": "df_atp.head()",
   "execution_count": null,
   "outputs": [
    {
     "output_type": "error",
     "ename": "NameError",
     "evalue": "name 'df_atp' is not defined",
     "traceback": [
      "\u001b[0;31m---------------------------------------------------------------------------\u001b[0m",
      "\u001b[0;31mNameError\u001b[0m                                 Traceback (most recent call last)",
      "\u001b[0;32m<ipython-input-4-1462b2cf5fe3>\u001b[0m in \u001b[0;36m<module>\u001b[0;34m\u001b[0m\n\u001b[0;32m----> 1\u001b[0;31m \u001b[0mdf_atp\u001b[0m\u001b[0;34m.\u001b[0m\u001b[0mhead\u001b[0m\u001b[0;34m(\u001b[0m\u001b[0;34m)\u001b[0m\u001b[0;34m\u001b[0m\u001b[0;34m\u001b[0m\u001b[0m\n\u001b[0m",
      "\u001b[0;31mNameError\u001b[0m: name 'df_atp' is not defined"
     ]
    }
   ]
  },
  {
   "cell_type": "code",
   "metadata": {
    "cell_id": "44cdbb6fae5c40d4a47f2ca97273c839",
    "tags": [],
    "deepnote_to_be_reexecuted": true,
    "source_hash": "c6a8f87b",
    "deepnote_cell_type": "code"
   },
   "source": "df_atp.info()",
   "execution_count": null,
   "outputs": []
  },
  {
   "cell_type": "code",
   "metadata": {
    "cell_id": "a29dc7c325284529a0343d098b080c30",
    "tags": [],
    "deepnote_to_be_reexecuted": true,
    "source_hash": "5fdb820a",
    "deepnote_cell_type": "code"
   },
   "source": "#1) Primo Quesito Matteo\ndf_atp.groupby(\"Winner\")[\"Winner\"].count().sort_values(ascending = False)",
   "execution_count": null,
   "outputs": []
  },
  {
   "cell_type": "code",
   "metadata": {
    "cell_id": "ab713350472449db98cb11c4731e6743",
    "tags": [],
    "deepnote_to_be_reexecuted": true,
    "source_hash": "107a1d39",
    "deepnote_cell_type": "code"
   },
   "source": "#2) Secondo Quesito Matteo\ndf_atp[df_atp[\"Winner\"] == \"Federer R.\"][\"Wsets\"].sum() + \\\ndf_atp[df_atp[\"Loser\"] == \"Federer R.\"][\"Lsets\"].replace('`1',1).sum()",
   "execution_count": null,
   "outputs": []
  },
  {
   "cell_type": "code",
   "metadata": {
    "cell_id": "f5eef0b6878e4d94bb9d6f3ccce707fd",
    "tags": [],
    "deepnote_to_be_reexecuted": true,
    "source_hash": "9938fa6b",
    "deepnote_cell_type": "code"
   },
   "source": "#Possibile soluzione per l'eliminazione di numeri sotto forma di stringe con simboli e errori di digitazione\n#Matteo\n\nimport string\n\npunctuation = string.punctuation\nletters = string.ascii_letters\n\n# Poi come continuare??",
   "execution_count": null,
   "outputs": []
  },
  {
   "cell_type": "code",
   "metadata": {
    "cell_id": "b620efa89c7849bfab5f2ddc514bed1e",
    "tags": [],
    "deepnote_to_be_reexecuted": true,
    "source_hash": "2f917474",
    "deepnote_cell_type": "code"
   },
   "source": "#3) Terzo Quesito Matteo\ndf_atp[df_atp[\"Date\"] >= \"2016\"][df_atp[\"Date\"] <= \"2018\"][df_atp[\"Winner\"] == \"Federer R.\"][\"Wsets\"].sum() + \\\ndf_atp[df_atp[\"Date\"] >= \"2016\"][df_atp[\"Date\"] <= \"2018\"][df_atp[\"Loser\"] == \"Federer R.\"][\"Lsets\"].replace('`1',1).sum()",
   "execution_count": null,
   "outputs": []
  },
  {
   "cell_type": "code",
   "metadata": {
    "cell_id": "b46fe5821cfa406b9347c5a0f893ecbf",
    "tags": [],
    "deepnote_to_be_reexecuted": true,
    "source_hash": "c2a84ea0",
    "deepnote_cell_type": "code"
   },
   "source": "# correzione typo Lsets\ndf_atp['Lsets'].replace('`1',1, inplace=True)",
   "execution_count": null,
   "outputs": []
  },
  {
   "cell_type": "code",
   "metadata": {
    "cell_id": "c3b1d049ce1b456caf2eb777cc1e9dcd",
    "tags": [],
    "deepnote_to_be_reexecuted": true,
    "source_hash": "47dbf4e1",
    "deepnote_cell_type": "code"
   },
   "source": "# sul mio notebook, scritto così dava un warning:\n# D:\\Programmi\\Anaconda3\\lib\\site-packages\\ipykernel_launcher.py:1: UserWarning: Boolean Series key will be reindexed to match DataFrame index.\n# \"\"\"Entry point for launching an IPython kernel.\n# D:\\Programmi\\Anaconda3\\lib\\site-packages\\ipykernel_launcher.py:2: UserWarning: Boolean Series key will be reindexed to match DataFrame index.\n\n# Aggiungo una strada alternativa senza warning\n# Marco\n\nWmask_1617 = ((df_atp.Winner == 'Federer R.') & (df_atp[\"Date\"] >= \"2016\")& (df_atp[\"Date\"] <= \"2018\"))\nLmask_1617 = ((df_atp.Loser == 'Federer R.') & (df_atp[\"Date\"] >= \"2016\") & (df_atp[\"Date\"] <= \"2018\"))\n\nWsets2 = df_atp[Wmask_1617].Wsets.sum()\nLsets2 = df_atp[Lmask_1617].Lsets.sum()\n\nprint(f'Nel 2016 e nel 2017 Federer R. ha vinto {int(Wsets2 + Lsets2)} set')",
   "execution_count": null,
   "outputs": []
  },
  {
   "cell_type": "code",
   "metadata": {
    "cell_id": "2ecbcff71c494b4bbc80aca2135450ba",
    "tags": [],
    "deepnote_to_be_reexecuted": true,
    "source_hash": "7307f7d9",
    "deepnote_cell_type": "code"
   },
   "source": "#4) Quarto Quesito Matteo\nimport numpy as np\n\nl =[]\nfor index, row in df_atp.iterrows():\n    cut = df_atp.iloc[:index][\"Winner\"]\n    cut2 = df_atp.iloc[:index][\"Loser\"]\n    count = cut[df_atp[\"Winner\"] == row[\"Winner\"]].count()\n    count2 = cut[df_atp[\"Loser\"] == row[\"Loser\"]].count()\n    val = count/(count + count2)\n    l.append(val)\n\nlarray = np.array(l)\nlarray = np.round(larray*100,2)\n\ndf_atp[\"PercW\"] = larray\ndf_atp.tail()",
   "execution_count": null,
   "outputs": []
  },
  {
   "cell_type": "markdown",
   "source": "Quinto quesito - Pseudocode\n\n1) ottenere lista di tutti i giocatori. NB: ci sono tanti giocatori che non hanno vinto nemmeno una partita. Valutare se vale la pena considerarli o meno.\n\n2) trovare lista età giocatori\n\n3) decidere se concentrarsi su un singolo anno o se trovare un modo per aumentare l'età dei giocatori ad ogni anno successivo\n\n4) Uniformare Winner (e Loser) al df con giocatore/età e creare in df_atp colonna Winner_age\n\n5) creare tre maschere per Winner_age nei tre gruppi di età e fare df_atp.count() per sapere quante vittorie ci sono in ciascuna coorte e poi dividere per il totale dei match\n\nIn alternativa, come suggerito da Oscar, possiamo analizzare la correlazione fra tasso di vittorie e numero di partite giocate per ciascun giocatore unico.",
   "metadata": {
    "cell_id": "3afce81267b64772b178f9b715e235ad",
    "tags": [],
    "deepnote_cell_type": "markdown"
   }
  },
  {
   "cell_type": "code",
   "metadata": {
    "cell_id": "20802de1cdba4df2ac9ef7d72af17425",
    "tags": [],
    "deepnote_to_be_reexecuted": true,
    "source_hash": "7d037b10",
    "deepnote_cell_type": "code",
    "deepnote_cell_height": 333
   },
   "source": "#5a) esercizio 5, versione partite giocate Marco\n\n# step 1 creo un DF con index=nome giocatore, come colonne partite vinte e partite perse.\n\nes5 = df_atp[['Winner', 'Loser']].apply(pd.Series.value_counts)\n\n# step 2 sostituisco i NaN con0\nes5.fillna(0, inplace=True)\n\n# step 3 aggiungo le colonne Total_games e Winrate\nes5['Total_games'] = es5.Winner + es5.Loser\nes5['Winrate'] = es5.Winner / es5.Total_games\n\n#per estetica converto Winrate in percentuale, ma crea problemi per il test di correlazione, quindi lo lascio solo come commento\n#es5['Winrate'] = es5['Winrate'].astype(float).map(\"{:.2%}\".format)",
   "execution_count": null,
   "outputs": []
  },
  {
   "cell_type": "code",
   "metadata": {
    "cell_id": "6b39a028e34648968a746dec4b3add5f",
    "tags": [],
    "deepnote_to_be_reexecuted": true,
    "source_hash": "527df6f3",
    "deepnote_cell_type": "code",
    "deepnote_cell_height": 99
   },
   "source": "# ordino il df per numero di partite giocate\nes5.sort_values('Total_games', ascending=False)",
   "execution_count": null,
   "outputs": []
  },
  {
   "cell_type": "code",
   "metadata": {
    "cell_id": "edd0ff22e2914418b043b4af578a6f5a",
    "tags": [],
    "deepnote_to_be_reexecuted": true,
    "source_hash": "1f601fb2",
    "deepnote_cell_type": "code",
    "deepnote_cell_height": 99
   },
   "source": "#testo la correlazione fra Total_games e Winrate\nes5[[\"Total_games\", \"Winrate\"]].corr()",
   "execution_count": null,
   "outputs": []
  },
  {
   "cell_type": "code",
   "metadata": {
    "cell_id": "9fd5c9dee2b94a23a3380434f487e429",
    "tags": [],
    "deepnote_to_be_reexecuted": true,
    "source_hash": "d8bb57ce",
    "owner_user_id": "47b37cf1-c98e-4e40-a7ee-f75642bfd681",
    "deepnote_cell_type": "code",
    "deepnote_cell_height": 135
   },
   "source": "#Aggiunta grafica Matteo\nimport matplotlib.pyplot as plt\nimport seaborn as sns\nsns.regplot(x=es5[\"Total_games\"],y=es5[\"Winrate\"])",
   "execution_count": null,
   "outputs": []
  },
  {
   "cell_type": "code",
   "metadata": {
    "cell_id": "2013ee97309d4a9e95ebe9c1453fdc9f",
    "tags": [],
    "deepnote_to_be_reexecuted": true,
    "source_hash": "f0e86d92",
    "deepnote_cell_type": "code",
    "deepnote_cell_height": 225
   },
   "source": "#6) esercizio 6, come cambia fra maschile e femminile?\n\n# replico quanto fatto sopra per df_wta\nes6 = df_wta[['Winner', 'Loser']].apply(pd.Series.value_counts)\nes6.fillna(0, inplace=True)\n\n#aggiungo Total_games e Winrate\nes6['Total_games'] = es6.Winner + es6.Loser\nes6['Winrate'] = es6.Winner / es6.Total_games",
   "execution_count": null,
   "outputs": []
  },
  {
   "cell_type": "code",
   "metadata": {
    "cell_id": "df969cfd01b44136b90bf014f1f5e09b",
    "tags": [],
    "deepnote_to_be_reexecuted": true,
    "source_hash": "2c76a4ac",
    "deepnote_cell_type": "code",
    "deepnote_cell_height": 99
   },
   "source": "#sorto per Total_games\nes6.sort_values('Winrate', ascending=False)",
   "execution_count": null,
   "outputs": []
  },
  {
   "cell_type": "code",
   "metadata": {
    "cell_id": "03322c57481a4210a1267b84180f12ce",
    "tags": [],
    "deepnote_to_be_reexecuted": true,
    "source_hash": "6f299610",
    "deepnote_cell_type": "code",
    "deepnote_cell_height": 117
   },
   "source": "# testo la correlazione fra numero partite giocate e winrate\n\nes6[[\"Total_games\", \"Winrate\"]].corr()",
   "execution_count": null,
   "outputs": []
  },
  {
   "cell_type": "markdown",
   "source": "Conclusioni:\n\nCorrelazione partite giocate>Winrate per gli uomini: 0.538895\n\nCorrelazione partite giocate>Winrate per le donne  : 0.570338\n\nOsserviamo una dinamica simile, anche se più accentuata per il circuto WTA.",
   "metadata": {
    "cell_id": "efcb48d4b87d4e9488726b3dfbe97324",
    "tags": [],
    "deepnote_cell_type": "markdown",
    "deepnote_cell_height": 161.5625
   }
  },
  {
   "cell_type": "code",
   "metadata": {
    "cell_id": "5bdfc5ad8bf2455c853cb0dc798015e6",
    "tags": [],
    "deepnote_to_be_reexecuted": true,
    "source_hash": "6ba93395",
    "execution_start": 1650906616785,
    "execution_millis": 0,
    "deepnote_cell_type": "code"
   },
   "source": "#5)\n#Matteo\n#QUESITO 5 SULLE ETA\natleti = pd.concat([df_atp[\"Winner\"],df_atp[\"Loser\"]]).unique()\n\ndate = []\ndate2 = []\nfor x in atleti:\n    row_data = df_atp[(df_atp[\"Winner\"] == x) | (df_atp[\"Loser\"] == x)].iloc[0]\n    row_data2 = df_atp[(df_atp[\"Winner\"] == x) | (df_atp[\"Loser\"] == x)].iloc[-1]\n    date.append(row_data[\"Date\"].year)\n    date2.append(row_data2[\"Date\"].year)\n\ndf_at = pd.DataFrame([atleti,date,date2], index = [\"Atleti\",\"Entrata\",\"Uscita\"]).transpose()\ndf_at[\"Attività\"] =  df_at[\"Uscita\"] - df_at[\"Entrata\"]\ndf_at[\"Et_Uscita\"] = 18 + df_at[\"Attività\"] \n# Supponendo che in media un professionista entri nella lega a 18 anni\ndf_at.head()",
   "execution_count": null,
   "outputs": []
  },
  {
   "cell_type": "code",
   "metadata": {
    "cell_id": "ea3fc71b66cc4aa187543b595f4d9c86",
    "tags": [],
    "deepnote_to_be_reexecuted": true,
    "source_hash": "ebaa5163",
    "deepnote_cell_type": "code"
   },
   "source": "#5b) Coninuo quesito 5 Matteo\n\n#Creo i contenitori delle varie classi\nv18 = []\nv23 = []\nv30 = []\ns18 = []\ns23 = []\ns30 = []\n\nfor index, row in df_atp.iterrows():\n    mask = np.array(df_at[df_at[\"Atleti\"] == row[\"Winner\"]][\"Entrata\"])\n    if row[\"Date\"].year > (mask + 15):\n        v30.append(1)\n    elif row[\"Date\"].year > (mask + 5):\n        v23.append(1)\n    else:\n        v18.append(1)\n\nfor index, row in df_atp.iterrows():\n    mask = np.array(df_at[df_at[\"Atleti\"] == row[\"Loser\"]][\"Entrata\"])\n    if row[\"Date\"].year > (mask + 15):\n        s30.append(1)\n    elif row[\"Date\"].year > (mask + 5):\n        s23.append(1)\n    else:\n        s18.append(1)\n\np18 = round((len(v18)/(len(v18)+len(s18)))*100,2)\np23 = round((len(v23)/(len(v23)+len(s23)))*100,2)\np30 = round((len(v30)/(len(v30)+len(s30)))*100,2)\nli = [p18,p23,p30]\nper_et =pd.DataFrame(li,index = [\"18-23\",\"24-30\",\"+30\"], columns = [\"PerW\"]).transpose()\nper_et.head()",
   "execution_count": null,
   "outputs": []
  },
  {
   "cell_type": "code",
   "metadata": {
    "cell_id": "ecbcdd50f2b6481ab8eadcb67e02556e",
    "tags": [],
    "deepnote_to_be_reexecuted": true,
    "source_hash": "bbc47382",
    "owner_user_id": "85ee03e4-dad8-4194-a83e-88396b92bc75",
    "deepnote_cell_type": "code"
   },
   "source": "#5b) Conintuo Quesito 5 Matteo\nimport matplotlib.pyplot as plt\nimport seaborn as sns\nplt.ylim(0, 100)\nsns.barplot(data=per_et).set(title='Percentuale di vittorie')",
   "execution_count": null,
   "outputs": []
  },
  {
   "cell_type": "code",
   "metadata": {
    "cell_id": "78993e4a7d8949df88f7f3366eba8756",
    "tags": [],
    "deepnote_to_be_reexecuted": true,
    "source_hash": "e2fff68d",
    "deepnote_cell_type": "code"
   },
   "source": "#5b) Continuo quesito 5 Matteo\nn_w = [len(v18), len(v23), len(v30)]\ntot_m = len(df_atp)\ndf_n_w = pd.DataFrame(n_w, index = [\"18-23\",\"24-30\",\"+30\"]).transpose()\nsns.barplot(data=df_n_w).set(title= f'Numero di vittorie su {tot_m} partite totali')",
   "execution_count": null,
   "outputs": []
  },
  {
   "cell_type": "code",
   "metadata": {
    "cell_id": "40ad6386352a40819689d9575d2d3855",
    "tags": [],
    "deepnote_cell_type": "code"
   },
   "source": "#AL) ANALISI LIBERA Matteo\ndf_atp.loc[:,[\"W1\",\"W2\",\"W3\",\"W4\"]]\ndf_atp[[\"W4\",\"W5\"]].info()\n\n# Probabilità di vincita del match se si vince il primo Set\n# UOMINI\ndf_3= df_atp[(df_atp[\"Best of\"] == 3) & (df_atp[\"Date\"] > \"2007\")]",
   "execution_count": null,
   "outputs": []
  },
  {
   "cell_type": "code",
   "metadata": {
    "cell_id": "a33144d0fd684008a63e30eb0de85c4a",
    "tags": [],
    "deepnote_cell_type": "code"
   },
   "source": "#AL) Continua analisi libera Matteo\ndf_3 = df_3.loc[:,[\"W1\",\"L1\",\"W2\",\"L2\",\"W3\",\"L3\"]]\nprint(len(df_3))\n",
   "execution_count": null,
   "outputs": []
  },
  {
   "cell_type": "code",
   "metadata": {
    "cell_id": "37f77692841346d08e74bb1eb09d62b2",
    "tags": [],
    "deepnote_cell_type": "code"
   },
   "source": "#AL) Continua analisi libera Matteo\npd.to_numeric(df_3[\"W1\"], errors=\"coerce\")\npd.to_numeric(df_3[\"L1\"], errors=\"coerce\")\n\ndf_3[\"S1\"] = df_3[\"W1\"] - df_3[\"L1\"]\nprint(len(df_3[\"S1\"]))",
   "execution_count": null,
   "outputs": []
  },
  {
   "cell_type": "code",
   "metadata": {
    "cell_id": "4a24564d4bdf49bf895edb00c565baee",
    "tags": [],
    "deepnote_cell_type": "code"
   },
   "source": "#AL) Continua analisi libera Matteo\nrisultato = df_3[df_3[\"S1\"] > 0][\"S1\"].count() / df_3[\"S1\"].count()\nrisultato *= 100\nrisultato = round(risultato,2)\nprint(risultato)",
   "execution_count": null,
   "outputs": []
  },
  {
   "cell_type": "code",
   "metadata": {
    "cell_id": "3196b5063f234bac8de48338d44cd304",
    "tags": [],
    "deepnote_cell_type": "code"
   },
   "source": "#AL) Contiua analisi libera Matteo\n### WOMEN\ndf_3w = df_wta[df_wta[\"Best of\"] == 3]\ndf_3w = df_3w.loc[:,[\"W1\",\"L1\",\"W2\",\"L2\",\"W3\",\"L3\"]]\nprint(len(df_3w))\n\npd.to_numeric(df_3w[\"W1\"], errors=\"coerce\")\npd.to_numeric(df_3w[\"L1\"], errors=\"coerce\")\n\ndf_3w[\"S1\"] = df_3w[\"W1\"] - df_3[\"L1\"]\nprint(len(df_3w[\"S1\"]))\n\nrisultato = df_3w[df_3w[\"S1\"] > 0][\"S1\"].count() / df_3w[\"S1\"].count()\nrisultato *= 100\nrisultato = round(risultato,2)\nprint(risultato)",
   "execution_count": null,
   "outputs": []
  },
  {
   "cell_type": "markdown",
   "source": "<a style='text-decoration:none;line-height:16px;display:flex;color:#5B5B62;padding:10px;justify-content:end;' href='https://deepnote.com?utm_source=created-in-deepnote-cell&projectId=60202df1-a228-4944-a29e-03f89410db05' target=\"_blank\">\n<img alt='Created in deepnote.com' style='display:inline;max-height:16px;margin:0px;margin-right:7.5px;' src='data:image/svg+xml;base64,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' > </img>\nCreated in <span style='font-weight:600;margin-left:4px;'>Deepnote</span></a>",
   "metadata": {
    "tags": [],
    "created_in_deepnote_cell": true,
    "deepnote_cell_type": "markdown"
   }
  }
 ],
 "nbformat": 4,
 "nbformat_minor": 2,
 "metadata": {
  "language_info": {
   "name": "python"
  },
  "orig_nbformat": 4,
  "deepnote_notebook_id": "149acd0e-4020-440b-bb98-af9acc690414",
  "deepnote": {},
  "deepnote_execution_queue": []
 }
}