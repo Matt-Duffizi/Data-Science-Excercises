{
 "cells": [
  {
   "cell_type": "code",
   "metadata": {
    "tags": [],
    "cell_id": "98f54042-f530-4f57-ba13-7d18232a61b0",
    "deepnote_to_be_reexecuted": false,
    "source_hash": "e7a1add9",
    "execution_start": 1658944020479,
    "execution_millis": 2284,
    "deepnote_cell_type": "code",
    "deepnote_cell_height": 315
   },
   "source": "# Start writing code h# Import libraries\nimport pandas as pd\nimport numpy as np\nimport copy\n\nimport matplotlib.pyplot as plt\nimport matplotlib.cm as cm\n\nfrom sklearn import datasets\nfrom sklearn.cluster import KMeans, SpectralClustering, MiniBatchKMeans\nfrom sklearn.metrics import silhouette_samples, silhouette_score, accuracy_score, confusion_matrix\nfrom sklearn.utils.multiclass import unique_labels\nfrom sklearn.preprocessing import StandardScaler\nimport seaborn as sns",
   "execution_count": 1,
   "outputs": []
  },
  {
   "cell_type": "code",
   "metadata": {
    "cell_id": "6ccd8b1c745043cbaca6244d7d1cd760",
    "tags": [],
    "deepnote_to_be_reexecuted": false,
    "source_hash": "1f775ae7",
    "execution_start": 1658944022765,
    "execution_millis": 200,
    "deepnote_cell_type": "code",
    "deepnote_cell_height": 466
   },
   "source": "file = 'https://raw.githubusercontent.com/andreduong-zz/credit-card-clustering/master/CC%20GENERAL.csv'\ndf = pd.read_csv(file)\n\ndf.head()",
   "execution_count": 2,
   "outputs": [
    {
     "output_type": "execute_result",
     "execution_count": 2,
     "data": {
      "application/vnd.deepnote.dataframe.v3+json": {
       "column_count": 18,
       "row_count": 5,
       "columns": [
        {
         "name": "CUST_ID",
         "dtype": "object",
         "stats": {
          "unique_count": 5,
          "nan_count": 0,
          "categories": [
           {
            "name": "C10001",
            "count": 1
           },
           {
            "name": "C10002",
            "count": 1
           },
           {
            "name": "3 others",
            "count": 3
           }
          ]
         }
        },
        {
         "name": "BALANCE",
         "dtype": "float64",
         "stats": {
          "unique_count": 5,
          "nan_count": 0,
          "min": "40.900749",
          "max": "3202.467416",
          "histogram": [
           {
            "bin_start": 40.900749,
            "bin_end": 357.05741570000004,
            "count": 1
           },
           {
            "bin_start": 357.05741570000004,
            "bin_end": 673.2140824,
            "count": 0
           },
           {
            "bin_start": 673.2140824,
            "bin_end": 989.3707491000001,
            "count": 1
           },
           {
            "bin_start": 989.3707491000001,
            "bin_end": 1305.5274158,
            "count": 0
           },
           {
            "bin_start": 1305.5274158,
            "bin_end": 1621.6840825,
            "count": 0
           },
           {
            "bin_start": 1621.6840825,
            "bin_end": 1937.8407492000001,
            "count": 1
           },
           {
            "bin_start": 1937.8407492000001,
            "bin_end": 2253.9974159,
            "count": 0
           },
           {
            "bin_start": 2253.9974159,
            "bin_end": 2570.1540826,
            "count": 1
           },
           {
            "bin_start": 2570.1540826,
            "bin_end": 2886.3107493,
            "count": 0
           },
           {
            "bin_start": 2886.3107493,
            "bin_end": 3202.467416,
            "count": 1
           }
          ]
         }
        },
        {
         "name": "BALANCE_FREQUENCY",
         "dtype": "float64",
         "stats": {
          "unique_count": 4,
          "nan_count": 0,
          "min": "0.636364",
          "max": "1.0",
          "histogram": [
           {
            "bin_start": 0.636364,
            "bin_end": 0.6727276,
            "count": 1
           },
           {
            "bin_start": 0.6727276,
            "bin_end": 0.7090912,
            "count": 0
           },
           {
            "bin_start": 0.7090912,
            "bin_end": 0.7454548000000001,
            "count": 0
           },
           {
            "bin_start": 0.7454548000000001,
            "bin_end": 0.7818184,
            "count": 0
           },
           {
            "bin_start": 0.7818184,
            "bin_end": 0.818182,
            "count": 0
           },
           {
            "bin_start": 0.818182,
            "bin_end": 0.8545456,
            "count": 1
           },
           {
            "bin_start": 0.8545456,
            "bin_end": 0.8909092000000001,
            "count": 0
           },
           {
            "bin_start": 0.8909092000000001,
            "bin_end": 0.9272728,
            "count": 1
           },
           {
            "bin_start": 0.9272728,
            "bin_end": 0.9636364,
            "count": 0
           },
           {
            "bin_start": 0.9636364,
            "bin_end": 1,
            "count": 2
           }
          ]
         }
        },
        {
         "name": "PURCHASES",
         "dtype": "float64",
         "stats": {
          "unique_count": 5,
          "nan_count": 0,
          "min": "0.0",
          "max": "1499.0",
          "histogram": [
           {
            "bin_start": 0,
            "bin_end": 149.9,
            "count": 3
           },
           {
            "bin_start": 149.9,
            "bin_end": 299.8,
            "count": 0
           },
           {
            "bin_start": 299.8,
            "bin_end": 449.70000000000005,
            "count": 0
           },
           {
            "bin_start": 449.70000000000005,
            "bin_end": 599.6,
            "count": 0
           },
           {
            "bin_start": 599.6,
            "bin_end": 749.5,
            "count": 0
           },
           {
            "bin_start": 749.5,
            "bin_end": 899.4000000000001,
            "count": 1
           },
           {
            "bin_start": 899.4000000000001,
            "bin_end": 1049.3,
            "count": 0
           },
           {
            "bin_start": 1049.3,
            "bin_end": 1199.2,
            "count": 0
           },
           {
            "bin_start": 1199.2,
            "bin_end": 1349.1000000000001,
            "count": 0
           },
           {
            "bin_start": 1349.1000000000001,
            "bin_end": 1499,
            "count": 1
           }
          ]
         }
        },
        {
         "name": "ONEOFF_PURCHASES",
         "dtype": "float64",
         "stats": {
          "unique_count": 4,
          "nan_count": 0,
          "min": "0.0",
          "max": "1499.0",
          "histogram": [
           {
            "bin_start": 0,
            "bin_end": 149.9,
            "count": 3
           },
           {
            "bin_start": 149.9,
            "bin_end": 299.8,
            "count": 0
           },
           {
            "bin_start": 299.8,
            "bin_end": 449.70000000000005,
            "count": 0
           },
           {
            "bin_start": 449.70000000000005,
            "bin_end": 599.6,
            "count": 0
           },
           {
            "bin_start": 599.6,
            "bin_end": 749.5,
            "count": 0
           },
           {
            "bin_start": 749.5,
            "bin_end": 899.4000000000001,
            "count": 1
           },
           {
            "bin_start": 899.4000000000001,
            "bin_end": 1049.3,
            "count": 0
           },
           {
            "bin_start": 1049.3,
            "bin_end": 1199.2,
            "count": 0
           },
           {
            "bin_start": 1199.2,
            "bin_end": 1349.1000000000001,
            "count": 0
           },
           {
            "bin_start": 1349.1000000000001,
            "bin_end": 1499,
            "count": 1
           }
          ]
         }
        },
        {
         "name": "INSTALLMENTS_PURCHASES",
         "dtype": "float64",
         "stats": {
          "unique_count": 2,
          "nan_count": 0,
          "min": "0.0",
          "max": "95.4",
          "histogram": [
           {
            "bin_start": 0,
            "bin_end": 9.540000000000001,
            "count": 4
           },
           {
            "bin_start": 9.540000000000001,
            "bin_end": 19.080000000000002,
            "count": 0
           },
           {
            "bin_start": 19.080000000000002,
            "bin_end": 28.620000000000005,
            "count": 0
           },
           {
            "bin_start": 28.620000000000005,
            "bin_end": 38.160000000000004,
            "count": 0
           },
           {
            "bin_start": 38.160000000000004,
            "bin_end": 47.7,
            "count": 0
           },
           {
            "bin_start": 47.7,
            "bin_end": 57.24000000000001,
            "count": 0
           },
           {
            "bin_start": 57.24000000000001,
            "bin_end": 66.78,
            "count": 0
           },
           {
            "bin_start": 66.78,
            "bin_end": 76.32000000000001,
            "count": 0
           },
           {
            "bin_start": 76.32000000000001,
            "bin_end": 85.86000000000001,
            "count": 0
           },
           {
            "bin_start": 85.86000000000001,
            "bin_end": 95.4,
            "count": 1
           }
          ]
         }
        },
        {
         "name": "CASH_ADVANCE",
         "dtype": "float64",
         "stats": {
          "unique_count": 3,
          "nan_count": 0,
          "min": "0.0",
          "max": "6442.945483",
          "histogram": [
           {
            "bin_start": 0,
            "bin_end": 644.2945483000001,
            "count": 4
           },
           {
            "bin_start": 644.2945483000001,
            "bin_end": 1288.5890966000002,
            "count": 0
           },
           {
            "bin_start": 1288.5890966000002,
            "bin_end": 1932.8836449000003,
            "count": 0
           },
           {
            "bin_start": 1932.8836449000003,
            "bin_end": 2577.1781932000004,
            "count": 0
           },
           {
            "bin_start": 2577.1781932000004,
            "bin_end": 3221.4727415000007,
            "count": 0
           },
           {
            "bin_start": 3221.4727415000007,
            "bin_end": 3865.7672898000005,
            "count": 0
           },
           {
            "bin_start": 3865.7672898000005,
            "bin_end": 4510.0618381,
            "count": 0
           },
           {
            "bin_start": 4510.0618381,
            "bin_end": 5154.356386400001,
            "count": 0
           },
           {
            "bin_start": 5154.356386400001,
            "bin_end": 5798.650934700001,
            "count": 0
           },
           {
            "bin_start": 5798.650934700001,
            "bin_end": 6442.945483,
            "count": 1
           }
          ]
         }
        },
        {
         "name": "PURCHASES_FREQUENCY",
         "dtype": "float64",
         "stats": {
          "unique_count": 4,
          "nan_count": 0,
          "min": "0.0",
          "max": "1.0",
          "histogram": [
           {
            "bin_start": 0,
            "bin_end": 0.1,
            "count": 3
           },
           {
            "bin_start": 0.1,
            "bin_end": 0.2,
            "count": 1
           },
           {
            "bin_start": 0.2,
            "bin_end": 0.30000000000000004,
            "count": 0
           },
           {
            "bin_start": 0.30000000000000004,
            "bin_end": 0.4,
            "count": 0
           },
           {
            "bin_start": 0.4,
            "bin_end": 0.5,
            "count": 0
           },
           {
            "bin_start": 0.5,
            "bin_end": 0.6000000000000001,
            "count": 0
           },
           {
            "bin_start": 0.6000000000000001,
            "bin_end": 0.7000000000000001,
            "count": 0
           },
           {
            "bin_start": 0.7000000000000001,
            "bin_end": 0.8,
            "count": 0
           },
           {
            "bin_start": 0.8,
            "bin_end": 0.9,
            "count": 0
           },
           {
            "bin_start": 0.9,
            "bin_end": 1,
            "count": 1
           }
          ]
         }
        },
        {
         "name": "ONEOFF_PURCHASES_FREQUENCY",
         "dtype": "float64",
         "stats": {
          "unique_count": 3,
          "nan_count": 0,
          "min": "0.0",
          "max": "1.0",
          "histogram": [
           {
            "bin_start": 0,
            "bin_end": 0.1,
            "count": 4
           },
           {
            "bin_start": 0.1,
            "bin_end": 0.2,
            "count": 0
           },
           {
            "bin_start": 0.2,
            "bin_end": 0.30000000000000004,
            "count": 0
           },
           {
            "bin_start": 0.30000000000000004,
            "bin_end": 0.4,
            "count": 0
           },
           {
            "bin_start": 0.4,
            "bin_end": 0.5,
            "count": 0
           },
           {
            "bin_start": 0.5,
            "bin_end": 0.6000000000000001,
            "count": 0
           },
           {
            "bin_start": 0.6000000000000001,
            "bin_end": 0.7000000000000001,
            "count": 0
           },
           {
            "bin_start": 0.7000000000000001,
            "bin_end": 0.8,
            "count": 0
           },
           {
            "bin_start": 0.8,
            "bin_end": 0.9,
            "count": 0
           },
           {
            "bin_start": 0.9,
            "bin_end": 1,
            "count": 1
           }
          ]
         }
        },
        {
         "name": "PURCHASES_INSTALLMENTS_FREQUENCY",
         "dtype": "float64",
         "stats": {
          "unique_count": 2,
          "nan_count": 0,
          "min": "0.0",
          "max": "0.083333",
          "histogram": [
           {
            "bin_start": 0,
            "bin_end": 0.0083333,
            "count": 4
           },
           {
            "bin_start": 0.0083333,
            "bin_end": 0.0166666,
            "count": 0
           },
           {
            "bin_start": 0.0166666,
            "bin_end": 0.0249999,
            "count": 0
           },
           {
            "bin_start": 0.0249999,
            "bin_end": 0.0333332,
            "count": 0
           },
           {
            "bin_start": 0.0333332,
            "bin_end": 0.0416665,
            "count": 0
           },
           {
            "bin_start": 0.0416665,
            "bin_end": 0.0499998,
            "count": 0
           },
           {
            "bin_start": 0.0499998,
            "bin_end": 0.0583331,
            "count": 0
           },
           {
            "bin_start": 0.0583331,
            "bin_end": 0.0666664,
            "count": 0
           },
           {
            "bin_start": 0.0666664,
            "bin_end": 0.0749997,
            "count": 0
           },
           {
            "bin_start": 0.0749997,
            "bin_end": 0.083333,
            "count": 1
           }
          ]
         }
        },
        {
         "name": "CASH_ADVANCE_FREQUENCY",
         "dtype": "float64",
         "stats": {
          "unique_count": 3,
          "nan_count": 0,
          "min": "0.0",
          "max": "0.25",
          "histogram": [
           {
            "bin_start": 0,
            "bin_end": 0.025,
            "count": 3
           },
           {
            "bin_start": 0.025,
            "bin_end": 0.05,
            "count": 0
           },
           {
            "bin_start": 0.05,
            "bin_end": 0.07500000000000001,
            "count": 0
           },
           {
            "bin_start": 0.07500000000000001,
            "bin_end": 0.1,
            "count": 1
           },
           {
            "bin_start": 0.1,
            "bin_end": 0.125,
            "count": 0
           },
           {
            "bin_start": 0.125,
            "bin_end": 0.15000000000000002,
            "count": 0
           },
           {
            "bin_start": 0.15000000000000002,
            "bin_end": 0.17500000000000002,
            "count": 0
           },
           {
            "bin_start": 0.17500000000000002,
            "bin_end": 0.2,
            "count": 0
           },
           {
            "bin_start": 0.2,
            "bin_end": 0.225,
            "count": 0
           },
           {
            "bin_start": 0.225,
            "bin_end": 0.25,
            "count": 1
           }
          ]
         }
        },
        {
         "name": "CASH_ADVANCE_TRX",
         "dtype": "int64",
         "stats": {
          "unique_count": 3,
          "nan_count": 0,
          "min": "0",
          "max": "4",
          "histogram": [
           {
            "bin_start": 0,
            "bin_end": 0.4,
            "count": 3
           },
           {
            "bin_start": 0.4,
            "bin_end": 0.8,
            "count": 0
           },
           {
            "bin_start": 0.8,
            "bin_end": 1.2000000000000002,
            "count": 1
           },
           {
            "bin_start": 1.2000000000000002,
            "bin_end": 1.6,
            "count": 0
           },
           {
            "bin_start": 1.6,
            "bin_end": 2,
            "count": 0
           },
           {
            "bin_start": 2,
            "bin_end": 2.4000000000000004,
            "count": 0
           },
           {
            "bin_start": 2.4000000000000004,
            "bin_end": 2.8000000000000003,
            "count": 0
           },
           {
            "bin_start": 2.8000000000000003,
            "bin_end": 3.2,
            "count": 0
           },
           {
            "bin_start": 3.2,
            "bin_end": 3.6,
            "count": 0
           },
           {
            "bin_start": 3.6,
            "bin_end": 4,
            "count": 1
           }
          ]
         }
        },
        {
         "name": "PURCHASES_TRX",
         "dtype": "int64",
         "stats": {
          "unique_count": 4,
          "nan_count": 0,
          "min": "0",
          "max": "12",
          "histogram": [
           {
            "bin_start": 0,
            "bin_end": 1.2,
            "count": 3
           },
           {
            "bin_start": 1.2,
            "bin_end": 2.4,
            "count": 1
           },
           {
            "bin_start": 2.4,
            "bin_end": 3.5999999999999996,
            "count": 0
           },
           {
            "bin_start": 3.5999999999999996,
            "bin_end": 4.8,
            "count": 0
           },
           {
            "bin_start": 4.8,
            "bin_end": 6,
            "count": 0
           },
           {
            "bin_start": 6,
            "bin_end": 7.199999999999999,
            "count": 0
           },
           {
            "bin_start": 7.199999999999999,
            "bin_end": 8.4,
            "count": 0
           },
           {
            "bin_start": 8.4,
            "bin_end": 9.6,
            "count": 0
           },
           {
            "bin_start": 9.6,
            "bin_end": 10.799999999999999,
            "count": 0
           },
           {
            "bin_start": 10.799999999999999,
            "bin_end": 12,
            "count": 1
           }
          ]
         }
        },
        {
         "name": "CREDIT_LIMIT",
         "dtype": "float64",
         "stats": {
          "unique_count": 4,
          "nan_count": 0,
          "min": "1000.0",
          "max": "7500.0",
          "histogram": [
           {
            "bin_start": 1000,
            "bin_end": 1650,
            "count": 2
           },
           {
            "bin_start": 1650,
            "bin_end": 2300,
            "count": 0
           },
           {
            "bin_start": 2300,
            "bin_end": 2950,
            "count": 0
           },
           {
            "bin_start": 2950,
            "bin_end": 3600,
            "count": 0
           },
           {
            "bin_start": 3600,
            "bin_end": 4250,
            "count": 0
           },
           {
            "bin_start": 4250,
            "bin_end": 4900,
            "count": 0
           },
           {
            "bin_start": 4900,
            "bin_end": 5550,
            "count": 0
           },
           {
            "bin_start": 5550,
            "bin_end": 6200,
            "count": 0
           },
           {
            "bin_start": 6200,
            "bin_end": 6850,
            "count": 0
           },
           {
            "bin_start": 6850,
            "bin_end": 7500,
            "count": 3
           }
          ]
         }
        },
        {
         "name": "PAYMENTS",
         "dtype": "float64",
         "stats": {
          "unique_count": 5,
          "nan_count": 0,
          "min": "0.0",
          "max": "4103.032597",
          "histogram": [
           {
            "bin_start": 0,
            "bin_end": 410.3032597,
            "count": 2
           },
           {
            "bin_start": 410.3032597,
            "bin_end": 820.6065194,
            "count": 2
           },
           {
            "bin_start": 820.6065194,
            "bin_end": 1230.9097791,
            "count": 0
           },
           {
            "bin_start": 1230.9097791,
            "bin_end": 1641.2130388,
            "count": 0
           },
           {
            "bin_start": 1641.2130388,
            "bin_end": 2051.5162985,
            "count": 0
           },
           {
            "bin_start": 2051.5162985,
            "bin_end": 2461.8195582,
            "count": 0
           },
           {
            "bin_start": 2461.8195582,
            "bin_end": 2872.1228179,
            "count": 0
           },
           {
            "bin_start": 2872.1228179,
            "bin_end": 3282.4260776,
            "count": 0
           },
           {
            "bin_start": 3282.4260776,
            "bin_end": 3692.7293373,
            "count": 0
           },
           {
            "bin_start": 3692.7293373,
            "bin_end": 4103.032597,
            "count": 1
           }
          ]
         }
        },
        {
         "name": "MINIMUM_PAYMENTS",
         "dtype": "float64",
         "stats": {
          "unique_count": 4,
          "nan_count": 1,
          "min": "139.509787",
          "max": "1072.340217",
          "histogram": [
           {
            "bin_start": 139.509787,
            "bin_end": 232.79282999999998,
            "count": 1
           },
           {
            "bin_start": 232.79282999999998,
            "bin_end": 326.075873,
            "count": 1
           },
           {
            "bin_start": 326.075873,
            "bin_end": 419.3589159999999,
            "count": 0
           },
           {
            "bin_start": 419.3589159999999,
            "bin_end": 512.6419589999999,
            "count": 0
           },
           {
            "bin_start": 512.6419589999999,
            "bin_end": 605.925002,
            "count": 0
           },
           {
            "bin_start": 605.925002,
            "bin_end": 699.2080449999999,
            "count": 1
           },
           {
            "bin_start": 699.2080449999999,
            "bin_end": 792.4910879999999,
            "count": 0
           },
           {
            "bin_start": 792.4910879999999,
            "bin_end": 885.7741309999999,
            "count": 0
           },
           {
            "bin_start": 885.7741309999999,
            "bin_end": 979.0571739999999,
            "count": 0
           },
           {
            "bin_start": 979.0571739999999,
            "bin_end": 1072.340217,
            "count": 1
           }
          ]
         }
        },
        {
         "name": "PRC_FULL_PAYMENT",
         "dtype": "float64",
         "stats": {
          "unique_count": 2,
          "nan_count": 0,
          "min": "0.0",
          "max": "0.222222",
          "histogram": [
           {
            "bin_start": 0,
            "bin_end": 0.0222222,
            "count": 4
           },
           {
            "bin_start": 0.0222222,
            "bin_end": 0.0444444,
            "count": 0
           },
           {
            "bin_start": 0.0444444,
            "bin_end": 0.0666666,
            "count": 0
           },
           {
            "bin_start": 0.0666666,
            "bin_end": 0.0888888,
            "count": 0
           },
           {
            "bin_start": 0.0888888,
            "bin_end": 0.111111,
            "count": 0
           },
           {
            "bin_start": 0.111111,
            "bin_end": 0.1333332,
            "count": 0
           },
           {
            "bin_start": 0.1333332,
            "bin_end": 0.1555554,
            "count": 0
           },
           {
            "bin_start": 0.1555554,
            "bin_end": 0.1777776,
            "count": 0
           },
           {
            "bin_start": 0.1777776,
            "bin_end": 0.1999998,
            "count": 0
           },
           {
            "bin_start": 0.1999998,
            "bin_end": 0.222222,
            "count": 1
           }
          ]
         }
        },
        {
         "name": "TENURE",
         "dtype": "int64",
         "stats": {
          "unique_count": 1,
          "nan_count": 0,
          "min": "12",
          "max": "12",
          "histogram": [
           {
            "bin_start": 11.5,
            "bin_end": 11.6,
            "count": 0
           },
           {
            "bin_start": 11.6,
            "bin_end": 11.7,
            "count": 0
           },
           {
            "bin_start": 11.7,
            "bin_end": 11.8,
            "count": 0
           },
           {
            "bin_start": 11.8,
            "bin_end": 11.9,
            "count": 0
           },
           {
            "bin_start": 11.9,
            "bin_end": 12,
            "count": 0
           },
           {
            "bin_start": 12,
            "bin_end": 12.1,
            "count": 5
           },
           {
            "bin_start": 12.1,
            "bin_end": 12.2,
            "count": 0
           },
           {
            "bin_start": 12.2,
            "bin_end": 12.3,
            "count": 0
           },
           {
            "bin_start": 12.3,
            "bin_end": 12.4,
            "count": 0
           },
           {
            "bin_start": 12.4,
            "bin_end": 12.5,
            "count": 0
           }
          ]
         }
        },
        {
         "name": "_deepnote_index_column",
         "dtype": "int64"
        }
       ],
       "rows": [
        {
         "CUST_ID": "C10001",
         "BALANCE": 40.900749,
         "BALANCE_FREQUENCY": 0.818182,
         "PURCHASES": 95.4,
         "ONEOFF_PURCHASES": 0,
         "INSTALLMENTS_PURCHASES": 95.4,
         "CASH_ADVANCE": 0,
         "PURCHASES_FREQUENCY": 0.166667,
         "ONEOFF_PURCHASES_FREQUENCY": 0,
         "PURCHASES_INSTALLMENTS_FREQUENCY": 0.083333,
         "CASH_ADVANCE_FREQUENCY": 0,
         "CASH_ADVANCE_TRX": 0,
         "PURCHASES_TRX": 2,
         "CREDIT_LIMIT": 1000,
         "PAYMENTS": 201.802084,
         "MINIMUM_PAYMENTS": 139.509787,
         "PRC_FULL_PAYMENT": 0,
         "TENURE": 12,
         "_deepnote_index_column": 0
        },
        {
         "CUST_ID": "C10002",
         "BALANCE": 3202.467416,
         "BALANCE_FREQUENCY": 0.909091,
         "PURCHASES": 0,
         "ONEOFF_PURCHASES": 0,
         "INSTALLMENTS_PURCHASES": 0,
         "CASH_ADVANCE": 6442.945483,
         "PURCHASES_FREQUENCY": 0,
         "ONEOFF_PURCHASES_FREQUENCY": 0,
         "PURCHASES_INSTALLMENTS_FREQUENCY": 0,
         "CASH_ADVANCE_FREQUENCY": 0.25,
         "CASH_ADVANCE_TRX": 4,
         "PURCHASES_TRX": 0,
         "CREDIT_LIMIT": 7000,
         "PAYMENTS": 4103.032597,
         "MINIMUM_PAYMENTS": 1072.340217,
         "PRC_FULL_PAYMENT": 0.222222,
         "TENURE": 12,
         "_deepnote_index_column": 1
        },
        {
         "CUST_ID": "C10003",
         "BALANCE": 2495.148862,
         "BALANCE_FREQUENCY": 1,
         "PURCHASES": 773.17,
         "ONEOFF_PURCHASES": 773.17,
         "INSTALLMENTS_PURCHASES": 0,
         "CASH_ADVANCE": 0,
         "PURCHASES_FREQUENCY": 1,
         "ONEOFF_PURCHASES_FREQUENCY": 1,
         "PURCHASES_INSTALLMENTS_FREQUENCY": 0,
         "CASH_ADVANCE_FREQUENCY": 0,
         "CASH_ADVANCE_TRX": 0,
         "PURCHASES_TRX": 12,
         "CREDIT_LIMIT": 7500,
         "PAYMENTS": 622.066742,
         "MINIMUM_PAYMENTS": 627.284787,
         "PRC_FULL_PAYMENT": 0,
         "TENURE": 12,
         "_deepnote_index_column": 2
        },
        {
         "CUST_ID": "C10004",
         "BALANCE": 1666.670542,
         "BALANCE_FREQUENCY": 0.636364,
         "PURCHASES": 1499,
         "ONEOFF_PURCHASES": 1499,
         "INSTALLMENTS_PURCHASES": 0,
         "CASH_ADVANCE": 205.788017,
         "PURCHASES_FREQUENCY": 0.083333,
         "ONEOFF_PURCHASES_FREQUENCY": 0.083333,
         "PURCHASES_INSTALLMENTS_FREQUENCY": 0,
         "CASH_ADVANCE_FREQUENCY": 0.083333,
         "CASH_ADVANCE_TRX": 1,
         "PURCHASES_TRX": 1,
         "CREDIT_LIMIT": 7500,
         "PAYMENTS": 0,
         "MINIMUM_PAYMENTS": "nan",
         "PRC_FULL_PAYMENT": 0,
         "TENURE": 12,
         "_deepnote_index_column": 3
        },
        {
         "CUST_ID": "C10005",
         "BALANCE": 817.714335,
         "BALANCE_FREQUENCY": 1,
         "PURCHASES": 16,
         "ONEOFF_PURCHASES": 16,
         "INSTALLMENTS_PURCHASES": 0,
         "CASH_ADVANCE": 0,
         "PURCHASES_FREQUENCY": 0.083333,
         "ONEOFF_PURCHASES_FREQUENCY": 0.083333,
         "PURCHASES_INSTALLMENTS_FREQUENCY": 0,
         "CASH_ADVANCE_FREQUENCY": 0,
         "CASH_ADVANCE_TRX": 0,
         "PURCHASES_TRX": 1,
         "CREDIT_LIMIT": 1200,
         "PAYMENTS": 678.334763,
         "MINIMUM_PAYMENTS": 244.791237,
         "PRC_FULL_PAYMENT": 0,
         "TENURE": 12,
         "_deepnote_index_column": 4
        }
       ]
      },
      "text/plain": "  CUST_ID      BALANCE  BALANCE_FREQUENCY  PURCHASES  ONEOFF_PURCHASES  \\\n0  C10001    40.900749           0.818182      95.40              0.00   \n1  C10002  3202.467416           0.909091       0.00              0.00   \n2  C10003  2495.148862           1.000000     773.17            773.17   \n3  C10004  1666.670542           0.636364    1499.00           1499.00   \n4  C10005   817.714335           1.000000      16.00             16.00   \n\n   INSTALLMENTS_PURCHASES  CASH_ADVANCE  PURCHASES_FREQUENCY  \\\n0                    95.4      0.000000             0.166667   \n1                     0.0   6442.945483             0.000000   \n2                     0.0      0.000000             1.000000   \n3                     0.0    205.788017             0.083333   \n4                     0.0      0.000000             0.083333   \n\n   ONEOFF_PURCHASES_FREQUENCY  PURCHASES_INSTALLMENTS_FREQUENCY  \\\n0                    0.000000                          0.083333   \n1                    0.000000                          0.000000   \n2                    1.000000                          0.000000   \n3                    0.083333                          0.000000   \n4                    0.083333                          0.000000   \n\n   CASH_ADVANCE_FREQUENCY  CASH_ADVANCE_TRX  PURCHASES_TRX  CREDIT_LIMIT  \\\n0                0.000000                 0              2        1000.0   \n1                0.250000                 4              0        7000.0   \n2                0.000000                 0             12        7500.0   \n3                0.083333                 1              1        7500.0   \n4                0.000000                 0              1        1200.0   \n\n      PAYMENTS  MINIMUM_PAYMENTS  PRC_FULL_PAYMENT  TENURE  \n0   201.802084        139.509787          0.000000      12  \n1  4103.032597       1072.340217          0.222222      12  \n2   622.066742        627.284787          0.000000      12  \n3     0.000000               NaN          0.000000      12  \n4   678.334763        244.791237          0.000000      12  ",
      "text/html": "<div>\n<style scoped>\n    .dataframe tbody tr th:only-of-type {\n        vertical-align: middle;\n    }\n\n    .dataframe tbody tr th {\n        vertical-align: top;\n    }\n\n    .dataframe thead th {\n        text-align: right;\n    }\n</style>\n<table border=\"1\" class=\"dataframe\">\n  <thead>\n    <tr style=\"text-align: right;\">\n      <th></th>\n      <th>CUST_ID</th>\n      <th>BALANCE</th>\n      <th>BALANCE_FREQUENCY</th>\n      <th>PURCHASES</th>\n      <th>ONEOFF_PURCHASES</th>\n      <th>INSTALLMENTS_PURCHASES</th>\n      <th>CASH_ADVANCE</th>\n      <th>PURCHASES_FREQUENCY</th>\n      <th>ONEOFF_PURCHASES_FREQUENCY</th>\n      <th>PURCHASES_INSTALLMENTS_FREQUENCY</th>\n      <th>CASH_ADVANCE_FREQUENCY</th>\n      <th>CASH_ADVANCE_TRX</th>\n      <th>PURCHASES_TRX</th>\n      <th>CREDIT_LIMIT</th>\n      <th>PAYMENTS</th>\n      <th>MINIMUM_PAYMENTS</th>\n      <th>PRC_FULL_PAYMENT</th>\n      <th>TENURE</th>\n    </tr>\n  </thead>\n  <tbody>\n    <tr>\n      <th>0</th>\n      <td>C10001</td>\n      <td>40.900749</td>\n      <td>0.818182</td>\n      <td>95.40</td>\n      <td>0.00</td>\n      <td>95.4</td>\n      <td>0.000000</td>\n      <td>0.166667</td>\n      <td>0.000000</td>\n      <td>0.083333</td>\n      <td>0.000000</td>\n      <td>0</td>\n      <td>2</td>\n      <td>1000.0</td>\n      <td>201.802084</td>\n      <td>139.509787</td>\n      <td>0.000000</td>\n      <td>12</td>\n    </tr>\n    <tr>\n      <th>1</th>\n      <td>C10002</td>\n      <td>3202.467416</td>\n      <td>0.909091</td>\n      <td>0.00</td>\n      <td>0.00</td>\n      <td>0.0</td>\n      <td>6442.945483</td>\n      <td>0.000000</td>\n      <td>0.000000</td>\n      <td>0.000000</td>\n      <td>0.250000</td>\n      <td>4</td>\n      <td>0</td>\n      <td>7000.0</td>\n      <td>4103.032597</td>\n      <td>1072.340217</td>\n      <td>0.222222</td>\n      <td>12</td>\n    </tr>\n    <tr>\n      <th>2</th>\n      <td>C10003</td>\n      <td>2495.148862</td>\n      <td>1.000000</td>\n      <td>773.17</td>\n      <td>773.17</td>\n      <td>0.0</td>\n      <td>0.000000</td>\n      <td>1.000000</td>\n      <td>1.000000</td>\n      <td>0.000000</td>\n      <td>0.000000</td>\n      <td>0</td>\n      <td>12</td>\n      <td>7500.0</td>\n      <td>622.066742</td>\n      <td>627.284787</td>\n      <td>0.000000</td>\n      <td>12</td>\n    </tr>\n    <tr>\n      <th>3</th>\n      <td>C10004</td>\n      <td>1666.670542</td>\n      <td>0.636364</td>\n      <td>1499.00</td>\n      <td>1499.00</td>\n      <td>0.0</td>\n      <td>205.788017</td>\n      <td>0.083333</td>\n      <td>0.083333</td>\n      <td>0.000000</td>\n      <td>0.083333</td>\n      <td>1</td>\n      <td>1</td>\n      <td>7500.0</td>\n      <td>0.000000</td>\n      <td>NaN</td>\n      <td>0.000000</td>\n      <td>12</td>\n    </tr>\n    <tr>\n      <th>4</th>\n      <td>C10005</td>\n      <td>817.714335</td>\n      <td>1.000000</td>\n      <td>16.00</td>\n      <td>16.00</td>\n      <td>0.0</td>\n      <td>0.000000</td>\n      <td>0.083333</td>\n      <td>0.083333</td>\n      <td>0.000000</td>\n      <td>0.000000</td>\n      <td>0</td>\n      <td>1</td>\n      <td>1200.0</td>\n      <td>678.334763</td>\n      <td>244.791237</td>\n      <td>0.000000</td>\n      <td>12</td>\n    </tr>\n  </tbody>\n</table>\n</div>"
     },
     "metadata": {}
    }
   ]
  },
  {
   "cell_type": "code",
   "metadata": {
    "cell_id": "dbb02adbf12d4a5e8208d7d9b6c24cf9",
    "tags": [],
    "deepnote_to_be_reexecuted": false,
    "source_hash": "d987fdca",
    "execution_start": 1658944052156,
    "execution_millis": 4011,
    "deepnote_cell_type": "code",
    "deepnote_cell_height": 852,
    "deepnote_output_heights": [
     611
    ]
   },
   "source": "# set plot size\nplt.rcParams['figure.figsize'] = (20, 13)\n%matplotlib inline\n%config InlineBackend.figure_format = \"retina\"\n\nh = sns.heatmap(df.corr(), annot = True, annot_kws={\"size\": 5}) \nplt.xticks(size=4) \nplt.yticks(size=4) \nplt.show()",
   "execution_count": 4,
   "outputs": [
    {
     "data": {
      "text/plain": "<Figure size 432x288 with 2 Axes>",
      "image/png": "[encoded data removed]"
     },
     "metadata": {
      "image/png": {
       "width": 860,
       "height": 649
      },
      "needs_background": "light"
     },
     "output_type": "display_data"
    }
   ]
  },
  {
   "cell_type": "code",
   "metadata": {
    "cell_id": "00d2da65acb344eebc2c4718c4fd32be",
    "tags": [],
    "deepnote_to_be_reexecuted": false,
    "source_hash": "c896b2ab",
    "execution_start": 1658944056957,
    "execution_millis": 2,
    "deepnote_cell_type": "code",
    "deepnote_cell_height": 81
   },
   "source": "df = df.drop(\"CUST_ID\", axis = 1)",
   "execution_count": 5,
   "outputs": []
  },
  {
   "cell_type": "code",
   "metadata": {
    "cell_id": "3fc84c16157443839ba3d180993fd780",
    "tags": [],
    "deepnote_to_be_reexecuted": false,
    "source_hash": "3f53e45d",
    "execution_start": 1658944057726,
    "execution_millis": 19,
    "deepnote_cell_type": "code",
    "deepnote_cell_height": 99
   },
   "source": "df = df.dropna()\ndf2 = df.copy()",
   "execution_count": 6,
   "outputs": []
  },
  {
   "cell_type": "code",
   "metadata": {
    "cell_id": "2daaef34d64a41648ba962d8e3bda8f8",
    "tags": [],
    "deepnote_to_be_reexecuted": false,
    "source_hash": "dd05988",
    "execution_start": 1658944058300,
    "execution_millis": 36,
    "deepnote_cell_type": "code",
    "deepnote_cell_height": 99
   },
   "source": "scaler = StandardScaler()\nX = scaler.fit_transform(df)",
   "execution_count": 7,
   "outputs": []
  },
  {
   "cell_type": "code",
   "metadata": {
    "cell_id": "aa0cade46c7f42179f6456483fb6784d",
    "tags": [],
    "deepnote_to_be_reexecuted": false,
    "source_hash": "df6bcee9",
    "execution_start": 1658944058948,
    "execution_millis": 6,
    "deepnote_cell_type": "code",
    "deepnote_cell_height": 81
   },
   "source": "range_n_clusters = [2, 6, 7, 8, 9, 10]",
   "execution_count": 8,
   "outputs": []
  },
  {
   "cell_type": "code",
   "metadata": {
    "cell_id": "4687affb64b749169bd74c4c084ef07e",
    "tags": [],
    "deepnote_to_be_reexecuted": false,
    "source_hash": "d5f91cab",
    "execution_start": 1658944059620,
    "execution_millis": 38416,
    "deepnote_cell_type": "code",
    "deepnote_cell_height": 321.20001220703125
   },
   "source": "for n_clusters in range_n_clusters:\n    clusterer = KMeans(n_clusters=n_clusters, random_state=10)\n    cluster_labels = clusterer.fit_predict(X)\n    silhouette_avg = silhouette_score(X, cluster_labels)\n    print(\"For n_clusters =\", n_clusters,\n          \"The average silhouette_score is :\", silhouette_avg)\n",
   "execution_count": 9,
   "outputs": [
    {
     "name": "stdout",
     "text": "For n_clusters = 2 The average silhouette_score is : 0.20892328220228673\nFor n_clusters = 6 The average silhouette_score is : 0.20427648931868725\nFor n_clusters = 7 The average silhouette_score is : 0.21998466824406415\nFor n_clusters = 8 The average silhouette_score is : 0.22726773465495584\nFor n_clusters = 9 The average silhouette_score is : 0.2202539896237458\nFor n_clusters = 10 The average silhouette_score is : 0.2252108358086424\n",
     "output_type": "stream"
    }
   ]
  },
  {
   "cell_type": "code",
   "metadata": {
    "cell_id": "a12f74b2df6b42f6a5e44f0b5168ba99",
    "tags": [],
    "deepnote_to_be_reexecuted": false,
    "source_hash": "dcdd45bf",
    "execution_start": 1658944097466,
    "execution_millis": 839,
    "deepnote_cell_type": "code",
    "deepnote_cell_height": 117
   },
   "source": "km = KMeans(n_clusters=8, random_state= 10)\nkm.fit(X)\ny_pred = km.predict(X)",
   "execution_count": 10,
   "outputs": []
  },
  {
   "cell_type": "code",
   "metadata": {
    "cell_id": "97149d094bc64b85a7680b5660518144",
    "tags": [],
    "deepnote_to_be_reexecuted": false,
    "source_hash": "327eeda1",
    "execution_start": 1658944098305,
    "execution_millis": 147,
    "deepnote_cell_type": "code",
    "deepnote_cell_height": 635
   },
   "source": "df[\"Y_pred\"] = y_pred\ndf.head(10)",
   "execution_count": 11,
   "outputs": [
    {
     "output_type": "execute_result",
     "execution_count": 11,
     "data": {
      "application/vnd.deepnote.dataframe.v3+json": {
       "column_count": 18,
       "row_count": 10,
       "columns": [
        {
         "name": "BALANCE",
         "dtype": "float64",
         "stats": {
          "unique_count": 10,
          "nan_count": 0,
          "min": "40.900749",
          "max": "3202.467416",
          "histogram": [
           {
            "bin_start": 40.900749,
            "bin_end": 357.05741570000004,
            "count": 2
           },
           {
            "bin_start": 357.05741570000004,
            "bin_end": 673.2140824,
            "count": 1
           },
           {
            "bin_start": 673.2140824,
            "bin_end": 989.3707491000001,
            "count": 1
           },
           {
            "bin_start": 989.3707491000001,
            "bin_end": 1305.5274158,
            "count": 2
           },
           {
            "bin_start": 1305.5274158,
            "bin_end": 1621.6840825,
            "count": 0
           },
           {
            "bin_start": 1621.6840825,
            "bin_end": 1937.8407492000001,
            "count": 2
           },
           {
            "bin_start": 1937.8407492000001,
            "bin_end": 2253.9974159,
            "count": 0
           },
           {
            "bin_start": 2253.9974159,
            "bin_end": 2570.1540826,
            "count": 1
           },
           {
            "bin_start": 2570.1540826,
            "bin_end": 2886.3107493,
            "count": 0
           },
           {
            "bin_start": 2886.3107493,
            "bin_end": 3202.467416,
            "count": 1
           }
          ]
         }
        },
        {
         "name": "BALANCE_FREQUENCY",
         "dtype": "float64",
         "stats": {
          "unique_count": 4,
          "nan_count": 0,
          "min": "0.545455",
          "max": "1.0",
          "histogram": [
           {
            "bin_start": 0.545455,
            "bin_end": 0.5909095,
            "count": 1
           },
           {
            "bin_start": 0.5909095,
            "bin_end": 0.636364,
            "count": 0
           },
           {
            "bin_start": 0.636364,
            "bin_end": 0.6818185,
            "count": 0
           },
           {
            "bin_start": 0.6818185,
            "bin_end": 0.7272730000000001,
            "count": 0
           },
           {
            "bin_start": 0.7272730000000001,
            "bin_end": 0.7727275,
            "count": 0
           },
           {
            "bin_start": 0.7727275,
            "bin_end": 0.818182,
            "count": 0
           },
           {
            "bin_start": 0.818182,
            "bin_end": 0.8636364999999999,
            "count": 1
           },
           {
            "bin_start": 0.8636364999999999,
            "bin_end": 0.909091,
            "count": 0
           },
           {
            "bin_start": 0.909091,
            "bin_end": 0.9545455,
            "count": 1
           },
           {
            "bin_start": 0.9545455,
            "bin_end": 1,
            "count": 7
           }
          ]
         }
        },
        {
         "name": "PURCHASES",
         "dtype": "float64",
         "stats": {
          "unique_count": 10,
          "nan_count": 0,
          "min": "0.0",
          "max": "7091.01",
          "histogram": [
           {
            "bin_start": 0,
            "bin_end": 709.101,
            "count": 4
           },
           {
            "bin_start": 709.101,
            "bin_end": 1418.202,
            "count": 5
           },
           {
            "bin_start": 1418.202,
            "bin_end": 2127.303,
            "count": 0
           },
           {
            "bin_start": 2127.303,
            "bin_end": 2836.404,
            "count": 0
           },
           {
            "bin_start": 2836.404,
            "bin_end": 3545.505,
            "count": 0
           },
           {
            "bin_start": 3545.505,
            "bin_end": 4254.606,
            "count": 0
           },
           {
            "bin_start": 4254.606,
            "bin_end": 4963.707,
            "count": 0
           },
           {
            "bin_start": 4963.707,
            "bin_end": 5672.808,
            "count": 0
           },
           {
            "bin_start": 5672.808,
            "bin_end": 6381.909,
            "count": 0
           },
           {
            "bin_start": 6381.909,
            "bin_end": 7091.01,
            "count": 1
           }
          ]
         }
        },
        {
         "name": "ONEOFF_PURCHASES",
         "dtype": "float64",
         "stats": {
          "unique_count": 6,
          "nan_count": 0,
          "min": "0.0",
          "max": "6402.63",
          "histogram": [
           {
            "bin_start": 0,
            "bin_end": 640.263,
            "count": 6
           },
           {
            "bin_start": 640.263,
            "bin_end": 1280.526,
            "count": 2
           },
           {
            "bin_start": 1280.526,
            "bin_end": 1920.7890000000002,
            "count": 1
           },
           {
            "bin_start": 1920.7890000000002,
            "bin_end": 2561.052,
            "count": 0
           },
           {
            "bin_start": 2561.052,
            "bin_end": 3201.315,
            "count": 0
           },
           {
            "bin_start": 3201.315,
            "bin_end": 3841.5780000000004,
            "count": 0
           },
           {
            "bin_start": 3841.5780000000004,
            "bin_end": 4481.841,
            "count": 0
           },
           {
            "bin_start": 4481.841,
            "bin_end": 5122.104,
            "count": 0
           },
           {
            "bin_start": 5122.104,
            "bin_end": 5762.367,
            "count": 0
           },
           {
            "bin_start": 5762.367,
            "bin_end": 6402.63,
            "count": 1
           }
          ]
         }
        },
        {
         "name": "INSTALLMENTS_PURCHASES",
         "dtype": "float64",
         "stats": {
          "unique_count": 7,
          "nan_count": 0,
          "min": "0.0",
          "max": "1333.28",
          "histogram": [
           {
            "bin_start": 0,
            "bin_end": 133.328,
            "count": 5
           },
           {
            "bin_start": 133.328,
            "bin_end": 266.656,
            "count": 1
           },
           {
            "bin_start": 266.656,
            "bin_end": 399.98400000000004,
            "count": 0
           },
           {
            "bin_start": 399.98400000000004,
            "bin_end": 533.312,
            "count": 1
           },
           {
            "bin_start": 533.312,
            "bin_end": 666.64,
            "count": 0
           },
           {
            "bin_start": 666.64,
            "bin_end": 799.9680000000001,
            "count": 1
           },
           {
            "bin_start": 799.9680000000001,
            "bin_end": 933.296,
            "count": 1
           },
           {
            "bin_start": 933.296,
            "bin_end": 1066.624,
            "count": 0
           },
           {
            "bin_start": 1066.624,
            "bin_end": 1199.952,
            "count": 0
           },
           {
            "bin_start": 1199.952,
            "bin_end": 1333.28,
            "count": 1
           }
          ]
         }
        },
        {
         "name": "CASH_ADVANCE",
         "dtype": "float64",
         "stats": {
          "unique_count": 2,
          "nan_count": 0,
          "min": "0.0",
          "max": "6442.945483",
          "histogram": [
           {
            "bin_start": 0,
            "bin_end": 644.2945483000001,
            "count": 9
           },
           {
            "bin_start": 644.2945483000001,
            "bin_end": 1288.5890966000002,
            "count": 0
           },
           {
            "bin_start": 1288.5890966000002,
            "bin_end": 1932.8836449000003,
            "count": 0
           },
           {
            "bin_start": 1932.8836449000003,
            "bin_end": 2577.1781932000004,
            "count": 0
           },
           {
            "bin_start": 2577.1781932000004,
            "bin_end": 3221.4727415000007,
            "count": 0
           },
           {
            "bin_start": 3221.4727415000007,
            "bin_end": 3865.7672898000005,
            "count": 0
           },
           {
            "bin_start": 3865.7672898000005,
            "bin_end": 4510.0618381,
            "count": 0
           },
           {
            "bin_start": 4510.0618381,
            "bin_end": 5154.356386400001,
            "count": 0
           },
           {
            "bin_start": 5154.356386400001,
            "bin_end": 5798.650934700001,
            "count": 0
           },
           {
            "bin_start": 5798.650934700001,
            "bin_end": 6442.945483,
            "count": 1
           }
          ]
         }
        },
        {
         "name": "PURCHASES_FREQUENCY",
         "dtype": "float64",
         "stats": {
          "unique_count": 6,
          "nan_count": 0,
          "min": "0.0",
          "max": "1.0",
          "histogram": [
           {
            "bin_start": 0,
            "bin_end": 0.1,
            "count": 2
           },
           {
            "bin_start": 0.1,
            "bin_end": 0.2,
            "count": 2
           },
           {
            "bin_start": 0.2,
            "bin_end": 0.30000000000000004,
            "count": 0
           },
           {
            "bin_start": 0.30000000000000004,
            "bin_end": 0.4,
            "count": 1
           },
           {
            "bin_start": 0.4,
            "bin_end": 0.5,
            "count": 0
           },
           {
            "bin_start": 0.5,
            "bin_end": 0.6000000000000001,
            "count": 0
           },
           {
            "bin_start": 0.6000000000000001,
            "bin_end": 0.7000000000000001,
            "count": 1
           },
           {
            "bin_start": 0.7000000000000001,
            "bin_end": 0.8,
            "count": 0
           },
           {
            "bin_start": 0.8,
            "bin_end": 0.9,
            "count": 0
           },
           {
            "bin_start": 0.9,
            "bin_end": 1,
            "count": 4
           }
          ]
         }
        },
        {
         "name": "ONEOFF_PURCHASES_FREQUENCY",
         "dtype": "float64",
         "stats": {
          "unique_count": 4,
          "nan_count": 0,
          "min": "0.0",
          "max": "1.0",
          "histogram": [
           {
            "bin_start": 0,
            "bin_end": 0.1,
            "count": 7
           },
           {
            "bin_start": 0.1,
            "bin_end": 0.2,
            "count": 1
           },
           {
            "bin_start": 0.2,
            "bin_end": 0.30000000000000004,
            "count": 0
           },
           {
            "bin_start": 0.30000000000000004,
            "bin_end": 0.4,
            "count": 0
           },
           {
            "bin_start": 0.4,
            "bin_end": 0.5,
            "count": 0
           },
           {
            "bin_start": 0.5,
            "bin_end": 0.6000000000000001,
            "count": 0
           },
           {
            "bin_start": 0.6000000000000001,
            "bin_end": 0.7000000000000001,
            "count": 0
           },
           {
            "bin_start": 0.7000000000000001,
            "bin_end": 0.8,
            "count": 0
           },
           {
            "bin_start": 0.8,
            "bin_end": 0.9,
            "count": 0
           },
           {
            "bin_start": 0.9,
            "bin_end": 1,
            "count": 2
           }
          ]
         }
        },
        {
         "name": "PURCHASES_INSTALLMENTS_FREQUENCY",
         "dtype": "float64",
         "stats": {
          "unique_count": 5,
          "nan_count": 0,
          "min": "0.0",
          "max": "1.0",
          "histogram": [
           {
            "bin_start": 0,
            "bin_end": 0.1,
            "count": 5
           },
           {
            "bin_start": 0.1,
            "bin_end": 0.2,
            "count": 0
           },
           {
            "bin_start": 0.2,
            "bin_end": 0.30000000000000004,
            "count": 1
           },
           {
            "bin_start": 0.30000000000000004,
            "bin_end": 0.4,
            "count": 0
           },
           {
            "bin_start": 0.4,
            "bin_end": 0.5,
            "count": 0
           },
           {
            "bin_start": 0.5,
            "bin_end": 0.6000000000000001,
            "count": 1
           },
           {
            "bin_start": 0.6000000000000001,
            "bin_end": 0.7000000000000001,
            "count": 0
           },
           {
            "bin_start": 0.7000000000000001,
            "bin_end": 0.8,
            "count": 0
           },
           {
            "bin_start": 0.8,
            "bin_end": 0.9,
            "count": 0
           },
           {
            "bin_start": 0.9,
            "bin_end": 1,
            "count": 3
           }
          ]
         }
        },
        {
         "name": "CASH_ADVANCE_FREQUENCY",
         "dtype": "float64",
         "stats": {
          "unique_count": 2,
          "nan_count": 0,
          "min": "0.0",
          "max": "0.25",
          "histogram": [
           {
            "bin_start": 0,
            "bin_end": 0.025,
            "count": 9
           },
           {
            "bin_start": 0.025,
            "bin_end": 0.05,
            "count": 0
           },
           {
            "bin_start": 0.05,
            "bin_end": 0.07500000000000001,
            "count": 0
           },
           {
            "bin_start": 0.07500000000000001,
            "bin_end": 0.1,
            "count": 0
           },
           {
            "bin_start": 0.1,
            "bin_end": 0.125,
            "count": 0
           },
           {
            "bin_start": 0.125,
            "bin_end": 0.15000000000000002,
            "count": 0
           },
           {
            "bin_start": 0.15000000000000002,
            "bin_end": 0.17500000000000002,
            "count": 0
           },
           {
            "bin_start": 0.17500000000000002,
            "bin_end": 0.2,
            "count": 0
           },
           {
            "bin_start": 0.2,
            "bin_end": 0.225,
            "count": 0
           },
           {
            "bin_start": 0.225,
            "bin_end": 0.25,
            "count": 1
           }
          ]
         }
        },
        {
         "name": "CASH_ADVANCE_TRX",
         "dtype": "int64",
         "stats": {
          "unique_count": 2,
          "nan_count": 0,
          "min": "0",
          "max": "4",
          "histogram": [
           {
            "bin_start": 0,
            "bin_end": 0.4,
            "count": 9
           },
           {
            "bin_start": 0.4,
            "bin_end": 0.8,
            "count": 0
           },
           {
            "bin_start": 0.8,
            "bin_end": 1.2000000000000002,
            "count": 0
           },
           {
            "bin_start": 1.2000000000000002,
            "bin_end": 1.6,
            "count": 0
           },
           {
            "bin_start": 1.6,
            "bin_end": 2,
            "count": 0
           },
           {
            "bin_start": 2,
            "bin_end": 2.4000000000000004,
            "count": 0
           },
           {
            "bin_start": 2.4000000000000004,
            "bin_end": 2.8000000000000003,
            "count": 0
           },
           {
            "bin_start": 2.8000000000000003,
            "bin_end": 3.2,
            "count": 0
           },
           {
            "bin_start": 3.2,
            "bin_end": 3.6,
            "count": 0
           },
           {
            "bin_start": 3.6,
            "bin_end": 4,
            "count": 1
           }
          ]
         }
        },
        {
         "name": "PURCHASES_TRX",
         "dtype": "int64",
         "stats": {
          "unique_count": 8,
          "nan_count": 0,
          "min": "0",
          "max": "64",
          "histogram": [
           {
            "bin_start": 0,
            "bin_end": 6.4,
            "count": 5
           },
           {
            "bin_start": 6.4,
            "bin_end": 12.8,
            "count": 4
           },
           {
            "bin_start": 12.8,
            "bin_end": 19.200000000000003,
            "count": 0
           },
           {
            "bin_start": 19.200000000000003,
            "bin_end": 25.6,
            "count": 0
           },
           {
            "bin_start": 25.6,
            "bin_end": 32,
            "count": 0
           },
           {
            "bin_start": 32,
            "bin_end": 38.400000000000006,
            "count": 0
           },
           {
            "bin_start": 38.400000000000006,
            "bin_end": 44.800000000000004,
            "count": 0
           },
           {
            "bin_start": 44.800000000000004,
            "bin_end": 51.2,
            "count": 0
           },
           {
            "bin_start": 51.2,
            "bin_end": 57.6,
            "count": 0
           },
           {
            "bin_start": 57.6,
            "bin_end": 64,
            "count": 1
           }
          ]
         }
        },
        {
         "name": "CREDIT_LIMIT",
         "dtype": "float64",
         "stats": {
          "unique_count": 8,
          "nan_count": 0,
          "min": "1000.0",
          "max": "13500.0",
          "histogram": [
           {
            "bin_start": 1000,
            "bin_end": 2250,
            "count": 4
           },
           {
            "bin_start": 2250,
            "bin_end": 3500,
            "count": 1
           },
           {
            "bin_start": 3500,
            "bin_end": 4750,
            "count": 0
           },
           {
            "bin_start": 4750,
            "bin_end": 6000,
            "count": 0
           },
           {
            "bin_start": 6000,
            "bin_end": 7250,
            "count": 2
           },
           {
            "bin_start": 7250,
            "bin_end": 8500,
            "count": 1
           },
           {
            "bin_start": 8500,
            "bin_end": 9750,
            "count": 0
           },
           {
            "bin_start": 9750,
            "bin_end": 11000,
            "count": 0
           },
           {
            "bin_start": 11000,
            "bin_end": 12250,
            "count": 1
           },
           {
            "bin_start": 12250,
            "bin_end": 13500,
            "count": 1
           }
          ]
         }
        },
        {
         "name": "PAYMENTS",
         "dtype": "float64",
         "stats": {
          "unique_count": 10,
          "nan_count": 0,
          "min": "201.802084",
          "max": "6354.314328",
          "histogram": [
           {
            "bin_start": 201.802084,
            "bin_end": 817.0533084000001,
            "count": 5
           },
           {
            "bin_start": 817.0533084000001,
            "bin_end": 1432.3045328,
            "count": 3
           },
           {
            "bin_start": 1432.3045328,
            "bin_end": 2047.5557572000002,
            "count": 0
           },
           {
            "bin_start": 2047.5557572000002,
            "bin_end": 2662.8069816,
            "count": 0
           },
           {
            "bin_start": 2662.8069816,
            "bin_end": 3278.058206,
            "count": 0
           },
           {
            "bin_start": 3278.058206,
            "bin_end": 3893.3094304000006,
            "count": 0
           },
           {
            "bin_start": 3893.3094304000006,
            "bin_end": 4508.5606548000005,
            "count": 1
           },
           {
            "bin_start": 4508.5606548000005,
            "bin_end": 5123.8118792000005,
            "count": 0
           },
           {
            "bin_start": 5123.8118792000005,
            "bin_end": 5739.0631036,
            "count": 0
           },
           {
            "bin_start": 5739.0631036,
            "bin_end": 6354.314328,
            "count": 1
           }
          ]
         }
        },
        {
         "name": "MINIMUM_PAYMENTS",
         "dtype": "float64",
         "stats": {
          "unique_count": 10,
          "nan_count": 0,
          "min": "100.302262",
          "max": "2407.246035",
          "histogram": [
           {
            "bin_start": 100.302262,
            "bin_end": 330.99663929999997,
            "count": 5
           },
           {
            "bin_start": 330.99663929999997,
            "bin_end": 561.6910166,
            "count": 1
           },
           {
            "bin_start": 561.6910166,
            "bin_end": 792.3853938999999,
            "count": 1
           },
           {
            "bin_start": 792.3853938999999,
            "bin_end": 1023.0797712,
            "count": 0
           },
           {
            "bin_start": 1023.0797712,
            "bin_end": 1253.7741485,
            "count": 1
           },
           {
            "bin_start": 1253.7741485,
            "bin_end": 1484.4685257999997,
            "count": 0
           },
           {
            "bin_start": 1484.4685257999997,
            "bin_end": 1715.1629030999998,
            "count": 0
           },
           {
            "bin_start": 1715.1629030999998,
            "bin_end": 1945.8572803999998,
            "count": 0
           },
           {
            "bin_start": 1945.8572803999998,
            "bin_end": 2176.5516577,
            "count": 1
           },
           {
            "bin_start": 2176.5516577,
            "bin_end": 2407.246035,
            "count": 1
           }
          ]
         }
        },
        {
         "name": "PRC_FULL_PAYMENT",
         "dtype": "float64",
         "stats": {
          "unique_count": 3,
          "nan_count": 0,
          "min": "0.0",
          "max": "1.0",
          "histogram": [
           {
            "bin_start": 0,
            "bin_end": 0.1,
            "count": 8
           },
           {
            "bin_start": 0.1,
            "bin_end": 0.2,
            "count": 0
           },
           {
            "bin_start": 0.2,
            "bin_end": 0.30000000000000004,
            "count": 1
           },
           {
            "bin_start": 0.30000000000000004,
            "bin_end": 0.4,
            "count": 0
           },
           {
            "bin_start": 0.4,
            "bin_end": 0.5,
            "count": 0
           },
           {
            "bin_start": 0.5,
            "bin_end": 0.6000000000000001,
            "count": 0
           },
           {
            "bin_start": 0.6000000000000001,
            "bin_end": 0.7000000000000001,
            "count": 0
           },
           {
            "bin_start": 0.7000000000000001,
            "bin_end": 0.8,
            "count": 0
           },
           {
            "bin_start": 0.8,
            "bin_end": 0.9,
            "count": 0
           },
           {
            "bin_start": 0.9,
            "bin_end": 1,
            "count": 1
           }
          ]
         }
        },
        {
         "name": "TENURE",
         "dtype": "int64",
         "stats": {
          "unique_count": 1,
          "nan_count": 0,
          "min": "12",
          "max": "12",
          "histogram": [
           {
            "bin_start": 11.5,
            "bin_end": 11.6,
            "count": 0
           },
           {
            "bin_start": 11.6,
            "bin_end": 11.7,
            "count": 0
           },
           {
            "bin_start": 11.7,
            "bin_end": 11.8,
            "count": 0
           },
           {
            "bin_start": 11.8,
            "bin_end": 11.9,
            "count": 0
           },
           {
            "bin_start": 11.9,
            "bin_end": 12,
            "count": 0
           },
           {
            "bin_start": 12,
            "bin_end": 12.1,
            "count": 10
           },
           {
            "bin_start": 12.1,
            "bin_end": 12.2,
            "count": 0
           },
           {
            "bin_start": 12.2,
            "bin_end": 12.3,
            "count": 0
           },
           {
            "bin_start": 12.3,
            "bin_end": 12.4,
            "count": 0
           },
           {
            "bin_start": 12.4,
            "bin_end": 12.5,
            "count": 0
           }
          ]
         }
        },
        {
         "name": "Y_pred",
         "dtype": "int32",
         "stats": {
          "unique_count": 6,
          "nan_count": 0,
          "min": "0",
          "max": "7",
          "histogram": [
           {
            "bin_start": 0,
            "bin_end": 0.7,
            "count": 1
           },
           {
            "bin_start": 0.7,
            "bin_end": 1.4,
            "count": 1
           },
           {
            "bin_start": 1.4,
            "bin_end": 2.0999999999999996,
            "count": 3
           },
           {
            "bin_start": 2.0999999999999996,
            "bin_end": 2.8,
            "count": 0
           },
           {
            "bin_start": 2.8,
            "bin_end": 3.5,
            "count": 0
           },
           {
            "bin_start": 3.5,
            "bin_end": 4.199999999999999,
            "count": 1
           },
           {
            "bin_start": 4.199999999999999,
            "bin_end": 4.8999999999999995,
            "count": 0
           },
           {
            "bin_start": 4.8999999999999995,
            "bin_end": 5.6,
            "count": 0
           },
           {
            "bin_start": 5.6,
            "bin_end": 6.3,
            "count": 1
           },
           {
            "bin_start": 6.3,
            "bin_end": 7,
            "count": 3
           }
          ]
         }
        },
        {
         "name": "_deepnote_index_column",
         "dtype": "int64"
        }
       ],
       "rows": [
        {
         "BALANCE": 40.900749,
         "BALANCE_FREQUENCY": 0.818182,
         "PURCHASES": 95.4,
         "ONEOFF_PURCHASES": 0,
         "INSTALLMENTS_PURCHASES": 95.4,
         "CASH_ADVANCE": 0,
         "PURCHASES_FREQUENCY": 0.166667,
         "ONEOFF_PURCHASES_FREQUENCY": 0,
         "PURCHASES_INSTALLMENTS_FREQUENCY": 0.083333,
         "CASH_ADVANCE_FREQUENCY": 0,
         "CASH_ADVANCE_TRX": 0,
         "PURCHASES_TRX": 2,
         "CREDIT_LIMIT": 1000,
         "PAYMENTS": 201.802084,
         "MINIMUM_PAYMENTS": 139.509787,
         "PRC_FULL_PAYMENT": 0,
         "TENURE": 12,
         "Y_pred": 2,
         "_deepnote_index_column": 0
        },
        {
         "BALANCE": 3202.467416,
         "BALANCE_FREQUENCY": 0.909091,
         "PURCHASES": 0,
         "ONEOFF_PURCHASES": 0,
         "INSTALLMENTS_PURCHASES": 0,
         "CASH_ADVANCE": 6442.945483,
         "PURCHASES_FREQUENCY": 0,
         "ONEOFF_PURCHASES_FREQUENCY": 0,
         "PURCHASES_INSTALLMENTS_FREQUENCY": 0,
         "CASH_ADVANCE_FREQUENCY": 0.25,
         "CASH_ADVANCE_TRX": 4,
         "PURCHASES_TRX": 0,
         "CREDIT_LIMIT": 7000,
         "PAYMENTS": 4103.032597,
         "MINIMUM_PAYMENTS": 1072.340217,
         "PRC_FULL_PAYMENT": 0.222222,
         "TENURE": 12,
         "Y_pred": 4,
         "_deepnote_index_column": 1
        },
        {
         "BALANCE": 2495.148862,
         "BALANCE_FREQUENCY": 1,
         "PURCHASES": 773.17,
         "ONEOFF_PURCHASES": 773.17,
         "INSTALLMENTS_PURCHASES": 0,
         "CASH_ADVANCE": 0,
         "PURCHASES_FREQUENCY": 1,
         "ONEOFF_PURCHASES_FREQUENCY": 1,
         "PURCHASES_INSTALLMENTS_FREQUENCY": 0,
         "CASH_ADVANCE_FREQUENCY": 0,
         "CASH_ADVANCE_TRX": 0,
         "PURCHASES_TRX": 12,
         "CREDIT_LIMIT": 7500,
         "PAYMENTS": 622.066742,
         "MINIMUM_PAYMENTS": 627.284787,
         "PRC_FULL_PAYMENT": 0,
         "TENURE": 12,
         "Y_pred": 6,
         "_deepnote_index_column": 2
        },
        {
         "BALANCE": 817.714335,
         "BALANCE_FREQUENCY": 1,
         "PURCHASES": 16,
         "ONEOFF_PURCHASES": 16,
         "INSTALLMENTS_PURCHASES": 0,
         "CASH_ADVANCE": 0,
         "PURCHASES_FREQUENCY": 0.083333,
         "ONEOFF_PURCHASES_FREQUENCY": 0.083333,
         "PURCHASES_INSTALLMENTS_FREQUENCY": 0,
         "CASH_ADVANCE_FREQUENCY": 0,
         "CASH_ADVANCE_TRX": 0,
         "PURCHASES_TRX": 1,
         "CREDIT_LIMIT": 1200,
         "PAYMENTS": 678.334763,
         "MINIMUM_PAYMENTS": 244.791237,
         "PRC_FULL_PAYMENT": 0,
         "TENURE": 12,
         "Y_pred": 2,
         "_deepnote_index_column": 4
        },
        {
         "BALANCE": 1809.828751,
         "BALANCE_FREQUENCY": 1,
         "PURCHASES": 1333.28,
         "ONEOFF_PURCHASES": 0,
         "INSTALLMENTS_PURCHASES": 1333.28,
         "CASH_ADVANCE": 0,
         "PURCHASES_FREQUENCY": 0.666667,
         "ONEOFF_PURCHASES_FREQUENCY": 0,
         "PURCHASES_INSTALLMENTS_FREQUENCY": 0.583333,
         "CASH_ADVANCE_FREQUENCY": 0,
         "CASH_ADVANCE_TRX": 0,
         "PURCHASES_TRX": 8,
         "CREDIT_LIMIT": 1800,
         "PAYMENTS": 1400.05777,
         "MINIMUM_PAYMENTS": 2407.246035,
         "PRC_FULL_PAYMENT": 0,
         "TENURE": 12,
         "Y_pred": 7,
         "_deepnote_index_column": 5
        },
        {
         "BALANCE": 627.260806,
         "BALANCE_FREQUENCY": 1,
         "PURCHASES": 7091.01,
         "ONEOFF_PURCHASES": 6402.63,
         "INSTALLMENTS_PURCHASES": 688.38,
         "CASH_ADVANCE": 0,
         "PURCHASES_FREQUENCY": 1,
         "ONEOFF_PURCHASES_FREQUENCY": 1,
         "PURCHASES_INSTALLMENTS_FREQUENCY": 1,
         "CASH_ADVANCE_FREQUENCY": 0,
         "CASH_ADVANCE_TRX": 0,
         "PURCHASES_TRX": 64,
         "CREDIT_LIMIT": 13500,
         "PAYMENTS": 6354.314328,
         "MINIMUM_PAYMENTS": 198.065894,
         "PRC_FULL_PAYMENT": 1,
         "TENURE": 12,
         "Y_pred": 1,
         "_deepnote_index_column": 6
        },
        {
         "BALANCE": 1823.652743,
         "BALANCE_FREQUENCY": 1,
         "PURCHASES": 436.2,
         "ONEOFF_PURCHASES": 0,
         "INSTALLMENTS_PURCHASES": 436.2,
         "CASH_ADVANCE": 0,
         "PURCHASES_FREQUENCY": 1,
         "ONEOFF_PURCHASES_FREQUENCY": 0,
         "PURCHASES_INSTALLMENTS_FREQUENCY": 1,
         "CASH_ADVANCE_FREQUENCY": 0,
         "CASH_ADVANCE_TRX": 0,
         "PURCHASES_TRX": 12,
         "CREDIT_LIMIT": 2300,
         "PAYMENTS": 679.065082,
         "MINIMUM_PAYMENTS": 532.03399,
         "PRC_FULL_PAYMENT": 0,
         "TENURE": 12,
         "Y_pred": 7,
         "_deepnote_index_column": 7
        },
        {
         "BALANCE": 1014.926473,
         "BALANCE_FREQUENCY": 1,
         "PURCHASES": 861.49,
         "ONEOFF_PURCHASES": 661.49,
         "INSTALLMENTS_PURCHASES": 200,
         "CASH_ADVANCE": 0,
         "PURCHASES_FREQUENCY": 0.333333,
         "ONEOFF_PURCHASES_FREQUENCY": 0.083333,
         "PURCHASES_INSTALLMENTS_FREQUENCY": 0.25,
         "CASH_ADVANCE_FREQUENCY": 0,
         "CASH_ADVANCE_TRX": 0,
         "PURCHASES_TRX": 5,
         "CREDIT_LIMIT": 7000,
         "PAYMENTS": 688.278568,
         "MINIMUM_PAYMENTS": 311.963409,
         "PRC_FULL_PAYMENT": 0,
         "TENURE": 12,
         "Y_pred": 2,
         "_deepnote_index_column": 8
        },
        {
         "BALANCE": 152.225975,
         "BALANCE_FREQUENCY": 0.545455,
         "PURCHASES": 1281.6,
         "ONEOFF_PURCHASES": 1281.6,
         "INSTALLMENTS_PURCHASES": 0,
         "CASH_ADVANCE": 0,
         "PURCHASES_FREQUENCY": 0.166667,
         "ONEOFF_PURCHASES_FREQUENCY": 0.166667,
         "PURCHASES_INSTALLMENTS_FREQUENCY": 0,
         "CASH_ADVANCE_FREQUENCY": 0,
         "CASH_ADVANCE_TRX": 0,
         "PURCHASES_TRX": 3,
         "CREDIT_LIMIT": 11000,
         "PAYMENTS": 1164.770591,
         "MINIMUM_PAYMENTS": 100.302262,
         "PRC_FULL_PAYMENT": 0,
         "TENURE": 12,
         "Y_pred": 0,
         "_deepnote_index_column": 9
        },
        {
         "BALANCE": 1293.124939,
         "BALANCE_FREQUENCY": 1,
         "PURCHASES": 920.12,
         "ONEOFF_PURCHASES": 0,
         "INSTALLMENTS_PURCHASES": 920.12,
         "CASH_ADVANCE": 0,
         "PURCHASES_FREQUENCY": 1,
         "ONEOFF_PURCHASES_FREQUENCY": 0,
         "PURCHASES_INSTALLMENTS_FREQUENCY": 1,
         "CASH_ADVANCE_FREQUENCY": 0,
         "CASH_ADVANCE_TRX": 0,
         "PURCHASES_TRX": 12,
         "CREDIT_LIMIT": 1200,
         "PAYMENTS": 1083.301007,
         "MINIMUM_PAYMENTS": 2172.697765,
         "PRC_FULL_PAYMENT": 0,
         "TENURE": 12,
         "Y_pred": 7,
         "_deepnote_index_column": 10
        }
       ]
      },
      "text/plain": "        BALANCE  BALANCE_FREQUENCY  PURCHASES  ONEOFF_PURCHASES  \\\n0     40.900749           0.818182      95.40              0.00   \n1   3202.467416           0.909091       0.00              0.00   \n2   2495.148862           1.000000     773.17            773.17   \n4    817.714335           1.000000      16.00             16.00   \n5   1809.828751           1.000000    1333.28              0.00   \n6    627.260806           1.000000    7091.01           6402.63   \n7   1823.652743           1.000000     436.20              0.00   \n8   1014.926473           1.000000     861.49            661.49   \n9    152.225975           0.545455    1281.60           1281.60   \n10  1293.124939           1.000000     920.12              0.00   \n\n    INSTALLMENTS_PURCHASES  CASH_ADVANCE  PURCHASES_FREQUENCY  \\\n0                    95.40      0.000000             0.166667   \n1                     0.00   6442.945483             0.000000   \n2                     0.00      0.000000             1.000000   \n4                     0.00      0.000000             0.083333   \n5                  1333.28      0.000000             0.666667   \n6                   688.38      0.000000             1.000000   \n7                   436.20      0.000000             1.000000   \n8                   200.00      0.000000             0.333333   \n9                     0.00      0.000000             0.166667   \n10                  920.12      0.000000             1.000000   \n\n    ONEOFF_PURCHASES_FREQUENCY  PURCHASES_INSTALLMENTS_FREQUENCY  \\\n0                     0.000000                          0.083333   \n1                     0.000000                          0.000000   \n2                     1.000000                          0.000000   \n4                     0.083333                          0.000000   \n5                     0.000000                          0.583333   \n6                     1.000000                          1.000000   \n7                     0.000000                          1.000000   \n8                     0.083333                          0.250000   \n9                     0.166667                          0.000000   \n10                    0.000000                          1.000000   \n\n    CASH_ADVANCE_FREQUENCY  CASH_ADVANCE_TRX  PURCHASES_TRX  CREDIT_LIMIT  \\\n0                     0.00                 0              2        1000.0   \n1                     0.25                 4              0        7000.0   \n2                     0.00                 0             12        7500.0   \n4                     0.00                 0              1        1200.0   \n5                     0.00                 0              8        1800.0   \n6                     0.00                 0             64       13500.0   \n7                     0.00                 0             12        2300.0   \n8                     0.00                 0              5        7000.0   \n9                     0.00                 0              3       11000.0   \n10                    0.00                 0             12        1200.0   \n\n       PAYMENTS  MINIMUM_PAYMENTS  PRC_FULL_PAYMENT  TENURE  Y_pred  \n0    201.802084        139.509787          0.000000      12       2  \n1   4103.032597       1072.340217          0.222222      12       4  \n2    622.066742        627.284787          0.000000      12       6  \n4    678.334763        244.791237          0.000000      12       2  \n5   1400.057770       2407.246035          0.000000      12       7  \n6   6354.314328        198.065894          1.000000      12       1  \n7    679.065082        532.033990          0.000000      12       7  \n8    688.278568        311.963409          0.000000      12       2  \n9   1164.770591        100.302262          0.000000      12       0  \n10  1083.301007       2172.697765          0.000000      12       7  ",
      "text/html": "<div>\n<style scoped>\n    .dataframe tbody tr th:only-of-type {\n        vertical-align: middle;\n    }\n\n    .dataframe tbody tr th {\n        vertical-align: top;\n    }\n\n    .dataframe thead th {\n        text-align: right;\n    }\n</style>\n<table border=\"1\" class=\"dataframe\">\n  <thead>\n    <tr style=\"text-align: right;\">\n      <th></th>\n      <th>BALANCE</th>\n      <th>BALANCE_FREQUENCY</th>\n      <th>PURCHASES</th>\n      <th>ONEOFF_PURCHASES</th>\n      <th>INSTALLMENTS_PURCHASES</th>\n      <th>CASH_ADVANCE</th>\n      <th>PURCHASES_FREQUENCY</th>\n      <th>ONEOFF_PURCHASES_FREQUENCY</th>\n      <th>PURCHASES_INSTALLMENTS_FREQUENCY</th>\n      <th>CASH_ADVANCE_FREQUENCY</th>\n      <th>CASH_ADVANCE_TRX</th>\n      <th>PURCHASES_TRX</th>\n      <th>CREDIT_LIMIT</th>\n      <th>PAYMENTS</th>\n      <th>MINIMUM_PAYMENTS</th>\n      <th>PRC_FULL_PAYMENT</th>\n      <th>TENURE</th>\n      <th>Y_pred</th>\n    </tr>\n  </thead>\n  <tbody>\n    <tr>\n      <th>0</th>\n      <td>40.900749</td>\n      <td>0.818182</td>\n      <td>95.40</td>\n      <td>0.00</td>\n      <td>95.40</td>\n      <td>0.000000</td>\n      <td>0.166667</td>\n      <td>0.000000</td>\n      <td>0.083333</td>\n      <td>0.00</td>\n      <td>0</td>\n      <td>2</td>\n      <td>1000.0</td>\n      <td>201.802084</td>\n      <td>139.509787</td>\n      <td>0.000000</td>\n      <td>12</td>\n      <td>2</td>\n    </tr>\n    <tr>\n      <th>1</th>\n      <td>3202.467416</td>\n      <td>0.909091</td>\n      <td>0.00</td>\n      <td>0.00</td>\n      <td>0.00</td>\n      <td>6442.945483</td>\n      <td>0.000000</td>\n      <td>0.000000</td>\n      <td>0.000000</td>\n      <td>0.25</td>\n      <td>4</td>\n      <td>0</td>\n      <td>7000.0</td>\n      <td>4103.032597</td>\n      <td>1072.340217</td>\n      <td>0.222222</td>\n      <td>12</td>\n      <td>4</td>\n    </tr>\n    <tr>\n      <th>2</th>\n      <td>2495.148862</td>\n      <td>1.000000</td>\n      <td>773.17</td>\n      <td>773.17</td>\n      <td>0.00</td>\n      <td>0.000000</td>\n      <td>1.000000</td>\n      <td>1.000000</td>\n      <td>0.000000</td>\n      <td>0.00</td>\n      <td>0</td>\n      <td>12</td>\n      <td>7500.0</td>\n      <td>622.066742</td>\n      <td>627.284787</td>\n      <td>0.000000</td>\n      <td>12</td>\n      <td>6</td>\n    </tr>\n    <tr>\n      <th>4</th>\n      <td>817.714335</td>\n      <td>1.000000</td>\n      <td>16.00</td>\n      <td>16.00</td>\n      <td>0.00</td>\n      <td>0.000000</td>\n      <td>0.083333</td>\n      <td>0.083333</td>\n      <td>0.000000</td>\n      <td>0.00</td>\n      <td>0</td>\n      <td>1</td>\n      <td>1200.0</td>\n      <td>678.334763</td>\n      <td>244.791237</td>\n      <td>0.000000</td>\n      <td>12</td>\n      <td>2</td>\n    </tr>\n    <tr>\n      <th>5</th>\n      <td>1809.828751</td>\n      <td>1.000000</td>\n      <td>1333.28</td>\n      <td>0.00</td>\n      <td>1333.28</td>\n      <td>0.000000</td>\n      <td>0.666667</td>\n      <td>0.000000</td>\n      <td>0.583333</td>\n      <td>0.00</td>\n      <td>0</td>\n      <td>8</td>\n      <td>1800.0</td>\n      <td>1400.057770</td>\n      <td>2407.246035</td>\n      <td>0.000000</td>\n      <td>12</td>\n      <td>7</td>\n    </tr>\n    <tr>\n      <th>6</th>\n      <td>627.260806</td>\n      <td>1.000000</td>\n      <td>7091.01</td>\n      <td>6402.63</td>\n      <td>688.38</td>\n      <td>0.000000</td>\n      <td>1.000000</td>\n      <td>1.000000</td>\n      <td>1.000000</td>\n      <td>0.00</td>\n      <td>0</td>\n      <td>64</td>\n      <td>13500.0</td>\n      <td>6354.314328</td>\n      <td>198.065894</td>\n      <td>1.000000</td>\n      <td>12</td>\n      <td>1</td>\n    </tr>\n    <tr>\n      <th>7</th>\n      <td>1823.652743</td>\n      <td>1.000000</td>\n      <td>436.20</td>\n      <td>0.00</td>\n      <td>436.20</td>\n      <td>0.000000</td>\n      <td>1.000000</td>\n      <td>0.000000</td>\n      <td>1.000000</td>\n      <td>0.00</td>\n      <td>0</td>\n      <td>12</td>\n      <td>2300.0</td>\n      <td>679.065082</td>\n      <td>532.033990</td>\n      <td>0.000000</td>\n      <td>12</td>\n      <td>7</td>\n    </tr>\n    <tr>\n      <th>8</th>\n      <td>1014.926473</td>\n      <td>1.000000</td>\n      <td>861.49</td>\n      <td>661.49</td>\n      <td>200.00</td>\n      <td>0.000000</td>\n      <td>0.333333</td>\n      <td>0.083333</td>\n      <td>0.250000</td>\n      <td>0.00</td>\n      <td>0</td>\n      <td>5</td>\n      <td>7000.0</td>\n      <td>688.278568</td>\n      <td>311.963409</td>\n      <td>0.000000</td>\n      <td>12</td>\n      <td>2</td>\n    </tr>\n    <tr>\n      <th>9</th>\n      <td>152.225975</td>\n      <td>0.545455</td>\n      <td>1281.60</td>\n      <td>1281.60</td>\n      <td>0.00</td>\n      <td>0.000000</td>\n      <td>0.166667</td>\n      <td>0.166667</td>\n      <td>0.000000</td>\n      <td>0.00</td>\n      <td>0</td>\n      <td>3</td>\n      <td>11000.0</td>\n      <td>1164.770591</td>\n      <td>100.302262</td>\n      <td>0.000000</td>\n      <td>12</td>\n      <td>0</td>\n    </tr>\n    <tr>\n      <th>10</th>\n      <td>1293.124939</td>\n      <td>1.000000</td>\n      <td>920.12</td>\n      <td>0.00</td>\n      <td>920.12</td>\n      <td>0.000000</td>\n      <td>1.000000</td>\n      <td>0.000000</td>\n      <td>1.000000</td>\n      <td>0.00</td>\n      <td>0</td>\n      <td>12</td>\n      <td>1200.0</td>\n      <td>1083.301007</td>\n      <td>2172.697765</td>\n      <td>0.000000</td>\n      <td>12</td>\n      <td>7</td>\n    </tr>\n  </tbody>\n</table>\n</div>"
     },
     "metadata": {}
    }
   ]
  },
  {
   "cell_type": "code",
   "metadata": {
    "cell_id": "75ae5dfe2d6745709453523d78a9229f",
    "tags": [],
    "deepnote_to_be_reexecuted": false,
    "source_hash": "63d8c402",
    "execution_start": 1658944098453,
    "execution_millis": 16,
    "deepnote_cell_type": "code",
    "deepnote_cell_height": 272,
    "deepnote_output_heights": [
     175
    ]
   },
   "source": "df[\"Y_pred\"].value_counts()",
   "execution_count": 12,
   "outputs": [
    {
     "output_type": "execute_result",
     "execution_count": 12,
     "data": {
      "text/plain": "2    2688\n7    1963\n6    1097\n0    1073\n4     845\n5     590\n1     355\n3      25\nName: Y_pred, dtype: int64"
     },
     "metadata": {}
    }
   ]
  },
  {
   "cell_type": "code",
   "metadata": {
    "cell_id": "77f2ab37975a4088b1b13c6c221b4295",
    "tags": [],
    "deepnote_to_be_reexecuted": false,
    "source_hash": "262548df",
    "execution_start": 1658944101135,
    "execution_millis": 165,
    "deepnote_cell_type": "code",
    "deepnote_cell_height": 635
   },
   "source": "corr = df2.corr()\ncorr",
   "execution_count": 13,
   "outputs": [
    {
     "output_type": "execute_result",
     "execution_count": 13,
     "data": {
      "application/vnd.deepnote.dataframe.v3+json": {
       "column_count": 17,
       "row_count": 17,
       "columns": [
        {
         "name": "BALANCE",
         "dtype": "float64",
         "stats": {
          "unique_count": 17,
          "nan_count": 0,
          "min": "-0.33359377818008495",
          "max": "1.0",
          "histogram": [
           {
            "bin_start": -0.33359377818008495,
            "bin_end": -0.20023440036207646,
            "count": 1
           },
           {
            "bin_start": -0.20023440036207646,
            "bin_end": -0.06687502254406796,
            "count": 2
           },
           {
            "bin_start": -0.06687502254406796,
            "bin_end": 0.06648435527394053,
            "count": 1
           },
           {
            "bin_start": 0.06648435527394053,
            "bin_end": 0.19984373309194903,
            "count": 5
           },
           {
            "bin_start": 0.19984373309194903,
            "bin_end": 0.33320311090995747,
            "count": 2
           },
           {
            "bin_start": 0.33320311090995747,
            "bin_end": 0.466562488727966,
            "count": 3
           },
           {
            "bin_start": 0.466562488727966,
            "bin_end": 0.5999218665459746,
            "count": 2
           },
           {
            "bin_start": 0.5999218665459746,
            "bin_end": 0.733281244363983,
            "count": 0
           },
           {
            "bin_start": 0.733281244363983,
            "bin_end": 0.8666406221819914,
            "count": 0
           },
           {
            "bin_start": 0.8666406221819914,
            "bin_end": 1,
            "count": 1
           }
          ]
         }
        },
        {
         "name": "BALANCE_FREQUENCY",
         "dtype": "float64",
         "stats": {
          "unique_count": 17,
          "nan_count": 0,
          "min": "-0.1569608028824013",
          "max": "1.0",
          "histogram": [
           {
            "bin_start": -0.1569608028824013,
            "bin_end": -0.04126472259416118,
            "count": 1
           },
           {
            "bin_start": -0.04126472259416118,
            "bin_end": 0.07443135769407894,
            "count": 1
           },
           {
            "bin_start": 0.07443135769407894,
            "bin_end": 0.19012743798231904,
            "count": 12
           },
           {
            "bin_start": 0.19012743798231904,
            "bin_end": 0.3058235182705592,
            "count": 1
           },
           {
            "bin_start": 0.3058235182705592,
            "bin_end": 0.4215195985587993,
            "count": 1
           },
           {
            "bin_start": 0.4215195985587993,
            "bin_end": 0.5372156788470394,
            "count": 0
           },
           {
            "bin_start": 0.5372156788470394,
            "bin_end": 0.6529117591352795,
            "count": 0
           },
           {
            "bin_start": 0.6529117591352795,
            "bin_end": 0.7686078394235196,
            "count": 0
           },
           {
            "bin_start": 0.7686078394235196,
            "bin_end": 0.8843039197117598,
            "count": 0
           },
           {
            "bin_start": 0.8843039197117598,
            "bin_end": 1,
            "count": 1
           }
          ]
         }
        },
        {
         "name": "PURCHASES",
         "dtype": "float64",
         "stats": {
          "unique_count": 17,
          "nan_count": 0,
          "min": "-0.12486256249891231",
          "max": "1.0",
          "histogram": [
           {
            "bin_start": -0.12486256249891231,
            "bin_end": -0.012376306249021071,
            "count": 3
           },
           {
            "bin_start": -0.012376306249021071,
            "bin_end": 0.10010995000087017,
            "count": 2
           },
           {
            "bin_start": 0.10010995000087017,
            "bin_end": 0.21259620625076142,
            "count": 3
           },
           {
            "bin_start": 0.21259620625076142,
            "bin_end": 0.32508246250065265,
            "count": 1
           },
           {
            "bin_start": 0.32508246250065265,
            "bin_end": 0.4375687187505439,
            "count": 2
           },
           {
            "bin_start": 0.4375687187505439,
            "bin_end": 0.5500549750004351,
            "count": 1
           },
           {
            "bin_start": 0.5500549750004351,
            "bin_end": 0.6625412312503263,
            "count": 1
           },
           {
            "bin_start": 0.6625412312503263,
            "bin_end": 0.7750274875002177,
            "count": 2
           },
           {
            "bin_start": 0.7750274875002177,
            "bin_end": 0.8875137437501088,
            "count": 0
           },
           {
            "bin_start": 0.8875137437501088,
            "bin_end": 1,
            "count": 2
           }
          ]
         }
        },
        {
         "name": "ONEOFF_PURCHASES",
         "dtype": "float64",
         "stats": {
          "unique_count": 17,
          "nan_count": 0,
          "min": "-0.08641310618761995",
          "max": "1.0",
          "histogram": [
           {
            "bin_start": -0.08641310618761995,
            "bin_end": 0.02222820443114204,
            "count": 3
           },
           {
            "bin_start": 0.02222820443114204,
            "bin_end": 0.13086951504990402,
            "count": 5
           },
           {
            "bin_start": 0.13086951504990402,
            "bin_end": 0.23951082566866605,
            "count": 1
           },
           {
            "bin_start": 0.23951082566866605,
            "bin_end": 0.348152136287428,
            "count": 3
           },
           {
            "bin_start": 0.348152136287428,
            "bin_end": 0.45679344690619,
            "count": 0
           },
           {
            "bin_start": 0.45679344690619,
            "bin_end": 0.565434757524952,
            "count": 2
           },
           {
            "bin_start": 0.565434757524952,
            "bin_end": 0.6740760681437139,
            "count": 1
           },
           {
            "bin_start": 0.6740760681437139,
            "bin_end": 0.7827173787624759,
            "count": 0
           },
           {
            "bin_start": 0.7827173787624759,
            "bin_end": 0.891358689381238,
            "count": 0
           },
           {
            "bin_start": 0.891358689381238,
            "bin_end": 1,
            "count": 2
           }
          ]
         }
        },
        {
         "name": "INSTALLMENTS_PURCHASES",
         "dtype": "float64",
         "stats": {
          "unique_count": 17,
          "nan_count": 0,
          "min": "-0.13645481134931625",
          "max": "1.0",
          "histogram": [
           {
            "bin_start": -0.13645481134931625,
            "bin_end": -0.022809330214384624,
            "count": 3
           },
           {
            "bin_start": -0.022809330214384624,
            "bin_end": 0.090836150920547,
            "count": 1
           },
           {
            "bin_start": 0.090836150920547,
            "bin_end": 0.20448163205547865,
            "count": 4
           },
           {
            "bin_start": 0.20448163205547865,
            "bin_end": 0.31812711319041026,
            "count": 2
           },
           {
            "bin_start": 0.31812711319041026,
            "bin_end": 0.4317725943253419,
            "count": 2
           },
           {
            "bin_start": 0.4317725943253419,
            "bin_end": 0.5454180754602735,
            "count": 2
           },
           {
            "bin_start": 0.5454180754602735,
            "bin_end": 0.6590635565952051,
            "count": 1
           },
           {
            "bin_start": 0.6590635565952051,
            "bin_end": 0.7727090377301368,
            "count": 1
           },
           {
            "bin_start": 0.7727090377301368,
            "bin_end": 0.8863545188650683,
            "count": 0
           },
           {
            "bin_start": 0.8863545188650683,
            "bin_end": 1,
            "count": 1
           }
          ]
         }
        },
        {
         "name": "CASH_ADVANCE",
         "dtype": "float64",
         "stats": {
          "unique_count": 17,
          "nan_count": 0,
          "min": "-0.21856648042585958",
          "max": "1.0",
          "histogram": [
           {
            "bin_start": -0.21856648042585958,
            "bin_end": -0.09670983238327362,
            "count": 3
           },
           {
            "bin_start": -0.09670983238327362,
            "bin_end": 0.025146815659312344,
            "count": 6
           },
           {
            "bin_start": 0.025146815659312344,
            "bin_end": 0.14700346370189832,
            "count": 2
           },
           {
            "bin_start": 0.14700346370189832,
            "bin_end": 0.26886011174448426,
            "count": 0
           },
           {
            "bin_start": 0.26886011174448426,
            "bin_end": 0.3907167597870702,
            "count": 1
           },
           {
            "bin_start": 0.3907167597870702,
            "bin_end": 0.5125734078296562,
            "count": 2
           },
           {
            "bin_start": 0.5125734078296562,
            "bin_end": 0.6344300558722421,
            "count": 1
           },
           {
            "bin_start": 0.6344300558722421,
            "bin_end": 0.7562867039148281,
            "count": 1
           },
           {
            "bin_start": 0.7562867039148281,
            "bin_end": 0.878143351957414,
            "count": 0
           },
           {
            "bin_start": 0.878143351957414,
            "bin_end": 1,
            "count": 1
           }
          ]
         }
        },
        {
         "name": "PURCHASES_FREQUENCY",
         "dtype": "float64",
         "stats": {
          "unique_count": 17,
          "nan_count": 0,
          "min": "-0.31677071791088657",
          "max": "1.0",
          "histogram": [
           {
            "bin_start": -0.31677071791088657,
            "bin_end": -0.18509364611979792,
            "count": 3
           },
           {
            "bin_start": -0.18509364611979792,
            "bin_end": -0.053416574328709276,
            "count": 1
           },
           {
            "bin_start": -0.053416574328709276,
            "bin_end": 0.07826049746237934,
            "count": 2
           },
           {
            "bin_start": 0.07826049746237934,
            "bin_end": 0.20993756925346801,
            "count": 2
           },
           {
            "bin_start": 0.20993756925346801,
            "bin_end": 0.3416146410445567,
            "count": 3
           },
           {
            "bin_start": 0.3416146410445567,
            "bin_end": 0.47329171283564525,
            "count": 2
           },
           {
            "bin_start": 0.47329171283564525,
            "bin_end": 0.604968784626734,
            "count": 2
           },
           {
            "bin_start": 0.604968784626734,
            "bin_end": 0.7366458564178227,
            "count": 0
           },
           {
            "bin_start": 0.7366458564178227,
            "bin_end": 0.8683229282089113,
            "count": 1
           },
           {
            "bin_start": 0.8683229282089113,
            "bin_end": 1,
            "count": 1
           }
          ]
         }
        },
        {
         "name": "ONEOFF_PURCHASES_FREQUENCY",
         "dtype": "float64",
         "stats": {
          "unique_count": 17,
          "nan_count": 0,
          "min": "-0.11822491034571449",
          "max": "1.0",
          "histogram": [
           {
            "bin_start": -0.11822491034571449,
            "bin_end": -0.006402419311143034,
            "count": 4
           },
           {
            "bin_start": -0.006402419311143034,
            "bin_end": 0.10542007172342842,
            "count": 2
           },
           {
            "bin_start": 0.10542007172342842,
            "bin_end": 0.2172425627579999,
            "count": 4
           },
           {
            "bin_start": 0.2172425627579999,
            "bin_end": 0.32906505379257134,
            "count": 2
           },
           {
            "bin_start": 0.32906505379257134,
            "bin_end": 0.44088754482714276,
            "count": 0
           },
           {
            "bin_start": 0.44088754482714276,
            "bin_end": 0.5527100358617143,
            "count": 4
           },
           {
            "bin_start": 0.5527100358617143,
            "bin_end": 0.6645325268962857,
            "count": 0
           },
           {
            "bin_start": 0.6645325268962857,
            "bin_end": 0.7763550179308571,
            "count": 0
           },
           {
            "bin_start": 0.7763550179308571,
            "bin_end": 0.8881775089654287,
            "count": 0
           },
           {
            "bin_start": 0.8881775089654287,
            "bin_end": 1,
            "count": 1
           }
          ]
         }
        },
        {
         "name": "PURCHASES_INSTALLMENTS_FREQUENCY",
         "dtype": "float64",
         "stats": {
          "unique_count": 17,
          "nan_count": 0,
          "min": "-0.2689239612692962",
          "max": "1.0",
          "histogram": [
           {
            "bin_start": -0.2689239612692962,
            "bin_end": -0.14203156514236656,
            "count": 3
           },
           {
            "bin_start": -0.14203156514236656,
            "bin_end": -0.015139169015436937,
            "count": 1
           },
           {
            "bin_start": -0.015139169015436937,
            "bin_end": 0.11175322711149271,
            "count": 4
           },
           {
            "bin_start": 0.11175322711149271,
            "bin_end": 0.2386456232384223,
            "count": 3
           },
           {
            "bin_start": 0.2386456232384223,
            "bin_end": 0.3655380193653519,
            "count": 2
           },
           {
            "bin_start": 0.3655380193653519,
            "bin_end": 0.4924304154922816,
            "count": 0
           },
           {
            "bin_start": 0.4924304154922816,
            "bin_end": 0.6193228116192112,
            "count": 2
           },
           {
            "bin_start": 0.6193228116192112,
            "bin_end": 0.7462152077461408,
            "count": 0
           },
           {
            "bin_start": 0.7462152077461408,
            "bin_end": 0.8731076038730705,
            "count": 1
           },
           {
            "bin_start": 0.8731076038730705,
            "bin_end": 1,
            "count": 1
           }
          ]
         }
        },
        {
         "name": "CASH_ADVANCE_FREQUENCY",
         "dtype": "float64",
         "stats": {
          "unique_count": 17,
          "nan_count": 0,
          "min": "-0.31677071791088657",
          "max": "1.0",
          "histogram": [
           {
            "bin_start": -0.31677071791088657,
            "bin_end": -0.18509364611979792,
            "count": 3
           },
           {
            "bin_start": -0.18509364611979792,
            "bin_end": -0.053416574328709276,
            "count": 6
           },
           {
            "bin_start": -0.053416574328709276,
            "bin_end": 0.07826049746237934,
            "count": 0
           },
           {
            "bin_start": 0.07826049746237934,
            "bin_end": 0.20993756925346801,
            "count": 4
           },
           {
            "bin_start": 0.20993756925346801,
            "bin_end": 0.3416146410445567,
            "count": 0
           },
           {
            "bin_start": 0.3416146410445567,
            "bin_end": 0.47329171283564525,
            "count": 1
           },
           {
            "bin_start": 0.47329171283564525,
            "bin_end": 0.604968784626734,
            "count": 0
           },
           {
            "bin_start": 0.604968784626734,
            "bin_end": 0.7366458564178227,
            "count": 1
           },
           {
            "bin_start": 0.7366458564178227,
            "bin_end": 0.8683229282089113,
            "count": 1
           },
           {
            "bin_start": 0.8683229282089113,
            "bin_end": 1,
            "count": 1
           }
          ]
         }
        },
        {
         "name": "CASH_ADVANCE_TRX",
         "dtype": "float64",
         "stats": {
          "unique_count": 17,
          "nan_count": 0,
          "min": "-0.20874915899593743",
          "max": "1.0",
          "histogram": [
           {
            "bin_start": -0.20874915899593743,
            "bin_end": -0.0878742430963437,
            "count": 3
           },
           {
            "bin_start": -0.0878742430963437,
            "bin_end": 0.03300067280325003,
            "count": 6
           },
           {
            "bin_start": 0.03300067280325003,
            "bin_end": 0.15387558870284374,
            "count": 3
           },
           {
            "bin_start": 0.15387558870284374,
            "bin_end": 0.2747505046024375,
            "count": 1
           },
           {
            "bin_start": 0.2747505046024375,
            "bin_end": 0.39562542050203126,
            "count": 1
           },
           {
            "bin_start": 0.39562542050203126,
            "bin_end": 0.516500336401625,
            "count": 0
           },
           {
            "bin_start": 0.516500336401625,
            "bin_end": 0.6373752523012186,
            "count": 0
           },
           {
            "bin_start": 0.6373752523012186,
            "bin_end": 0.7582501682008125,
            "count": 1
           },
           {
            "bin_start": 0.7582501682008125,
            "bin_end": 0.8791250841004061,
            "count": 1
           },
           {
            "bin_start": 0.8791250841004061,
            "bin_end": 1,
            "count": 1
           }
          ]
         }
        },
        {
         "name": "PURCHASES_TRX",
         "dtype": "float64",
         "stats": {
          "unique_count": 17,
          "nan_count": 0,
          "min": "-0.1369132573171847",
          "max": "1.0",
          "histogram": [
           {
            "bin_start": -0.1369132573171847,
            "bin_end": -0.023221931585466232,
            "count": 3
           },
           {
            "bin_start": -0.023221931585466232,
            "bin_end": 0.09046939414625224,
            "count": 0
           },
           {
            "bin_start": 0.09046939414625224,
            "bin_end": 0.20416071987797071,
            "count": 5
           },
           {
            "bin_start": 0.20416071987797071,
            "bin_end": 0.31785204560968916,
            "count": 1
           },
           {
            "bin_start": 0.31785204560968916,
            "bin_end": 0.43154337134140763,
            "count": 1
           },
           {
            "bin_start": 0.43154337134140763,
            "bin_end": 0.5452346970731261,
            "count": 2
           },
           {
            "bin_start": 0.5452346970731261,
            "bin_end": 0.6589260228048446,
            "count": 3
           },
           {
            "bin_start": 0.6589260228048446,
            "bin_end": 0.772617348536563,
            "count": 1
           },
           {
            "bin_start": 0.772617348536563,
            "bin_end": 0.8863086742682815,
            "count": 0
           },
           {
            "bin_start": 0.8863086742682815,
            "bin_end": 1,
            "count": 1
           }
          ]
         }
        },
        {
         "name": "CREDIT_LIMIT",
         "dtype": "float64",
         "stats": {
          "unique_count": 17,
          "nan_count": 0,
          "min": "0.05257791545376818",
          "max": "1.0",
          "histogram": [
           {
            "bin_start": 0.05257791545376818,
            "bin_end": 0.14732012390839136,
            "count": 7
           },
           {
            "bin_start": 0.14732012390839136,
            "bin_end": 0.24206233236301455,
            "count": 1
           },
           {
            "bin_start": 0.24206233236301455,
            "bin_end": 0.3368045408176377,
            "count": 5
           },
           {
            "bin_start": 0.3368045408176377,
            "bin_end": 0.4315467492722609,
            "count": 2
           },
           {
            "bin_start": 0.4315467492722609,
            "bin_end": 0.5262889577268841,
            "count": 0
           },
           {
            "bin_start": 0.5262889577268841,
            "bin_end": 0.6210311661815073,
            "count": 1
           },
           {
            "bin_start": 0.6210311661815073,
            "bin_end": 0.7157733746361304,
            "count": 0
           },
           {
            "bin_start": 0.7157733746361304,
            "bin_end": 0.8105155830907537,
            "count": 0
           },
           {
            "bin_start": 0.8105155830907537,
            "bin_end": 0.9052577915453769,
            "count": 0
           },
           {
            "bin_start": 0.9052577915453769,
            "bin_end": 1,
            "count": 1
           }
          ]
         }
        },
        {
         "name": "PAYMENTS",
         "dtype": "float64",
         "stats": {
          "unique_count": 17,
          "nan_count": 0,
          "min": "0.0391690951465222",
          "max": "1.0",
          "histogram": [
           {
            "bin_start": 0.0391690951465222,
            "bin_end": 0.13525218563186997,
            "count": 6
           },
           {
            "bin_start": 0.13525218563186997,
            "bin_end": 0.23133527611721774,
            "count": 1
           },
           {
            "bin_start": 0.23133527611721774,
            "bin_end": 0.3274183666025655,
            "count": 3
           },
           {
            "bin_start": 0.3274183666025655,
            "bin_end": 0.4235014570879133,
            "count": 2
           },
           {
            "bin_start": 0.4235014570879133,
            "bin_end": 0.5195845475732611,
            "count": 2
           },
           {
            "bin_start": 0.5195845475732611,
            "bin_end": 0.6156676380586088,
            "count": 2
           },
           {
            "bin_start": 0.6156676380586088,
            "bin_end": 0.7117507285439566,
            "count": 0
           },
           {
            "bin_start": 0.7117507285439566,
            "bin_end": 0.8078338190293044,
            "count": 0
           },
           {
            "bin_start": 0.8078338190293044,
            "bin_end": 0.9039169095146522,
            "count": 0
           },
           {
            "bin_start": 0.9039169095146522,
            "bin_end": 1,
            "count": 1
           }
          ]
         }
        },
        {
         "name": "MINIMUM_PAYMENTS",
         "dtype": "float64",
         "stats": {
          "unique_count": 17,
          "nan_count": 0,
          "min": "-0.14040420688698255",
          "max": "1.0",
          "histogram": [
           {
            "bin_start": -0.14040420688698255,
            "bin_end": -0.026363786198284278,
            "count": 2
           },
           {
            "bin_start": -0.026363786198284278,
            "bin_end": 0.08767663449041399,
            "count": 4
           },
           {
            "bin_start": 0.08767663449041399,
            "bin_end": 0.2017170551791123,
            "count": 9
           },
           {
            "bin_start": 0.2017170551791123,
            "bin_end": 0.31575747586781056,
            "count": 0
           },
           {
            "bin_start": 0.31575747586781056,
            "bin_end": 0.4297978965565088,
            "count": 1
           },
           {
            "bin_start": 0.4297978965565088,
            "bin_end": 0.5438383172452071,
            "count": 0
           },
           {
            "bin_start": 0.5438383172452071,
            "bin_end": 0.6578787379339054,
            "count": 0
           },
           {
            "bin_start": 0.6578787379339054,
            "bin_end": 0.7719191586226036,
            "count": 0
           },
           {
            "bin_start": 0.7719191586226036,
            "bin_end": 0.8859595793113019,
            "count": 0
           },
           {
            "bin_start": 0.8859595793113019,
            "bin_end": 1,
            "count": 1
           }
          ]
         }
        },
        {
         "name": "PRC_FULL_PAYMENT",
         "dtype": "float64",
         "stats": {
          "unique_count": 17,
          "nan_count": 0,
          "min": "-0.33359377818008495",
          "max": "1.0",
          "histogram": [
           {
            "bin_start": -0.33359377818008495,
            "bin_end": -0.20023440036207646,
            "count": 2
           },
           {
            "bin_start": -0.20023440036207646,
            "bin_end": -0.06687502254406796,
            "count": 4
           },
           {
            "bin_start": -0.06687502254406796,
            "bin_end": 0.06648435527394053,
            "count": 2
           },
           {
            "bin_start": 0.06648435527394053,
            "bin_end": 0.19984373309194903,
            "count": 6
           },
           {
            "bin_start": 0.19984373309194903,
            "bin_end": 0.33320311090995747,
            "count": 2
           },
           {
            "bin_start": 0.33320311090995747,
            "bin_end": 0.466562488727966,
            "count": 0
           },
           {
            "bin_start": 0.466562488727966,
            "bin_end": 0.5999218665459746,
            "count": 0
           },
           {
            "bin_start": 0.5999218665459746,
            "bin_end": 0.733281244363983,
            "count": 0
           },
           {
            "bin_start": 0.733281244363983,
            "bin_end": 0.8666406221819914,
            "count": 0
           },
           {
            "bin_start": 0.8666406221819914,
            "bin_end": 1,
            "count": 1
           }
          ]
         }
        },
        {
         "name": "TENURE",
         "dtype": "float64",
         "stats": {
          "unique_count": 17,
          "nan_count": 0,
          "min": "-0.14003762024245325",
          "max": "1.0",
          "histogram": [
           {
            "bin_start": -0.14003762024245325,
            "bin_end": -0.026033858218207917,
            "count": 3
           },
           {
            "bin_start": -0.026033858218207917,
            "bin_end": 0.08796990380603742,
            "count": 9
           },
           {
            "bin_start": 0.08796990380603742,
            "bin_end": 0.20197366583028276,
            "count": 4
           },
           {
            "bin_start": 0.20197366583028276,
            "bin_end": 0.3159774278545281,
            "count": 0
           },
           {
            "bin_start": 0.3159774278545281,
            "bin_end": 0.42998118987877343,
            "count": 0
           },
           {
            "bin_start": 0.42998118987877343,
            "bin_end": 0.5439849519030188,
            "count": 0
           },
           {
            "bin_start": 0.5439849519030188,
            "bin_end": 0.6579887139272641,
            "count": 0
           },
           {
            "bin_start": 0.6579887139272641,
            "bin_end": 0.7719924759515094,
            "count": 0
           },
           {
            "bin_start": 0.7719924759515094,
            "bin_end": 0.8859962379757548,
            "count": 0
           },
           {
            "bin_start": 0.8859962379757548,
            "bin_end": 1,
            "count": 1
           }
          ]
         }
        },
        {
         "name": "_deepnote_index_column",
         "dtype": "object"
        }
       ],
       "rows": [
        {
         "BALANCE": 1,
         "BALANCE_FREQUENCY": 0.31014045208567753,
         "PURCHASES": 0.17608308856118896,
         "ONEOFF_PURCHASES": 0.15998462233133567,
         "INSTALLMENTS_PURCHASES": 0.12210871802331293,
         "CASH_ADVANCE": 0.49558562074342855,
         "PURCHASES_FREQUENCY": -0.08845943918260925,
         "ONEOFF_PURCHASES_FREQUENCY": 0.0638316334604315,
         "PURCHASES_INSTALLMENTS_FREQUENCY": -0.06958198656198121,
         "CASH_ADVANCE_FREQUENCY": 0.4453071597856588,
         "CASH_ADVANCE_TRX": 0.38238844579153336,
         "PURCHASES_TRX": 0.1478872123697768,
         "CREDIT_LIMIT": 0.5355181769398302,
         "PAYMENTS": 0.322830002047343,
         "MINIMUM_PAYMENTS": 0.3986689195338603,
         "PRC_FULL_PAYMENT": -0.33359377818008495,
         "TENURE": 0.06698708795722912,
         "_deepnote_index_column": "BALANCE"
        },
        {
         "BALANCE": 0.31014045208567753,
         "BALANCE_FREQUENCY": 1,
         "PURCHASES": 0.12263474755434146,
         "ONEOFF_PURCHASES": 0.09525420784943171,
         "INSTALLMENTS_PURCHASES": 0.1147390394948584,
         "CASH_ADVANCE": 0.08903584855613274,
         "PURCHASES_FREQUENCY": 0.22815801713807,
         "ONEOFF_PURCHASES_FREQUENCY": 0.18746741768658562,
         "PURCHASES_INSTALLMENTS_FREQUENCY": 0.1841594387373473,
         "CASH_ADVANCE_FREQUENCY": 0.18113215557297926,
         "CASH_ADVANCE_TRX": 0.13326522446774072,
         "PURCHASES_TRX": 0.18309471276786377,
         "CREDIT_LIMIT": 0.08768229019187704,
         "PAYMENTS": 0.0391690951465222,
         "MINIMUM_PAYMENTS": 0.13251924600931494,
         "PRC_FULL_PAYMENT": -0.1569608028824013,
         "TENURE": 0.1047144089743331,
         "_deepnote_index_column": "BALANCE_FREQUENCY"
        },
        {
         "BALANCE": 0.17608308856118896,
         "BALANCE_FREQUENCY": 0.12263474755434146,
         "PURCHASES": 1,
         "ONEOFF_PURCHASES": 0.9167802242554131,
         "INSTALLMENTS_PURCHASES": 0.6792588966530373,
         "CASH_ADVANCE": -0.053760221004654905,
         "PURCHASES_FREQUENCY": 0.3929996912365171,
         "ONEOFF_PURCHASES_FREQUENCY": 0.49738406666070617,
         "PURCHASES_INSTALLMENTS_FREQUENCY": 0.3160249301550474,
         "CASH_ADVANCE_FREQUENCY": -0.12486256249891231,
         "CASH_ADVANCE_TRX": -0.07027722776542028,
         "PURCHASES_TRX": 0.6887316093440824,
         "CREDIT_LIMIT": 0.35842540016495367,
         "PAYMENTS": 0.606782360725713,
         "MINIMUM_PAYMENTS": 0.09384200002404312,
         "PRC_FULL_PAYMENT": 0.17644721771695454,
         "TENURE": 0.08454518519357836,
         "_deepnote_index_column": "PURCHASES"
        },
        {
         "BALANCE": 0.15998462233133567,
         "BALANCE_FREQUENCY": 0.09525420784943171,
         "PURCHASES": 0.9167802242554131,
         "ONEOFF_PURCHASES": 1,
         "INSTALLMENTS_PURCHASES": 0.3296496279057562,
         "CASH_ADVANCE": -0.03324435714166838,
         "PURCHASES_FREQUENCY": 0.2654604833897174,
         "ONEOFF_PURCHASES_FREQUENCY": 0.5245140602737831,
         "PURCHASES_INSTALLMENTS_FREQUENCY": 0.1283798068339944,
         "CASH_ADVANCE_FREQUENCY": -0.08641310618761995,
         "CASH_ADVANCE_TRX": -0.048705214474107694,
         "PURCHASES_TRX": 0.5453126692974087,
         "CREDIT_LIMIT": 0.32061345095092536,
         "PAYMENTS": 0.5708503450969701,
         "MINIMUM_PAYMENTS": 0.048741240635312565,
         "PRC_FULL_PAYMENT": 0.1298899668647471,
         "TENURE": 0.06339985996166048,
         "_deepnote_index_column": "ONEOFF_PURCHASES"
        },
        {
         "BALANCE": 0.12210871802331293,
         "BALANCE_FREQUENCY": 0.1147390394948584,
         "PURCHASES": 0.6792588966530373,
         "ONEOFF_PURCHASES": 0.3296496279057562,
         "INSTALLMENTS_PURCHASES": 1,
         "CASH_ADVANCE": -0.06609906907431506,
         "PURCHASES_FREQUENCY": 0.4411934401932504,
         "ONEOFF_PURCHASES_FREQUENCY": 0.21182881221555813,
         "PURCHASES_INSTALLMENTS_FREQUENCY": 0.511130300699488,
         "CASH_ADVANCE_FREQUENCY": -0.13645481134931625,
         "CASH_ADVANCE_TRX": -0.07671580247195943,
         "PURCHASES_TRX": 0.6260825404555918,
         "CREDIT_LIMIT": 0.25805749274947665,
         "PAYMENTS": 0.3853911836213762,
         "MINIMUM_PAYMENTS": 0.13215578659113136,
         "PRC_FULL_PAYMENT": 0.17843958601394086,
         "TENURE": 0.08334566756393379,
         "_deepnote_index_column": "INSTALLMENTS_PURCHASES"
        },
        {
         "BALANCE": 0.49558562074342855,
         "BALANCE_FREQUENCY": 0.08903584855613274,
         "PURCHASES": -0.053760221004654905,
         "ONEOFF_PURCHASES": -0.03324435714166838,
         "INSTALLMENTS_PURCHASES": -0.06609906907431506,
         "CASH_ADVANCE": 1,
         "PURCHASES_FREQUENCY": -0.21856648042585958,
         "ONEOFF_PURCHASES_FREQUENCY": -0.0901108327888709,
         "PURCHASES_INSTALLMENTS_FREQUENCY": -0.17887343049317572,
         "CASH_ADVANCE_FREQUENCY": 0.6290302541257747,
         "CASH_ADVANCE_TRX": 0.656911470117445,
         "PURCHASES_TRX": -0.07844867568470698,
         "CREDIT_LIMIT": 0.30416069418073327,
         "PAYMENTS": 0.45934244173674704,
         "MINIMUM_PAYMENTS": 0.1400938689891722,
         "PRC_FULL_PAYMENT": -0.1585663431385558,
         "TENURE": -0.07308979424179375,
         "_deepnote_index_column": "CASH_ADVANCE"
        },
        {
         "BALANCE": -0.08845943918260925,
         "BALANCE_FREQUENCY": 0.22815801713807,
         "PURCHASES": 0.3929996912365171,
         "ONEOFF_PURCHASES": 0.2654604833897174,
         "INSTALLMENTS_PURCHASES": 0.4411934401932504,
         "CASH_ADVANCE": -0.21856648042585958,
         "PURCHASES_FREQUENCY": 1,
         "ONEOFF_PURCHASES_FREQUENCY": 0.5021232684817156,
         "PURCHASES_INSTALLMENTS_FREQUENCY": 0.8623379116139405,
         "CASH_ADVANCE_FREQUENCY": -0.31677071791088657,
         "CASH_ADVANCE_TRX": -0.20874915899593743,
         "PURCHASES_TRX": 0.5671682585433255,
         "CREDIT_LIMIT": 0.12137198824215326,
         "PAYMENTS": 0.10071517464689478,
         "MINIMUM_PAYMENTS": 0.0029787151114887287,
         "PRC_FULL_PAYMENT": 0.3053933093182167,
         "TENURE": 0.05216082018407065,
         "_deepnote_index_column": "PURCHASES_FREQUENCY"
        },
        {
         "BALANCE": 0.0638316334604315,
         "BALANCE_FREQUENCY": 0.18746741768658562,
         "PURCHASES": 0.49738406666070617,
         "ONEOFF_PURCHASES": 0.5245140602737831,
         "INSTALLMENTS_PURCHASES": 0.21182881221555813,
         "CASH_ADVANCE": -0.0901108327888709,
         "PURCHASES_FREQUENCY": 0.5021232684817156,
         "ONEOFF_PURCHASES_FREQUENCY": 1,
         "PURCHASES_INSTALLMENTS_FREQUENCY": 0.14391127425433153,
         "CASH_ADVANCE_FREQUENCY": -0.11822491034571449,
         "CASH_ADVANCE_TRX": -0.07338371590148052,
         "PURCHASES_TRX": 0.5443641904797325,
         "CREDIT_LIMIT": 0.2954323353032445,
         "PAYMENTS": 0.24434588309842736,
         "MINIMUM_PAYMENTS": -0.030356500940457675,
         "PRC_FULL_PAYMENT": 0.154073170132516,
         "TENURE": 0.08043719998930773,
         "_deepnote_index_column": "ONEOFF_PURCHASES_FREQUENCY"
        },
        {
         "BALANCE": -0.06958198656198121,
         "BALANCE_FREQUENCY": 0.1841594387373473,
         "PURCHASES": 0.3160249301550474,
         "ONEOFF_PURCHASES": 0.1283798068339944,
         "INSTALLMENTS_PURCHASES": 0.511130300699488,
         "CASH_ADVANCE": -0.17887343049317572,
         "PURCHASES_FREQUENCY": 0.8623379116139405,
         "ONEOFF_PURCHASES_FREQUENCY": 0.14391127425433153,
         "PURCHASES_INSTALLMENTS_FREQUENCY": 1,
         "CASH_ADVANCE_FREQUENCY": -0.2689239612692962,
         "CASH_ADVANCE_TRX": -0.17281089956875956,
         "PURCHASES_TRX": 0.5291915591650718,
         "CREDIT_LIMIT": 0.06342087713267916,
         "PAYMENTS": 0.0834241219516667,
         "MINIMUM_PAYMENTS": 0.030036248197487812,
         "PRC_FULL_PAYMENT": 0.24954658975156385,
         "TENURE": 0.06577934944512644,
         "_deepnote_index_column": "PURCHASES_INSTALLMENTS_FREQUENCY"
        },
        {
         "BALANCE": 0.4453071597856588,
         "BALANCE_FREQUENCY": 0.18113215557297926,
         "PURCHASES": -0.12486256249891231,
         "ONEOFF_PURCHASES": -0.08641310618761995,
         "INSTALLMENTS_PURCHASES": -0.13645481134931625,
         "CASH_ADVANCE": 0.6290302541257747,
         "PURCHASES_FREQUENCY": -0.31677071791088657,
         "ONEOFF_PURCHASES_FREQUENCY": -0.11822491034571449,
         "PURCHASES_INSTALLMENTS_FREQUENCY": -0.2689239612692962,
         "CASH_ADVANCE_FREQUENCY": 1,
         "CASH_ADVANCE_TRX": 0.7995928545853863,
         "PURCHASES_TRX": -0.1369132573171847,
         "CREDIT_LIMIT": 0.13284058985172975,
         "PAYMENTS": 0.18233951464471024,
         "MINIMUM_PAYMENTS": 0.09884446164123664,
         "PRC_FULL_PAYMENT": -0.26000117241760606,
         "TENURE": -0.14003762024245325,
         "_deepnote_index_column": "CASH_ADVANCE_FREQUENCY"
        }
       ]
      },
      "text/plain": "                                   BALANCE  BALANCE_FREQUENCY  PURCHASES  \\\nBALANCE                           1.000000           0.310140   0.176083   \nBALANCE_FREQUENCY                 0.310140           1.000000   0.122635   \nPURCHASES                         0.176083           0.122635   1.000000   \nONEOFF_PURCHASES                  0.159985           0.095254   0.916780   \nINSTALLMENTS_PURCHASES            0.122109           0.114739   0.679259   \nCASH_ADVANCE                      0.495586           0.089036  -0.053760   \nPURCHASES_FREQUENCY              -0.088459           0.228158   0.393000   \nONEOFF_PURCHASES_FREQUENCY        0.063832           0.187467   0.497384   \nPURCHASES_INSTALLMENTS_FREQUENCY -0.069582           0.184159   0.316025   \nCASH_ADVANCE_FREQUENCY            0.445307           0.181132  -0.124863   \nCASH_ADVANCE_TRX                  0.382388           0.133265  -0.070277   \nPURCHASES_TRX                     0.147887           0.183095   0.688732   \nCREDIT_LIMIT                      0.535518           0.087682   0.358425   \nPAYMENTS                          0.322830           0.039169   0.606782   \nMINIMUM_PAYMENTS                  0.398669           0.132519   0.093842   \nPRC_FULL_PAYMENT                 -0.333594          -0.156961   0.176447   \nTENURE                            0.066987           0.104714   0.084545   \n\n                                  ONEOFF_PURCHASES  INSTALLMENTS_PURCHASES  \\\nBALANCE                                   0.159985                0.122109   \nBALANCE_FREQUENCY                         0.095254                0.114739   \nPURCHASES                                 0.916780                0.679259   \nONEOFF_PURCHASES                          1.000000                0.329650   \nINSTALLMENTS_PURCHASES                    0.329650                1.000000   \nCASH_ADVANCE                             -0.033244               -0.066099   \nPURCHASES_FREQUENCY                       0.265460                0.441193   \nONEOFF_PURCHASES_FREQUENCY                0.524514                0.211829   \nPURCHASES_INSTALLMENTS_FREQUENCY          0.128380                0.511130   \nCASH_ADVANCE_FREQUENCY                   -0.086413               -0.136455   \nCASH_ADVANCE_TRX                         -0.048705               -0.076716   \nPURCHASES_TRX                             0.545313                0.626083   \nCREDIT_LIMIT                              0.320613                0.258057   \nPAYMENTS                                  0.570850                0.385391   \nMINIMUM_PAYMENTS                          0.048741                0.132156   \nPRC_FULL_PAYMENT                          0.129890                0.178440   \nTENURE                                    0.063400                0.083346   \n\n                                  CASH_ADVANCE  PURCHASES_FREQUENCY  \\\nBALANCE                               0.495586            -0.088459   \nBALANCE_FREQUENCY                     0.089036             0.228158   \nPURCHASES                            -0.053760             0.393000   \nONEOFF_PURCHASES                     -0.033244             0.265460   \nINSTALLMENTS_PURCHASES               -0.066099             0.441193   \nCASH_ADVANCE                          1.000000            -0.218566   \nPURCHASES_FREQUENCY                  -0.218566             1.000000   \nONEOFF_PURCHASES_FREQUENCY           -0.090111             0.502123   \nPURCHASES_INSTALLMENTS_FREQUENCY     -0.178873             0.862338   \nCASH_ADVANCE_FREQUENCY                0.629030            -0.316771   \nCASH_ADVANCE_TRX                      0.656911            -0.208749   \nPURCHASES_TRX                        -0.078449             0.567168   \nCREDIT_LIMIT                          0.304161             0.121372   \nPAYMENTS                              0.459342             0.100715   \nMINIMUM_PAYMENTS                      0.140094             0.002979   \nPRC_FULL_PAYMENT                     -0.158566             0.305393   \nTENURE                               -0.073090             0.052161   \n\n                                  ONEOFF_PURCHASES_FREQUENCY  \\\nBALANCE                                             0.063832   \nBALANCE_FREQUENCY                                   0.187467   \nPURCHASES                                           0.497384   \nONEOFF_PURCHASES                                    0.524514   \nINSTALLMENTS_PURCHASES                              0.211829   \nCASH_ADVANCE                                       -0.090111   \nPURCHASES_FREQUENCY                                 0.502123   \nONEOFF_PURCHASES_FREQUENCY                          1.000000   \nPURCHASES_INSTALLMENTS_FREQUENCY                    0.143911   \nCASH_ADVANCE_FREQUENCY                             -0.118225   \nCASH_ADVANCE_TRX                                   -0.073384   \nPURCHASES_TRX                                       0.544364   \nCREDIT_LIMIT                                        0.295432   \nPAYMENTS                                            0.244346   \nMINIMUM_PAYMENTS                                   -0.030357   \nPRC_FULL_PAYMENT                                    0.154073   \nTENURE                                              0.080437   \n\n                                  PURCHASES_INSTALLMENTS_FREQUENCY  \\\nBALANCE                                                  -0.069582   \nBALANCE_FREQUENCY                                         0.184159   \nPURCHASES                                                 0.316025   \nONEOFF_PURCHASES                                          0.128380   \nINSTALLMENTS_PURCHASES                                    0.511130   \nCASH_ADVANCE                                             -0.178873   \nPURCHASES_FREQUENCY                                       0.862338   \nONEOFF_PURCHASES_FREQUENCY                                0.143911   \nPURCHASES_INSTALLMENTS_FREQUENCY                          1.000000   \nCASH_ADVANCE_FREQUENCY                                   -0.268924   \nCASH_ADVANCE_TRX                                         -0.172811   \nPURCHASES_TRX                                             0.529192   \nCREDIT_LIMIT                                              0.063421   \nPAYMENTS                                                  0.083424   \nMINIMUM_PAYMENTS                                          0.030036   \nPRC_FULL_PAYMENT                                          0.249547   \nTENURE                                                    0.065779   \n\n                                  CASH_ADVANCE_FREQUENCY  CASH_ADVANCE_TRX  \\\nBALANCE                                         0.445307          0.382388   \nBALANCE_FREQUENCY                               0.181132          0.133265   \nPURCHASES                                      -0.124863         -0.070277   \nONEOFF_PURCHASES                               -0.086413         -0.048705   \nINSTALLMENTS_PURCHASES                         -0.136455         -0.076716   \nCASH_ADVANCE                                    0.629030          0.656911   \nPURCHASES_FREQUENCY                            -0.316771         -0.208749   \nONEOFF_PURCHASES_FREQUENCY                     -0.118225         -0.073384   \nPURCHASES_INSTALLMENTS_FREQUENCY               -0.268924         -0.172811   \nCASH_ADVANCE_FREQUENCY                          1.000000          0.799593   \nCASH_ADVANCE_TRX                                0.799593          1.000000   \nPURCHASES_TRX                                  -0.136913         -0.069879   \nCREDIT_LIMIT                                    0.132841          0.150261   \nPAYMENTS                                        0.182340          0.255921   \nMINIMUM_PAYMENTS                                0.098844          0.109727   \nPRC_FULL_PAYMENT                               -0.260001         -0.176574   \nTENURE                                         -0.140038         -0.045350   \n\n                                  PURCHASES_TRX  CREDIT_LIMIT  PAYMENTS  \\\nBALANCE                                0.147887      0.535518  0.322830   \nBALANCE_FREQUENCY                      0.183095      0.087682  0.039169   \nPURCHASES                              0.688732      0.358425  0.606782   \nONEOFF_PURCHASES                       0.545313      0.320613  0.570850   \nINSTALLMENTS_PURCHASES                 0.626083      0.258057  0.385391   \nCASH_ADVANCE                          -0.078449      0.304161  0.459342   \nPURCHASES_FREQUENCY                    0.567168      0.121372  0.100715   \nONEOFF_PURCHASES_FREQUENCY             0.544364      0.295432  0.244346   \nPURCHASES_INSTALLMENTS_FREQUENCY       0.529192      0.063421  0.083424   \nCASH_ADVANCE_FREQUENCY                -0.136913      0.132841  0.182340   \nCASH_ADVANCE_TRX                      -0.069879      0.150261  0.255921   \nPURCHASES_TRX                          1.000000      0.273715  0.371477   \nCREDIT_LIMIT                           0.273715      1.000000  0.426951   \nPAYMENTS                               0.371477      0.426951  1.000000   \nMINIMUM_PAYMENTS                       0.096311      0.126671  0.126630   \nPRC_FULL_PAYMENT                       0.156789      0.052578  0.104668   \nTENURE                                 0.118889      0.136464  0.102986   \n\n                                  MINIMUM_PAYMENTS  PRC_FULL_PAYMENT    TENURE  \nBALANCE                                   0.398669         -0.333594  0.066987  \nBALANCE_FREQUENCY                         0.132519         -0.156961  0.104714  \nPURCHASES                                 0.093842          0.176447  0.084545  \nONEOFF_PURCHASES                          0.048741          0.129890  0.063400  \nINSTALLMENTS_PURCHASES                    0.132156          0.178440  0.083346  \nCASH_ADVANCE                              0.140094         -0.158566 -0.073090  \nPURCHASES_FREQUENCY                       0.002979          0.305393  0.052161  \nONEOFF_PURCHASES_FREQUENCY               -0.030357          0.154073  0.080437  \nPURCHASES_INSTALLMENTS_FREQUENCY          0.030036          0.249547  0.065779  \nCASH_ADVANCE_FREQUENCY                    0.098844         -0.260001 -0.140038  \nCASH_ADVANCE_TRX                          0.109727         -0.176574 -0.045350  \nPURCHASES_TRX                             0.096311          0.156789  0.118889  \nCREDIT_LIMIT                              0.126671          0.052578  0.136464  \nPAYMENTS                                  0.126630          0.104668  0.102986  \nMINIMUM_PAYMENTS                          1.000000         -0.140404  0.059330  \nPRC_FULL_PAYMENT                         -0.140404          1.000000 -0.024223  \nTENURE                                    0.059330         -0.024223  1.000000  ",
      "text/html": "<div>\n<style scoped>\n    .dataframe tbody tr th:only-of-type {\n        vertical-align: middle;\n    }\n\n    .dataframe tbody tr th {\n        vertical-align: top;\n    }\n\n    .dataframe thead th {\n        text-align: right;\n    }\n</style>\n<table border=\"1\" class=\"dataframe\">\n  <thead>\n    <tr style=\"text-align: right;\">\n      <th></th>\n      <th>BALANCE</th>\n      <th>BALANCE_FREQUENCY</th>\n      <th>PURCHASES</th>\n      <th>ONEOFF_PURCHASES</th>\n      <th>INSTALLMENTS_PURCHASES</th>\n      <th>CASH_ADVANCE</th>\n      <th>PURCHASES_FREQUENCY</th>\n      <th>ONEOFF_PURCHASES_FREQUENCY</th>\n      <th>PURCHASES_INSTALLMENTS_FREQUENCY</th>\n      <th>CASH_ADVANCE_FREQUENCY</th>\n      <th>CASH_ADVANCE_TRX</th>\n      <th>PURCHASES_TRX</th>\n      <th>CREDIT_LIMIT</th>\n      <th>PAYMENTS</th>\n      <th>MINIMUM_PAYMENTS</th>\n      <th>PRC_FULL_PAYMENT</th>\n      <th>TENURE</th>\n    </tr>\n  </thead>\n  <tbody>\n    <tr>\n      <th>BALANCE</th>\n      <td>1.000000</td>\n      <td>0.310140</td>\n      <td>0.176083</td>\n      <td>0.159985</td>\n      <td>0.122109</td>\n      <td>0.495586</td>\n      <td>-0.088459</td>\n      <td>0.063832</td>\n      <td>-0.069582</td>\n      <td>0.445307</td>\n      <td>0.382388</td>\n      <td>0.147887</td>\n      <td>0.535518</td>\n      <td>0.322830</td>\n      <td>0.398669</td>\n      <td>-0.333594</td>\n      <td>0.066987</td>\n    </tr>\n    <tr>\n      <th>BALANCE_FREQUENCY</th>\n      <td>0.310140</td>\n      <td>1.000000</td>\n      <td>0.122635</td>\n      <td>0.095254</td>\n      <td>0.114739</td>\n      <td>0.089036</td>\n      <td>0.228158</td>\n      <td>0.187467</td>\n      <td>0.184159</td>\n      <td>0.181132</td>\n      <td>0.133265</td>\n      <td>0.183095</td>\n      <td>0.087682</td>\n      <td>0.039169</td>\n      <td>0.132519</td>\n      <td>-0.156961</td>\n      <td>0.104714</td>\n    </tr>\n    <tr>\n      <th>PURCHASES</th>\n      <td>0.176083</td>\n      <td>0.122635</td>\n      <td>1.000000</td>\n      <td>0.916780</td>\n      <td>0.679259</td>\n      <td>-0.053760</td>\n      <td>0.393000</td>\n      <td>0.497384</td>\n      <td>0.316025</td>\n      <td>-0.124863</td>\n      <td>-0.070277</td>\n      <td>0.688732</td>\n      <td>0.358425</td>\n      <td>0.606782</td>\n      <td>0.093842</td>\n      <td>0.176447</td>\n      <td>0.084545</td>\n    </tr>\n    <tr>\n      <th>ONEOFF_PURCHASES</th>\n      <td>0.159985</td>\n      <td>0.095254</td>\n      <td>0.916780</td>\n      <td>1.000000</td>\n      <td>0.329650</td>\n      <td>-0.033244</td>\n      <td>0.265460</td>\n      <td>0.524514</td>\n      <td>0.128380</td>\n      <td>-0.086413</td>\n      <td>-0.048705</td>\n      <td>0.545313</td>\n      <td>0.320613</td>\n      <td>0.570850</td>\n      <td>0.048741</td>\n      <td>0.129890</td>\n      <td>0.063400</td>\n    </tr>\n    <tr>\n      <th>INSTALLMENTS_PURCHASES</th>\n      <td>0.122109</td>\n      <td>0.114739</td>\n      <td>0.679259</td>\n      <td>0.329650</td>\n      <td>1.000000</td>\n      <td>-0.066099</td>\n      <td>0.441193</td>\n      <td>0.211829</td>\n      <td>0.511130</td>\n      <td>-0.136455</td>\n      <td>-0.076716</td>\n      <td>0.626083</td>\n      <td>0.258057</td>\n      <td>0.385391</td>\n      <td>0.132156</td>\n      <td>0.178440</td>\n      <td>0.083346</td>\n    </tr>\n    <tr>\n      <th>CASH_ADVANCE</th>\n      <td>0.495586</td>\n      <td>0.089036</td>\n      <td>-0.053760</td>\n      <td>-0.033244</td>\n      <td>-0.066099</td>\n      <td>1.000000</td>\n      <td>-0.218566</td>\n      <td>-0.090111</td>\n      <td>-0.178873</td>\n      <td>0.629030</td>\n      <td>0.656911</td>\n      <td>-0.078449</td>\n      <td>0.304161</td>\n      <td>0.459342</td>\n      <td>0.140094</td>\n      <td>-0.158566</td>\n      <td>-0.073090</td>\n    </tr>\n    <tr>\n      <th>PURCHASES_FREQUENCY</th>\n      <td>-0.088459</td>\n      <td>0.228158</td>\n      <td>0.393000</td>\n      <td>0.265460</td>\n      <td>0.441193</td>\n      <td>-0.218566</td>\n      <td>1.000000</td>\n      <td>0.502123</td>\n      <td>0.862338</td>\n      <td>-0.316771</td>\n      <td>-0.208749</td>\n      <td>0.567168</td>\n      <td>0.121372</td>\n      <td>0.100715</td>\n      <td>0.002979</td>\n      <td>0.305393</td>\n      <td>0.052161</td>\n    </tr>\n    <tr>\n      <th>ONEOFF_PURCHASES_FREQUENCY</th>\n      <td>0.063832</td>\n      <td>0.187467</td>\n      <td>0.497384</td>\n      <td>0.524514</td>\n      <td>0.211829</td>\n      <td>-0.090111</td>\n      <td>0.502123</td>\n      <td>1.000000</td>\n      <td>0.143911</td>\n      <td>-0.118225</td>\n      <td>-0.073384</td>\n      <td>0.544364</td>\n      <td>0.295432</td>\n      <td>0.244346</td>\n      <td>-0.030357</td>\n      <td>0.154073</td>\n      <td>0.080437</td>\n    </tr>\n    <tr>\n      <th>PURCHASES_INSTALLMENTS_FREQUENCY</th>\n      <td>-0.069582</td>\n      <td>0.184159</td>\n      <td>0.316025</td>\n      <td>0.128380</td>\n      <td>0.511130</td>\n      <td>-0.178873</td>\n      <td>0.862338</td>\n      <td>0.143911</td>\n      <td>1.000000</td>\n      <td>-0.268924</td>\n      <td>-0.172811</td>\n      <td>0.529192</td>\n      <td>0.063421</td>\n      <td>0.083424</td>\n      <td>0.030036</td>\n      <td>0.249547</td>\n      <td>0.065779</td>\n    </tr>\n    <tr>\n      <th>CASH_ADVANCE_FREQUENCY</th>\n      <td>0.445307</td>\n      <td>0.181132</td>\n      <td>-0.124863</td>\n      <td>-0.086413</td>\n      <td>-0.136455</td>\n      <td>0.629030</td>\n      <td>-0.316771</td>\n      <td>-0.118225</td>\n      <td>-0.268924</td>\n      <td>1.000000</td>\n      <td>0.799593</td>\n      <td>-0.136913</td>\n      <td>0.132841</td>\n      <td>0.182340</td>\n      <td>0.098844</td>\n      <td>-0.260001</td>\n      <td>-0.140038</td>\n    </tr>\n    <tr>\n      <th>CASH_ADVANCE_TRX</th>\n      <td>0.382388</td>\n      <td>0.133265</td>\n      <td>-0.070277</td>\n      <td>-0.048705</td>\n      <td>-0.076716</td>\n      <td>0.656911</td>\n      <td>-0.208749</td>\n      <td>-0.073384</td>\n      <td>-0.172811</td>\n      <td>0.799593</td>\n      <td>1.000000</td>\n      <td>-0.069879</td>\n      <td>0.150261</td>\n      <td>0.255921</td>\n      <td>0.109727</td>\n      <td>-0.176574</td>\n      <td>-0.045350</td>\n    </tr>\n    <tr>\n      <th>PURCHASES_TRX</th>\n      <td>0.147887</td>\n      <td>0.183095</td>\n      <td>0.688732</td>\n      <td>0.545313</td>\n      <td>0.626083</td>\n      <td>-0.078449</td>\n      <td>0.567168</td>\n      <td>0.544364</td>\n      <td>0.529192</td>\n      <td>-0.136913</td>\n      <td>-0.069879</td>\n      <td>1.000000</td>\n      <td>0.273715</td>\n      <td>0.371477</td>\n      <td>0.096311</td>\n      <td>0.156789</td>\n      <td>0.118889</td>\n    </tr>\n    <tr>\n      <th>CREDIT_LIMIT</th>\n      <td>0.535518</td>\n      <td>0.087682</td>\n      <td>0.358425</td>\n      <td>0.320613</td>\n      <td>0.258057</td>\n      <td>0.304161</td>\n      <td>0.121372</td>\n      <td>0.295432</td>\n      <td>0.063421</td>\n      <td>0.132841</td>\n      <td>0.150261</td>\n      <td>0.273715</td>\n      <td>1.000000</td>\n      <td>0.426951</td>\n      <td>0.126671</td>\n      <td>0.052578</td>\n      <td>0.136464</td>\n    </tr>\n    <tr>\n      <th>PAYMENTS</th>\n      <td>0.322830</td>\n      <td>0.039169</td>\n      <td>0.606782</td>\n      <td>0.570850</td>\n      <td>0.385391</td>\n      <td>0.459342</td>\n      <td>0.100715</td>\n      <td>0.244346</td>\n      <td>0.083424</td>\n      <td>0.182340</td>\n      <td>0.255921</td>\n      <td>0.371477</td>\n      <td>0.426951</td>\n      <td>1.000000</td>\n      <td>0.126630</td>\n      <td>0.104668</td>\n      <td>0.102986</td>\n    </tr>\n    <tr>\n      <th>MINIMUM_PAYMENTS</th>\n      <td>0.398669</td>\n      <td>0.132519</td>\n      <td>0.093842</td>\n      <td>0.048741</td>\n      <td>0.132156</td>\n      <td>0.140094</td>\n      <td>0.002979</td>\n      <td>-0.030357</td>\n      <td>0.030036</td>\n      <td>0.098844</td>\n      <td>0.109727</td>\n      <td>0.096311</td>\n      <td>0.126671</td>\n      <td>0.126630</td>\n      <td>1.000000</td>\n      <td>-0.140404</td>\n      <td>0.059330</td>\n    </tr>\n    <tr>\n      <th>PRC_FULL_PAYMENT</th>\n      <td>-0.333594</td>\n      <td>-0.156961</td>\n      <td>0.176447</td>\n      <td>0.129890</td>\n      <td>0.178440</td>\n      <td>-0.158566</td>\n      <td>0.305393</td>\n      <td>0.154073</td>\n      <td>0.249547</td>\n      <td>-0.260001</td>\n      <td>-0.176574</td>\n      <td>0.156789</td>\n      <td>0.052578</td>\n      <td>0.104668</td>\n      <td>-0.140404</td>\n      <td>1.000000</td>\n      <td>-0.024223</td>\n    </tr>\n    <tr>\n      <th>TENURE</th>\n      <td>0.066987</td>\n      <td>0.104714</td>\n      <td>0.084545</td>\n      <td>0.063400</td>\n      <td>0.083346</td>\n      <td>-0.073090</td>\n      <td>0.052161</td>\n      <td>0.080437</td>\n      <td>0.065779</td>\n      <td>-0.140038</td>\n      <td>-0.045350</td>\n      <td>0.118889</td>\n      <td>0.136464</td>\n      <td>0.102986</td>\n      <td>0.059330</td>\n      <td>-0.024223</td>\n      <td>1.000000</td>\n    </tr>\n  </tbody>\n</table>\n</div>"
     },
     "metadata": {}
    }
   ]
  },
  {
   "cell_type": "code",
   "metadata": {
    "cell_id": "5ba3e96ca16641c598c1204f7fc12e49",
    "tags": [],
    "deepnote_to_be_reexecuted": false,
    "source_hash": "17379140",
    "execution_start": 1658944101803,
    "execution_millis": 27,
    "deepnote_cell_type": "code",
    "deepnote_cell_height": 403.6000061035156,
    "deepnote_output_heights": [
     611
    ]
   },
   "source": "\ndf3 = df2.copy()\n\n# Create correlation matrix\ncorr_matrix = df2.corr().abs()\n\n# Select upper triangle of correlation matrix\nupper = corr_matrix.where(np.triu(np.ones(corr_matrix.shape), k=1).astype(np.bool))\n\n# Find features with correlation greater than 0.65\nto_drop = [column for column in upper.columns if any(upper[column] > 0.65)]\n\n# Drop features \ndf3.drop(to_drop, axis=1, inplace=True)",
   "execution_count": 14,
   "outputs": [
    {
     "name": "stderr",
     "text": "<ipython-input-14-c74b5047a119>:7: DeprecationWarning: `np.bool` is a deprecated alias for the builtin `bool`. To silence this warning, use `bool` by itself. Doing this will not modify any behavior and is safe. If you specifically wanted the numpy scalar type, use `np.bool_` here.\nDeprecated in NumPy 1.20; for more details and guidance: https://numpy.org/devdocs/release/1.20.0-notes.html#deprecations\n  upper = corr_matrix.where(np.triu(np.ones(corr_matrix.shape), k=1).astype(np.bool))\n",
     "output_type": "stream"
    }
   ]
  },
  {
   "cell_type": "code",
   "metadata": {
    "cell_id": "bcf2c9ab27da4b83a7d01194f7b0fbf9",
    "tags": [],
    "deepnote_to_be_reexecuted": false,
    "source_hash": "55945500",
    "execution_start": 1658944226820,
    "execution_millis": 27,
    "deepnote_cell_type": "code",
    "deepnote_cell_height": 66
   },
   "source": "df3.head()",
   "execution_count": 23,
   "outputs": [
    {
     "output_type": "execute_result",
     "execution_count": 23,
     "data": {
      "application/vnd.deepnote.dataframe.v3+json": {
       "column_count": 13,
       "row_count": 5,
       "columns": [
        {
         "name": "BALANCE",
         "dtype": "float64",
         "stats": {
          "unique_count": 5,
          "nan_count": 0,
          "min": "40.900749",
          "max": "3202.467416",
          "histogram": [
           {
            "bin_start": 40.900749,
            "bin_end": 357.05741570000004,
            "count": 1
           },
           {
            "bin_start": 357.05741570000004,
            "bin_end": 673.2140824,
            "count": 0
           },
           {
            "bin_start": 673.2140824,
            "bin_end": 989.3707491000001,
            "count": 1
           },
           {
            "bin_start": 989.3707491000001,
            "bin_end": 1305.5274158,
            "count": 0
           },
           {
            "bin_start": 1305.5274158,
            "bin_end": 1621.6840825,
            "count": 0
           },
           {
            "bin_start": 1621.6840825,
            "bin_end": 1937.8407492000001,
            "count": 1
           },
           {
            "bin_start": 1937.8407492000001,
            "bin_end": 2253.9974159,
            "count": 0
           },
           {
            "bin_start": 2253.9974159,
            "bin_end": 2570.1540826,
            "count": 1
           },
           {
            "bin_start": 2570.1540826,
            "bin_end": 2886.3107493,
            "count": 0
           },
           {
            "bin_start": 2886.3107493,
            "bin_end": 3202.467416,
            "count": 1
           }
          ]
         }
        },
        {
         "name": "BALANCE_FREQUENCY",
         "dtype": "float64",
         "stats": {
          "unique_count": 3,
          "nan_count": 0,
          "min": "0.818182",
          "max": "1.0",
          "histogram": [
           {
            "bin_start": 0.818182,
            "bin_end": 0.8363638,
            "count": 1
           },
           {
            "bin_start": 0.8363638,
            "bin_end": 0.8545456,
            "count": 0
           },
           {
            "bin_start": 0.8545456,
            "bin_end": 0.8727273999999999,
            "count": 0
           },
           {
            "bin_start": 0.8727273999999999,
            "bin_end": 0.8909092,
            "count": 0
           },
           {
            "bin_start": 0.8909092,
            "bin_end": 0.909091,
            "count": 0
           },
           {
            "bin_start": 0.909091,
            "bin_end": 0.9272728,
            "count": 1
           },
           {
            "bin_start": 0.9272728,
            "bin_end": 0.9454546,
            "count": 0
           },
           {
            "bin_start": 0.9454546,
            "bin_end": 0.9636364,
            "count": 0
           },
           {
            "bin_start": 0.9636364,
            "bin_end": 0.9818182,
            "count": 0
           },
           {
            "bin_start": 0.9818182,
            "bin_end": 1,
            "count": 3
           }
          ]
         }
        },
        {
         "name": "PURCHASES",
         "dtype": "float64",
         "stats": {
          "unique_count": 5,
          "nan_count": 0,
          "min": "0.0",
          "max": "1333.28",
          "histogram": [
           {
            "bin_start": 0,
            "bin_end": 133.328,
            "count": 3
           },
           {
            "bin_start": 133.328,
            "bin_end": 266.656,
            "count": 0
           },
           {
            "bin_start": 266.656,
            "bin_end": 399.98400000000004,
            "count": 0
           },
           {
            "bin_start": 399.98400000000004,
            "bin_end": 533.312,
            "count": 0
           },
           {
            "bin_start": 533.312,
            "bin_end": 666.64,
            "count": 0
           },
           {
            "bin_start": 666.64,
            "bin_end": 799.9680000000001,
            "count": 1
           },
           {
            "bin_start": 799.9680000000001,
            "bin_end": 933.296,
            "count": 0
           },
           {
            "bin_start": 933.296,
            "bin_end": 1066.624,
            "count": 0
           },
           {
            "bin_start": 1066.624,
            "bin_end": 1199.952,
            "count": 0
           },
           {
            "bin_start": 1199.952,
            "bin_end": 1333.28,
            "count": 1
           }
          ]
         }
        },
        {
         "name": "CASH_ADVANCE",
         "dtype": "float64",
         "stats": {
          "unique_count": 2,
          "nan_count": 0,
          "min": "0.0",
          "max": "6442.945483",
          "histogram": [
           {
            "bin_start": 0,
            "bin_end": 644.2945483000001,
            "count": 4
           },
           {
            "bin_start": 644.2945483000001,
            "bin_end": 1288.5890966000002,
            "count": 0
           },
           {
            "bin_start": 1288.5890966000002,
            "bin_end": 1932.8836449000003,
            "count": 0
           },
           {
            "bin_start": 1932.8836449000003,
            "bin_end": 2577.1781932000004,
            "count": 0
           },
           {
            "bin_start": 2577.1781932000004,
            "bin_end": 3221.4727415000007,
            "count": 0
           },
           {
            "bin_start": 3221.4727415000007,
            "bin_end": 3865.7672898000005,
            "count": 0
           },
           {
            "bin_start": 3865.7672898000005,
            "bin_end": 4510.0618381,
            "count": 0
           },
           {
            "bin_start": 4510.0618381,
            "bin_end": 5154.356386400001,
            "count": 0
           },
           {
            "bin_start": 5154.356386400001,
            "bin_end": 5798.650934700001,
            "count": 0
           },
           {
            "bin_start": 5798.650934700001,
            "bin_end": 6442.945483,
            "count": 1
           }
          ]
         }
        },
        {
         "name": "PURCHASES_FREQUENCY",
         "dtype": "float64",
         "stats": {
          "unique_count": 5,
          "nan_count": 0,
          "min": "0.0",
          "max": "1.0",
          "histogram": [
           {
            "bin_start": 0,
            "bin_end": 0.1,
            "count": 2
           },
           {
            "bin_start": 0.1,
            "bin_end": 0.2,
            "count": 1
           },
           {
            "bin_start": 0.2,
            "bin_end": 0.30000000000000004,
            "count": 0
           },
           {
            "bin_start": 0.30000000000000004,
            "bin_end": 0.4,
            "count": 0
           },
           {
            "bin_start": 0.4,
            "bin_end": 0.5,
            "count": 0
           },
           {
            "bin_start": 0.5,
            "bin_end": 0.6000000000000001,
            "count": 0
           },
           {
            "bin_start": 0.6000000000000001,
            "bin_end": 0.7000000000000001,
            "count": 1
           },
           {
            "bin_start": 0.7000000000000001,
            "bin_end": 0.8,
            "count": 0
           },
           {
            "bin_start": 0.8,
            "bin_end": 0.9,
            "count": 0
           },
           {
            "bin_start": 0.9,
            "bin_end": 1,
            "count": 1
           }
          ]
         }
        },
        {
         "name": "ONEOFF_PURCHASES_FREQUENCY",
         "dtype": "float64",
         "stats": {
          "unique_count": 3,
          "nan_count": 0,
          "min": "0.0",
          "max": "1.0",
          "histogram": [
           {
            "bin_start": 0,
            "bin_end": 0.1,
            "count": 4
           },
           {
            "bin_start": 0.1,
            "bin_end": 0.2,
            "count": 0
           },
           {
            "bin_start": 0.2,
            "bin_end": 0.30000000000000004,
            "count": 0
           },
           {
            "bin_start": 0.30000000000000004,
            "bin_end": 0.4,
            "count": 0
           },
           {
            "bin_start": 0.4,
            "bin_end": 0.5,
            "count": 0
           },
           {
            "bin_start": 0.5,
            "bin_end": 0.6000000000000001,
            "count": 0
           },
           {
            "bin_start": 0.6000000000000001,
            "bin_end": 0.7000000000000001,
            "count": 0
           },
           {
            "bin_start": 0.7000000000000001,
            "bin_end": 0.8,
            "count": 0
           },
           {
            "bin_start": 0.8,
            "bin_end": 0.9,
            "count": 0
           },
           {
            "bin_start": 0.9,
            "bin_end": 1,
            "count": 1
           }
          ]
         }
        },
        {
         "name": "CASH_ADVANCE_FREQUENCY",
         "dtype": "float64",
         "stats": {
          "unique_count": 2,
          "nan_count": 0,
          "min": "0.0",
          "max": "0.25",
          "histogram": [
           {
            "bin_start": 0,
            "bin_end": 0.025,
            "count": 4
           },
           {
            "bin_start": 0.025,
            "bin_end": 0.05,
            "count": 0
           },
           {
            "bin_start": 0.05,
            "bin_end": 0.07500000000000001,
            "count": 0
           },
           {
            "bin_start": 0.07500000000000001,
            "bin_end": 0.1,
            "count": 0
           },
           {
            "bin_start": 0.1,
            "bin_end": 0.125,
            "count": 0
           },
           {
            "bin_start": 0.125,
            "bin_end": 0.15000000000000002,
            "count": 0
           },
           {
            "bin_start": 0.15000000000000002,
            "bin_end": 0.17500000000000002,
            "count": 0
           },
           {
            "bin_start": 0.17500000000000002,
            "bin_end": 0.2,
            "count": 0
           },
           {
            "bin_start": 0.2,
            "bin_end": 0.225,
            "count": 0
           },
           {
            "bin_start": 0.225,
            "bin_end": 0.25,
            "count": 1
           }
          ]
         }
        },
        {
         "name": "CREDIT_LIMIT",
         "dtype": "float64",
         "stats": {
          "unique_count": 5,
          "nan_count": 0,
          "min": "1000.0",
          "max": "7500.0",
          "histogram": [
           {
            "bin_start": 1000,
            "bin_end": 1650,
            "count": 2
           },
           {
            "bin_start": 1650,
            "bin_end": 2300,
            "count": 1
           },
           {
            "bin_start": 2300,
            "bin_end": 2950,
            "count": 0
           },
           {
            "bin_start": 2950,
            "bin_end": 3600,
            "count": 0
           },
           {
            "bin_start": 3600,
            "bin_end": 4250,
            "count": 0
           },
           {
            "bin_start": 4250,
            "bin_end": 4900,
            "count": 0
           },
           {
            "bin_start": 4900,
            "bin_end": 5550,
            "count": 0
           },
           {
            "bin_start": 5550,
            "bin_end": 6200,
            "count": 0
           },
           {
            "bin_start": 6200,
            "bin_end": 6850,
            "count": 0
           },
           {
            "bin_start": 6850,
            "bin_end": 7500,
            "count": 2
           }
          ]
         }
        },
        {
         "name": "PAYMENTS",
         "dtype": "float64",
         "stats": {
          "unique_count": 5,
          "nan_count": 0,
          "min": "201.802084",
          "max": "4103.032597",
          "histogram": [
           {
            "bin_start": 201.802084,
            "bin_end": 591.9251353000001,
            "count": 1
           },
           {
            "bin_start": 591.9251353000001,
            "bin_end": 982.0481866000001,
            "count": 2
           },
           {
            "bin_start": 982.0481866000001,
            "bin_end": 1372.1712379,
            "count": 0
           },
           {
            "bin_start": 1372.1712379,
            "bin_end": 1762.2942892,
            "count": 1
           },
           {
            "bin_start": 1762.2942892,
            "bin_end": 2152.4173405,
            "count": 0
           },
           {
            "bin_start": 2152.4173405,
            "bin_end": 2542.5403918,
            "count": 0
           },
           {
            "bin_start": 2542.5403918,
            "bin_end": 2932.6634431,
            "count": 0
           },
           {
            "bin_start": 2932.6634431,
            "bin_end": 3322.7864944000003,
            "count": 0
           },
           {
            "bin_start": 3322.7864944000003,
            "bin_end": 3712.9095457000003,
            "count": 0
           },
           {
            "bin_start": 3712.9095457000003,
            "bin_end": 4103.032597,
            "count": 1
           }
          ]
         }
        },
        {
         "name": "MINIMUM_PAYMENTS",
         "dtype": "float64",
         "stats": {
          "unique_count": 5,
          "nan_count": 0,
          "min": "139.509787",
          "max": "2407.246035",
          "histogram": [
           {
            "bin_start": 139.509787,
            "bin_end": 366.2834118,
            "count": 2
           },
           {
            "bin_start": 366.2834118,
            "bin_end": 593.0570366000001,
            "count": 0
           },
           {
            "bin_start": 593.0570366000001,
            "bin_end": 819.8306614,
            "count": 1
           },
           {
            "bin_start": 819.8306614,
            "bin_end": 1046.6042862000002,
            "count": 0
           },
           {
            "bin_start": 1046.6042862000002,
            "bin_end": 1273.377911,
            "count": 1
           },
           {
            "bin_start": 1273.377911,
            "bin_end": 1500.1515358000001,
            "count": 0
           },
           {
            "bin_start": 1500.1515358000001,
            "bin_end": 1726.9251606,
            "count": 0
           },
           {
            "bin_start": 1726.9251606,
            "bin_end": 1953.6987854000001,
            "count": 0
           },
           {
            "bin_start": 1953.6987854000001,
            "bin_end": 2180.4724102000005,
            "count": 0
           },
           {
            "bin_start": 2180.4724102000005,
            "bin_end": 2407.246035,
            "count": 1
           }
          ]
         }
        },
        {
         "name": "PRC_FULL_PAYMENT",
         "dtype": "float64",
         "stats": {
          "unique_count": 2,
          "nan_count": 0,
          "min": "0.0",
          "max": "0.222222",
          "histogram": [
           {
            "bin_start": 0,
            "bin_end": 0.0222222,
            "count": 4
           },
           {
            "bin_start": 0.0222222,
            "bin_end": 0.0444444,
            "count": 0
           },
           {
            "bin_start": 0.0444444,
            "bin_end": 0.0666666,
            "count": 0
           },
           {
            "bin_start": 0.0666666,
            "bin_end": 0.0888888,
            "count": 0
           },
           {
            "bin_start": 0.0888888,
            "bin_end": 0.111111,
            "count": 0
           },
           {
            "bin_start": 0.111111,
            "bin_end": 0.1333332,
            "count": 0
           },
           {
            "bin_start": 0.1333332,
            "bin_end": 0.1555554,
            "count": 0
           },
           {
            "bin_start": 0.1555554,
            "bin_end": 0.1777776,
            "count": 0
           },
           {
            "bin_start": 0.1777776,
            "bin_end": 0.1999998,
            "count": 0
           },
           {
            "bin_start": 0.1999998,
            "bin_end": 0.222222,
            "count": 1
           }
          ]
         }
        },
        {
         "name": "TENURE",
         "dtype": "int64",
         "stats": {
          "unique_count": 1,
          "nan_count": 0,
          "min": "12",
          "max": "12",
          "histogram": [
           {
            "bin_start": 11.5,
            "bin_end": 11.6,
            "count": 0
           },
           {
            "bin_start": 11.6,
            "bin_end": 11.7,
            "count": 0
           },
           {
            "bin_start": 11.7,
            "bin_end": 11.8,
            "count": 0
           },
           {
            "bin_start": 11.8,
            "bin_end": 11.9,
            "count": 0
           },
           {
            "bin_start": 11.9,
            "bin_end": 12,
            "count": 0
           },
           {
            "bin_start": 12,
            "bin_end": 12.1,
            "count": 5
           },
           {
            "bin_start": 12.1,
            "bin_end": 12.2,
            "count": 0
           },
           {
            "bin_start": 12.2,
            "bin_end": 12.3,
            "count": 0
           },
           {
            "bin_start": 12.3,
            "bin_end": 12.4,
            "count": 0
           },
           {
            "bin_start": 12.4,
            "bin_end": 12.5,
            "count": 0
           }
          ]
         }
        },
        {
         "name": "Y_pred",
         "dtype": "int32",
         "stats": {
          "unique_count": 3,
          "nan_count": 0,
          "min": "0",
          "max": "3",
          "histogram": [
           {
            "bin_start": 0,
            "bin_end": 0.3,
            "count": 1
           },
           {
            "bin_start": 0.3,
            "bin_end": 0.6,
            "count": 0
           },
           {
            "bin_start": 0.6,
            "bin_end": 0.8999999999999999,
            "count": 0
           },
           {
            "bin_start": 0.8999999999999999,
            "bin_end": 1.2,
            "count": 0
           },
           {
            "bin_start": 1.2,
            "bin_end": 1.5,
            "count": 0
           },
           {
            "bin_start": 1.5,
            "bin_end": 1.7999999999999998,
            "count": 0
           },
           {
            "bin_start": 1.7999999999999998,
            "bin_end": 2.1,
            "count": 3
           },
           {
            "bin_start": 2.1,
            "bin_end": 2.4,
            "count": 0
           },
           {
            "bin_start": 2.4,
            "bin_end": 2.6999999999999997,
            "count": 0
           },
           {
            "bin_start": 2.6999999999999997,
            "bin_end": 3,
            "count": 1
           }
          ]
         }
        },
        {
         "name": "_deepnote_index_column",
         "dtype": "int64"
        }
       ],
       "rows": [
        {
         "BALANCE": 40.900749,
         "BALANCE_FREQUENCY": 0.818182,
         "PURCHASES": 95.4,
         "CASH_ADVANCE": 0,
         "PURCHASES_FREQUENCY": 0.166667,
         "ONEOFF_PURCHASES_FREQUENCY": 0,
         "CASH_ADVANCE_FREQUENCY": 0,
         "CREDIT_LIMIT": 1000,
         "PAYMENTS": 201.802084,
         "MINIMUM_PAYMENTS": 139.509787,
         "PRC_FULL_PAYMENT": 0,
         "TENURE": 12,
         "Y_pred": 2,
         "_deepnote_index_column": 0
        },
        {
         "BALANCE": 3202.467416,
         "BALANCE_FREQUENCY": 0.909091,
         "PURCHASES": 0,
         "CASH_ADVANCE": 6442.945483,
         "PURCHASES_FREQUENCY": 0,
         "ONEOFF_PURCHASES_FREQUENCY": 0,
         "CASH_ADVANCE_FREQUENCY": 0.25,
         "CREDIT_LIMIT": 7000,
         "PAYMENTS": 4103.032597,
         "MINIMUM_PAYMENTS": 1072.340217,
         "PRC_FULL_PAYMENT": 0.222222,
         "TENURE": 12,
         "Y_pred": 3,
         "_deepnote_index_column": 1
        },
        {
         "BALANCE": 2495.148862,
         "BALANCE_FREQUENCY": 1,
         "PURCHASES": 773.17,
         "CASH_ADVANCE": 0,
         "PURCHASES_FREQUENCY": 1,
         "ONEOFF_PURCHASES_FREQUENCY": 1,
         "CASH_ADVANCE_FREQUENCY": 0,
         "CREDIT_LIMIT": 7500,
         "PAYMENTS": 622.066742,
         "MINIMUM_PAYMENTS": 627.284787,
         "PRC_FULL_PAYMENT": 0,
         "TENURE": 12,
         "Y_pred": 0,
         "_deepnote_index_column": 2
        },
        {
         "BALANCE": 817.714335,
         "BALANCE_FREQUENCY": 1,
         "PURCHASES": 16,
         "CASH_ADVANCE": 0,
         "PURCHASES_FREQUENCY": 0.083333,
         "ONEOFF_PURCHASES_FREQUENCY": 0.083333,
         "CASH_ADVANCE_FREQUENCY": 0,
         "CREDIT_LIMIT": 1200,
         "PAYMENTS": 678.334763,
         "MINIMUM_PAYMENTS": 244.791237,
         "PRC_FULL_PAYMENT": 0,
         "TENURE": 12,
         "Y_pred": 2,
         "_deepnote_index_column": 4
        },
        {
         "BALANCE": 1809.828751,
         "BALANCE_FREQUENCY": 1,
         "PURCHASES": 1333.28,
         "CASH_ADVANCE": 0,
         "PURCHASES_FREQUENCY": 0.666667,
         "ONEOFF_PURCHASES_FREQUENCY": 0,
         "CASH_ADVANCE_FREQUENCY": 0,
         "CREDIT_LIMIT": 1800,
         "PAYMENTS": 1400.05777,
         "MINIMUM_PAYMENTS": 2407.246035,
         "PRC_FULL_PAYMENT": 0,
         "TENURE": 12,
         "Y_pred": 2,
         "_deepnote_index_column": 5
        }
       ]
      },
      "text/plain": "       BALANCE  BALANCE_FREQUENCY  PURCHASES  CASH_ADVANCE  \\\n0    40.900749           0.818182      95.40      0.000000   \n1  3202.467416           0.909091       0.00   6442.945483   \n2  2495.148862           1.000000     773.17      0.000000   \n4   817.714335           1.000000      16.00      0.000000   \n5  1809.828751           1.000000    1333.28      0.000000   \n\n   PURCHASES_FREQUENCY  ONEOFF_PURCHASES_FREQUENCY  CASH_ADVANCE_FREQUENCY  \\\n0             0.166667                    0.000000                    0.00   \n1             0.000000                    0.000000                    0.25   \n2             1.000000                    1.000000                    0.00   \n4             0.083333                    0.083333                    0.00   \n5             0.666667                    0.000000                    0.00   \n\n   CREDIT_LIMIT     PAYMENTS  MINIMUM_PAYMENTS  PRC_FULL_PAYMENT  TENURE  \\\n0        1000.0   201.802084        139.509787          0.000000      12   \n1        7000.0  4103.032597       1072.340217          0.222222      12   \n2        7500.0   622.066742        627.284787          0.000000      12   \n4        1200.0   678.334763        244.791237          0.000000      12   \n5        1800.0  1400.057770       2407.246035          0.000000      12   \n\n   Y_pred  \n0       2  \n1       3  \n2       0  \n4       2  \n5       2  ",
      "text/html": "<div>\n<style scoped>\n    .dataframe tbody tr th:only-of-type {\n        vertical-align: middle;\n    }\n\n    .dataframe tbody tr th {\n        vertical-align: top;\n    }\n\n    .dataframe thead th {\n        text-align: right;\n    }\n</style>\n<table border=\"1\" class=\"dataframe\">\n  <thead>\n    <tr style=\"text-align: right;\">\n      <th></th>\n      <th>BALANCE</th>\n      <th>BALANCE_FREQUENCY</th>\n      <th>PURCHASES</th>\n      <th>CASH_ADVANCE</th>\n      <th>PURCHASES_FREQUENCY</th>\n      <th>ONEOFF_PURCHASES_FREQUENCY</th>\n      <th>CASH_ADVANCE_FREQUENCY</th>\n      <th>CREDIT_LIMIT</th>\n      <th>PAYMENTS</th>\n      <th>MINIMUM_PAYMENTS</th>\n      <th>PRC_FULL_PAYMENT</th>\n      <th>TENURE</th>\n      <th>Y_pred</th>\n    </tr>\n  </thead>\n  <tbody>\n    <tr>\n      <th>0</th>\n      <td>40.900749</td>\n      <td>0.818182</td>\n      <td>95.40</td>\n      <td>0.000000</td>\n      <td>0.166667</td>\n      <td>0.000000</td>\n      <td>0.00</td>\n      <td>1000.0</td>\n      <td>201.802084</td>\n      <td>139.509787</td>\n      <td>0.000000</td>\n      <td>12</td>\n      <td>2</td>\n    </tr>\n    <tr>\n      <th>1</th>\n      <td>3202.467416</td>\n      <td>0.909091</td>\n      <td>0.00</td>\n      <td>6442.945483</td>\n      <td>0.000000</td>\n      <td>0.000000</td>\n      <td>0.25</td>\n      <td>7000.0</td>\n      <td>4103.032597</td>\n      <td>1072.340217</td>\n      <td>0.222222</td>\n      <td>12</td>\n      <td>3</td>\n    </tr>\n    <tr>\n      <th>2</th>\n      <td>2495.148862</td>\n      <td>1.000000</td>\n      <td>773.17</td>\n      <td>0.000000</td>\n      <td>1.000000</td>\n      <td>1.000000</td>\n      <td>0.00</td>\n      <td>7500.0</td>\n      <td>622.066742</td>\n      <td>627.284787</td>\n      <td>0.000000</td>\n      <td>12</td>\n      <td>0</td>\n    </tr>\n    <tr>\n      <th>4</th>\n      <td>817.714335</td>\n      <td>1.000000</td>\n      <td>16.00</td>\n      <td>0.000000</td>\n      <td>0.083333</td>\n      <td>0.083333</td>\n      <td>0.00</td>\n      <td>1200.0</td>\n      <td>678.334763</td>\n      <td>244.791237</td>\n      <td>0.000000</td>\n      <td>12</td>\n      <td>2</td>\n    </tr>\n    <tr>\n      <th>5</th>\n      <td>1809.828751</td>\n      <td>1.000000</td>\n      <td>1333.28</td>\n      <td>0.000000</td>\n      <td>0.666667</td>\n      <td>0.000000</td>\n      <td>0.00</td>\n      <td>1800.0</td>\n      <td>1400.057770</td>\n      <td>2407.246035</td>\n      <td>0.000000</td>\n      <td>12</td>\n      <td>2</td>\n    </tr>\n  </tbody>\n</table>\n</div>"
     },
     "metadata": {}
    }
   ]
  },
  {
   "cell_type": "code",
   "metadata": {
    "cell_id": "cc77f22aaf444240bcf2e28608ba1c87",
    "tags": [],
    "deepnote_to_be_reexecuted": false,
    "source_hash": "3acd44bb",
    "execution_start": 1658944102947,
    "execution_millis": 2,
    "deepnote_cell_type": "code",
    "deepnote_cell_height": 150.39999389648438,
    "deepnote_output_heights": [
     21
    ]
   },
   "source": "print(len(df3.columns))\nprint(len(df2.columns))",
   "execution_count": 15,
   "outputs": [
    {
     "name": "stdout",
     "text": "12\n17\n",
     "output_type": "stream"
    }
   ]
  },
  {
   "cell_type": "code",
   "metadata": {
    "cell_id": "a95e0a56f8d04944b02b1b4f5116497f",
    "tags": [],
    "deepnote_to_be_reexecuted": false,
    "source_hash": "799c61d",
    "execution_start": 1658944105765,
    "execution_millis": 12,
    "deepnote_cell_type": "code",
    "deepnote_cell_height": 117
   },
   "source": "range_n_clusters = [2, 3, 4, 5, 6, 7, 8]\nscaler_2 = StandardScaler()\nX_new = scaler_2.fit_transform(df3)",
   "execution_count": 16,
   "outputs": []
  },
  {
   "cell_type": "code",
   "metadata": {
    "cell_id": "b0e16c60366a4321ab9507d6901b0609",
    "tags": [],
    "deepnote_to_be_reexecuted": false,
    "source_hash": "2dee83f6",
    "execution_start": 1658944107500,
    "execution_millis": 32556,
    "deepnote_cell_type": "code",
    "deepnote_cell_height": 504
   },
   "source": "\nfor n_clusters in range_n_clusters:\n    clusterer = KMeans(n_clusters=n_clusters, random_state=10)\n    cluster_labels = clusterer.fit_predict(X_new)\n    silhouette_avg = silhouette_score(X_new, cluster_labels)\n    print(\"For n_clusters =\", n_clusters,\n          \"The average silhouette_score is :\", silhouette_avg)\n",
   "execution_count": 17,
   "outputs": [
    {
     "name": "stdout",
     "text": "For n_clusters = 2 The average silhouette_score is : 0.3104430330271573\nFor n_clusters = 3 The average silhouette_score is : 0.23722879824015913\nFor n_clusters = 4 The average silhouette_score is : 0.2143642956135704\nFor n_clusters = 5 The average silhouette_score is : 0.18022872829748052\nFor n_clusters = 6 The average silhouette_score is : 0.22758031880875926\nFor n_clusters = 7 The average silhouette_score is : 0.2037567550201734\nFor n_clusters = 8 The average silhouette_score is : 0.2086049006876806\n",
     "output_type": "stream"
    }
   ]
  },
  {
   "cell_type": "code",
   "metadata": {
    "cell_id": "837e9fd71a10468093d508c4ba4857e5",
    "tags": [],
    "deepnote_to_be_reexecuted": false,
    "source_hash": "5c10a57a",
    "execution_start": 1658944196450,
    "execution_millis": 1556,
    "deepnote_cell_type": "code",
    "deepnote_cell_height": 117
   },
   "source": "km = KMeans(n_clusters=6, random_state= 10)\nkm.fit(X_new)\ny_pred_new = km.predict(X_new)",
   "execution_count": 20,
   "outputs": []
  },
  {
   "cell_type": "code",
   "metadata": {
    "cell_id": "8a0f6f9ea9cc44a6ace52f2a1d45524d",
    "tags": [],
    "deepnote_to_be_reexecuted": false,
    "source_hash": "a6a069f0",
    "execution_start": 1658944198008,
    "execution_millis": 138,
    "deepnote_cell_type": "code",
    "deepnote_cell_height": 635
   },
   "source": "df3[\"Y_pred\"] = y_pred_new\ndf3.head(10)",
   "execution_count": 21,
   "outputs": [
    {
     "output_type": "execute_result",
     "execution_count": 21,
     "data": {
      "application/vnd.deepnote.dataframe.v3+json": {
       "column_count": 13,
       "row_count": 10,
       "columns": [
        {
         "name": "BALANCE",
         "dtype": "float64",
         "stats": {
          "unique_count": 10,
          "nan_count": 0,
          "min": "40.900749",
          "max": "3202.467416",
          "histogram": [
           {
            "bin_start": 40.900749,
            "bin_end": 357.05741570000004,
            "count": 2
           },
           {
            "bin_start": 357.05741570000004,
            "bin_end": 673.2140824,
            "count": 1
           },
           {
            "bin_start": 673.2140824,
            "bin_end": 989.3707491000001,
            "count": 1
           },
           {
            "bin_start": 989.3707491000001,
            "bin_end": 1305.5274158,
            "count": 2
           },
           {
            "bin_start": 1305.5274158,
            "bin_end": 1621.6840825,
            "count": 0
           },
           {
            "bin_start": 1621.6840825,
            "bin_end": 1937.8407492000001,
            "count": 2
           },
           {
            "bin_start": 1937.8407492000001,
            "bin_end": 2253.9974159,
            "count": 0
           },
           {
            "bin_start": 2253.9974159,
            "bin_end": 2570.1540826,
            "count": 1
           },
           {
            "bin_start": 2570.1540826,
            "bin_end": 2886.3107493,
            "count": 0
           },
           {
            "bin_start": 2886.3107493,
            "bin_end": 3202.467416,
            "count": 1
           }
          ]
         }
        },
        {
         "name": "BALANCE_FREQUENCY",
         "dtype": "float64",
         "stats": {
          "unique_count": 4,
          "nan_count": 0,
          "min": "0.545455",
          "max": "1.0",
          "histogram": [
           {
            "bin_start": 0.545455,
            "bin_end": 0.5909095,
            "count": 1
           },
           {
            "bin_start": 0.5909095,
            "bin_end": 0.636364,
            "count": 0
           },
           {
            "bin_start": 0.636364,
            "bin_end": 0.6818185,
            "count": 0
           },
           {
            "bin_start": 0.6818185,
            "bin_end": 0.7272730000000001,
            "count": 0
           },
           {
            "bin_start": 0.7272730000000001,
            "bin_end": 0.7727275,
            "count": 0
           },
           {
            "bin_start": 0.7727275,
            "bin_end": 0.818182,
            "count": 0
           },
           {
            "bin_start": 0.818182,
            "bin_end": 0.8636364999999999,
            "count": 1
           },
           {
            "bin_start": 0.8636364999999999,
            "bin_end": 0.909091,
            "count": 0
           },
           {
            "bin_start": 0.909091,
            "bin_end": 0.9545455,
            "count": 1
           },
           {
            "bin_start": 0.9545455,
            "bin_end": 1,
            "count": 7
           }
          ]
         }
        },
        {
         "name": "PURCHASES",
         "dtype": "float64",
         "stats": {
          "unique_count": 10,
          "nan_count": 0,
          "min": "0.0",
          "max": "7091.01",
          "histogram": [
           {
            "bin_start": 0,
            "bin_end": 709.101,
            "count": 4
           },
           {
            "bin_start": 709.101,
            "bin_end": 1418.202,
            "count": 5
           },
           {
            "bin_start": 1418.202,
            "bin_end": 2127.303,
            "count": 0
           },
           {
            "bin_start": 2127.303,
            "bin_end": 2836.404,
            "count": 0
           },
           {
            "bin_start": 2836.404,
            "bin_end": 3545.505,
            "count": 0
           },
           {
            "bin_start": 3545.505,
            "bin_end": 4254.606,
            "count": 0
           },
           {
            "bin_start": 4254.606,
            "bin_end": 4963.707,
            "count": 0
           },
           {
            "bin_start": 4963.707,
            "bin_end": 5672.808,
            "count": 0
           },
           {
            "bin_start": 5672.808,
            "bin_end": 6381.909,
            "count": 0
           },
           {
            "bin_start": 6381.909,
            "bin_end": 7091.01,
            "count": 1
           }
          ]
         }
        },
        {
         "name": "CASH_ADVANCE",
         "dtype": "float64",
         "stats": {
          "unique_count": 2,
          "nan_count": 0,
          "min": "0.0",
          "max": "6442.945483",
          "histogram": [
           {
            "bin_start": 0,
            "bin_end": 644.2945483000001,
            "count": 9
           },
           {
            "bin_start": 644.2945483000001,
            "bin_end": 1288.5890966000002,
            "count": 0
           },
           {
            "bin_start": 1288.5890966000002,
            "bin_end": 1932.8836449000003,
            "count": 0
           },
           {
            "bin_start": 1932.8836449000003,
            "bin_end": 2577.1781932000004,
            "count": 0
           },
           {
            "bin_start": 2577.1781932000004,
            "bin_end": 3221.4727415000007,
            "count": 0
           },
           {
            "bin_start": 3221.4727415000007,
            "bin_end": 3865.7672898000005,
            "count": 0
           },
           {
            "bin_start": 3865.7672898000005,
            "bin_end": 4510.0618381,
            "count": 0
           },
           {
            "bin_start": 4510.0618381,
            "bin_end": 5154.356386400001,
            "count": 0
           },
           {
            "bin_start": 5154.356386400001,
            "bin_end": 5798.650934700001,
            "count": 0
           },
           {
            "bin_start": 5798.650934700001,
            "bin_end": 6442.945483,
            "count": 1
           }
          ]
         }
        },
        {
         "name": "PURCHASES_FREQUENCY",
         "dtype": "float64",
         "stats": {
          "unique_count": 6,
          "nan_count": 0,
          "min": "0.0",
          "max": "1.0",
          "histogram": [
           {
            "bin_start": 0,
            "bin_end": 0.1,
            "count": 2
           },
           {
            "bin_start": 0.1,
            "bin_end": 0.2,
            "count": 2
           },
           {
            "bin_start": 0.2,
            "bin_end": 0.30000000000000004,
            "count": 0
           },
           {
            "bin_start": 0.30000000000000004,
            "bin_end": 0.4,
            "count": 1
           },
           {
            "bin_start": 0.4,
            "bin_end": 0.5,
            "count": 0
           },
           {
            "bin_start": 0.5,
            "bin_end": 0.6000000000000001,
            "count": 0
           },
           {
            "bin_start": 0.6000000000000001,
            "bin_end": 0.7000000000000001,
            "count": 1
           },
           {
            "bin_start": 0.7000000000000001,
            "bin_end": 0.8,
            "count": 0
           },
           {
            "bin_start": 0.8,
            "bin_end": 0.9,
            "count": 0
           },
           {
            "bin_start": 0.9,
            "bin_end": 1,
            "count": 4
           }
          ]
         }
        },
        {
         "name": "ONEOFF_PURCHASES_FREQUENCY",
         "dtype": "float64",
         "stats": {
          "unique_count": 4,
          "nan_count": 0,
          "min": "0.0",
          "max": "1.0",
          "histogram": [
           {
            "bin_start": 0,
            "bin_end": 0.1,
            "count": 7
           },
           {
            "bin_start": 0.1,
            "bin_end": 0.2,
            "count": 1
           },
           {
            "bin_start": 0.2,
            "bin_end": 0.30000000000000004,
            "count": 0
           },
           {
            "bin_start": 0.30000000000000004,
            "bin_end": 0.4,
            "count": 0
           },
           {
            "bin_start": 0.4,
            "bin_end": 0.5,
            "count": 0
           },
           {
            "bin_start": 0.5,
            "bin_end": 0.6000000000000001,
            "count": 0
           },
           {
            "bin_start": 0.6000000000000001,
            "bin_end": 0.7000000000000001,
            "count": 0
           },
           {
            "bin_start": 0.7000000000000001,
            "bin_end": 0.8,
            "count": 0
           },
           {
            "bin_start": 0.8,
            "bin_end": 0.9,
            "count": 0
           },
           {
            "bin_start": 0.9,
            "bin_end": 1,
            "count": 2
           }
          ]
         }
        },
        {
         "name": "CASH_ADVANCE_FREQUENCY",
         "dtype": "float64",
         "stats": {
          "unique_count": 2,
          "nan_count": 0,
          "min": "0.0",
          "max": "0.25",
          "histogram": [
           {
            "bin_start": 0,
            "bin_end": 0.025,
            "count": 9
           },
           {
            "bin_start": 0.025,
            "bin_end": 0.05,
            "count": 0
           },
           {
            "bin_start": 0.05,
            "bin_end": 0.07500000000000001,
            "count": 0
           },
           {
            "bin_start": 0.07500000000000001,
            "bin_end": 0.1,
            "count": 0
           },
           {
            "bin_start": 0.1,
            "bin_end": 0.125,
            "count": 0
           },
           {
            "bin_start": 0.125,
            "bin_end": 0.15000000000000002,
            "count": 0
           },
           {
            "bin_start": 0.15000000000000002,
            "bin_end": 0.17500000000000002,
            "count": 0
           },
           {
            "bin_start": 0.17500000000000002,
            "bin_end": 0.2,
            "count": 0
           },
           {
            "bin_start": 0.2,
            "bin_end": 0.225,
            "count": 0
           },
           {
            "bin_start": 0.225,
            "bin_end": 0.25,
            "count": 1
           }
          ]
         }
        },
        {
         "name": "CREDIT_LIMIT",
         "dtype": "float64",
         "stats": {
          "unique_count": 8,
          "nan_count": 0,
          "min": "1000.0",
          "max": "13500.0",
          "histogram": [
           {
            "bin_start": 1000,
            "bin_end": 2250,
            "count": 4
           },
           {
            "bin_start": 2250,
            "bin_end": 3500,
            "count": 1
           },
           {
            "bin_start": 3500,
            "bin_end": 4750,
            "count": 0
           },
           {
            "bin_start": 4750,
            "bin_end": 6000,
            "count": 0
           },
           {
            "bin_start": 6000,
            "bin_end": 7250,
            "count": 2
           },
           {
            "bin_start": 7250,
            "bin_end": 8500,
            "count": 1
           },
           {
            "bin_start": 8500,
            "bin_end": 9750,
            "count": 0
           },
           {
            "bin_start": 9750,
            "bin_end": 11000,
            "count": 0
           },
           {
            "bin_start": 11000,
            "bin_end": 12250,
            "count": 1
           },
           {
            "bin_start": 12250,
            "bin_end": 13500,
            "count": 1
           }
          ]
         }
        },
        {
         "name": "PAYMENTS",
         "dtype": "float64",
         "stats": {
          "unique_count": 10,
          "nan_count": 0,
          "min": "201.802084",
          "max": "6354.314328",
          "histogram": [
           {
            "bin_start": 201.802084,
            "bin_end": 817.0533084000001,
            "count": 5
           },
           {
            "bin_start": 817.0533084000001,
            "bin_end": 1432.3045328,
            "count": 3
           },
           {
            "bin_start": 1432.3045328,
            "bin_end": 2047.5557572000002,
            "count": 0
           },
           {
            "bin_start": 2047.5557572000002,
            "bin_end": 2662.8069816,
            "count": 0
           },
           {
            "bin_start": 2662.8069816,
            "bin_end": 3278.058206,
            "count": 0
           },
           {
            "bin_start": 3278.058206,
            "bin_end": 3893.3094304000006,
            "count": 0
           },
           {
            "bin_start": 3893.3094304000006,
            "bin_end": 4508.5606548000005,
            "count": 1
           },
           {
            "bin_start": 4508.5606548000005,
            "bin_end": 5123.8118792000005,
            "count": 0
           },
           {
            "bin_start": 5123.8118792000005,
            "bin_end": 5739.0631036,
            "count": 0
           },
           {
            "bin_start": 5739.0631036,
            "bin_end": 6354.314328,
            "count": 1
           }
          ]
         }
        },
        {
         "name": "MINIMUM_PAYMENTS",
         "dtype": "float64",
         "stats": {
          "unique_count": 10,
          "nan_count": 0,
          "min": "100.302262",
          "max": "2407.246035",
          "histogram": [
           {
            "bin_start": 100.302262,
            "bin_end": 330.99663929999997,
            "count": 5
           },
           {
            "bin_start": 330.99663929999997,
            "bin_end": 561.6910166,
            "count": 1
           },
           {
            "bin_start": 561.6910166,
            "bin_end": 792.3853938999999,
            "count": 1
           },
           {
            "bin_start": 792.3853938999999,
            "bin_end": 1023.0797712,
            "count": 0
           },
           {
            "bin_start": 1023.0797712,
            "bin_end": 1253.7741485,
            "count": 1
           },
           {
            "bin_start": 1253.7741485,
            "bin_end": 1484.4685257999997,
            "count": 0
           },
           {
            "bin_start": 1484.4685257999997,
            "bin_end": 1715.1629030999998,
            "count": 0
           },
           {
            "bin_start": 1715.1629030999998,
            "bin_end": 1945.8572803999998,
            "count": 0
           },
           {
            "bin_start": 1945.8572803999998,
            "bin_end": 2176.5516577,
            "count": 1
           },
           {
            "bin_start": 2176.5516577,
            "bin_end": 2407.246035,
            "count": 1
           }
          ]
         }
        },
        {
         "name": "PRC_FULL_PAYMENT",
         "dtype": "float64",
         "stats": {
          "unique_count": 3,
          "nan_count": 0,
          "min": "0.0",
          "max": "1.0",
          "histogram": [
           {
            "bin_start": 0,
            "bin_end": 0.1,
            "count": 8
           },
           {
            "bin_start": 0.1,
            "bin_end": 0.2,
            "count": 0
           },
           {
            "bin_start": 0.2,
            "bin_end": 0.30000000000000004,
            "count": 1
           },
           {
            "bin_start": 0.30000000000000004,
            "bin_end": 0.4,
            "count": 0
           },
           {
            "bin_start": 0.4,
            "bin_end": 0.5,
            "count": 0
           },
           {
            "bin_start": 0.5,
            "bin_end": 0.6000000000000001,
            "count": 0
           },
           {
            "bin_start": 0.6000000000000001,
            "bin_end": 0.7000000000000001,
            "count": 0
           },
           {
            "bin_start": 0.7000000000000001,
            "bin_end": 0.8,
            "count": 0
           },
           {
            "bin_start": 0.8,
            "bin_end": 0.9,
            "count": 0
           },
           {
            "bin_start": 0.9,
            "bin_end": 1,
            "count": 1
           }
          ]
         }
        },
        {
         "name": "TENURE",
         "dtype": "int64",
         "stats": {
          "unique_count": 1,
          "nan_count": 0,
          "min": "12",
          "max": "12",
          "histogram": [
           {
            "bin_start": 11.5,
            "bin_end": 11.6,
            "count": 0
           },
           {
            "bin_start": 11.6,
            "bin_end": 11.7,
            "count": 0
           },
           {
            "bin_start": 11.7,
            "bin_end": 11.8,
            "count": 0
           },
           {
            "bin_start": 11.8,
            "bin_end": 11.9,
            "count": 0
           },
           {
            "bin_start": 11.9,
            "bin_end": 12,
            "count": 0
           },
           {
            "bin_start": 12,
            "bin_end": 12.1,
            "count": 10
           },
           {
            "bin_start": 12.1,
            "bin_end": 12.2,
            "count": 0
           },
           {
            "bin_start": 12.2,
            "bin_end": 12.3,
            "count": 0
           },
           {
            "bin_start": 12.3,
            "bin_end": 12.4,
            "count": 0
           },
           {
            "bin_start": 12.4,
            "bin_end": 12.5,
            "count": 0
           }
          ]
         }
        },
        {
         "name": "Y_pred",
         "dtype": "int32",
         "stats": {
          "unique_count": 4,
          "nan_count": 0,
          "min": "0",
          "max": "3",
          "histogram": [
           {
            "bin_start": 0,
            "bin_end": 0.3,
            "count": 2
           },
           {
            "bin_start": 0.3,
            "bin_end": 0.6,
            "count": 0
           },
           {
            "bin_start": 0.6,
            "bin_end": 0.8999999999999999,
            "count": 0
           },
           {
            "bin_start": 0.8999999999999999,
            "bin_end": 1.2,
            "count": 1
           },
           {
            "bin_start": 1.2,
            "bin_end": 1.5,
            "count": 0
           },
           {
            "bin_start": 1.5,
            "bin_end": 1.7999999999999998,
            "count": 0
           },
           {
            "bin_start": 1.7999999999999998,
            "bin_end": 2.1,
            "count": 6
           },
           {
            "bin_start": 2.1,
            "bin_end": 2.4,
            "count": 0
           },
           {
            "bin_start": 2.4,
            "bin_end": 2.6999999999999997,
            "count": 0
           },
           {
            "bin_start": 2.6999999999999997,
            "bin_end": 3,
            "count": 1
           }
          ]
         }
        },
        {
         "name": "_deepnote_index_column",
         "dtype": "int64"
        }
       ],
       "rows": [
        {
         "BALANCE": 40.900749,
         "BALANCE_FREQUENCY": 0.818182,
         "PURCHASES": 95.4,
         "CASH_ADVANCE": 0,
         "PURCHASES_FREQUENCY": 0.166667,
         "ONEOFF_PURCHASES_FREQUENCY": 0,
         "CASH_ADVANCE_FREQUENCY": 0,
         "CREDIT_LIMIT": 1000,
         "PAYMENTS": 201.802084,
         "MINIMUM_PAYMENTS": 139.509787,
         "PRC_FULL_PAYMENT": 0,
         "TENURE": 12,
         "Y_pred": 2,
         "_deepnote_index_column": 0
        },
        {
         "BALANCE": 3202.467416,
         "BALANCE_FREQUENCY": 0.909091,
         "PURCHASES": 0,
         "CASH_ADVANCE": 6442.945483,
         "PURCHASES_FREQUENCY": 0,
         "ONEOFF_PURCHASES_FREQUENCY": 0,
         "CASH_ADVANCE_FREQUENCY": 0.25,
         "CREDIT_LIMIT": 7000,
         "PAYMENTS": 4103.032597,
         "MINIMUM_PAYMENTS": 1072.340217,
         "PRC_FULL_PAYMENT": 0.222222,
         "TENURE": 12,
         "Y_pred": 3,
         "_deepnote_index_column": 1
        },
        {
         "BALANCE": 2495.148862,
         "BALANCE_FREQUENCY": 1,
         "PURCHASES": 773.17,
         "CASH_ADVANCE": 0,
         "PURCHASES_FREQUENCY": 1,
         "ONEOFF_PURCHASES_FREQUENCY": 1,
         "CASH_ADVANCE_FREQUENCY": 0,
         "CREDIT_LIMIT": 7500,
         "PAYMENTS": 622.066742,
         "MINIMUM_PAYMENTS": 627.284787,
         "PRC_FULL_PAYMENT": 0,
         "TENURE": 12,
         "Y_pred": 0,
         "_deepnote_index_column": 2
        },
        {
         "BALANCE": 817.714335,
         "BALANCE_FREQUENCY": 1,
         "PURCHASES": 16,
         "CASH_ADVANCE": 0,
         "PURCHASES_FREQUENCY": 0.083333,
         "ONEOFF_PURCHASES_FREQUENCY": 0.083333,
         "CASH_ADVANCE_FREQUENCY": 0,
         "CREDIT_LIMIT": 1200,
         "PAYMENTS": 678.334763,
         "MINIMUM_PAYMENTS": 244.791237,
         "PRC_FULL_PAYMENT": 0,
         "TENURE": 12,
         "Y_pred": 2,
         "_deepnote_index_column": 4
        },
        {
         "BALANCE": 1809.828751,
         "BALANCE_FREQUENCY": 1,
         "PURCHASES": 1333.28,
         "CASH_ADVANCE": 0,
         "PURCHASES_FREQUENCY": 0.666667,
         "ONEOFF_PURCHASES_FREQUENCY": 0,
         "CASH_ADVANCE_FREQUENCY": 0,
         "CREDIT_LIMIT": 1800,
         "PAYMENTS": 1400.05777,
         "MINIMUM_PAYMENTS": 2407.246035,
         "PRC_FULL_PAYMENT": 0,
         "TENURE": 12,
         "Y_pred": 2,
         "_deepnote_index_column": 5
        },
        {
         "BALANCE": 627.260806,
         "BALANCE_FREQUENCY": 1,
         "PURCHASES": 7091.01,
         "CASH_ADVANCE": 0,
         "PURCHASES_FREQUENCY": 1,
         "ONEOFF_PURCHASES_FREQUENCY": 1,
         "CASH_ADVANCE_FREQUENCY": 0,
         "CREDIT_LIMIT": 13500,
         "PAYMENTS": 6354.314328,
         "MINIMUM_PAYMENTS": 198.065894,
         "PRC_FULL_PAYMENT": 1,
         "TENURE": 12,
         "Y_pred": 0,
         "_deepnote_index_column": 6
        },
        {
         "BALANCE": 1823.652743,
         "BALANCE_FREQUENCY": 1,
         "PURCHASES": 436.2,
         "CASH_ADVANCE": 0,
         "PURCHASES_FREQUENCY": 1,
         "ONEOFF_PURCHASES_FREQUENCY": 0,
         "CASH_ADVANCE_FREQUENCY": 0,
         "CREDIT_LIMIT": 2300,
         "PAYMENTS": 679.065082,
         "MINIMUM_PAYMENTS": 532.03399,
         "PRC_FULL_PAYMENT": 0,
         "TENURE": 12,
         "Y_pred": 2,
         "_deepnote_index_column": 7
        },
        {
         "BALANCE": 1014.926473,
         "BALANCE_FREQUENCY": 1,
         "PURCHASES": 861.49,
         "CASH_ADVANCE": 0,
         "PURCHASES_FREQUENCY": 0.333333,
         "ONEOFF_PURCHASES_FREQUENCY": 0.083333,
         "CASH_ADVANCE_FREQUENCY": 0,
         "CREDIT_LIMIT": 7000,
         "PAYMENTS": 688.278568,
         "MINIMUM_PAYMENTS": 311.963409,
         "PRC_FULL_PAYMENT": 0,
         "TENURE": 12,
         "Y_pred": 2,
         "_deepnote_index_column": 8
        },
        {
         "BALANCE": 152.225975,
         "BALANCE_FREQUENCY": 0.545455,
         "PURCHASES": 1281.6,
         "CASH_ADVANCE": 0,
         "PURCHASES_FREQUENCY": 0.166667,
         "ONEOFF_PURCHASES_FREQUENCY": 0.166667,
         "CASH_ADVANCE_FREQUENCY": 0,
         "CREDIT_LIMIT": 11000,
         "PAYMENTS": 1164.770591,
         "MINIMUM_PAYMENTS": 100.302262,
         "PRC_FULL_PAYMENT": 0,
         "TENURE": 12,
         "Y_pred": 1,
         "_deepnote_index_column": 9
        },
        {
         "BALANCE": 1293.124939,
         "BALANCE_FREQUENCY": 1,
         "PURCHASES": 920.12,
         "CASH_ADVANCE": 0,
         "PURCHASES_FREQUENCY": 1,
         "ONEOFF_PURCHASES_FREQUENCY": 0,
         "CASH_ADVANCE_FREQUENCY": 0,
         "CREDIT_LIMIT": 1200,
         "PAYMENTS": 1083.301007,
         "MINIMUM_PAYMENTS": 2172.697765,
         "PRC_FULL_PAYMENT": 0,
         "TENURE": 12,
         "Y_pred": 2,
         "_deepnote_index_column": 10
        }
       ]
      },
      "text/plain": "        BALANCE  BALANCE_FREQUENCY  PURCHASES  CASH_ADVANCE  \\\n0     40.900749           0.818182      95.40      0.000000   \n1   3202.467416           0.909091       0.00   6442.945483   \n2   2495.148862           1.000000     773.17      0.000000   \n4    817.714335           1.000000      16.00      0.000000   \n5   1809.828751           1.000000    1333.28      0.000000   \n6    627.260806           1.000000    7091.01      0.000000   \n7   1823.652743           1.000000     436.20      0.000000   \n8   1014.926473           1.000000     861.49      0.000000   \n9    152.225975           0.545455    1281.60      0.000000   \n10  1293.124939           1.000000     920.12      0.000000   \n\n    PURCHASES_FREQUENCY  ONEOFF_PURCHASES_FREQUENCY  CASH_ADVANCE_FREQUENCY  \\\n0              0.166667                    0.000000                    0.00   \n1              0.000000                    0.000000                    0.25   \n2              1.000000                    1.000000                    0.00   \n4              0.083333                    0.083333                    0.00   \n5              0.666667                    0.000000                    0.00   \n6              1.000000                    1.000000                    0.00   \n7              1.000000                    0.000000                    0.00   \n8              0.333333                    0.083333                    0.00   \n9              0.166667                    0.166667                    0.00   \n10             1.000000                    0.000000                    0.00   \n\n    CREDIT_LIMIT     PAYMENTS  MINIMUM_PAYMENTS  PRC_FULL_PAYMENT  TENURE  \\\n0         1000.0   201.802084        139.509787          0.000000      12   \n1         7000.0  4103.032597       1072.340217          0.222222      12   \n2         7500.0   622.066742        627.284787          0.000000      12   \n4         1200.0   678.334763        244.791237          0.000000      12   \n5         1800.0  1400.057770       2407.246035          0.000000      12   \n6        13500.0  6354.314328        198.065894          1.000000      12   \n7         2300.0   679.065082        532.033990          0.000000      12   \n8         7000.0   688.278568        311.963409          0.000000      12   \n9        11000.0  1164.770591        100.302262          0.000000      12   \n10        1200.0  1083.301007       2172.697765          0.000000      12   \n\n    Y_pred  \n0        2  \n1        3  \n2        0  \n4        2  \n5        2  \n6        0  \n7        2  \n8        2  \n9        1  \n10       2  ",
      "text/html": "<div>\n<style scoped>\n    .dataframe tbody tr th:only-of-type {\n        vertical-align: middle;\n    }\n\n    .dataframe tbody tr th {\n        vertical-align: top;\n    }\n\n    .dataframe thead th {\n        text-align: right;\n    }\n</style>\n<table border=\"1\" class=\"dataframe\">\n  <thead>\n    <tr style=\"text-align: right;\">\n      <th></th>\n      <th>BALANCE</th>\n      <th>BALANCE_FREQUENCY</th>\n      <th>PURCHASES</th>\n      <th>CASH_ADVANCE</th>\n      <th>PURCHASES_FREQUENCY</th>\n      <th>ONEOFF_PURCHASES_FREQUENCY</th>\n      <th>CASH_ADVANCE_FREQUENCY</th>\n      <th>CREDIT_LIMIT</th>\n      <th>PAYMENTS</th>\n      <th>MINIMUM_PAYMENTS</th>\n      <th>PRC_FULL_PAYMENT</th>\n      <th>TENURE</th>\n      <th>Y_pred</th>\n    </tr>\n  </thead>\n  <tbody>\n    <tr>\n      <th>0</th>\n      <td>40.900749</td>\n      <td>0.818182</td>\n      <td>95.40</td>\n      <td>0.000000</td>\n      <td>0.166667</td>\n      <td>0.000000</td>\n      <td>0.00</td>\n      <td>1000.0</td>\n      <td>201.802084</td>\n      <td>139.509787</td>\n      <td>0.000000</td>\n      <td>12</td>\n      <td>2</td>\n    </tr>\n    <tr>\n      <th>1</th>\n      <td>3202.467416</td>\n      <td>0.909091</td>\n      <td>0.00</td>\n      <td>6442.945483</td>\n      <td>0.000000</td>\n      <td>0.000000</td>\n      <td>0.25</td>\n      <td>7000.0</td>\n      <td>4103.032597</td>\n      <td>1072.340217</td>\n      <td>0.222222</td>\n      <td>12</td>\n      <td>3</td>\n    </tr>\n    <tr>\n      <th>2</th>\n      <td>2495.148862</td>\n      <td>1.000000</td>\n      <td>773.17</td>\n      <td>0.000000</td>\n      <td>1.000000</td>\n      <td>1.000000</td>\n      <td>0.00</td>\n      <td>7500.0</td>\n      <td>622.066742</td>\n      <td>627.284787</td>\n      <td>0.000000</td>\n      <td>12</td>\n      <td>0</td>\n    </tr>\n    <tr>\n      <th>4</th>\n      <td>817.714335</td>\n      <td>1.000000</td>\n      <td>16.00</td>\n      <td>0.000000</td>\n      <td>0.083333</td>\n      <td>0.083333</td>\n      <td>0.00</td>\n      <td>1200.0</td>\n      <td>678.334763</td>\n      <td>244.791237</td>\n      <td>0.000000</td>\n      <td>12</td>\n      <td>2</td>\n    </tr>\n    <tr>\n      <th>5</th>\n      <td>1809.828751</td>\n      <td>1.000000</td>\n      <td>1333.28</td>\n      <td>0.000000</td>\n      <td>0.666667</td>\n      <td>0.000000</td>\n      <td>0.00</td>\n      <td>1800.0</td>\n      <td>1400.057770</td>\n      <td>2407.246035</td>\n      <td>0.000000</td>\n      <td>12</td>\n      <td>2</td>\n    </tr>\n    <tr>\n      <th>6</th>\n      <td>627.260806</td>\n      <td>1.000000</td>\n      <td>7091.01</td>\n      <td>0.000000</td>\n      <td>1.000000</td>\n      <td>1.000000</td>\n      <td>0.00</td>\n      <td>13500.0</td>\n      <td>6354.314328</td>\n      <td>198.065894</td>\n      <td>1.000000</td>\n      <td>12</td>\n      <td>0</td>\n    </tr>\n    <tr>\n      <th>7</th>\n      <td>1823.652743</td>\n      <td>1.000000</td>\n      <td>436.20</td>\n      <td>0.000000</td>\n      <td>1.000000</td>\n      <td>0.000000</td>\n      <td>0.00</td>\n      <td>2300.0</td>\n      <td>679.065082</td>\n      <td>532.033990</td>\n      <td>0.000000</td>\n      <td>12</td>\n      <td>2</td>\n    </tr>\n    <tr>\n      <th>8</th>\n      <td>1014.926473</td>\n      <td>1.000000</td>\n      <td>861.49</td>\n      <td>0.000000</td>\n      <td>0.333333</td>\n      <td>0.083333</td>\n      <td>0.00</td>\n      <td>7000.0</td>\n      <td>688.278568</td>\n      <td>311.963409</td>\n      <td>0.000000</td>\n      <td>12</td>\n      <td>2</td>\n    </tr>\n    <tr>\n      <th>9</th>\n      <td>152.225975</td>\n      <td>0.545455</td>\n      <td>1281.60</td>\n      <td>0.000000</td>\n      <td>0.166667</td>\n      <td>0.166667</td>\n      <td>0.00</td>\n      <td>11000.0</td>\n      <td>1164.770591</td>\n      <td>100.302262</td>\n      <td>0.000000</td>\n      <td>12</td>\n      <td>1</td>\n    </tr>\n    <tr>\n      <th>10</th>\n      <td>1293.124939</td>\n      <td>1.000000</td>\n      <td>920.12</td>\n      <td>0.000000</td>\n      <td>1.000000</td>\n      <td>0.000000</td>\n      <td>0.00</td>\n      <td>1200.0</td>\n      <td>1083.301007</td>\n      <td>2172.697765</td>\n      <td>0.000000</td>\n      <td>12</td>\n      <td>2</td>\n    </tr>\n  </tbody>\n</table>\n</div>"
     },
     "metadata": {}
    }
   ]
  },
  {
   "cell_type": "code",
   "metadata": {
    "cell_id": "a26302102cc6457391501ebb07513579",
    "tags": [],
    "deepnote_to_be_reexecuted": false,
    "source_hash": "a9a87e98",
    "execution_start": 1658944198145,
    "execution_millis": 22,
    "deepnote_cell_type": "code",
    "deepnote_cell_height": 233,
    "deepnote_output_heights": [
     136
    ]
   },
   "source": "df3[\"Y_pred\"].value_counts()",
   "execution_count": 22,
   "outputs": [
    {
     "output_type": "execute_result",
     "execution_count": 22,
     "data": {
      "text/plain": "2    3681\n0    1953\n1    1172\n3    1089\n5     636\n4     105\nName: Y_pred, dtype: int64"
     },
     "metadata": {}
    }
   ]
  },
  {
   "cell_type": "code",
   "metadata": {
    "cell_id": "6308ee8058244f9283dc1babf13de795",
    "tags": [],
    "deepnote_cell_type": "code",
    "deepnote_cell_height": 66
   },
   "source": "",
   "execution_count": null,
   "outputs": []
  },
  {
   "cell_type": "markdown",
   "source": "<a style='text-decoration:none;line-height:16px;display:flex;color:#5B5B62;padding:10px;justify-content:end;' href='https://deepnote.com?utm_source=created-in-deepnote-cell&projectId=18ef8167-d1fe-4cfd-a3a0-d5538e40e12b' target=\"_blank\">\n<img alt='Created in deepnote.com' style='display:inline;max-height:16px;margin:0px;margin-right:7.5px;' src='data:image/svg+xml;base64,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' > </img>\nCreated in <span style='font-weight:600;margin-left:4px;'>Deepnote</span></a>",
   "metadata": {
    "tags": [],
    "created_in_deepnote_cell": true,
    "deepnote_cell_type": "markdown"
   }
  }
 ],
 "nbformat": 4,
 "nbformat_minor": 2,
 "metadata": {
  "orig_nbformat": 2,
  "deepnote": {},
  "deepnote_notebook_id": "5d16ee4f-9008-47cd-ae39-0d01a9832f65",
  "deepnote_execution_queue": []
 }
}